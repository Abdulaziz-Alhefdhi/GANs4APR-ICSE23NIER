{
 "cells": [
  {
   "cell_type": "markdown",
   "metadata": {},
   "source": [
    "## Retrieve data"
   ]
  },
  {
   "cell_type": "code",
   "execution_count": 1,
   "metadata": {},
   "outputs": [
    {
     "name": "stderr",
     "output_type": "stream",
     "text": [
      "5316it [00:00, 53156.50it/s]"
     ]
    },
    {
     "name": "stdout",
     "output_type": "stream",
     "text": [
      "Collecting file paths...\n"
     ]
    },
    {
     "name": "stderr",
     "output_type": "stream",
     "text": [
      "20828it [00:00, 63256.34it/s]\n",
      "100%|██████████| 41652/41652 [00:00<00:00, 3689881.94it/s]\n",
      "100%|██████████| 41652/41652 [00:00<00:00, 3563293.43it/s]\n",
      " 56%|█████▌    | 11669/20826 [00:00<00:00, 58272.66it/s]"
     ]
    },
    {
     "name": "stdout",
     "output_type": "stream",
     "text": [
      "Collecting file contents...\n"
     ]
    },
    {
     "name": "stderr",
     "output_type": "stream",
     "text": [
      "100%|██████████| 20826/20826 [00:00<00:00, 58329.38it/s]\n",
      "100%|██████████| 20826/20826 [00:00<00:00, 58634.66it/s]"
     ]
    },
    {
     "name": "stdout",
     "output_type": "stream",
     "text": [
      "Number of processed files:-\n",
      "20826 buggy files + 20826 fixed files =  41652 files\n"
     ]
    },
    {
     "name": "stderr",
     "output_type": "stream",
     "text": [
      "\n"
     ]
    }
   ],
   "source": [
    "import os\n",
    "from collections import Counter\n",
    "from tqdm import tqdm\n",
    "\n",
    "\n",
    "data_dir = \"/media/aziz/Data/Aziz/data/gans_for_apr/\"\n",
    "\n",
    "print(\"Collecting file paths...\")\n",
    "file_paths = [root+'/'+name for root, dirs, files in tqdm(os.walk(data_dir)) for name in files]\n",
    "buggy_paths, fixed_paths = [], []\n",
    "buggy_paths = [f_path for f_path in tqdm(file_paths) if 'buggy' in f_path]\n",
    "fixed_paths = [f_path for f_path in tqdm(file_paths) if 'fixed' in f_path]\n",
    "\n",
    "print(\"Collecting file contents...\")\n",
    "buggy_data = []\n",
    "for path in tqdm(buggy_paths):\n",
    "    with open(path, 'r', encoding='utf-8') as f:\n",
    "        buggy_data.append(f.read())\n",
    "fixed_data = []\n",
    "for path in tqdm(fixed_paths):\n",
    "    with open(path, 'r', encoding='utf-8') as f:\n",
    "        fixed_data.append(f.read())\n",
    "\n",
    "print('Number of processed files:-')\n",
    "print(len(buggy_data), 'buggy files +', len(fixed_data), 'fixed files = ', len(buggy_data)+len(fixed_data), 'files')"
   ]
  },
  {
   "cell_type": "markdown",
   "metadata": {},
   "source": [
    "## Clean data - Reduce noise"
   ]
  },
  {
   "cell_type": "markdown",
   "metadata": {},
   "source": [
    "### Remove comments"
   ]
  },
  {
   "cell_type": "code",
   "execution_count": 2,
   "metadata": {},
   "outputs": [
    {
     "name": "stderr",
     "output_type": "stream",
     "text": [
      "100%|██████████| 20826/20826 [00:00<00:00, 114876.92it/s]\n",
      "100%|██████████| 20826/20826 [00:00<00:00, 114849.89it/s]"
     ]
    },
    {
     "name": "stdout",
     "output_type": "stream",
     "text": [
      "Comments have been removed\n"
     ]
    },
    {
     "name": "stderr",
     "output_type": "stream",
     "text": [
      "\n"
     ]
    }
   ],
   "source": [
    "import re\n",
    "\n",
    "\n",
    "def remove_comments(code):\n",
    "    code = re.sub('(?s)/\\*.*?\\*/', '', code)\n",
    "    return re.sub('(//[^\\n]*)', '', code)\n",
    "\n",
    "\n",
    "buggy_no_comments = [remove_comments(x) for x in tqdm(buggy_data)]\n",
    "fixed_no_comments = [remove_comments(x) for x in tqdm(fixed_data)]\n",
    "print('Comments have been removed')"
   ]
  },
  {
   "cell_type": "markdown",
   "metadata": {},
   "source": [
    "### Remove unnecessary white spaces"
   ]
  },
  {
   "cell_type": "code",
   "execution_count": 3,
   "metadata": {},
   "outputs": [
    {
     "name": "stderr",
     "output_type": "stream",
     "text": [
      "100%|██████████| 20826/20826 [00:00<00:00, 30421.52it/s]\n",
      "100%|██████████| 20826/20826 [00:00<00:00, 30570.23it/s]"
     ]
    },
    {
     "name": "stdout",
     "output_type": "stream",
     "text": [
      "White spaces have been removed\n"
     ]
    },
    {
     "name": "stderr",
     "output_type": "stream",
     "text": [
      "\n"
     ]
    }
   ],
   "source": [
    "def remove_spaces(code):\n",
    "    '''This function removes excessive spaces and keeps necessary ones'''\n",
    "    code = code.splitlines()\n",
    "    result = []\n",
    "    for line in code:\n",
    "        line = line.split()\n",
    "        line = ' '.join(line)\n",
    "        if len(line) > 0:  # Remove empty lines\n",
    "            result.append(line)\n",
    "    \n",
    "    return '\\n'.join(result)\n",
    "\n",
    "\n",
    "buggy_no_spaces = [remove_spaces(x) for x in tqdm(buggy_no_comments)]\n",
    "fixed_no_spaces = [remove_spaces(x) for x in tqdm(fixed_no_comments)]\n",
    "print('White spaces have been removed')"
   ]
  },
  {
   "cell_type": "markdown",
   "metadata": {},
   "source": [
    "### Remove identical buggy and fixed codes"
   ]
  },
  {
   "cell_type": "code",
   "execution_count": 4,
   "metadata": {},
   "outputs": [
    {
     "name": "stdout",
     "output_type": "stream",
     "text": [
      "4514 code pairs have been removed\n",
      "Current # data points: 16312\n"
     ]
    }
   ],
   "source": [
    "buggy_texts, fixed_texts = [], []\n",
    "for buggy, fixed in zip(buggy_no_spaces, fixed_no_spaces):\n",
    "    if buggy != fixed:\n",
    "        buggy_texts.append(buggy)\n",
    "        fixed_texts.append(fixed)\n",
    "print(len(buggy_no_spaces)-len(buggy_texts), 'code pairs have been removed')\n",
    "print('Current # data points:', len(buggy_texts))"
   ]
  },
  {
   "cell_type": "markdown",
   "metadata": {},
   "source": [
    "### Remove duplicated pairs in the dataset"
   ]
  },
  {
   "cell_type": "code",
   "execution_count": 5,
   "metadata": {},
   "outputs": [
    {
     "name": "stdout",
     "output_type": "stream",
     "text": [
      "3663 code pairs have been removed\n",
      "Current # data points: 12649\n"
     ]
    }
   ],
   "source": [
    "text_pairs = [(x, y) for x, y in zip(buggy_texts, fixed_texts)]\n",
    "code_pairs = sorted(set(text_pairs))\n",
    "\n",
    "buggy_codes = [x[0] for x in code_pairs]\n",
    "fixed_codes = [x[1] for x in code_pairs]\n",
    "\n",
    "print(len(text_pairs)-len(code_pairs), 'code pairs have been removed')\n",
    "print('Current # data points:', len(buggy_codes))"
   ]
  },
  {
   "cell_type": "markdown",
   "metadata": {},
   "source": [
    "## Calculate Diffs"
   ]
  },
  {
   "cell_type": "code",
   "execution_count": 6,
   "metadata": {},
   "outputs": [
    {
     "name": "stderr",
     "output_type": "stream",
     "text": [
      "12649it [00:03, 3850.76it/s]\n"
     ]
    }
   ],
   "source": [
    "from difflib import ndiff\n",
    "\n",
    "\n",
    "initial_diffs = [list(ndiff(x.splitlines(), y.splitlines())) for x, y in tqdm(zip(buggy_codes, fixed_codes))]"
   ]
  },
  {
   "cell_type": "markdown",
   "metadata": {},
   "source": [
    "### Restrict to one-line difference"
   ]
  },
  {
   "cell_type": "code",
   "execution_count": 7,
   "metadata": {},
   "outputs": [
    {
     "name": "stderr",
     "output_type": "stream",
     "text": [
      "100%|██████████| 12649/12649 [00:00<00:00, 68009.35it/s]"
     ]
    },
    {
     "name": "stdout",
     "output_type": "stream",
     "text": [
      "309 code pairs have been removed\n",
      "Current # data points: 12340\n"
     ]
    },
    {
     "name": "stderr",
     "output_type": "stream",
     "text": [
      "\n"
     ]
    }
   ],
   "source": [
    "one_line_diffs = []\n",
    "for diff in tqdm(initial_diffs):\n",
    "    if sum([1 for x in diff if x.startswith('-')]) > 1 or sum([1 for x in diff if x.startswith('+')]) > 1:\n",
    "        continue\n",
    "    one_line_diffs.append(diff)\n",
    "\n",
    "print(len(initial_diffs)-len(one_line_diffs), 'code pairs have been removed')\n",
    "print('Current # data points:', len(one_line_diffs))"
   ]
  },
  {
   "cell_type": "markdown",
   "metadata": {},
   "source": [
    "### Restrict to modified lines (exclude added/deleted lines)"
   ]
  },
  {
   "cell_type": "code",
   "execution_count": 8,
   "metadata": {},
   "outputs": [
    {
     "name": "stderr",
     "output_type": "stream",
     "text": [
      "100%|██████████| 12340/12340 [00:00<00:00, 74824.44it/s]"
     ]
    },
    {
     "name": "stdout",
     "output_type": "stream",
     "text": [
      "6813 code pairs have been removed\n",
      "Current # data points: 5527\n"
     ]
    },
    {
     "name": "stderr",
     "output_type": "stream",
     "text": [
      "\n"
     ]
    }
   ],
   "source": [
    "diffs = []\n",
    "for diff in tqdm(one_line_diffs):\n",
    "    for i, x in enumerate(diff):\n",
    "        if x.startswith('+') and diff[i-1].startswith('-'):\n",
    "            diffs.append((diff[i-1][2:], x[2:]))\n",
    "\n",
    "print(len(one_line_diffs)-len(diffs), 'code pairs have been removed')\n",
    "print('Current # data points:', len(diffs))"
   ]
  },
  {
   "cell_type": "markdown",
   "metadata": {},
   "source": [
    "#### Shuffle and keep only 100 data points"
   ]
  },
  {
   "cell_type": "code",
   "execution_count": 9,
   "metadata": {},
   "outputs": [],
   "source": [
    "from random import seed, sample\n",
    "\n",
    "\n",
    "seed(30)\n",
    "shuf_diffs = sample(diffs, k=len(diffs))\n",
    "final_diffs = shuf_diffs[:100]\n",
    "\n",
    "buggy_data = [x[0] for x in final_diffs]\n",
    "fixed_data = [x[1] for x in final_diffs]\n",
    "\n",
    "\n",
    "# with open('buggy_data.txt', \"w\", encoding='utf-8') as file:\n",
    "#     for bug in buggy_data:\n",
    "#         file.write(bug+'\\n')\n",
    "# with open('fixed_data.txt', \"w\", encoding='utf-8') as file:\n",
    "#     for fix in fixed_data:\n",
    "#         file.write(fix+'\\n')\n",
    "# print('Dataset has been written to disk')"
   ]
  },
  {
   "cell_type": "markdown",
   "metadata": {},
   "source": [
    "# The Experiment"
   ]
  },
  {
   "cell_type": "code",
   "execution_count": 10,
   "metadata": {},
   "outputs": [],
   "source": [
    "# with open('buggy_data.txt', 'r', encoding='utf-8') as f:\n",
    "#     buggy_data = f.read().split(\"\\n\")\n",
    "# with open('fixed_data.txt', 'r', encoding='utf-8') as f:\n",
    "#     fixed_data = f.read().split(\"\\n\")\n",
    "# buggy_data = buggy_data[:-1]\n",
    "# fixed_data = fixed_data[:-1]\n",
    "\n",
    "buggy_codes = [x.split() for x in buggy_data]\n",
    "fixed_codes = [['<soc>']+x.split()+['<eoc>'] for x in fixed_data]"
   ]
  },
  {
   "cell_type": "code",
   "execution_count": 11,
   "metadata": {},
   "outputs": [
    {
     "name": "stdout",
     "output_type": "stream",
     "text": [
      "Before vectorisation:-\n",
      "dest = _dpMgr.planDeployment(vmProfile, plan, exclude);\n",
      "dest = _dpMgr.planDeployment(vmProfile, plan, exclude, null);\n",
      "====================\n",
      "After vectorisation:-\n",
      "['dest', '=', '_dpMgr.planDeployment(vmProfile,', 'plan,', 'exclude);']\n",
      "['<soc>', 'dest', '=', '_dpMgr.planDeployment(vmProfile,', 'plan,', 'exclude,', 'null);', '<eoc>']\n"
     ]
    }
   ],
   "source": [
    "print(\"Before vectorisation:-\")\n",
    "print(buggy_data[2])\n",
    "print(fixed_data[2])\n",
    "print(\"====================\")\n",
    "print(\"After vectorisation:-\")\n",
    "print(buggy_codes[2])\n",
    "print(fixed_codes[2])"
   ]
  },
  {
   "cell_type": "code",
   "execution_count": 12,
   "metadata": {},
   "outputs": [],
   "source": [
    "vocab = set([x for y in buggy_codes for x in y]+[x for y in fixed_codes for x in y])\n",
    "token_int_map = dict([(token, i+1) for i, token in enumerate(vocab)])\n",
    "vocab.add('<pad/unknown>')\n",
    "token_int_map['<pad/unknown>'] = 0\n",
    "int_token_map = dict((i, token) for token, i in token_int_map.items())"
   ]
  },
  {
   "cell_type": "code",
   "execution_count": 13,
   "metadata": {},
   "outputs": [
    {
     "name": "stdout",
     "output_type": "stream",
     "text": [
      "{1: '\"/jobs/:%s/vertices/:%s/subtasks/:%s/attempts/%s/accumulators\",', 2: '.getInstance(columnNames);', 3: 'interupted\",', 4: 'network.writeByte(OChannelBinaryProtocol.DATACLUSTER_REMOVE);', 5: 'LocateRegistry.createRegistry(registryPort);', 6: 'path.toURL();', 7: 'target.getNumberOfTargets()', 8: '1', 9: 'name.substring(0,', 10: 'public', 11: 'output', 12: 'this.colStatsCache,', 13: 'DataStoreDriver', 14: 'xsltContent;', 15: 'a', 16: 'jsonObj.get(\"description\").getAsString()', 17: 'Assert.assertTrue(shjSch', 18: '!', 19: 'IOContextMap.get(conf);', 20: 'final', 21: 'String.format(\"%s,%d,%.02f\",', 22: '\"false\");', 23: 'aliasedScriptFiles.put(name,', 24: 'copy((CharArraySet)', 25: 'vectorDesc.setIsReduceMergePartial(true);', 26: 'httpRequest.getOperation().replaceAll(\"/*\",\"\")', 27: 'IndexReader', 28: 'ShimLoader.getHadoopShims().compareText(value,', 29: 'description', 30: 'input.size()', 31: '!container.hasEnoughCapacity();', 32: 'operation', 33: 'dest', 34: 'input.get(0)', 35: 'DecimalFormatSymbols(Locale.ENGLISH));', 36: 'deploymentManager.newDeploymentPlan();', 37: 'this.writer.write(NullWritable.get(),', 38: 'get', 39: 'finish(indexOptions', 40: 'this.caller.callWithRetries(smallScanCallable,', 41: 'networkService.allocateSecondaryGuestIP(Matchers.anyLong(),', 42: 'target.getTargets().size()', 43: 'null', 44: 'db_dir', 45: 'long', 46: 'InputStream.class),', 47: 'RuntimeUDFContext', 48: 'System.currentTimeMillis()', 49: 'mySendTree', 50: 'this.hiveConf,', 51: 'latestValidStart', 52: 'getWaitTimeoutMillis()', 53: 'visitedDocs.cardinality());', 54: 'this;', 55: 'binCond.getLhs().getFieldSchema().isEqual(binCond.getRhs().getFieldSchema())){', 56: 'binCond.getRhs().getFieldSchema())){', 57: '0){', 58: '0)', 59: 'relativePath);', 60: 'name.substring(1);', 61: 'set);', 62: 'mergeInfo));', 63: 'FlinkUserCodeClassLoaders.ResolveOrder.CHILD_FIRST);', 64: 'private', 65: 'table.setAutoFlush(false);', 66: '\"c4\",', 67: 'not', 68: 'MetaException(ex.getMessage());', 69: '\"levelString\");', 70: '(long)segmentSize;', 71: 'for(LocalResource', 72: 'getInstances(null);', 73: 'vectorDesc.setIsReduce(true);', 74: 'ioContext', 75: 'new', 76: 'else', 77: 'name', 78: 'fields', 79: 'dir', 80: 'DeploymentPlanBuilder', 81: 'sendTree;', 82: '(this.collator', 83: 'ByteArrayInputStream(xsltContent.getBytes()));', 84: '!component.getComponentId(', 85: 'to', 86: 'exclude,', 87: 'conf))', 88: 'HttpUtils.getSetEncoding(mt,', 89: '(selenium.isVisible(\"link=Kaleo', 90: 'null));', 91: '.getInstance(columnNames,Lists.newArrayList(Splitter.on(\\'\\\\0\\').split(tbl.getProperty(\"columns.comments\"))));', 92: 'tezOp.getSortOperator().isIntermediateReducer())', 93: 'Bytes.toStringBinary(this.regionName);', 94: 'machineId,', 95: '1).toLowerCase()', 96: 'NumberFormat', 97: 'machineId', 98: '!segmentIsOriginal', 99: 'Assert.assertEquals(true,', 100: 'List<String>', 101: 'eventXml.queryXml(\"/ijLog/event/test/event\");', 102: '0);', 103: 'StoreUpgrader(', 104: '(selenium.isElementPresent(\"', 105: '\"Unable', 106: 'LOG.info(clazz', 107: '(set', 108: 'true);', 109: 'from', 110: ').isPartitioned(', 111: 'registry', 112: 'f1,', 113: 'this.storeOffsets', 114: 'IOContext.get(conf);', 115: 'if(!', 116: '\"UTF-8\");', 117: 'fields.\");', 118: 'StreamSource(new', 119: 'ifExists);', 120: 'ifExists,', 121: 'type', 122: 'fieldInfos.size(),', 123: 'String', 124: '&&', 125: 'isMerged(mergeInfo));', 126: 'List', 127: '>=', 128: 'input.close();', 129: 'gbKeys.add(new', 130: 'Accumulator<?,', 131: 'possibles,', 132: '0.5f*_TestUtil.getRandomMultiplier();', 133: 'FSDirectory.getDirectory(fullDir(outputDir),', 134: 'jsonObj.has(\"description\")', 135: 'this(inputPaths,', 136: 'valid', 137: 'builder', 138: 'path.toURI().toURL();', 139: 'expectView,', 140: 'Arrays.asList(mBeanServer.getDomains());', 141: 'this.collator.equals(other.collator)', 142: 'networkService.allocateSecondaryGuestIP(Matchers.any(Account.class),', 143: 'dataStore.getDriver();', 144: '((syncSites', 145: 'Forms', 146: 'lp.validate(pigServer.getPigContext(),', 147: '\"turkmen_spell_checker_dictionary-0.1.6-tb+fx+sm.xpi\";', 148: 'Test', 149: 'null))', 150: 'outputDir,', 151: 'fieldPositionMap.remove(hcatFieldSchema);', 152: '\"\";', 153: 'infos', 154: 'float', 155: 'plan.getSuccessors(mro)', 156: 'stats.getReadyForReview();', 157: 'is', 158: 'localizeTempFiles(conf))', 159: 'table.setAutoFlush(false,', 160: 'operationList,', 161: 'aliasedScriptFiles.put(name.replaceFirst(\"^/\",', 162: 'values', 163: '-1,', 164: '((currOp.getChildOperators()', 165: 'sumDocFreq,', 166: 'display.setNotificationText(count,', 167: 'UNBOUND_PAGE_ID', 168: 'cleanupInterval,', 169: 'component.getComponentId(', 170: 'Iterator<Resource>', 171: 'this.cleanupTimer.schedule(this,', 172: 'SegmentInfos();', 173: 'HashMap<String,', 174: 'fieldPositionMap.remove(hcatFieldSchema.getName());', 175: 'picker.pickResources(resolver,', 176: 'segmentSize;', 177: '\"', 178: 'cmd.setVersion(JuniperSrxResource.class.getPackage().getImplementationVersion());', 179: '(mro.isSampler())', 180: 'name\",', 181: 'possiblesWithException);', 182: 'table', 183: 't);', 184: 'l.getDependenciesManager().collectAllExtendedLanguages(myUsedLanguages);', 185: 'ExecutionConfig(),', 186: 'if', 187: 'rows;', 188: 'IndexReader.open(writer);', 189: 'if(!LogicalFieldSchema.isEqualUnlessUnknown(binCond.getLhs().getFieldSchema(),', 190: '?', 191: '-', 192: 'bitmapFont.getSpaceWidth();', 193: 'return', 194: 'input', 195: '-1', 196: 't.get(0)', 197: '_dpMgr.planDeployment(vmProfile,', 198: 'showAndExpandOrCollapseTab(SideMenuDisplay.VALIDATION_OPTION_VIEW);', 199: '<eoc>', 200: 'super.onModelChanged();', 201: 'AxisOperation', 202: 'body,', 203: 'cfg);', 204: 'IndexOptions.DOCS_ONLY', 205: 'null,', 206: 'MAX_SLOTS_UNKNOWN;', 207: 'type\");', 208: 'close(input,', 209: '=', 210: 'shjSch.equals(mjSch));', 211: 'set)', 212: 'xslt', 213: ':', 214: '(int)bitmapFont.getSpaceWidth();', 215: '\"woordenboek_nederlands-3.1.1-sm+tb+fx+fn.xpi\";', 216: ').isCloudLocal(', 217: 'howIGotHere;', 218: '\"%s,%d,%.02f\",', 219: ');', 220: 'HCatUtil.makePathASafeFileName(getTestDir()', 221: '(currOp.getChildOperators().isEmpty()))', 222: 'dataStore', 223: '(numToMerge', 224: 'String[0]);', 225: 'e);', 226: 'ChainingStrategy.FORCE_ALWAYS;', 227: 'INDEX_TABLE_NAME);', 228: 'because', 229: 'sendTree', 230: 'throw', 231: 'currentFileName);', 232: 'indexTable', 233: '\"utf-8\";', 234: 'ConfigMapUpgradeConfiguration(getConfig())', 235: 'buildTable(DB_NAME,', 236: 'cmd.setVersion(\"\");', 237: 'File(path));', 238: 'sumTotalTermFreq,', 239: 'domains', 240: 'SegmentInfos(codecs);', 241: '?>>());', 242: '(result', 243: 'staticOptions', 244: 'size()', 245: 'operationsWithCustomAnnotation);', 246: 'context', 247: '!=', 248: 'sleep', 249: 'relativePath).iterator();', 250: 'interrupted\",', 251: '1).toLowerCase(Locale.ENGLISH)', 252: 'GroupByOperator.getOperatorName();', 253: 'SegmentInfos', 254: 'getClass().getClassLoader(),', 255: 'LOG);', 256: 'RUN_TIME_SEC', 257: 'result', 258: 'chooseBestPossibleMethodInfo(exchange,', 259: 'resources', 260: 'FlinkUserCodeClassLoaders.ResolveOrder.CHILD_FIRST,', 261: 'stats.getFinishTranslation();', 262: 'getInstances(\"LLAP\",', 263: 'instanceof', 264: 'Byte.MAX_VALUE);', 265: 'InputStream.class));', 266: 'metadata', 267: 'service.getOperationByAction(', 268: 'LoggerMessageProcessor.class));', 269: 'DecimalFormat(\"0000\",', 270: 'are', 271: 'isMessageBoardsEnabled(userId,', 272: 'this.caller.callWithRetries(smallScanCallable);', 273: 'dataTypeTableName,', 274: 'wait', 275: 'IndexReader.open(writer,', 276: 'Future<Path>>(),', 277: 'namespaceDelimIndex', 278: 'Page\"))', 279: '1,', 280: '-1){', 281: '\"onclick\";', 282: 'file.populateHeaders(message);', 283: '\"test\");', 284: 'SQLException(\"Method', 285: 'Matchers.anyString()))', 286: 'for', 287: 'RuntimeUDFContext(\"test', 288: 'exclude);', 289: 'fileUrl', 290: '||', 291: 'readHaServer(', 292: '(input', 293: 'tableName,', 294: '==', 295: '(currOp.getChildOperators()', 296: 'scannerTimeout);', 297: 'getDbTime(dbConn)', 298: 'LoggerMessageProcessor.class)).addAlias(\"level\",', 299: 'this.partitionCache,', 300: 'fetchSize', 301: 'Schema.Parser().parse(Util.openFromFS(schemafile))', 302: '(mro.isSampler()', 303: 't.getAll().size()', 304: '<', 305: 'dataStoreDriver', 306: 'thread', 307: 'timeout;', 308: 'lr', 309: ',', 310: 'toTest', 311: 'ChainingStrategy.ALWAYS;', 312: 'getConfig(),', 313: 'getRequired(jsonObj,', 314: 'encoding', 315: 'ExchangeHelper.getMandatoryInBody(exchange,', 316: '\"/hbasedb\";', 317: 'getUniqueTermCount()', 318: 'conf.getDumpFilePrefix(),', 319: 'RANDOM_MULTIPLIER;', 320: 'split.getPath(),', 321: 'Table', 322: 'SMTestListener);', 323: 'registerTimer(nextTriggerTime,', 324: 'df', 325: 'syncSites.isEmpty())', 326: 'Directory', 327: 'static', 328: 'CharArraySet)', 329: 'chainingStrategy', 330: 'this);', 331: '+', 332: 'IndexOptions.DOCS_AND_FREQS_AND_POSITIONS_AND_OFFSETS', 333: 'TagCompressionContext(LRUDictionary.class,', 334: 'plan,', 335: 'numAllMemorySegments', 336: 'true,', 337: '\"\"),', 338: 'this.collator.equals(other.collator))', 339: '0', 340: 'write(channel,', 341: 'split.getPath());', 342: '3,', 343: 'null);', 344: 'LOG.info(\"Cleaner', 345: '\".\"', 346: 'buildIndexTable(DB_NAME,', 347: 'file.populateHeaders(message,', 348: '\"/hbasedb\");', 349: 'String.format(Locale.US,', 350: 'reader', 351: 'FieldInfo(fieldName,', 352: 'isMerged(infos,', 353: '(syncSites.isEmpty())', 354: 'execFetchFirst(\"select', 355: 'f2,', 356: 'other.collator', 357: '\"description\").getAsString();', 358: 'BlobLibraryCacheManager(cache,', 359: ')', 360: 'Matchers.anyLong(),', 361: 'this.noColsMissingStats);', 362: 'Utilities.generatePath(baseDir,', 363: 'conf.set(\"hive.metastore.local\",', 364: 'decode(eventXml.queryXml(\"/ijLog/event/test/event\"));', 365: 'supported\");', 366: 'TagCompressionContext', 367: 'getStorageFileName()', 368: '(selenium.isVisible(\"', 369: '!(myTestsListener', 370: 'finish(sumTotalTermFreq,', 371: 'file,', 372: 'possiblesWithException,', 373: 'Util.parseSchemaFromFS(schemafile)', 374: 'rhs.value);', 375: '(namespaceDelimIndex', 376: 'conf.setBoolVar(ConfVars.METASTORE_MODE,', 377: '0.5f', 378: 'enabled', 379: 'copy(Version.LUCENE_30,', 380: 'null;', 381: 'split\"', 382: '*', 383: 'getConfig()', 384: '<soc>', 385: 'TagCompressionContext(LRUDictionary.class);', 386: '(', 387: 'httpRequest.getOperation()', 388: 'f3);', 389: 'ctx', 390: 'dataTypeTableName.toLowerCase()', 391: 'groupId);', 392: 'IndexOptions.DOCS_AND_FREQS_AND_POSITIONS', 393: 'value.compareTo(rhs.value);', 394: '0;', 395: 'getOperatorName();', 396: '\"test\",', 397: 'pos,', 398: 'this.xsltContent', 399: 'network.writeByte(OChannelBinaryProtocol.CLUSTER_REMOVE);', 400: 'dataStore.getDriver()', 401: 'sis', 402: 'getTestDir()', 403: '!container.hasEnoughCapacity(txSize+1);', 404: 'page.reset(', 405: 'all', 406: 'filePath', 407: 'POJO', 408: 'DecimalFormat(\"0000\");', 409: 'ExprNodeConstantDesc(\"0\"));', 410: 'FSDirectory.getDirectory(fullDir(outputDir));', 411: 'headers,', 412: 'target.getMaxNumberOfTargets()', 413: '}', 414: ').attemptUpgrade(', 415: '(int)', 416: 'localizeTempFilesFromConf(getHiveJarDirectory(conf),', 417: 'ExprNodeConstantDesc(\"0L\"));', 418: '(selenium.isElementPresent(\"FCKeditor1___Frame\"))', 419: 'boolean', 420: '\"/jobs/:%s/vertices/:%s/subtasks/:%s/attempts/:%s/accumulators\",', 421: 'if(result', 422: 'TezCompilerUtil.isIntermediateReducer(tezOp.getSortOperator()))', 423: 'myDefaultConceptNames.containsKey(fqName))', 424: 'null)', 425: 'false);', 426: '{', 427: 'severity);', 428: 'false,', 429: 'isMessageBoardsEnabled(userId);', 430: 'this.regionNameStr', 431: 'deploymentManager.newDeploymentPlan().withRollback();', 432: 'myUsedLanguages.addAll(l.getDependenciesManager().getAllExtendedLanguages());', 433: 'getTimerService().registerTimer(nextTriggerTime,', 434: 'libCache', 435: 'cleanupInterval);', 436: 'Bytes.toString(this.regionName);', 437: 'MetaStoreUtils.newMetaException(ex);', 0: '<pad/unknown>'}\n"
     ]
    }
   ],
   "source": [
    "print(int_token_map)"
   ]
  },
  {
   "cell_type": "code",
   "execution_count": 14,
   "metadata": {},
   "outputs": [],
   "source": [
    "vocab_size = len(vocab)\n",
    "max_buggy_len = max([len(txt) for txt in buggy_codes])\n",
    "max_fixed_len = max([len(txt) for txt in fixed_codes])\n",
    "num_dps = len(fixed_codes)"
   ]
  },
  {
   "cell_type": "code",
   "execution_count": 15,
   "metadata": {
    "scrolled": false
   },
   "outputs": [
    {
     "name": "stdout",
     "output_type": "stream",
     "text": [
      "Number of data points: 100\n",
      "Vocabulary size: 438\n",
      "Max length in buggy codes: 16\n",
      "Max length in fixed codes: 20\n"
     ]
    }
   ],
   "source": [
    "print('Number of data points:', num_dps)\n",
    "print('Vocabulary size:', vocab_size)\n",
    "print('Max length in buggy codes:', max_buggy_len)\n",
    "print('Max length in fixed codes:', max_fixed_len)"
   ]
  },
  {
   "cell_type": "code",
   "execution_count": 16,
   "metadata": {},
   "outputs": [],
   "source": [
    "import numpy as np\n",
    "\n",
    "buggy_inputs =  np.zeros((num_dps, max_buggy_len), dtype='int32')\n",
    "fixed_inputs =  np.zeros((num_dps, max_fixed_len), dtype='int32')\n",
    "fixed_outputs = np.zeros((num_dps, max_fixed_len, vocab_size), dtype='float32')\n",
    "\n",
    "for i, (buggy, fixed) in enumerate(zip(buggy_codes, fixed_codes)):\n",
    "    for t, token in enumerate(buggy):\n",
    "        buggy_inputs[i, t] = token_int_map[token]\n",
    "    for t, token in enumerate(fixed):\n",
    "        int_value = token_int_map[token]\n",
    "        fixed_inputs[i, t] = int_value\n",
    "        if t > 0:\n",
    "            fixed_outputs[i, t-1, int_value] = 1.\n",
    "    fixed_outputs[i, t, 0] = 1."
   ]
  },
  {
   "cell_type": "code",
   "execution_count": 17,
   "metadata": {},
   "outputs": [
    {
     "name": "stderr",
     "output_type": "stream",
     "text": [
      "Using TensorFlow backend.\n"
     ]
    }
   ],
   "source": [
    "from keras.layers import Input, Concatenate, Embedding, LSTM, Dense, dot, Activation, concatenate, Lambda\n",
    "from keras.models import Model\n",
    "from keras.backend import argmax, cast\n",
    "\n",
    "\n",
    "def build_discriminator(dimension, v_size, buggy_len, fixed_len):\n",
    "    buggy_input_layer = Input(shape=(buggy_len,))\n",
    "    fixed_input_layer = Input(shape=(fixed_len,))\n",
    "    concatted = Concatenate()([buggy_input_layer, fixed_input_layer])\n",
    "    embed_lay = Embedding(v_size, dimension, mask_zero=True)(concatted)\n",
    "    x = LSTM(dimension)(embed_lay)\n",
    "    out = Dense(1, activation='sigmoid')(x)\n",
    "    disc = Model([buggy_input_layer, fixed_input_layer], out)\n",
    "    disc.compile(loss='binary_crossentropy', optimizer='adam', metrics=['accuracy'], loss_weights=[0.5])\n",
    "    \n",
    "    return disc\n",
    "\n",
    "\n",
    "def build_generator(dimension, v_size, drop_prob, buggy_len, fixed_len):\n",
    "    # Encoder\n",
    "    buggy_input_layer = Input(shape=(buggy_len,))\n",
    "    enc_embed_lay = Embedding(v_size, dimension, mask_zero=True)(buggy_input_layer)\n",
    "    encoder_outputs, state_h, state_c = LSTM(dimension, return_sequences=True, return_state=True, dropout=drop_prob, recurrent_dropout=drop_prob)(enc_embed_lay)\n",
    "    # Decoder\n",
    "    fixed_input_layer = Input(shape=(fixed_len,))\n",
    "    dec_embed_lay = Embedding(v_size, dimension, mask_zero=True)(fixed_input_layer)\n",
    "    decoder_outputs = LSTM(dimension, return_sequences=True, dropout=drop_prob, recurrent_dropout=drop_prob)(dec_embed_lay, initial_state=[state_h, state_c])\n",
    "    # Attention\n",
    "    attention = dot([decoder_outputs, encoder_outputs], axes=[2, 2])\n",
    "    attention = Activation('softmax', name='attention')(attention)\n",
    "    context = dot([attention, encoder_outputs], axes=[2, 1])\n",
    "    decoder_combined_context = concatenate([context, decoder_outputs])\n",
    "    attention_context_output = Dense(dimension, activation=\"tanh\")(decoder_combined_context)\n",
    "    # Model output\n",
    "    model_output = Dense(v_size, activation=\"softmax\")(attention_context_output)\n",
    "    # Build model\n",
    "    gen = Model([buggy_input_layer, fixed_input_layer], model_output)\n",
    "    \n",
    "    return gen\n",
    "\n",
    "\n",
    "def build_gan(gen, disc, buggy_len, fixed_len):\n",
    "    disc.trainable = False\n",
    "    buggy_input_layer = Input(shape=(buggy_len,))\n",
    "    fixed_input_layer = Input(shape=(fixed_len,))\n",
    "    gen_out = gen([buggy_input_layer, fixed_input_layer])\n",
    "    argmax_layer = Lambda(lambda x: cast(argmax(x, axis=2), dtype='float32'))\n",
    "    disc_out = disc([buggy_input_layer, argmax_layer(gen_out)])\n",
    "    gan = Model([buggy_input_layer, fixed_input_layer], [disc_out, gen_out])\n",
    "    # compile model\n",
    "    gan.compile(loss=['binary_crossentropy', 'categorical_crossentropy'], optimizer='rmsprop', loss_weights=[1, 100])\n",
    "    \n",
    "    return gan"
   ]
  },
  {
   "cell_type": "code",
   "execution_count": 18,
   "metadata": {
    "scrolled": false
   },
   "outputs": [
    {
     "name": "stderr",
     "output_type": "stream",
     "text": [
      "WARNING: Logging before flag parsing goes to stderr.\n",
      "W0923 11:37:38.039998 140705397155584 deprecation_wrapper.py:119] From /home/aziz/anaconda3/envs/tf/lib/python3.7/site-packages/keras/backend/tensorflow_backend.py:74: The name tf.get_default_graph is deprecated. Please use tf.compat.v1.get_default_graph instead.\n",
      "\n",
      "W0923 11:37:38.049900 140705397155584 deprecation_wrapper.py:119] From /home/aziz/anaconda3/envs/tf/lib/python3.7/site-packages/keras/backend/tensorflow_backend.py:517: The name tf.placeholder is deprecated. Please use tf.compat.v1.placeholder instead.\n",
      "\n",
      "W0923 11:37:38.054145 140705397155584 deprecation_wrapper.py:119] From /home/aziz/anaconda3/envs/tf/lib/python3.7/site-packages/keras/backend/tensorflow_backend.py:4138: The name tf.random_uniform is deprecated. Please use tf.random.uniform instead.\n",
      "\n",
      "W0923 11:37:38.979224 140705397155584 deprecation.py:323] From /home/aziz/anaconda3/envs/tf/lib/python3.7/site-packages/keras/backend/tensorflow_backend.py:2974: add_dispatch_support.<locals>.wrapper (from tensorflow.python.ops.array_ops) is deprecated and will be removed in a future version.\n",
      "Instructions for updating:\n",
      "Use tf.where in 2.0, which has the same broadcast rule as np.where\n",
      "W0923 11:37:39.012186 140705397155584 deprecation_wrapper.py:119] From /home/aziz/anaconda3/envs/tf/lib/python3.7/site-packages/keras/optimizers.py:790: The name tf.train.Optimizer is deprecated. Please use tf.compat.v1.train.Optimizer instead.\n",
      "\n",
      "W0923 11:37:39.026690 140705397155584 deprecation_wrapper.py:119] From /home/aziz/anaconda3/envs/tf/lib/python3.7/site-packages/keras/backend/tensorflow_backend.py:3376: The name tf.log is deprecated. Please use tf.math.log instead.\n",
      "\n",
      "W0923 11:37:39.928703 140705397155584 deprecation_wrapper.py:119] From /home/aziz/anaconda3/envs/tf/lib/python3.7/site-packages/keras/backend/tensorflow_backend.py:133: The name tf.placeholder_with_default is deprecated. Please use tf.compat.v1.placeholder_with_default instead.\n",
      "\n",
      "W0923 11:37:39.936275 140705397155584 deprecation.py:506] From /home/aziz/anaconda3/envs/tf/lib/python3.7/site-packages/keras/backend/tensorflow_backend.py:3445: calling dropout (from tensorflow.python.ops.nn_ops) with keep_prob is deprecated and will be removed in a future version.\n",
      "Instructions for updating:\n",
      "Please use `rate` instead of `keep_prob`. Rate should be set to `rate = 1 - keep_prob`.\n"
     ]
    },
    {
     "name": "stdout",
     "output_type": "stream",
     "text": [
      "__________________________________________________________________________________________________\n",
      "Layer (type)                    Output Shape         Param #     Connected to                     \n",
      "==================================================================================================\n",
      "input_5 (InputLayer)            (None, 16)           0                                            \n",
      "__________________________________________________________________________________________________\n",
      "input_6 (InputLayer)            (None, 20)           0                                            \n",
      "__________________________________________________________________________________________________\n",
      "model_2 (Model)                 (None, 20, 438)      20229558    input_5[0][0]                    \n",
      "                                                                 input_6[0][0]                    \n",
      "__________________________________________________________________________________________________\n",
      "lambda_1 (Lambda)               (None, 20)           0           model_2[1][0]                    \n",
      "__________________________________________________________________________________________________\n",
      "model_1 (Model)                 (None, 1)            8842241     input_5[0][0]                    \n",
      "                                                                 lambda_1[0][0]                   \n",
      "==================================================================================================\n",
      "Total params: 29,071,799\n",
      "Trainable params: 20,229,558\n",
      "Non-trainable params: 8,842,241\n",
      "__________________________________________________________________________________________________\n"
     ]
    },
    {
     "data": {
      "image/png": "[encoded data removed]",
      "text/plain": [
       "<IPython.core.display.Image object>"
      ]
     },
     "execution_count": 18,
     "metadata": {},
     "output_type": "execute_result"
    }
   ],
   "source": [
    "%matplotlib inline\n",
    "from keras.utils.vis_utils import plot_model\n",
    "from IPython.display import Image\n",
    "\n",
    "\n",
    "latent_dim = 1024\n",
    "dropout = 0.2\n",
    "\n",
    "discriminator = build_discriminator(latent_dim, vocab_size, max_buggy_len, max_fixed_len)\n",
    "plot_model(discriminator, to_file='discriminator_apr.png', show_shapes=True, show_layer_names=True)\n",
    "# Image('discriminator_model_plot.png')\n",
    "\n",
    "generator = build_generator(latent_dim, vocab_size, dropout, max_buggy_len, max_fixed_len)\n",
    "plot_model(generator, to_file='generator_apr.png', show_shapes=True, show_layer_names=True)\n",
    "# Image('generator_model_plot.png')\n",
    "\n",
    "gan = build_gan(generator, discriminator, max_buggy_len, max_fixed_len)\n",
    "plot_model(gan, to_file='gan_model_apr.png', show_shapes=True, show_layer_names=True)\n",
    "gan.summary()\n",
    "Image('gan_model_apr.png')"
   ]
  },
  {
   "cell_type": "code",
   "execution_count": 19,
   "metadata": {},
   "outputs": [],
   "source": [
    "def generate_fixed_ints(gen, bugs, fixed_len, token_map, int_map):\n",
    "    gntd_ints = np.zeros(shape=(len(bugs), fixed_len))\n",
    "    gntd_ints[:, 0] = token_map[\"<soc>\"]\n",
    "    for buggy, generated in zip(bugs, gntd_ints):\n",
    "        buggy_input = buggy[np.newaxis]\n",
    "        gntd_in_out = generated[np.newaxis]\n",
    "        for i in range(1, fixed_len):\n",
    "            prediction = gen.predict([buggy_input, gntd_in_out]).argmax(axis=2)\n",
    "            if int_map[prediction[:, i][0]] == \"<eoc>\":\n",
    "                break\n",
    "            generated[i] = prediction[:, i]\n",
    "    \n",
    "    return gntd_ints"
   ]
  },
  {
   "cell_type": "code",
   "execution_count": 20,
   "metadata": {
    "scrolled": true
   },
   "outputs": [
    {
     "name": "stderr",
     "output_type": "stream",
     "text": [
      "  0%|          | 0/30 [00:00<?, ?it/s]/home/aziz/anaconda3/envs/tf/lib/python3.7/site-packages/keras/engine/training.py:490: UserWarning: Discrepancy between trainable weights and collected trainable weights, did you set `model.trainable` without calling `model.compile` after ?\n",
      "  'Discrepancy between trainable weights and collected trainable'\n"
     ]
    },
    {
     "name": "stdout",
     "output_type": "stream",
     "text": [
      "Epoch 1/1\n",
      "100/100 [==============================] - 4s 36ms/step - loss: 0.2624 - acc: 0.7300\n",
      "Epoch 1/1\n",
      " 96/100 [===========================>..] - ETA: 0s - loss: 3.5634 - acc: 0.0000e+00"
     ]
    },
    {
     "name": "stderr",
     "output_type": "stream",
     "text": [
      "/home/aziz/anaconda3/envs/tf/lib/python3.7/site-packages/keras/engine/training.py:490: UserWarning: Discrepancy between trainable weights and collected trainable weights, did you set `model.trainable` without calling `model.compile` after ?\n",
      "  'Discrepancy between trainable weights and collected trainable'\n"
     ]
    },
    {
     "name": "stdout",
     "output_type": "stream",
     "text": [
      "100/100 [==============================] - 0s 3ms/step - loss: 3.4352 - acc: 0.0100\n",
      "Epoch 1/1\n",
      "100/100 [==============================] - 2s 24ms/step - loss: 720.5336 - model_1_loss: 0.3616 - model_2_loss: 7.2017\n"
     ]
    },
    {
     "name": "stderr",
     "output_type": "stream",
     "text": [
      "\r",
      "  3%|▎         | 1/30 [00:44<21:32, 44.57s/it]"
     ]
    },
    {
     "name": "stdout",
     "output_type": "stream",
     "text": [
      "Epoch 1/1\n",
      " 64/100 [==================>...........] - ETA: 0s - loss: 0.1139 - acc: 1.0000"
     ]
    },
    {
     "name": "stderr",
     "output_type": "stream",
     "text": [
      "/home/aziz/anaconda3/envs/tf/lib/python3.7/site-packages/keras/engine/training.py:490: UserWarning: Discrepancy between trainable weights and collected trainable weights, did you set `model.trainable` without calling `model.compile` after ?\n",
      "  'Discrepancy between trainable weights and collected trainable'\n"
     ]
    },
    {
     "name": "stdout",
     "output_type": "stream",
     "text": [
      "100/100 [==============================] - 0s 3ms/step - loss: 0.1114 - acc: 1.0000\n",
      "Epoch 1/1\n",
      "100/100 [==============================] - 0s 3ms/step - loss: 0.3093 - acc: 0.9900\n",
      "Epoch 1/1\n",
      "100/100 [==============================] - 0s 4ms/step - loss: 494.6174 - model_1_loss: 0.1578 - model_2_loss: 4.9446\n"
     ]
    },
    {
     "name": "stderr",
     "output_type": "stream",
     "text": [
      "\r",
      "  7%|▋         | 2/30 [00:57<16:22, 35.10s/it]"
     ]
    },
    {
     "name": "stdout",
     "output_type": "stream",
     "text": [
      "Epoch 1/1\n",
      "100/100 [==============================] - 0s 3ms/step - loss: 0.0581 - acc: 1.0000\n",
      "Epoch 1/1\n",
      "100/100 [==============================] - 0s 3ms/step - loss: 0.2048 - acc: 1.0000\n",
      "Epoch 1/1\n",
      "100/100 [==============================] - 0s 3ms/step - loss: 434.9246 - model_1_loss: 0.9054 - model_2_loss: 4.3402\n"
     ]
    },
    {
     "name": "stderr",
     "output_type": "stream",
     "text": [
      "\r",
      " 10%|█         | 3/30 [01:18<13:53, 30.86s/it]"
     ]
    },
    {
     "name": "stdout",
     "output_type": "stream",
     "text": [
      "Epoch 1/1\n",
      "100/100 [==============================] - 0s 3ms/step - loss: 0.0244 - acc: 1.0000\n",
      "Epoch 1/1\n",
      "100/100 [==============================] - 0s 3ms/step - loss: 0.1845 - acc: 1.0000\n",
      "Epoch 1/1\n",
      "100/100 [==============================] - 0s 3ms/step - loss: 396.7969 - model_1_loss: 0.4009 - model_2_loss: 3.9640\n"
     ]
    },
    {
     "name": "stderr",
     "output_type": "stream",
     "text": [
      "\r",
      " 13%|█▎        | 4/30 [01:35<11:32, 26.63s/it]"
     ]
    },
    {
     "name": "stdout",
     "output_type": "stream",
     "text": [
      "Epoch 1/1\n",
      "100/100 [==============================] - 0s 3ms/step - loss: 0.0113 - acc: 1.0000\n",
      "Epoch 1/1\n",
      "100/100 [==============================] - 0s 3ms/step - loss: 0.0343 - acc: 1.0000\n",
      "Epoch 1/1\n",
      "100/100 [==============================] - 0s 3ms/step - loss: 371.2297 - model_1_loss: 0.7094 - model_2_loss: 3.7052\n"
     ]
    },
    {
     "name": "stderr",
     "output_type": "stream",
     "text": [
      "\r",
      " 17%|█▋        | 5/30 [01:51<09:46, 23.46s/it]"
     ]
    },
    {
     "name": "stdout",
     "output_type": "stream",
     "text": [
      "Epoch 1/1\n",
      "100/100 [==============================] - 0s 3ms/step - loss: 0.0111 - acc: 1.0000\n",
      "Epoch 1/1\n",
      "100/100 [==============================] - 0s 3ms/step - loss: 0.0140 - acc: 1.0000\n",
      "Epoch 1/1\n",
      "100/100 [==============================] - 0s 3ms/step - loss: 359.3399 - model_1_loss: 0.4356 - model_2_loss: 3.5890\n"
     ]
    },
    {
     "name": "stderr",
     "output_type": "stream",
     "text": [
      "\r",
      " 20%|██        | 6/30 [02:02<07:51, 19.63s/it]"
     ]
    },
    {
     "name": "stdout",
     "output_type": "stream",
     "text": [
      "Epoch 1/1\n",
      "100/100 [==============================] - 0s 3ms/step - loss: 0.0054 - acc: 1.0000\n",
      "Epoch 1/1\n",
      "100/100 [==============================] - 0s 3ms/step - loss: 0.0077 - acc: 1.0000\n",
      "Epoch 1/1\n",
      "100/100 [==============================] - 0s 3ms/step - loss: 324.7918 - model_1_loss: 0.2538 - model_2_loss: 3.2454\n"
     ]
    },
    {
     "name": "stderr",
     "output_type": "stream",
     "text": [
      "\r",
      " 23%|██▎       | 7/30 [02:11<06:22, 16.62s/it]"
     ]
    },
    {
     "name": "stdout",
     "output_type": "stream",
     "text": [
      "Epoch 1/1\n",
      "100/100 [==============================] - 0s 3ms/step - loss: 0.0018 - acc: 1.0000\n",
      "Epoch 1/1\n",
      "100/100 [==============================] - 0s 3ms/step - loss: 0.0170 - acc: 1.0000\n",
      "Epoch 1/1\n",
      "100/100 [==============================] - 0s 4ms/step - loss: 294.5067 - model_1_loss: 0.0911 - model_2_loss: 2.9442\n"
     ]
    },
    {
     "name": "stderr",
     "output_type": "stream",
     "text": [
      "\r",
      " 27%|██▋       | 8/30 [02:22<05:26, 14.83s/it]"
     ]
    },
    {
     "name": "stdout",
     "output_type": "stream",
     "text": [
      "Epoch 1/1\n",
      "100/100 [==============================] - 0s 3ms/step - loss: 0.0021 - acc: 1.0000\n",
      "Epoch 1/1\n",
      "100/100 [==============================] - 0s 3ms/step - loss: 0.0076 - acc: 1.0000\n",
      "Epoch 1/1\n",
      "100/100 [==============================] - 0s 3ms/step - loss: 267.5986 - model_1_loss: 0.4422 - model_2_loss: 2.6716\n"
     ]
    },
    {
     "name": "stderr",
     "output_type": "stream",
     "text": [
      "\r",
      " 30%|███       | 9/30 [02:37<05:11, 14.81s/it]"
     ]
    },
    {
     "name": "stdout",
     "output_type": "stream",
     "text": [
      "Epoch 1/1\n",
      "100/100 [==============================] - 0s 3ms/step - loss: 0.0122 - acc: 0.9900\n",
      "Epoch 1/1\n",
      "100/100 [==============================] - 0s 3ms/step - loss: 0.0303 - acc: 1.0000\n",
      "Epoch 1/1\n",
      "100/100 [==============================] - 0s 3ms/step - loss: 248.7904 - model_1_loss: 0.5028 - model_2_loss: 2.4829\n"
     ]
    },
    {
     "name": "stderr",
     "output_type": "stream",
     "text": [
      "\r",
      " 33%|███▎      | 10/30 [03:00<05:46, 17.32s/it]"
     ]
    },
    {
     "name": "stdout",
     "output_type": "stream",
     "text": [
      "Epoch 1/1\n",
      "100/100 [==============================] - 0s 3ms/step - loss: 3.4474e-04 - acc: 1.0000\n",
      "Epoch 1/1\n",
      "100/100 [==============================] - 0s 3ms/step - loss: 0.0132 - acc: 1.0000\n",
      "Epoch 1/1\n",
      "100/100 [==============================] - 0s 3ms/step - loss: 253.5872 - model_1_loss: 0.9127 - model_2_loss: 2.5267\n"
     ]
    },
    {
     "name": "stderr",
     "output_type": "stream",
     "text": [
      "\r",
      " 37%|███▋      | 11/30 [03:14<05:13, 16.49s/it]"
     ]
    },
    {
     "name": "stdout",
     "output_type": "stream",
     "text": [
      "Epoch 1/1\n",
      "100/100 [==============================] - 0s 3ms/step - loss: 5.2014e-04 - acc: 1.0000\n",
      "Epoch 1/1\n",
      "100/100 [==============================] - 0s 3ms/step - loss: 0.0171 - acc: 1.0000\n",
      "Epoch 1/1\n",
      "100/100 [==============================] - 0s 4ms/step - loss: 216.7351 - model_1_loss: 0.1568 - model_2_loss: 2.1658\n"
     ]
    },
    {
     "name": "stderr",
     "output_type": "stream",
     "text": [
      "\r",
      " 40%|████      | 12/30 [03:29<04:45, 15.84s/it]"
     ]
    },
    {
     "name": "stdout",
     "output_type": "stream",
     "text": [
      "Epoch 1/1\n",
      "100/100 [==============================] - 0s 3ms/step - loss: 0.0025 - acc: 1.0000\n",
      "Epoch 1/1\n",
      "100/100 [==============================] - 0s 3ms/step - loss: 0.0029 - acc: 1.0000\n",
      "Epoch 1/1\n",
      "100/100 [==============================] - 0s 4ms/step - loss: 181.6984 - model_1_loss: 0.1657 - model_2_loss: 1.8153\n"
     ]
    },
    {
     "name": "stderr",
     "output_type": "stream",
     "text": [
      "\r",
      " 43%|████▎     | 13/30 [03:44<04:28, 15.81s/it]"
     ]
    },
    {
     "name": "stdout",
     "output_type": "stream",
     "text": [
      "Epoch 1/1\n",
      "100/100 [==============================] - 0s 3ms/step - loss: 0.0035 - acc: 1.0000\n",
      "Epoch 1/1\n",
      "100/100 [==============================] - 0s 3ms/step - loss: 7.4882e-04 - acc: 1.0000\n",
      "Epoch 1/1\n",
      "100/100 [==============================] - 0s 4ms/step - loss: 165.5727 - model_1_loss: 0.3596 - model_2_loss: 1.6521\n"
     ]
    },
    {
     "name": "stderr",
     "output_type": "stream",
     "text": [
      "\r",
      " 47%|████▋     | 14/30 [03:59<04:08, 15.53s/it]"
     ]
    },
    {
     "name": "stdout",
     "output_type": "stream",
     "text": [
      "Epoch 1/1\n",
      "100/100 [==============================] - 0s 3ms/step - loss: 3.4876e-04 - acc: 1.0000\n",
      "Epoch 1/1\n",
      "100/100 [==============================] - 0s 3ms/step - loss: 0.0016 - acc: 1.0000\n",
      "Epoch 1/1\n",
      "100/100 [==============================] - 0s 3ms/step - loss: 148.0644 - model_1_loss: 0.0710 - model_2_loss: 1.4799\n"
     ]
    },
    {
     "name": "stderr",
     "output_type": "stream",
     "text": [
      "\r",
      " 50%|█████     | 15/30 [04:11<03:36, 14.41s/it]"
     ]
    },
    {
     "name": "stdout",
     "output_type": "stream",
     "text": [
      "Epoch 1/1\n",
      "100/100 [==============================] - 0s 3ms/step - loss: 1.4148e-04 - acc: 1.0000\n",
      "Epoch 1/1\n",
      "100/100 [==============================] - 0s 3ms/step - loss: 0.0015 - acc: 1.0000\n",
      "Epoch 1/1\n",
      "100/100 [==============================] - 0s 4ms/step - loss: 138.7589 - model_1_loss: 0.0642 - model_2_loss: 1.3869\n"
     ]
    },
    {
     "name": "stderr",
     "output_type": "stream",
     "text": [
      "\r",
      " 53%|█████▎    | 16/30 [04:24<03:17, 14.09s/it]"
     ]
    },
    {
     "name": "stdout",
     "output_type": "stream",
     "text": [
      "Epoch 1/1\n",
      "100/100 [==============================] - 0s 3ms/step - loss: 1.1223e-04 - acc: 1.0000\n",
      "Epoch 1/1\n",
      "100/100 [==============================] - 0s 3ms/step - loss: 0.0100 - acc: 1.0000\n",
      "Epoch 1/1\n",
      "100/100 [==============================] - 0s 4ms/step - loss: 140.0276 - model_1_loss: 0.5199 - model_2_loss: 1.3951\n"
     ]
    },
    {
     "name": "stderr",
     "output_type": "stream",
     "text": [
      "\r",
      " 57%|█████▋    | 17/30 [04:42<03:15, 15.05s/it]"
     ]
    },
    {
     "name": "stdout",
     "output_type": "stream",
     "text": [
      "Epoch 1/1\n",
      "100/100 [==============================] - 0s 3ms/step - loss: 1.5575e-04 - acc: 1.0000\n",
      "Epoch 1/1\n",
      "100/100 [==============================] - 0s 3ms/step - loss: 9.5167e-04 - acc: 1.0000\n",
      "Epoch 1/1\n",
      "100/100 [==============================] - 0s 4ms/step - loss: 112.5979 - model_1_loss: 0.2762 - model_2_loss: 1.1232\n"
     ]
    },
    {
     "name": "stderr",
     "output_type": "stream",
     "text": [
      "\r",
      " 60%|██████    | 18/30 [04:57<03:01, 15.10s/it]"
     ]
    },
    {
     "name": "stdout",
     "output_type": "stream",
     "text": [
      "Epoch 1/1\n",
      "100/100 [==============================] - 0s 3ms/step - loss: 2.7041e-04 - acc: 1.0000\n",
      "Epoch 1/1\n",
      "100/100 [==============================] - 0s 3ms/step - loss: 5.4523e-04 - acc: 1.0000\n",
      "Epoch 1/1\n",
      "100/100 [==============================] - 0s 3ms/step - loss: 102.1322 - model_1_loss: 0.2053 - model_2_loss: 1.0193\n"
     ]
    },
    {
     "name": "stderr",
     "output_type": "stream",
     "text": [
      "\r",
      " 63%|██████▎   | 19/30 [05:10<02:39, 14.46s/it]"
     ]
    },
    {
     "name": "stdout",
     "output_type": "stream",
     "text": [
      "Epoch 1/1\n",
      "100/100 [==============================] - 0s 3ms/step - loss: 3.3209e-04 - acc: 1.0000\n",
      "Epoch 1/1\n",
      "100/100 [==============================] - 0s 3ms/step - loss: 3.6782e-04 - acc: 1.0000\n",
      "Epoch 1/1\n",
      "100/100 [==============================] - 0s 4ms/step - loss: 87.3269 - model_1_loss: 0.0983 - model_2_loss: 0.8723\n"
     ]
    },
    {
     "name": "stderr",
     "output_type": "stream",
     "text": [
      "\r",
      " 67%|██████▋   | 20/30 [05:21<02:13, 13.37s/it]"
     ]
    },
    {
     "name": "stdout",
     "output_type": "stream",
     "text": [
      "Epoch 1/1\n",
      "100/100 [==============================] - 0s 3ms/step - loss: 2.8120e-04 - acc: 1.0000\n",
      "Epoch 1/1\n",
      "100/100 [==============================] - 0s 3ms/step - loss: 6.5109e-04 - acc: 1.0000\n",
      "Epoch 1/1\n",
      "100/100 [==============================] - 0s 4ms/step - loss: 78.1710 - model_1_loss: 0.1591 - model_2_loss: 0.7801\n"
     ]
    },
    {
     "name": "stderr",
     "output_type": "stream",
     "text": [
      "\r",
      " 70%|███████   | 21/30 [05:35<02:01, 13.52s/it]"
     ]
    },
    {
     "name": "stdout",
     "output_type": "stream",
     "text": [
      "Epoch 1/1\n",
      "100/100 [==============================] - 0s 3ms/step - loss: 1.9899e-04 - acc: 1.0000\n",
      "Epoch 1/1\n",
      "100/100 [==============================] - 0s 3ms/step - loss: 0.0019 - acc: 1.0000\n",
      "Epoch 1/1\n",
      "100/100 [==============================] - 0s 4ms/step - loss: 58.2522 - model_1_loss: 6.0693e-04 - model_2_loss: 0.5825\n"
     ]
    },
    {
     "name": "stderr",
     "output_type": "stream",
     "text": [
      "\r",
      " 73%|███████▎  | 22/30 [05:48<01:47, 13.39s/it]"
     ]
    },
    {
     "name": "stdout",
     "output_type": "stream",
     "text": [
      "Epoch 1/1\n",
      "100/100 [==============================] - 0s 3ms/step - loss: 1.6453e-04 - acc: 1.0000\n",
      "Epoch 1/1\n",
      "100/100 [==============================] - 0s 3ms/step - loss: 3.7377e-04 - acc: 1.0000\n",
      "Epoch 1/1\n",
      "100/100 [==============================] - 0s 3ms/step - loss: 57.0716 - model_1_loss: 3.3088e-04 - model_2_loss: 0.5707\n"
     ]
    },
    {
     "name": "stderr",
     "output_type": "stream",
     "text": [
      "\r",
      " 77%|███████▋  | 23/30 [06:00<01:32, 13.20s/it]"
     ]
    },
    {
     "name": "stdout",
     "output_type": "stream",
     "text": [
      "Epoch 1/1\n",
      "100/100 [==============================] - 0s 3ms/step - loss: 1.6179e-04 - acc: 1.0000\n",
      "Epoch 1/1\n",
      "100/100 [==============================] - 0s 3ms/step - loss: 7.1037e-04 - acc: 1.0000\n",
      "Epoch 1/1\n",
      "100/100 [==============================] - 0s 3ms/step - loss: 53.2406 - model_1_loss: 0.0885 - model_2_loss: 0.5315\n"
     ]
    },
    {
     "name": "stderr",
     "output_type": "stream",
     "text": [
      "\r",
      " 80%|████████  | 24/30 [06:13<01:19, 13.17s/it]"
     ]
    },
    {
     "name": "stdout",
     "output_type": "stream",
     "text": [
      "Epoch 1/1\n",
      "100/100 [==============================] - 0s 3ms/step - loss: 1.4426e-04 - acc: 1.0000\n",
      "Epoch 1/1\n",
      "100/100 [==============================] - 0s 3ms/step - loss: 4.6721e-04 - acc: 1.0000\n",
      "Epoch 1/1\n",
      "100/100 [==============================] - 0s 3ms/step - loss: 51.6989 - model_1_loss: 5.7148e-04 - model_2_loss: 0.5170\n"
     ]
    },
    {
     "name": "stderr",
     "output_type": "stream",
     "text": [
      "\r",
      " 83%|████████▎ | 25/30 [06:25<01:03, 12.75s/it]"
     ]
    },
    {
     "name": "stdout",
     "output_type": "stream",
     "text": [
      "Epoch 1/1\n",
      "100/100 [==============================] - 0s 3ms/step - loss: 1.2369e-04 - acc: 1.0000\n",
      "Epoch 1/1\n",
      "100/100 [==============================] - 0s 3ms/step - loss: 2.9630e-04 - acc: 1.0000\n",
      "Epoch 1/1\n",
      "100/100 [==============================] - 0s 4ms/step - loss: 52.7527 - model_1_loss: 0.1965 - model_2_loss: 0.5256\n"
     ]
    },
    {
     "name": "stderr",
     "output_type": "stream",
     "text": [
      "\r",
      " 87%|████████▋ | 26/30 [06:40<00:52, 13.20s/it]"
     ]
    },
    {
     "name": "stdout",
     "output_type": "stream",
     "text": [
      "Epoch 1/1\n",
      "100/100 [==============================] - 0s 3ms/step - loss: 1.0675e-04 - acc: 1.0000\n",
      "Epoch 1/1\n",
      "100/100 [==============================] - 0s 3ms/step - loss: 3.5291e-04 - acc: 1.0000\n",
      "Epoch 1/1\n",
      "100/100 [==============================] - 0s 4ms/step - loss: 50.8096 - model_1_loss: 0.0920 - model_2_loss: 0.5072\n"
     ]
    },
    {
     "name": "stderr",
     "output_type": "stream",
     "text": [
      "\r",
      " 90%|█████████ | 27/30 [06:51<00:38, 12.83s/it]"
     ]
    },
    {
     "name": "stdout",
     "output_type": "stream",
     "text": [
      "Epoch 1/1\n",
      "100/100 [==============================] - 0s 3ms/step - loss: 9.1510e-05 - acc: 1.0000\n",
      "Epoch 1/1\n",
      "100/100 [==============================] - 0s 3ms/step - loss: 3.2580e-04 - acc: 1.0000\n",
      "Epoch 1/1\n",
      "100/100 [==============================] - 0s 3ms/step - loss: 40.0741 - model_1_loss: 0.0870 - model_2_loss: 0.3999\n"
     ]
    },
    {
     "name": "stderr",
     "output_type": "stream",
     "text": [
      "\r",
      " 93%|█████████▎| 28/30 [07:04<00:25, 12.68s/it]"
     ]
    },
    {
     "name": "stdout",
     "output_type": "stream",
     "text": [
      "Epoch 1/1\n",
      "100/100 [==============================] - 0s 3ms/step - loss: 8.1473e-05 - acc: 1.0000\n",
      "Epoch 1/1\n",
      "100/100 [==============================] - 0s 3ms/step - loss: 1.8993e-04 - acc: 1.0000\n",
      "Epoch 1/1\n",
      "100/100 [==============================] - 0s 4ms/step - loss: 35.2044 - model_1_loss: 5.4795e-04 - model_2_loss: 0.3520\n"
     ]
    },
    {
     "name": "stderr",
     "output_type": "stream",
     "text": [
      "\r",
      " 97%|█████████▋| 29/30 [07:17<00:12, 12.73s/it]"
     ]
    },
    {
     "name": "stdout",
     "output_type": "stream",
     "text": [
      "Epoch 1/1\n",
      "100/100 [==============================] - 0s 3ms/step - loss: 7.3880e-05 - acc: 1.0000\n",
      "Epoch 1/1\n",
      "100/100 [==============================] - 0s 3ms/step - loss: 3.8249e-04 - acc: 1.0000\n",
      "Epoch 1/1\n",
      "100/100 [==============================] - 0s 3ms/step - loss: 29.5122 - model_1_loss: 1.0582e-04 - model_2_loss: 0.2951\n"
     ]
    },
    {
     "name": "stderr",
     "output_type": "stream",
     "text": [
      "100%|██████████| 30/30 [07:29<00:00, 12.48s/it]\n"
     ]
    }
   ],
   "source": [
    "import datetime\n",
    "from tqdm import tqdm\n",
    "\n",
    "\n",
    "epochs = 30\n",
    "\n",
    "start_time = datetime.datetime.now().replace(microsecond=0)\n",
    "for e in tqdm(range(epochs)):\n",
    "#     print('Iteration', str(e)+'/'+str(epochs)+':-')\n",
    "    discriminator.fit([buggy_inputs, fixed_inputs], np.ones(num_dps))\n",
    "    generated_ints = generate_fixed_ints(generator, buggy_inputs, max_fixed_len, token_int_map, int_token_map)\n",
    "    discriminator.fit([buggy_inputs, generated_ints], np.zeros(num_dps))\n",
    "    gan.fit([buggy_inputs, fixed_inputs], [np.ones(num_dps), fixed_outputs])\n",
    "end_time = datetime.datetime.now().replace(microsecond=0)"
   ]
  },
  {
   "cell_type": "code",
   "execution_count": 21,
   "metadata": {},
   "outputs": [
    {
     "name": "stdout",
     "output_type": "stream",
     "text": [
      "Training took (h:mm:ss) 0:07:29\n"
     ]
    }
   ],
   "source": [
    "print(\"Training took (h:mm:ss)\", end_time-start_time)\n",
    "\n",
    "def decode_ints(int_matrix, int_map):\n",
    "    gntd_codes = []\n",
    "    for ints in int_matrix:\n",
    "        code = [int_map[x] for x in ints if x != 0]\n",
    "        gntd_codes.append(code)\n",
    "        \n",
    "    return gntd_codes"
   ]
  },
  {
   "cell_type": "code",
   "execution_count": 22,
   "metadata": {
    "scrolled": false
   },
   "outputs": [
    {
     "name": "stdout",
     "output_type": "stream",
     "text": [
      "Buggy code: String toTest = \"woordenboek_nederlands-3.1.1-sm+tb+fx+fn.xpi\";\n",
      "---\n",
      "Fixed code: String toTest = \"turkmen_spell_checker_dictionary-0.1.6-tb+fx+sm.xpi\";\n",
      "Genration:  String toTest = \"turkmen_spell_checker_dictionary-0.1.6-tb+fx+sm.xpi\";\n",
      "=============\n",
      "=============\n",
      "Buggy code: || (this.collator != null && ! this.collator.equals(other.collator))\n",
      "---\n",
      "Fixed code: || (this.collator != null && ! this.collator.equals(other.collator) || (this.collator == null && other.collator != null))\n",
      "Genration:  || (this.collator != null && ! this.collator.equals(other.collator) || (this.collator == null && other.collator != null))\n",
      "=============\n",
      "=============\n",
      "Buggy code: dest = _dpMgr.planDeployment(vmProfile, plan, exclude);\n",
      "---\n",
      "Fixed code: dest = _dpMgr.planDeployment(vmProfile, plan, exclude, null);\n",
      "Genration:  dest = _dpMgr.planDeployment(vmProfile, plan, exclude, null);\n",
      "=============\n",
      "=============\n",
      "Buggy code: LOG.info(clazz + \" is not a valid POJO type\");\n",
      "---\n",
      "Fixed code: LOG.info(clazz + \" is not a valid POJO type because not all fields are valid POJO fields.\");\n",
      "Genration:  LOG.info(clazz + \" is not a valid POJO type type all all are valid\n",
      "=============\n",
      "=============\n",
      "Buggy code: if ((syncSites == null) || syncSites.isEmpty()) {\n",
      "---\n",
      "Fixed code: if (syncSites.isEmpty()) {\n",
      "Genration:  if (syncSites.isEmpty()) {\n",
      "=============\n",
      "=============\n",
      "Buggy code: page.reset( null, 0 );\n",
      "---\n",
      "Fixed code: page.reset( null, UNBOUND_PAGE_ID );\n",
      "Genration:  page.reset( null, );\n",
      "=============\n",
      "=============\n",
      "Buggy code: this.regionNameStr = Bytes.toString(this.regionName);\n",
      "---\n",
      "Fixed code: this.regionNameStr = Bytes.toStringBinary(this.regionName);\n",
      "Genration:  this.regionNameStr = Bytes.toStringBinary(this.regionName);\n",
      "=============\n",
      "=============\n",
      "Buggy code: if(result != null) {\n",
      "---\n",
      "Fixed code: if (result != null || myDefaultConceptNames.containsKey(fqName)) {\n",
      "Genration:  if (result != null || myDefaultConceptNames.containsKey(fqName)) {\n",
      "=============\n",
      "=============\n",
      "Buggy code: gbKeys.add(new ExprNodeConstantDesc(\"0\"));\n",
      "---\n",
      "Fixed code: gbKeys.add(new ExprNodeConstantDesc(\"0L\"));\n",
      "Genration:  gbKeys.add(new ExprNodeConstantDesc(\"0L\"));\n",
      "=============\n",
      "=============\n",
      "Buggy code: name = name.substring(0, 1).toLowerCase() + name.substring(1);\n",
      "---\n",
      "Fixed code: name = name.substring(0, 1).toLowerCase(Locale.ENGLISH) + name.substring(1);\n",
      "Genration:  name = name.substring(0, 1).toLowerCase(Locale.ENGLISH) + name.substring(1);\n",
      "=============\n",
      "=============\n",
      "Buggy code: return bitmapFont.getSpaceWidth();\n",
      "---\n",
      "Fixed code: return (int)bitmapFont.getSpaceWidth();\n",
      "Genration:  return GroupByOperator.getOperatorName();\n",
      "=============\n",
      "=============\n",
      "Buggy code: result = readHaServer( machineId );\n",
      "---\n",
      "Fixed code: result = readHaServer( machineId, wait );\n",
      "Genration:  result = readHaServer( machineId, wait );\n",
      "=============\n",
      "=============\n",
      "Buggy code: String filePath = Utilities.generatePath(baseDir, pos, currentFileName);\n",
      "---\n",
      "Fixed code: String filePath = Utilities.generatePath(baseDir, conf.getDumpFilePrefix(), pos, currentFileName);\n",
      "Genration:  String filePath = Utilities.generatePath(baseDir, conf.getDumpFilePrefix(), pos, currentFileName);\n",
      "=============\n",
      "=============\n",
      "Buggy code: return target.getNumberOfTargets() != target.getMaxNumberOfTargets() ? staticOptions : null;\n",
      "---\n",
      "Fixed code: return target.getTargets().size() >= target.getNumberOfTargets() ? staticOptions : null;\n",
      "Genration:  return target.getTargets().size() >= target.getNumberOfTargets() ? staticOptions : null;\n",
      "=============\n",
      "=============\n",
      "Buggy code: .getInstance(columnNames);\n",
      "---\n",
      "Fixed code: .getInstance(columnNames,Lists.newArrayList(Splitter.on('\\0').split(tbl.getProperty(\"columns.comments\"))));\n",
      "Genration:  .getInstance(columnNames,Lists.newArrayList(Splitter.on('\\0').split(tbl.getProperty(\"columns.comments\"))));\n",
      "=============\n",
      "=============\n",
      "Buggy code: && TezCompilerUtil.isIntermediateReducer(tezOp.getSortOperator())) {\n",
      "---\n",
      "Fixed code: && tezOp.getSortOperator().isIntermediateReducer()) {\n",
      "Genration:  && tezOp.getSortOperator().isIntermediateReducer()) {\n",
      "=============\n",
      "=============\n",
      "Buggy code: execFetchFirst(\"select * from \" + dataTypeTableName, \"c4\", false);\n",
      "---\n",
      "Fixed code: execFetchFirst(\"select * from \" + dataTypeTableName, dataTypeTableName.toLowerCase() + \".\" + \"c4\", false);\n",
      "Genration:  execFetchFirst(\"select * from \" + dataTypeTableName, dataTypeTableName, dataTypeTableName.toLowerCase() + \".\" + \".\" + \"c4\", + dataTypeTableName, dataTypeTableName, from *\n",
      "=============\n",
      "=============\n",
      "Buggy code: this.hiveConf, this.partitionCache, this.noColsMissingStats);\n",
      "---\n",
      "Fixed code: this.hiveConf, this.partitionCache, this.colStatsCache, this.noColsMissingStats);\n",
      "Genration:  this.hiveConf, this.partitionCache, this.colStatsCache, this.noColsMissingStats);\n",
      "=============\n",
      "=============\n",
      "Buggy code: for(LocalResource lr : localizeTempFiles(conf)) {\n",
      "---\n",
      "Fixed code: for(LocalResource lr : localizeTempFilesFromConf(getHiveJarDirectory(conf), conf)) {\n",
      "Genration:  for(LocalResource lr : localizeTempFilesFromConf(getHiveJarDirectory(conf), conf)) {\n",
      "=============\n",
      "=============\n",
      "Buggy code: if (mro.isSampler()) {\n",
      "---\n",
      "Fixed code: if (mro.isSampler() && plan.getSuccessors(mro) != null) {\n",
      "Genration:  if (mro.isSampler() && plan.getSuccessors(mro) != null) {\n",
      "=============\n",
      "=============\n",
      "Buggy code: (numToMerge != 1 || !segmentIsOriginal || isMerged(mergeInfo));\n",
      "---\n",
      "Fixed code: (numToMerge != 1 || !segmentIsOriginal || isMerged(infos, mergeInfo));\n",
      "Genration:  (numToMerge != 1 || !segmentIsOriginal || isMerged(infos, mergeInfo));\n",
      "=============\n",
      "=============\n",
      "Buggy code: String encoding = \"utf-8\";\n",
      "---\n",
      "Fixed code: String encoding = HttpUtils.getSetEncoding(mt, headers, \"UTF-8\");\n",
      "Genration:  String encoding = HttpUtils.getSetEncoding(mt, headers, \"UTF-8\");\n",
      "=============\n",
      "=============\n",
      "Buggy code: libCache = new BlobLibraryCacheManager(cache, FlinkUserCodeClassLoaders.ResolveOrder.CHILD_FIRST);\n",
      "---\n",
      "Fixed code: libCache = new BlobLibraryCacheManager(cache, FlinkUserCodeClassLoaders.ResolveOrder.CHILD_FIRST, new String[0]);\n",
      "Genration:  libCache = new BlobLibraryCacheManager(cache, FlinkUserCodeClassLoaders.ResolveOrder.CHILD_FIRST, new String[0]);\n",
      "=============\n",
      "=============\n",
      "Buggy code: if (namespaceDelimIndex == 0 || namespaceDelimIndex == -1){\n",
      "---\n",
      "Fixed code: if (namespaceDelimIndex < 0){\n",
      "Genration:  if (namespaceDelimIndex < 0){\n",
      "=============\n",
      "=============\n",
      "Buggy code: new StoreUpgrader( getConfig() ).attemptUpgrade( getStorageFileName() );\n",
      "---\n",
      "Fixed code: new StoreUpgrader( getConfig(), new ConfigMapUpgradeConfiguration(getConfig()) ).attemptUpgrade( getStorageFileName() );\n",
      "Genration:  new StoreUpgrader( getConfig(), new ConfigMapUpgradeConfiguration(getConfig()) ).attemptUpgrade( );\n",
      "=============\n",
      "=============\n",
      "Buggy code: \"/jobs/:%s/vertices/:%s/subtasks/:%s/attempts/%s/accumulators\",\n",
      "---\n",
      "Fixed code: \"/jobs/:%s/vertices/:%s/subtasks/:%s/attempts/:%s/accumulators\",\n",
      "Genration:  \"/jobs/:%s/vertices/:%s/subtasks/:%s/attempts/:%s/accumulators\",\n",
      "=============\n",
      "=============\n",
      "Buggy code: Assert.assertEquals(true, shjSch.equals(mjSch));\n",
      "---\n",
      "Fixed code: Assert.assertTrue(shjSch == null);\n",
      "Genration:  Assert.assertTrue(shjSch == null);\n",
      "=============\n",
      "=============\n",
      "Buggy code: if (selenium.isElementPresent(\"\n",
      "---\n",
      "Fixed code: if (selenium.isElementPresent(\"FCKeditor1___Frame\")) {\n",
      "Genration:  if (selenium.isElementPresent(\"FCKeditor1___Frame\")) {\n",
      "=============\n",
      "=============\n",
      "Buggy code: } else if ( component.getComponentId( ).isCloudLocal( ) ) {\n",
      "---\n",
      "Fixed code: } else if ( !component.getComponentId( ).isPartitioned( ) && component.getComponentId( ).isCloudLocal( ) ) {\n",
      "Genration:  } else if ( !component.getComponentId( ).isPartitioned( && component.getComponentId( component.getComponentId( ) {\n",
      "=============\n",
      "=============\n",
      "Buggy code: ? new Schema.Parser().parse(Util.openFromFS(schemafile))\n",
      "---\n",
      "Fixed code: ? Util.parseSchemaFromFS(schemafile)\n",
      "Genration:  ? Util.parseSchemaFromFS(schemafile)\n",
      "=============\n",
      "=============\n",
      "Buggy code: SegmentInfos infos = new SegmentInfos();\n",
      "---\n",
      "Fixed code: SegmentInfos infos = new SegmentInfos(codecs);\n",
      "Genration:  SegmentInfos infos = new SegmentInfos(codecs);\n",
      "=============\n",
      "=============\n",
      "Buggy code: DeploymentPlanBuilder builder = deploymentManager.newDeploymentPlan();\n",
      "---\n",
      "Fixed code: DeploymentPlanBuilder builder = deploymentManager.newDeploymentPlan().withRollback();\n",
      "Genration:  DeploymentPlanBuilder builder = deploymentManager.newDeploymentPlan().withRollback();\n",
      "=============\n",
      "=============\n",
      "Buggy code: xslt = new StreamSource(new ByteArrayInputStream(xsltContent.getBytes()));\n",
      "---\n",
      "Fixed code: this.xsltContent = xsltContent;\n",
      "Genration:  this.xsltContent = xsltContent;\n",
      "=============\n",
      "=============\n",
      "Buggy code: String db_dir = getTestDir() + \"/hbasedb\";\n",
      "---\n",
      "Fixed code: String db_dir = HCatUtil.makePathASafeFileName(getTestDir() + \"/hbasedb\");\n",
      "Genration:  String db_dir = HCatUtil.makePathASafeFileName(getTestDir() + \"/hbasedb\");\n",
      "=============\n",
      "=============\n",
      "Buggy code: if(! binCond.getLhs().getFieldSchema().isEqual(binCond.getRhs().getFieldSchema())){\n",
      "---\n",
      "Fixed code: if(!LogicalFieldSchema.isEqualUnlessUnknown(binCond.getLhs().getFieldSchema(), binCond.getRhs().getFieldSchema())){\n",
      "Genration:  if(!LogicalFieldSchema.isEqualUnlessUnknown(binCond.getLhs().getFieldSchema(), binCond.getRhs().getFieldSchema())){\n",
      "=============\n",
      "=============\n",
      "Buggy code: if (currOp.getChildOperators() == null) {\n",
      "---\n",
      "Fixed code: if ((currOp.getChildOperators() == null) || (currOp.getChildOperators().isEmpty())) {\n",
      "Genration:  if (syncSites.isEmpty()) {\n",
      "=============\n",
      "=============\n",
      "Buggy code: chainingStrategy = ChainingStrategy.ALWAYS;\n",
      "---\n",
      "Fixed code: chainingStrategy = ChainingStrategy.FORCE_ALWAYS;\n",
      "Genration:  chainingStrategy = ChainingStrategy.FORCE_ALWAYS;\n",
      "=============\n",
      "=============\n",
      "Buggy code: List domains = Arrays.asList(mBeanServer.getDomains());\n",
      "---\n",
      "Fixed code: List<String> domains = Arrays.asList(mBeanServer.getDomains());\n",
      "Genration:  List<String> domains = Arrays.asList(mBeanServer.getDomains());\n",
      "=============\n",
      "=============\n",
      "Buggy code: registerTimer(nextTriggerTime, this);\n",
      "---\n",
      "Fixed code: getTimerService().registerTimer(nextTriggerTime, this);\n",
      "Genration:  getTimerService().registerTimer(nextTriggerTime, this);\n",
      "=============\n",
      "=============\n",
      "Buggy code: private static float RUN_TIME_SEC = 0.5f*_TestUtil.getRandomMultiplier();\n",
      "---\n",
      "Fixed code: private static float RUN_TIME_SEC = 0.5f * RANDOM_MULTIPLIER;\n",
      "Genration:  private static float RUN_TIME_SEC = 0.5f * RANDOM_MULTIPLIER;\n",
      "=============\n",
      "=============\n",
      "Buggy code: throw new MetaException(ex.getMessage());\n",
      "---\n",
      "Fixed code: throw MetaStoreUtils.newMetaException(ex);\n",
      "Genration:  throw MetaStoreUtils.newMetaException(ex);\n",
      "=============\n",
      "=============\n",
      "Buggy code: conf.set(\"hive.metastore.local\", \"false\");\n",
      "---\n",
      "Fixed code: conf.setBoolVar(ConfVars.METASTORE_MODE, false);\n",
      "Genration:  conf.setBoolVar(ConfVars.METASTORE_MODE, false);\n",
      "=============\n",
      "=============\n",
      "Buggy code: values = this.caller.callWithRetries(smallScanCallable);\n",
      "---\n",
      "Fixed code: values = this.caller.callWithRetries(smallScanCallable, scannerTimeout);\n",
      "Genration:  values = this.caller.callWithRetries(smallScanCallable, scannerTimeout);\n",
      "=============\n",
      "=============\n",
      "Buggy code: myUsedLanguages.addAll(l.getDependenciesManager().getAllExtendedLanguages());\n",
      "---\n",
      "Fixed code: l.getDependenciesManager().collectAllExtendedLanguages(myUsedLanguages);\n",
      "Genration:  vectorDesc.setIsReduceMergePartial(true);\n",
      "=============\n",
      "=============\n",
      "Buggy code: return (set instanceof CharArraySet) ? copy((CharArraySet) set) : copy(Version.LUCENE_30, set);\n",
      "---\n",
      "Fixed code: return copy(Version.LUCENE_30, set);\n",
      "Genration:  return copy(Version.LUCENE_30, set);\n",
      "=============\n",
      "=============\n",
      "Buggy code: LOG.info(\"Cleaner thread sleep interupted\", e);\n",
      "---\n",
      "Fixed code: LOG.info(\"Cleaner thread sleep interrupted\", e);\n",
      "Genration:  LOG.info(\"Cleaner thread sleep interrupted\", e);\n",
      "=============\n",
      "=============\n",
      "Buggy code: cmd.setVersion(\"\");\n",
      "---\n",
      "Fixed code: cmd.setVersion(JuniperSrxResource.class.getPackage().getImplementationVersion());\n",
      "Genration:  cmd.setVersion(JuniperSrxResource.class.getPackage().getImplementationVersion());\n",
      "=============\n",
      "=============\n",
      "Buggy code: RuntimeUDFContext ctx = new RuntimeUDFContext(\"test name\", 3, 1, getClass().getClassLoader(), new ExecutionConfig(), new HashMap<String, Accumulator<?, ?>>());\n",
      "---\n",
      "Fixed code: RuntimeUDFContext ctx = new RuntimeUDFContext(\"test name\", 3, 1, getClass().getClassLoader(), new ExecutionConfig(), new HashMap<String, Future<Path>>(), new HashMap<String, Accumulator<?, ?>>());\n",
      "Genration:  RuntimeUDFContext ctx = new RuntimeUDFContext(\"test false, false, false, false, false, false, false, false, false, false, false, false, false, false,\n",
      "=============\n",
      "=============\n",
      "Buggy code: lp.validate(pigServer.getPigContext(), \"test\");\n",
      "---\n",
      "Fixed code: lp.validate(pigServer.getPigContext(), \"test\", false);\n",
      "Genration:  lp.validate(pigServer.getPigContext(), \"test\", false);\n",
      "=============\n",
      "=============\n",
      "Buggy code: ioContext = IOContext.get(conf);\n",
      "---\n",
      "Fixed code: ioContext = IOContextMap.get(conf);\n",
      "Genration:  ioContext = IOContextMap.get(conf);\n",
      "=============\n",
      "=============\n",
      "Buggy code: final Iterator<Resource> resources = picker.pickResources(resolver, relativePath);\n",
      "---\n",
      "Fixed code: final Iterator<Resource> resources = picker.pickResources(resolver, relativePath).iterator();\n",
      "Genration:  final Iterator<Resource> resources = picker.pickResources(resolver, relativePath).iterator();\n",
      "=============\n",
      "=============\n",
      "Buggy code: if (input == null || input.size() == 0)\n",
      "---\n",
      "Fixed code: if (input == null || input.size() == 0 || input.get(0) == null)\n",
      "Genration:  if (input == null || input.size() == 0 || input.get(0) == null)\n",
      "=============\n",
      "=============\n",
      "Buggy code: fileUrl = path.toURL();\n",
      "---\n",
      "Fixed code: fileUrl = path.toURI().toURL();\n",
      "Genration:  fileUrl = path.toURI().toURL();\n",
      "=============\n",
      "=============\n",
      "Buggy code: vectorDesc.setIsReduce(true);\n",
      "---\n",
      "Fixed code: vectorDesc.setIsReduceMergePartial(true);\n",
      "Genration:  vectorDesc.setIsReduceMergePartial(true);\n",
      "=============\n",
      "=============\n",
      "Buggy code: return String.format(\"%s,%d,%.02f\", f1, f2, f3);\n",
      "---\n",
      "Fixed code: return String.format(Locale.US, \"%s,%d,%.02f\", f1, f2, f3);\n",
      "Genration:  return String.format(Locale.US, \"%s,%d,%.02f\", f1, f2, f3);\n",
      "=============\n",
      "=============\n",
      "Buggy code: IndexReader reader = IndexReader.open(writer);\n",
      "---\n",
      "Fixed code: IndexReader reader = IndexReader.open(writer, true);\n",
      "Genration:  IndexReader reader = IndexReader.open(writer, true);\n",
      "=============\n",
      "=============\n",
      "Buggy code: return getWaitTimeoutMillis() != 0 && !container.hasEnoughCapacity();\n",
      "---\n",
      "Fixed code: return getWaitTimeoutMillis() != 0 && !container.hasEnoughCapacity(txSize+1);\n",
      "Genration:  return getWaitTimeoutMillis() != 0 && !container.hasEnoughCapacity(txSize+1);\n",
      "=============\n",
      "=============\n",
      "Buggy code: NumberFormat df = new DecimalFormat(\"0000\");\n",
      "---\n",
      "Fixed code: NumberFormat df = new DecimalFormat(\"0000\", new DecimalFormatSymbols(Locale.ENGLISH));\n",
      "Genration:  NumberFormat df = new DecimalFormat(\"0000\", new DecimalFormatSymbols(Locale.ENGLISH));\n",
      "=============\n",
      "=============\n",
      "Buggy code: file.populateHeaders(message);\n",
      "---\n",
      "Fixed code: file.populateHeaders(message, false);\n",
      "Genration:  file.populateHeaders(message, false);\n",
      "=============\n",
      "=============\n",
      "Buggy code: return (int) stats.getReadyForReview();\n",
      "---\n",
      "Fixed code: return (int) stats.getFinishTranslation();\n",
      "Genration:  return (int) stats.getFinishTranslation();\n",
      "=============\n",
      "=============\n",
      "Buggy code: AxisOperation operation = service.getOperationByAction( httpRequest.getOperation() );\n",
      "---\n",
      "Fixed code: AxisOperation operation = service.getOperationByAction( httpRequest.getOperation().replaceAll(\"/*\",\"\") );\n",
      "Genration:  AxisOperation operation = service.getOperationByAction( httpRequest.getOperation().replaceAll(\"/*\",\"\") );\n",
      "=============\n",
      "=============\n",
      "Buggy code: final String output = eventXml.queryXml(\"/ijLog/event/test/event\");\n",
      "---\n",
      "Fixed code: final String output = decode(eventXml.queryXml(\"/ijLog/event/test/event\"));\n",
      "Genration:  final String output = decode(eventXml.queryXml(\"/ijLog/event/test/event\"));\n",
      "=============\n",
      "=============\n",
      "Buggy code: display.setNotificationText(count, severity);\n",
      "---\n",
      "Fixed code: showAndExpandOrCollapseTab(SideMenuDisplay.VALIDATION_OPTION_VIEW);\n",
      "Genration:  showAndExpandOrCollapseTab(SideMenuDisplay.VALIDATION_OPTION_VIEW);\n",
      "=============\n",
      "=============\n",
      "Buggy code: new FieldInfo(fieldName, true, fieldInfos.size(), false, false, false, this.storeOffsets ? IndexOptions.DOCS_AND_FREQS_AND_POSITIONS_AND_OFFSETS : IndexOptions.DOCS_AND_FREQS_AND_POSITIONS , null, null, null));\n",
      "---\n",
      "Fixed code: new FieldInfo(fieldName, true, fieldInfos.size(), false, false, false, this.storeOffsets ? IndexOptions.DOCS_AND_FREQS_AND_POSITIONS_AND_OFFSETS : IndexOptions.DOCS_AND_FREQS_AND_POSITIONS , null, null, -1, null));\n",
      "Genration:  new true, true, false, false, false, false, false, false, false, false, false, false, false, false, false, false, false, -1,\n",
      "=============\n",
      "=============\n",
      "Buggy code: Table indexTable = buildTable(DB_NAME, INDEX_TABLE_NAME);\n",
      "---\n",
      "Fixed code: Table indexTable = buildIndexTable(DB_NAME, INDEX_TABLE_NAME);\n",
      "Genration:  Table indexTable = buildIndexTable(DB_NAME, INDEX_TABLE_NAME);\n",
      "=============\n",
      "=============\n",
      "Buggy code: DataStoreDriver dataStoreDriver = dataStore.getDriver();\n",
      "---\n",
      "Fixed code: DataStoreDriver dataStoreDriver = dataStore != null ? dataStore.getDriver() : null;\n",
      "Genration:  DataStoreDriver dataStoreDriver = dataStore != null ? dataStore.getDriver() : null;\n",
      "=============\n",
      "=============\n",
      "Buggy code: return \"onclick\";\n",
      "---\n",
      "Fixed code: super.onModelChanged();\n",
      "Genration:  super.onModelChanged();\n",
      "=============\n",
      "=============\n",
      "Buggy code: return 0;\n",
      "---\n",
      "Fixed code: return MAX_SLOTS_UNKNOWN;\n",
      "Genration:  return MAX_SLOTS_UNKNOWN;\n",
      "=============\n",
      "=============\n",
      "Buggy code: Directory dir = FSDirectory.getDirectory(fullDir(outputDir));\n",
      "---\n",
      "Fixed code: Directory dir = FSDirectory.getDirectory(fullDir(outputDir), null, false);\n",
      "Genration:  Directory dir = FSDirectory.getDirectory(fullDir(outputDir), null, false);\n",
      "=============\n",
      "=============\n",
      "Buggy code: String description = getRequired(jsonObj, \"description\").getAsString();\n",
      "---\n",
      "Fixed code: String description = jsonObj.has(\"description\") ? jsonObj.get(\"description\").getAsString() : \"\";\n",
      "Genration:  String description = jsonObj.has(\"description\") ? jsonObj.get(\"description\").getAsString() : \"\";\n",
      "=============\n",
      "=============\n",
      "Buggy code: if (selenium.isVisible(\"link=Kaleo Forms Test Page\")) {\n",
      "---\n",
      "Fixed code: if (selenium.isVisible(\"\n",
      "Genration:  if (selenium.isVisible(\"\n",
      "=============\n",
      "=============\n",
      "Buggy code: table.setAutoFlush(false);\n",
      "---\n",
      "Fixed code: table.setAutoFlush(false, true);\n",
      "Genration:  table.setAutoFlush(false, true);\n",
      "=============\n",
      "=============\n",
      "Buggy code: LoggerMessageProcessor.class)).addAlias(\"level\", \"levelString\");\n",
      "---\n",
      "Fixed code: LoggerMessageProcessor.class));\n",
      "Genration:  LoggerMessageProcessor.class));\n",
      "=============\n",
      "=============\n",
      "Buggy code: public long getUniqueTermCount() {\n",
      "---\n",
      "Fixed code: public long size() {\n",
      "Genration:  public long size() {\n",
      "=============\n",
      "=============\n",
      "Buggy code: this.writer.write(NullWritable.get(), t);\n",
      "---\n",
      "Fixed code: this.writer.write(NullWritable.get(), t.getAll().size() == 1 ? t.get(0) : t);\n",
      "Genration:  this.writer.write(NullWritable.get(), t.getAll().size() == 1 ? t.get(0) : t);\n",
      "=============\n",
      "=============\n",
      "Buggy code: throw new SQLException(\"Method not supported\");\n",
      "---\n",
      "Fixed code: fetchSize = rows;\n",
      "Genration:  fetchSize = rows;\n",
      "=============\n",
      "=============\n",
      "Buggy code: return getOperatorName();\n",
      "---\n",
      "Fixed code: return GroupByOperator.getOperatorName();\n",
      "Genration:  return GroupByOperator.getOperatorName();\n",
      "=============\n",
      "=============\n",
      "Buggy code: long latestValidStart = System.currentTimeMillis() - timeout;\n",
      "---\n",
      "Fixed code: long latestValidStart = getDbTime(dbConn) - timeout;\n",
      "Genration:  long latestValidStart = getDbTime(dbConn) - timeout;\n",
      "=============\n",
      "=============\n",
      "Buggy code: SegmentInfos sis = new SegmentInfos();\n",
      "---\n",
      "Fixed code: SegmentInfos sis = new SegmentInfos(codecs);\n",
      "Genration:  SegmentInfos infos = new SegmentInfos(codecs);\n",
      "=============\n",
      "=============\n",
      "Buggy code: return chooseBestPossibleMethodInfo(exchange, operationList, body, possibles, possiblesWithException);\n",
      "---\n",
      "Fixed code: return chooseBestPossibleMethodInfo(exchange, operationList, body, possibles, possiblesWithException, operationsWithCustomAnnotation);\n",
      "Genration:  return chooseBestPossibleMethodInfo(exchange, operationList, body, body, possiblesWithException, operationsWithCustomAnnotation);\n",
      "=============\n",
      "=============\n",
      "Buggy code: if (input == null) {\n",
      "---\n",
      "Fixed code: if (input == null || input.size() < 1 || input.get(0) == null) {\n",
      "Genration:  if (input == null || input.size() < 1 || input.get(0) == null) {\n",
      "=============\n",
      "=============\n",
      "Buggy code: LocateRegistry.createRegistry(registryPort);\n",
      "---\n",
      "Fixed code: registry = LocateRegistry.createRegistry(registryPort);\n",
      "Genration:  registry = LocateRegistry.createRegistry(registryPort);\n",
      "=============\n",
      "=============\n",
      "Buggy code: getInstances(null);\n",
      "---\n",
      "Fixed code: getInstances(\"LLAP\", 0);\n",
      "Genration:  getInstances(\"LLAP\", 0);\n",
      "=============\n",
      "=============\n",
      "Buggy code: this.cleanupTimer.schedule(this, cleanupInterval);\n",
      "---\n",
      "Fixed code: this.cleanupTimer.schedule(this, cleanupInterval, cleanupInterval);\n",
      "Genration:  this.cleanupTimer.schedule(this, cleanupInterval, cleanupInterval);\n",
      "=============\n",
      "=============\n",
      "Buggy code: networkService.allocateSecondaryGuestIP(Matchers.any(Account.class), Matchers.anyLong(), Matchers.anyLong(), Matchers.anyLong(), Matchers.anyString()))\n",
      "---\n",
      "Fixed code: networkService.allocateSecondaryGuestIP(Matchers.anyLong(), Matchers.anyString()))\n",
      "Genration:  networkService.allocateSecondaryGuestIP(Matchers.anyLong(), Matchers.anyString()))\n",
      "=============\n",
      "=============\n",
      "Buggy code: finish(sumTotalTermFreq, sumDocFreq, visitedDocs.cardinality());\n",
      "---\n",
      "Fixed code: finish(indexOptions == IndexOptions.DOCS_ONLY ? -1 : sumTotalTermFreq, sumDocFreq, visitedDocs.cardinality());\n",
      "Genration:  finish(indexOptions == IndexOptions.DOCS_ONLY ? -1 : sumTotalTermFreq, sumDocFreq, visitedDocs.cardinality());\n",
      "=============\n",
      "=============\n",
      "Buggy code: input.close();\n",
      "---\n",
      "Fixed code: close(input, null, LOG);\n",
      "Genration:  table.setAutoFlush(false, true);\n",
      "=============\n",
      "=============\n",
      "Buggy code: this(inputPaths, outputDir, false);\n",
      "---\n",
      "Fixed code: this(inputPaths, outputDir, false, null);\n",
      "Genration:  this(inputPaths, outputDir, false, false, false, false, false, false, false, false, false, false, false, false, false, false, false, false, false,\n",
      "=============\n",
      "=============\n",
      "Buggy code: \"Unable to get metadata for input table split\" + split.getPath());\n",
      "---\n",
      "Fixed code: \"Unable to get metadata for input table split\" + split.getPath(), e);\n",
      "Genration:  \"Unable to get metadata for input table split\" + split.getPath(), e);\n",
      "=============\n",
      "=============\n",
      "Buggy code: fieldPositionMap.remove(hcatFieldSchema);\n",
      "---\n",
      "Fixed code: fieldPositionMap.remove(hcatFieldSchema.getName());\n",
      "Genration:  fieldPositionMap.remove(hcatFieldSchema.getName());\n",
      "=============\n",
      "=============\n",
      "Buggy code: return ShimLoader.getHadoopShims().compareText(value, rhs.value);\n",
      "---\n",
      "Fixed code: return value.compareTo(rhs.value);\n",
      "Genration:  return value.compareTo(rhs.value);\n",
      "=============\n",
      "=============\n",
      "Buggy code: aliasedScriptFiles.put(name, new File(path));\n",
      "---\n",
      "Fixed code: aliasedScriptFiles.put(name.replaceFirst(\"^/\", \"\"), new File(path));\n",
      "Genration:  aliasedScriptFiles.put(name.replaceFirst(\"^/\", \"\"), new File(path));\n",
      "=============\n",
      "=============\n",
      "Buggy code: boolean enabled = isMessageBoardsEnabled(userId);\n",
      "---\n",
      "Fixed code: boolean enabled = isMessageBoardsEnabled(userId, groupId);\n",
      "Genration:  boolean enabled = isMessageBoardsEnabled(userId, groupId);\n",
      "=============\n",
      "=============\n",
      "Buggy code: network.writeByte(OChannelBinaryProtocol.CLUSTER_REMOVE);\n",
      "---\n",
      "Fixed code: network.writeByte(OChannelBinaryProtocol.DATACLUSTER_REMOVE);\n",
      "Genration:  .getInstance(columnNames,Lists.newArrayList(Splitter.on('\\0').split(tbl.getProperty(\"columns.comments\"))));\n",
      "=============\n",
      "=============\n",
      "Buggy code: TagCompressionContext context = new TagCompressionContext(LRUDictionary.class);\n",
      "---\n",
      "Fixed code: TagCompressionContext context = new TagCompressionContext(LRUDictionary.class, Byte.MAX_VALUE);\n",
      "Genration:  TagCompressionContext context = new TagCompressionContext(LRUDictionary.class, Byte.MAX_VALUE);\n",
      "=============\n",
      "=============\n",
      "Buggy code: mySendTree = sendTree;\n",
      "---\n",
      "Fixed code: mySendTree = sendTree && !(myTestsListener instanceof SMTestListener);\n",
      "Genration:  mySendTree = sendTree && !(myTestsListener instanceof SMTestListener);\n",
      "=============\n",
      "=============\n",
      "Buggy code: return howIGotHere;\n",
      "---\n",
      "Fixed code: return this;\n",
      "Genration:  return this;\n",
      "=============\n",
      "=============\n",
      "Buggy code: tableName, expectView, ifExists);\n",
      "---\n",
      "Fixed code: tableName, expectView, ifExists, true);\n",
      "Genration:  tableName, expectView, ifExists, true);\n",
      "=============\n",
      "=============\n",
      "Buggy code: return numAllMemorySegments * segmentSize;\n",
      "---\n",
      "Fixed code: return numAllMemorySegments * (long)segmentSize;\n",
      "Genration:  return numAllMemorySegments * (long)segmentSize;\n",
      "=============\n",
      "=============\n",
      "Buggy code: write(channel, file, ExchangeHelper.getMandatoryInBody(exchange, InputStream.class));\n",
      "---\n",
      "Fixed code: write(channel, file, ExchangeHelper.getMandatoryInBody(exchange, InputStream.class), cfg);\n",
      "Genration:  write(channel, file, ExchangeHelper.getMandatoryInBody(exchange, InputStream.class), cfg);\n",
      "=============\n",
      "=============\n"
     ]
    }
   ],
   "source": [
    "generated_ints = generate_fixed_ints(generator, buggy_inputs, max_fixed_len, token_int_map, int_token_map)\n",
    "generated_codes = decode_ints(generated_ints, int_token_map)\n",
    "for buggy, fixed, gnrtd in zip(buggy_codes, fixed_codes, generated_codes):\n",
    "    print('Buggy code:', ' '.join(buggy))\n",
    "    print('---')\n",
    "    print('Fixed code:', ' '.join(fixed[1:-1]))\n",
    "    print('Genration: ', ' '.join(gnrtd[1:]))\n",
    "    print('=============')\n",
    "    print('=============')"
   ]
  },
  {
   "cell_type": "code",
   "execution_count": null,
   "metadata": {},
   "outputs": [],
   "source": []
  }
 ],
 "metadata": {
  "kernelspec": {
   "display_name": "tf",
   "language": "python",
   "name": "tf"
  },
  "language_info": {
   "codemirror_mode": {
    "name": "ipython",
    "version": 3
   },
   "file_extension": ".py",
   "mimetype": "text/x-python",
   "name": "python",
   "nbconvert_exporter": "python",
   "pygments_lexer": "ipython3",
   "version": "3.7.4"
  }
 },
 "nbformat": 4,
 "nbformat_minor": 2
}

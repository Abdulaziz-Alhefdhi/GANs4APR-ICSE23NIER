{
 "cells": [
  {
   "cell_type": "markdown",
   "metadata": {},
   "source": [
    "## Dataset"
   ]
  },
  {
   "cell_type": "code",
   "execution_count": 1,
   "metadata": {},
   "outputs": [],
   "source": [
    "buggy_data = ['((x + y) >= (z - 1))',\n",
    "              '(a && b)',\n",
    "              '(c > 0)',\n",
    "              'd',\n",
    "              '(e > f)']\n",
    "fixed_data = ['((x + y) > (z - 1))',\n",
    "              '(a && !(b))',\n",
    "              '(c > 1)',\n",
    "              '!(d)',\n",
    "              '(f > e)']"
   ]
  },
  {
   "cell_type": "code",
   "execution_count": 2,
   "metadata": {},
   "outputs": [],
   "source": [
    "buggy_codes = [list(x.replace(' ', '')) for x in buggy_data]\n",
    "fixed_codes = [['<soc>']+list(x.replace(' ', ''))+['<eoc>'] for x in fixed_data]"
   ]
  },
  {
   "cell_type": "code",
   "execution_count": 3,
   "metadata": {},
   "outputs": [
    {
     "name": "stdout",
     "output_type": "stream",
     "text": [
      "Buggy codes:-\n",
      "['(', '(', 'x', '+', 'y', ')', '>', '=', '(', 'z', '-', '1', ')', ')']\n",
      "['(', 'a', '&', '&', 'b', ')']\n",
      "['(', 'c', '>', '0', ')']\n",
      "['d']\n",
      "['(', 'e', '>', 'f', ')']\n",
      "====================\n",
      "Fixed codes:-\n",
      "['<soc>', '(', '(', 'x', '+', 'y', ')', '>', '(', 'z', '-', '1', ')', ')', '<eoc>']\n",
      "['<soc>', '(', 'a', '&', '&', '!', '(', 'b', ')', ')', '<eoc>']\n",
      "['<soc>', '(', 'c', '>', '1', ')', '<eoc>']\n",
      "['<soc>', '!', '(', 'd', ')', '<eoc>']\n",
      "['<soc>', '(', 'f', '>', 'e', ')', '<eoc>']\n"
     ]
    }
   ],
   "source": [
    "print(\"Buggy codes:-\")\n",
    "for x in buggy_codes:\n",
    "    print(x)\n",
    "print(\"====================\")\n",
    "print(\"Fixed codes:-\")\n",
    "for x in fixed_codes:\n",
    "    print(x)"
   ]
  },
  {
   "cell_type": "code",
   "execution_count": 4,
   "metadata": {},
   "outputs": [],
   "source": [
    "vocab = set([x for y in buggy_codes for x in y]+[x for y in fixed_codes for x in y])\n",
    "token_int_map = dict([(token, i+1) for i, token in enumerate(vocab)])\n",
    "vocab.add('<pad/unknown>')\n",
    "token_int_map['<pad/unknown>'] = 0\n",
    "int_token_map = dict((i, token) for token, i in token_int_map.items())"
   ]
  },
  {
   "cell_type": "code",
   "execution_count": 5,
   "metadata": {},
   "outputs": [
    {
     "data": {
      "text/plain": [
       "{1: '+',\n",
       " 2: 'd',\n",
       " 3: 'e',\n",
       " 4: 'f',\n",
       " 5: 'a',\n",
       " 6: '<eoc>',\n",
       " 7: 'y',\n",
       " 8: '(',\n",
       " 9: '>',\n",
       " 10: '!',\n",
       " 11: 'c',\n",
       " 12: '&',\n",
       " 13: '=',\n",
       " 14: '1',\n",
       " 15: 'x',\n",
       " 16: '-',\n",
       " 17: '0',\n",
       " 18: 'b',\n",
       " 19: 'z',\n",
       " 20: '<soc>',\n",
       " 21: ')',\n",
       " 0: '<pad/unknown>'}"
      ]
     },
     "execution_count": 5,
     "metadata": {},
     "output_type": "execute_result"
    }
   ],
   "source": [
    "int_token_map"
   ]
  },
  {
   "cell_type": "code",
   "execution_count": 6,
   "metadata": {},
   "outputs": [],
   "source": [
    "vocab_size = len(vocab)\n",
    "max_buggy_len = max([len(txt) for txt in buggy_codes])\n",
    "max_fixed_len = max([len(txt) for txt in fixed_codes])\n",
    "num_dps = len(fixed_codes)"
   ]
  },
  {
   "cell_type": "code",
   "execution_count": 7,
   "metadata": {},
   "outputs": [
    {
     "name": "stdout",
     "output_type": "stream",
     "text": [
      "Number of data points: 5\n",
      "Vocabulary size: 22\n",
      "Max length in buggy codes: 14\n",
      "Max length in fixed codes: 15\n"
     ]
    }
   ],
   "source": [
    "print('Number of data points:', num_dps)\n",
    "print('Vocabulary size:', vocab_size)\n",
    "print('Max length in buggy codes:', max_buggy_len)\n",
    "print('Max length in fixed codes:', max_fixed_len)"
   ]
  },
  {
   "cell_type": "code",
   "execution_count": 8,
   "metadata": {},
   "outputs": [],
   "source": [
    "import numpy as np\n",
    "\n",
    "buggy_inputs =  np.zeros((num_dps, max_buggy_len), dtype='int32')\n",
    "fixed_inputs =  np.zeros((num_dps, max_fixed_len), dtype='int32')\n",
    "fixed_outputs = np.zeros((num_dps, max_fixed_len, vocab_size), dtype='float32')\n",
    "\n",
    "for i, (buggy, fixed) in enumerate(zip(buggy_codes, fixed_codes)):\n",
    "    for t, token in enumerate(buggy):\n",
    "        buggy_inputs[i, t] = token_int_map[token]\n",
    "    for t, token in enumerate(fixed):\n",
    "        int_value = token_int_map[token]\n",
    "        fixed_inputs[i, t] = int_value\n",
    "        if t > 0:\n",
    "            fixed_outputs[i, t-1, int_value] = 1.\n",
    "    fixed_outputs[i, t, 0] = 1."
   ]
  },
  {
   "cell_type": "code",
   "execution_count": 9,
   "metadata": {},
   "outputs": [
    {
     "name": "stderr",
     "output_type": "stream",
     "text": [
      "Using TensorFlow backend.\n"
     ]
    }
   ],
   "source": [
    "from keras.layers import Input, Concatenate, Embedding, LSTM, Dense, dot, Activation, concatenate, Lambda\n",
    "from keras.models import Model\n",
    "from keras.backend import argmax, cast\n",
    "\n",
    "\n",
    "def build_discriminator(dimension, v_size, buggy_len, fixed_len):\n",
    "    buggy_input_layer = Input(shape=(buggy_len,))\n",
    "    fixed_input_layer = Input(shape=(fixed_len,))\n",
    "    concatted = Concatenate()([buggy_input_layer, fixed_input_layer])\n",
    "    embed_lay = Embedding(v_size, dimension, mask_zero=True)(concatted)\n",
    "    x = LSTM(dimension)(embed_lay)\n",
    "    out = Dense(1, activation='sigmoid')(x)\n",
    "    disc = Model([buggy_input_layer, fixed_input_layer], out)\n",
    "    disc.compile(loss='binary_crossentropy', optimizer='adam', metrics=['accuracy'], loss_weights=[0.5])\n",
    "    \n",
    "    return disc\n",
    "\n",
    "\n",
    "def build_generator(dimension, v_size, drop_prob, buggy_len, fixed_len):\n",
    "    # Encoder\n",
    "    buggy_input_layer = Input(shape=(buggy_len,))\n",
    "    enc_embed_lay = Embedding(v_size, dimension, mask_zero=True)(buggy_input_layer)\n",
    "    encoder_outputs, state_h, state_c = LSTM(dimension, return_sequences=True, return_state=True, dropout=drop_prob, recurrent_dropout=drop_prob)(enc_embed_lay)\n",
    "    # Decoder\n",
    "    fixed_input_layer = Input(shape=(fixed_len,))\n",
    "    dec_embed_lay = Embedding(v_size, dimension, mask_zero=True)(fixed_input_layer)\n",
    "    decoder_outputs = LSTM(dimension, return_sequences=True, dropout=drop_prob, recurrent_dropout=drop_prob)(dec_embed_lay, initial_state=[state_h, state_c])\n",
    "    # Attention\n",
    "    attention = dot([decoder_outputs, encoder_outputs], axes=[2, 2])\n",
    "    attention = Activation('softmax', name='attention')(attention)\n",
    "    context = dot([attention, encoder_outputs], axes=[2, 1])\n",
    "    decoder_combined_context = concatenate([context, decoder_outputs])\n",
    "    attention_context_output = Dense(dimension, activation=\"tanh\")(decoder_combined_context)\n",
    "    # Model output\n",
    "    model_output = Dense(v_size, activation=\"softmax\")(attention_context_output)\n",
    "    # Build model\n",
    "    gen = Model([buggy_input_layer, fixed_input_layer], model_output)\n",
    "    \n",
    "    return gen\n",
    "\n",
    "\n",
    "def build_gan(gen, disc, buggy_len, fixed_len):\n",
    "    disc.trainable = False\n",
    "    buggy_input_layer = Input(shape=(buggy_len,))\n",
    "    fixed_input_layer = Input(shape=(fixed_len,))\n",
    "    gen_out = gen([buggy_input_layer, fixed_input_layer])\n",
    "    argmax_layer = Lambda(lambda x: cast(argmax(x, axis=2), dtype='float32'))\n",
    "    disc_out = disc([buggy_input_layer, argmax_layer(gen_out)])\n",
    "    gan = Model([buggy_input_layer, fixed_input_layer], [disc_out, gen_out])\n",
    "    # compile model\n",
    "    gan.compile(loss=['binary_crossentropy', 'categorical_crossentropy'], optimizer='rmsprop', loss_weights=[1, 100])\n",
    "    \n",
    "    return gan"
   ]
  },
  {
   "cell_type": "code",
   "execution_count": 10,
   "metadata": {
    "scrolled": false
   },
   "outputs": [
    {
     "name": "stderr",
     "output_type": "stream",
     "text": [
      "WARNING: Logging before flag parsing goes to stderr.\n",
      "W0921 21:57:38.245408 139731596580608 deprecation_wrapper.py:119] From /home/aziz/anaconda3/envs/tf/lib/python3.7/site-packages/keras/backend/tensorflow_backend.py:74: The name tf.get_default_graph is deprecated. Please use tf.compat.v1.get_default_graph instead.\n",
      "\n",
      "W0921 21:57:38.255612 139731596580608 deprecation_wrapper.py:119] From /home/aziz/anaconda3/envs/tf/lib/python3.7/site-packages/keras/backend/tensorflow_backend.py:517: The name tf.placeholder is deprecated. Please use tf.compat.v1.placeholder instead.\n",
      "\n",
      "W0921 21:57:38.259974 139731596580608 deprecation_wrapper.py:119] From /home/aziz/anaconda3/envs/tf/lib/python3.7/site-packages/keras/backend/tensorflow_backend.py:4138: The name tf.random_uniform is deprecated. Please use tf.random.uniform instead.\n",
      "\n",
      "W0921 21:57:39.219430 139731596580608 deprecation.py:323] From /home/aziz/anaconda3/envs/tf/lib/python3.7/site-packages/keras/backend/tensorflow_backend.py:2974: add_dispatch_support.<locals>.wrapper (from tensorflow.python.ops.array_ops) is deprecated and will be removed in a future version.\n",
      "Instructions for updating:\n",
      "Use tf.where in 2.0, which has the same broadcast rule as np.where\n",
      "W0921 21:57:39.251968 139731596580608 deprecation_wrapper.py:119] From /home/aziz/anaconda3/envs/tf/lib/python3.7/site-packages/keras/optimizers.py:790: The name tf.train.Optimizer is deprecated. Please use tf.compat.v1.train.Optimizer instead.\n",
      "\n",
      "W0921 21:57:39.266928 139731596580608 deprecation_wrapper.py:119] From /home/aziz/anaconda3/envs/tf/lib/python3.7/site-packages/keras/backend/tensorflow_backend.py:3376: The name tf.log is deprecated. Please use tf.math.log instead.\n",
      "\n",
      "W0921 21:57:40.149946 139731596580608 deprecation_wrapper.py:119] From /home/aziz/anaconda3/envs/tf/lib/python3.7/site-packages/keras/backend/tensorflow_backend.py:133: The name tf.placeholder_with_default is deprecated. Please use tf.compat.v1.placeholder_with_default instead.\n",
      "\n",
      "W0921 21:57:40.157413 139731596580608 deprecation.py:506] From /home/aziz/anaconda3/envs/tf/lib/python3.7/site-packages/keras/backend/tensorflow_backend.py:3445: calling dropout (from tensorflow.python.ops.nn_ops) with keep_prob is deprecated and will be removed in a future version.\n",
      "Instructions for updating:\n",
      "Please use `rate` instead of `keep_prob`. Rate should be set to `rate = 1 - keep_prob`.\n"
     ]
    },
    {
     "name": "stdout",
     "output_type": "stream",
     "text": [
      "__________________________________________________________________________________________________\n",
      "Layer (type)                    Output Shape         Param #     Connected to                     \n",
      "==================================================================================================\n",
      "input_5 (InputLayer)            (None, 14)           0                                            \n",
      "__________________________________________________________________________________________________\n",
      "input_6 (InputLayer)            (None, 15)           0                                            \n",
      "__________________________________________________________________________________________________\n",
      "model_2 (Model)                 (None, 15, 22)       18951190    input_5[0][0]                    \n",
      "                                                                 input_6[0][0]                    \n",
      "__________________________________________________________________________________________________\n",
      "lambda_1 (Lambda)               (None, 15)           0           model_2[1][0]                    \n",
      "__________________________________________________________________________________________________\n",
      "model_1 (Model)                 (None, 1)            8416257     input_5[0][0]                    \n",
      "                                                                 lambda_1[0][0]                   \n",
      "==================================================================================================\n",
      "Total params: 27,367,447\n",
      "Trainable params: 18,951,190\n",
      "Non-trainable params: 8,416,257\n",
      "__________________________________________________________________________________________________\n"
     ]
    },
    {
     "data": {
      "image/png": "[encoded data removed]",
      "text/plain": [
       "<IPython.core.display.Image object>"
      ]
     },
     "execution_count": 10,
     "metadata": {},
     "output_type": "execute_result"
    }
   ],
   "source": [
    "%matplotlib inline\n",
    "from keras.utils.vis_utils import plot_model\n",
    "from IPython.display import Image\n",
    "\n",
    "\n",
    "latent_dim = 1024\n",
    "dropout = 0.2\n",
    "\n",
    "discriminator = build_discriminator(latent_dim, vocab_size, max_buggy_len, max_fixed_len)\n",
    "plot_model(discriminator, to_file='discriminator_model_plot.png', show_shapes=True, show_layer_names=True)\n",
    "# Image('discriminator_model_plot.png')\n",
    "\n",
    "generator = build_generator(latent_dim, vocab_size, dropout, max_buggy_len, max_fixed_len)\n",
    "plot_model(generator, to_file='generator_model_plot.png', show_shapes=True, show_layer_names=True)\n",
    "# Image('generator_model_plot.png')\n",
    "\n",
    "gan = build_gan(generator, discriminator, max_buggy_len, max_fixed_len)\n",
    "plot_model(gan, to_file='gan_model_plot.png', show_shapes=True, show_layer_names=True)\n",
    "gan.summary()\n",
    "Image('gan_model_plot.png')"
   ]
  },
  {
   "cell_type": "code",
   "execution_count": 11,
   "metadata": {},
   "outputs": [],
   "source": [
    "def generate_fixed_ints(gen, bugs, fixed_len, token_map, int_map):\n",
    "    gntd_ints = np.zeros(shape=(len(bugs), fixed_len))\n",
    "    gntd_ints[:, 0] = token_map[\"<soc>\"]\n",
    "    for buggy, generated in zip(bugs, gntd_ints):\n",
    "        buggy_input = buggy[np.newaxis]\n",
    "        gntd_in_out = generated[np.newaxis]\n",
    "        for i in range(1, fixed_len):\n",
    "            prediction = gen.predict([buggy_input, gntd_in_out]).argmax(axis=2)\n",
    "            if int_map[prediction[:, i][0]] == \"<eoc>\":\n",
    "                break\n",
    "            generated[i] = prediction[:, i]\n",
    "    \n",
    "    return gntd_ints"
   ]
  },
  {
   "cell_type": "code",
   "execution_count": 12,
   "metadata": {
    "scrolled": true
   },
   "outputs": [
    {
     "name": "stderr",
     "output_type": "stream",
     "text": [
      "/home/aziz/anaconda3/envs/tf/lib/python3.7/site-packages/keras/engine/training.py:490: UserWarning: Discrepancy between trainable weights and collected trainable weights, did you set `model.trainable` without calling `model.compile` after ?\n",
      "  'Discrepancy between trainable weights and collected trainable'\n"
     ]
    },
    {
     "name": "stdout",
     "output_type": "stream",
     "text": [
      "Epoch 1/1\n",
      "5/5 [==============================] - 3s 638ms/step - loss: 0.3449 - acc: 0.6000\n",
      "Epoch 1/1\n",
      "5/5 [==============================] - 0s 10ms/step - loss: 0.4081 - acc: 0.0000e+00\n"
     ]
    },
    {
     "name": "stderr",
     "output_type": "stream",
     "text": [
      "/home/aziz/anaconda3/envs/tf/lib/python3.7/site-packages/keras/engine/training.py:490: UserWarning: Discrepancy between trainable weights and collected trainable weights, did you set `model.trainable` without calling `model.compile` after ?\n",
      "  'Discrepancy between trainable weights and collected trainable'\n"
     ]
    },
    {
     "name": "stdout",
     "output_type": "stream",
     "text": [
      "Epoch 1/1\n",
      "5/5 [==============================] - 2s 412ms/step - loss: 309.5591 - model_1_loss: 0.6387 - model_2_loss: 3.0892\n",
      "Epoch 1/1\n",
      "5/5 [==============================] - 0s 11ms/step - loss: 0.2310 - acc: 1.0000\n"
     ]
    },
    {
     "name": "stderr",
     "output_type": "stream",
     "text": [
      "/home/aziz/anaconda3/envs/tf/lib/python3.7/site-packages/keras/engine/training.py:490: UserWarning: Discrepancy between trainable weights and collected trainable weights, did you set `model.trainable` without calling `model.compile` after ?\n",
      "  'Discrepancy between trainable weights and collected trainable'\n"
     ]
    },
    {
     "name": "stdout",
     "output_type": "stream",
     "text": [
      "Epoch 1/1\n",
      "5/5 [==============================] - 0s 9ms/step - loss: 0.5541 - acc: 0.0000e+00\n",
      "Epoch 1/1\n",
      "5/5 [==============================] - 0s 15ms/step - loss: 242.8841 - model_1_loss: 0.4287 - model_2_loss: 2.4246\n",
      "Epoch 1/1\n",
      "5/5 [==============================] - 0s 11ms/step - loss: 0.2019 - acc: 1.0000\n",
      "Epoch 1/1\n",
      "5/5 [==============================] - 0s 10ms/step - loss: 0.4509 - acc: 0.0000e+00\n",
      "Epoch 1/1\n",
      "5/5 [==============================] - 0s 14ms/step - loss: 710.4489 - model_1_loss: 0.5081 - model_2_loss: 7.0994\n",
      "Epoch 1/1\n",
      "5/5 [==============================] - 0s 11ms/step - loss: 0.1946 - acc: 1.0000\n",
      "Epoch 1/1\n",
      "5/5 [==============================] - 0s 10ms/step - loss: 0.3190 - acc: 1.0000\n",
      "Epoch 1/1\n",
      "5/5 [==============================] - 0s 14ms/step - loss: 918.9831 - model_1_loss: 0.7838 - model_2_loss: 9.1820\n",
      "Epoch 1/1\n",
      "5/5 [==============================] - 0s 11ms/step - loss: 0.1782 - acc: 1.0000\n",
      "Epoch 1/1\n",
      "5/5 [==============================] - 0s 10ms/step - loss: 0.3604 - acc: 0.4000\n",
      "Epoch 1/1\n",
      "5/5 [==============================] - 0s 15ms/step - loss: 291.6669 - model_1_loss: 0.2956 - model_2_loss: 2.9137\n",
      "Epoch 1/1\n",
      "5/5 [==============================] - 0s 10ms/step - loss: 0.1534 - acc: 1.0000\n",
      "Epoch 1/1\n",
      "5/5 [==============================] - 0s 10ms/step - loss: 0.2505 - acc: 1.0000\n",
      "Epoch 1/1\n",
      "5/5 [==============================] - 0s 13ms/step - loss: 186.2868 - model_1_loss: 0.4256 - model_2_loss: 1.8586\n",
      "Epoch 1/1\n",
      "5/5 [==============================] - 0s 11ms/step - loss: 0.1276 - acc: 1.0000\n",
      "Epoch 1/1\n",
      "5/5 [==============================] - 0s 10ms/step - loss: 0.2111 - acc: 1.0000\n",
      "Epoch 1/1\n",
      "5/5 [==============================] - 0s 14ms/step - loss: 172.4155 - model_1_loss: 0.1098 - model_2_loss: 1.7231\n",
      "Epoch 1/1\n",
      "5/5 [==============================] - 0s 10ms/step - loss: 0.1027 - acc: 1.0000\n",
      "Epoch 1/1\n",
      "5/5 [==============================] - 0s 11ms/step - loss: 0.1589 - acc: 1.0000\n",
      "Epoch 1/1\n",
      "5/5 [==============================] - 0s 14ms/step - loss: 128.1494 - model_1_loss: 0.7187 - model_2_loss: 1.2743\n",
      "Epoch 1/1\n",
      "5/5 [==============================] - 0s 10ms/step - loss: 0.0837 - acc: 1.0000\n",
      "Epoch 1/1\n",
      "5/5 [==============================] - 0s 10ms/step - loss: 0.1092 - acc: 1.0000\n",
      "Epoch 1/1\n",
      "5/5 [==============================] - 0s 15ms/step - loss: 100.3155 - model_1_loss: 0.1434 - model_2_loss: 1.0017\n",
      "Epoch 1/1\n",
      "5/5 [==============================] - 0s 11ms/step - loss: 0.0758 - acc: 1.0000\n",
      "Epoch 1/1\n",
      "5/5 [==============================] - 0s 10ms/step - loss: 0.0588 - acc: 1.0000\n",
      "Epoch 1/1\n",
      "5/5 [==============================] - 0s 15ms/step - loss: 96.2619 - model_1_loss: 0.5584 - model_2_loss: 0.9570\n",
      "Epoch 1/1\n",
      "5/5 [==============================] - 0s 11ms/step - loss: 0.0402 - acc: 1.0000\n",
      "Epoch 1/1\n",
      "5/5 [==============================] - 0s 10ms/step - loss: 0.0652 - acc: 1.0000\n",
      "Epoch 1/1\n",
      "5/5 [==============================] - 0s 15ms/step - loss: 110.5129 - model_1_loss: 0.0668 - model_2_loss: 1.1045\n",
      "Epoch 1/1\n",
      "5/5 [==============================] - 0s 10ms/step - loss: 0.0219 - acc: 1.0000\n",
      "Epoch 1/1\n",
      "5/5 [==============================] - 0s 9ms/step - loss: 0.0155 - acc: 1.0000\n",
      "Epoch 1/1\n",
      "5/5 [==============================] - 0s 13ms/step - loss: 84.9400 - model_1_loss: 0.0213 - model_2_loss: 0.8492\n",
      "Epoch 1/1\n",
      "5/5 [==============================] - 0s 10ms/step - loss: 0.0138 - acc: 1.0000\n",
      "Epoch 1/1\n",
      "5/5 [==============================] - 0s 10ms/step - loss: 0.0047 - acc: 1.0000\n",
      "Epoch 1/1\n",
      "5/5 [==============================] - 0s 13ms/step - loss: 81.3385 - model_1_loss: 0.6164 - model_2_loss: 0.8072\n",
      "Epoch 1/1\n",
      "5/5 [==============================] - 0s 10ms/step - loss: 0.0020 - acc: 1.0000\n",
      "Epoch 1/1\n",
      "5/5 [==============================] - 0s 10ms/step - loss: 0.0036 - acc: 1.0000\n",
      "Epoch 1/1\n",
      "5/5 [==============================] - 0s 14ms/step - loss: 78.6297 - model_1_loss: 0.0298 - model_2_loss: 0.7860\n",
      "Epoch 1/1\n",
      "5/5 [==============================] - 0s 10ms/step - loss: 7.2295e-04 - acc: 1.0000\n",
      "Epoch 1/1\n",
      "5/5 [==============================] - 0s 10ms/step - loss: 5.5467e-04 - acc: 1.0000\n",
      "Epoch 1/1\n",
      "5/5 [==============================] - 0s 14ms/step - loss: 47.2243 - model_1_loss: 2.3623e-04 - model_2_loss: 0.4722\n",
      "Epoch 1/1\n",
      "5/5 [==============================] - 0s 10ms/step - loss: 8.3643e-05 - acc: 1.0000\n",
      "Epoch 1/1\n",
      "5/5 [==============================] - 0s 10ms/step - loss: 8.6946e-05 - acc: 1.0000\n",
      "Epoch 1/1\n",
      "5/5 [==============================] - 0s 15ms/step - loss: 41.1803 - model_1_loss: 0.0040 - model_2_loss: 0.4118\n",
      "Epoch 1/1\n",
      "5/5 [==============================] - 0s 11ms/step - loss: 0.0011 - acc: 1.0000\n",
      "Epoch 1/1\n",
      "5/5 [==============================] - 0s 10ms/step - loss: 0.2874 - acc: 0.8000\n",
      "Epoch 1/1\n",
      "5/5 [==============================] - 0s 13ms/step - loss: 33.6966 - model_1_loss: 4.0628e-05 - model_2_loss: 0.3370\n",
      "Epoch 1/1\n",
      "5/5 [==============================] - 0s 9ms/step - loss: 1.3650e-05 - acc: 1.0000\n",
      "Epoch 1/1\n",
      "5/5 [==============================] - 0s 10ms/step - loss: 0.0625 - acc: 1.0000\n",
      "Epoch 1/1\n",
      "5/5 [==============================] - 0s 13ms/step - loss: 27.7470 - model_1_loss: 1.3122e-04 - model_2_loss: 0.2775\n",
      "Epoch 1/1\n",
      "5/5 [==============================] - 0s 9ms/step - loss: 8.1584e-05 - acc: 1.0000\n",
      "Epoch 1/1\n",
      "5/5 [==============================] - 0s 10ms/step - loss: 0.0202 - acc: 1.0000\n",
      "Epoch 1/1\n",
      "5/5 [==============================] - 0s 14ms/step - loss: 18.9975 - model_1_loss: 1.6374e-04 - model_2_loss: 0.1900\n",
      "Epoch 1/1\n",
      "5/5 [==============================] - 0s 10ms/step - loss: 1.0023e-04 - acc: 1.0000\n",
      "Epoch 1/1\n",
      "5/5 [==============================] - 0s 10ms/step - loss: 0.0283 - acc: 1.0000\n",
      "Epoch 1/1\n",
      "5/5 [==============================] - 0s 14ms/step - loss: 17.4342 - model_1_loss: 1.6634e-04 - model_2_loss: 0.1743\n",
      "Epoch 1/1\n",
      "5/5 [==============================] - 0s 11ms/step - loss: 8.7773e-05 - acc: 1.0000\n",
      "Epoch 1/1\n",
      "5/5 [==============================] - 0s 9ms/step - loss: 0.0067 - acc: 1.0000\n",
      "Epoch 1/1\n",
      "5/5 [==============================] - 0s 14ms/step - loss: 19.0707 - model_1_loss: 1.4338e-04 - model_2_loss: 0.1907\n",
      "Epoch 1/1\n",
      "5/5 [==============================] - 0s 10ms/step - loss: 6.6507e-05 - acc: 1.0000\n",
      "Epoch 1/1\n",
      "5/5 [==============================] - 0s 10ms/step - loss: 0.0046 - acc: 1.0000\n",
      "Epoch 1/1\n",
      "5/5 [==============================] - 0s 14ms/step - loss: 19.6665 - model_1_loss: 1.2827e-04 - model_2_loss: 0.1967\n",
      "Epoch 1/1\n",
      "5/5 [==============================] - 0s 10ms/step - loss: 5.9699e-05 - acc: 1.0000\n",
      "Epoch 1/1\n",
      "5/5 [==============================] - 0s 10ms/step - loss: 0.0013 - acc: 1.0000\n",
      "Epoch 1/1\n",
      "5/5 [==============================] - 0s 14ms/step - loss: 18.3139 - model_1_loss: 1.6664e-04 - model_2_loss: 0.1831\n",
      "Epoch 1/1\n",
      "5/5 [==============================] - 0s 10ms/step - loss: 7.1544e-05 - acc: 1.0000\n",
      "Epoch 1/1\n",
      "5/5 [==============================] - 0s 10ms/step - loss: 8.4635e-04 - acc: 1.0000\n",
      "Epoch 1/1\n",
      "5/5 [==============================] - 0s 13ms/step - loss: 22.6846 - model_1_loss: 1.2622e-04 - model_2_loss: 0.2268\n",
      "Epoch 1/1\n",
      "5/5 [==============================] - 0s 9ms/step - loss: 1.3963e-04 - acc: 1.0000\n",
      "Epoch 1/1\n",
      "5/5 [==============================] - 0s 11ms/step - loss: 6.1995e-04 - acc: 1.0000\n",
      "Epoch 1/1\n",
      "5/5 [==============================] - 0s 14ms/step - loss: 25.4795 - model_1_loss: 0.0011 - model_2_loss: 0.2548\n",
      "Epoch 1/1\n",
      "5/5 [==============================] - 0s 10ms/step - loss: 3.8303e-04 - acc: 1.0000\n",
      "Epoch 1/1\n",
      "5/5 [==============================] - 0s 10ms/step - loss: 5.3018e-04 - acc: 1.0000\n",
      "Epoch 1/1\n",
      "5/5 [==============================] - 0s 14ms/step - loss: 21.9608 - model_1_loss: 1.2747e-04 - model_2_loss: 0.2196\n",
      "Epoch 1/1\n",
      "5/5 [==============================] - 0s 10ms/step - loss: 4.2442e-04 - acc: 1.0000\n",
      "Epoch 1/1\n",
      "5/5 [==============================] - 0s 10ms/step - loss: 4.7114e-04 - acc: 1.0000\n",
      "Epoch 1/1\n",
      "5/5 [==============================] - 0s 14ms/step - loss: 13.3708 - model_1_loss: 2.0655e-04 - model_2_loss: 0.1337\n",
      "Epoch 1/1\n",
      "5/5 [==============================] - 0s 10ms/step - loss: 1.6410e-04 - acc: 1.0000\n",
      "Epoch 1/1\n",
      "5/5 [==============================] - 0s 10ms/step - loss: 4.5406e-04 - acc: 1.0000\n",
      "Epoch 1/1\n",
      "5/5 [==============================] - 0s 13ms/step - loss: 16.0948 - model_1_loss: 1.2062e-04 - model_2_loss: 0.1609\n"
     ]
    },
    {
     "name": "stdout",
     "output_type": "stream",
     "text": [
      "Epoch 1/1\n",
      "5/5 [==============================] - 0s 11ms/step - loss: 6.9587e-05 - acc: 1.0000\n",
      "Epoch 1/1\n",
      "5/5 [==============================] - 0s 10ms/step - loss: 4.3654e-04 - acc: 1.0000\n",
      "Epoch 1/1\n",
      "5/5 [==============================] - 0s 14ms/step - loss: 9.2071 - model_1_loss: 6.6295e-05 - model_2_loss: 0.0921\n",
      "Epoch 1/1\n",
      "5/5 [==============================] - 0s 10ms/step - loss: 3.9651e-05 - acc: 1.0000\n",
      "Epoch 1/1\n",
      "5/5 [==============================] - 0s 10ms/step - loss: 4.2185e-04 - acc: 1.0000\n",
      "Epoch 1/1\n",
      "5/5 [==============================] - 0s 15ms/step - loss: 8.0544 - model_1_loss: 5.4612e-05 - model_2_loss: 0.0805\n"
     ]
    }
   ],
   "source": [
    "import datetime\n",
    "\n",
    "\n",
    "epochs = 30\n",
    "\n",
    "start_time = datetime.datetime.now().replace(microsecond=0)\n",
    "for e in range(epochs):\n",
    "    discriminator.fit([buggy_inputs, fixed_inputs], np.ones(num_dps))\n",
    "    generated_ints = generate_fixed_ints(generator, buggy_inputs, max_fixed_len, token_int_map, int_token_map)\n",
    "    discriminator.fit([buggy_inputs, generated_ints], np.zeros(num_dps))\n",
    "    gan.fit([buggy_inputs, fixed_inputs], [np.ones(num_dps), fixed_outputs])\n",
    "end_time = datetime.datetime.now().replace(microsecond=0)"
   ]
  },
  {
   "cell_type": "code",
   "execution_count": 13,
   "metadata": {},
   "outputs": [
    {
     "name": "stdout",
     "output_type": "stream",
     "text": [
      "Training took (h:mm:ss) 0:00:31\n"
     ]
    }
   ],
   "source": [
    "print(\"Training took (h:mm:ss)\", end_time-start_time)\n",
    "\n",
    "def decode_ints(int_matrix, int_map):\n",
    "    gntd_codes = []\n",
    "    for ints in int_matrix:\n",
    "        code = [int_map[x] for x in ints if x != 0]\n",
    "        gntd_codes.append(code)\n",
    "        \n",
    "    return gntd_codes"
   ]
  },
  {
   "cell_type": "code",
   "execution_count": 14,
   "metadata": {},
   "outputs": [
    {
     "name": "stdout",
     "output_type": "stream",
     "text": [
      "Buggy code: ( ( x + y ) > = ( z - 1 ) )\n",
      "Fixed code: ( ( x + y ) > ( z - 1 ) )\n",
      "Genration:  ( ( x + y ) > ( z - 1 ) )\n",
      "=============\n",
      "Buggy code: ( a & & b )\n",
      "Fixed code: ( a & & ! ( b ) )\n",
      "Genration:  ( a & & ! ( b ) )\n",
      "=============\n",
      "Buggy code: ( c > 0 )\n",
      "Fixed code: ( c > 1 )\n",
      "Genration:  ( c > 1 )\n",
      "=============\n",
      "Buggy code: d\n",
      "Fixed code: ! ( d )\n",
      "Genration:  ! ( d )\n",
      "=============\n",
      "Buggy code: ( e > f )\n",
      "Fixed code: ( f > e )\n",
      "Genration:  ( f > e )\n",
      "=============\n"
     ]
    }
   ],
   "source": [
    "generated_ints = generate_fixed_ints(generator, buggy_inputs, max_fixed_len, token_int_map, int_token_map)\n",
    "generated_codes = decode_ints(generated_ints, int_token_map)\n",
    "for buggy, fixed, gnrtd in zip(buggy_codes, fixed_codes, generated_codes):\n",
    "    print('Buggy code:', ' '.join(buggy))\n",
    "    print('Fixed code:', ' '.join(fixed[1:-1]))\n",
    "    print('Genration: ', ' '.join(gnrtd[1:]))\n",
    "    print('=============')"
   ]
  },
  {
   "cell_type": "code",
   "execution_count": null,
   "metadata": {},
   "outputs": [],
   "source": []
  }
 ],
 "metadata": {
  "kernelspec": {
   "display_name": "Python [conda env:tf] *",
   "language": "python",
   "name": "conda-env-tf-py"
  },
  "language_info": {
   "codemirror_mode": {
    "name": "ipython",
    "version": 3
   },
   "file_extension": ".py",
   "mimetype": "text/x-python",
   "name": "python",
   "nbconvert_exporter": "python",
   "pygments_lexer": "ipython3",
   "version": "3.7.4"
  }
 },
 "nbformat": 4,
 "nbformat_minor": 2
}

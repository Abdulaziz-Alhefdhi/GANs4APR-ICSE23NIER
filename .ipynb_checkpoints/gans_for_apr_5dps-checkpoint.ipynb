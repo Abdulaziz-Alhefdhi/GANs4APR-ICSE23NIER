{
 "cells": [
  {
   "cell_type": "markdown",
   "metadata": {},
   "source": [
    "## Retrieve data"
   ]
  },
  {
   "cell_type": "code",
   "execution_count": 1,
   "metadata": {},
   "outputs": [
    {
     "name": "stderr",
     "output_type": "stream",
     "text": [
      "20828it [00:00, 67279.84it/s]\n",
      "100%|██████████| 41652/41652 [00:00<00:00, 3569554.78it/s]\n",
      "100%|██████████| 41652/41652 [00:00<00:00, 3515184.41it/s]\n",
      "100%|██████████| 20826/20826 [00:00<00:00, 57840.75it/s]\n",
      "100%|██████████| 20826/20826 [00:00<00:00, 59963.13it/s]"
     ]
    },
    {
     "name": "stdout",
     "output_type": "stream",
     "text": [
      "Number of processed files:-\n",
      "20826 buggy files + 20826 fixed files =  41652 files\n"
     ]
    },
    {
     "name": "stderr",
     "output_type": "stream",
     "text": [
      "\n"
     ]
    }
   ],
   "source": [
    "import os\n",
    "from collections import Counter\n",
    "from tqdm import tqdm\n",
    "\n",
    "\n",
    "data_dir = \"/media/aziz/Data/Aziz/data/gans_for_apr/\"\n",
    "\n",
    "# Collect paths to files\n",
    "file_paths = [root+'/'+name for root, dirs, files in tqdm(os.walk(data_dir)) for name in files]\n",
    "buggy_paths, fixed_paths = [], []\n",
    "buggy_paths = [f_path for f_path in tqdm(file_paths) if 'buggy' in f_path]\n",
    "fixed_paths = [f_path for f_path in tqdm(file_paths) if 'fixed' in f_path]\n",
    "\n",
    "# Collect file contents\n",
    "buggy_data = []\n",
    "for path in tqdm(buggy_paths):\n",
    "    with open(path, 'r', encoding='utf-8') as f:\n",
    "        buggy_data.append(f.read())\n",
    "fixed_data = []\n",
    "for path in tqdm(fixed_paths):\n",
    "    with open(path, 'r', encoding='utf-8') as f:\n",
    "        fixed_data.append(f.read())\n",
    "\n",
    "print('Number of processed files:-')\n",
    "print(len(buggy_data), 'buggy files +', len(fixed_data), 'fixed files = ', len(buggy_data)+len(fixed_data), 'files')"
   ]
  },
  {
   "cell_type": "markdown",
   "metadata": {},
   "source": [
    "## Clean data - Reduce noise"
   ]
  },
  {
   "cell_type": "markdown",
   "metadata": {},
   "source": [
    "### Remove comments"
   ]
  },
  {
   "cell_type": "code",
   "execution_count": 2,
   "metadata": {},
   "outputs": [
    {
     "name": "stderr",
     "output_type": "stream",
     "text": [
      "100%|██████████| 20826/20826 [00:00<00:00, 110948.84it/s]\n",
      "100%|██████████| 20826/20826 [00:00<00:00, 114349.53it/s]"
     ]
    },
    {
     "name": "stdout",
     "output_type": "stream",
     "text": [
      "Comments have been removed\n"
     ]
    },
    {
     "name": "stderr",
     "output_type": "stream",
     "text": [
      "\n"
     ]
    }
   ],
   "source": [
    "import re\n",
    "\n",
    "\n",
    "def remove_comments(code):\n",
    "    code = re.sub('(?s)/\\*.*?\\*/', '', code)\n",
    "    return re.sub('(//[^\\n]*)', '', code)\n",
    "\n",
    "\n",
    "buggy_no_comments = [remove_comments(x) for x in tqdm(buggy_data)]\n",
    "fixed_no_comments = [remove_comments(x) for x in tqdm(fixed_data)]\n",
    "print('Comments have been removed')"
   ]
  },
  {
   "cell_type": "markdown",
   "metadata": {},
   "source": [
    "### Remove unnecessary white spaces"
   ]
  },
  {
   "cell_type": "code",
   "execution_count": 3,
   "metadata": {},
   "outputs": [
    {
     "name": "stderr",
     "output_type": "stream",
     "text": [
      "100%|██████████| 20826/20826 [00:00<00:00, 30382.89it/s]\n",
      "100%|██████████| 20826/20826 [00:00<00:00, 30611.22it/s]"
     ]
    },
    {
     "name": "stdout",
     "output_type": "stream",
     "text": [
      "White spaces have been removed\n"
     ]
    },
    {
     "name": "stderr",
     "output_type": "stream",
     "text": [
      "\n"
     ]
    }
   ],
   "source": [
    "def remove_spaces(code):\n",
    "    '''This function removes excessive spaces and keeps necessary ones'''\n",
    "    code = code.splitlines()\n",
    "    result = []\n",
    "    for line in code:\n",
    "        line = line.split()\n",
    "        line = ' '.join(line)\n",
    "        if len(line) > 0:  # Remove empty lines\n",
    "            result.append(line)\n",
    "    \n",
    "    return '\\n'.join(result)\n",
    "\n",
    "\n",
    "buggy_no_spaces = [remove_spaces(x) for x in tqdm(buggy_no_comments)]\n",
    "fixed_no_spaces = [remove_spaces(x) for x in tqdm(fixed_no_comments)]\n",
    "print('White spaces have been removed')"
   ]
  },
  {
   "cell_type": "markdown",
   "metadata": {},
   "source": [
    "### Remove identical buggy and fixed codes"
   ]
  },
  {
   "cell_type": "code",
   "execution_count": 4,
   "metadata": {},
   "outputs": [
    {
     "name": "stdout",
     "output_type": "stream",
     "text": [
      "4514 code pairs have been removed\n",
      "Current # data points: 16312\n"
     ]
    }
   ],
   "source": [
    "buggy_texts, fixed_texts = [], []\n",
    "for buggy, fixed in zip(buggy_no_spaces, fixed_no_spaces):\n",
    "    if buggy != fixed:\n",
    "        buggy_texts.append(buggy)\n",
    "        fixed_texts.append(fixed)\n",
    "print(len(buggy_no_spaces)-len(buggy_texts), 'code pairs have been removed')\n",
    "print('Current # data points:', len(buggy_texts))"
   ]
  },
  {
   "cell_type": "markdown",
   "metadata": {},
   "source": [
    "### Remove duplicated pairs in the dataset"
   ]
  },
  {
   "cell_type": "code",
   "execution_count": 5,
   "metadata": {},
   "outputs": [
    {
     "name": "stdout",
     "output_type": "stream",
     "text": [
      "3663 code pairs have been removed\n",
      "Current # data points: 12649\n"
     ]
    }
   ],
   "source": [
    "text_pairs = [(x, y) for x, y in zip(buggy_texts, fixed_texts)]\n",
    "code_pairs = sorted(set(text_pairs))\n",
    "\n",
    "buggy_codes = [x[0] for x in code_pairs]\n",
    "fixed_codes = [x[1] for x in code_pairs]\n",
    "\n",
    "print(len(text_pairs)-len(code_pairs), 'code pairs have been removed')\n",
    "print('Current # data points:', len(buggy_codes))"
   ]
  },
  {
   "cell_type": "markdown",
   "metadata": {},
   "source": [
    "## Calculate Diffs"
   ]
  },
  {
   "cell_type": "code",
   "execution_count": 6,
   "metadata": {},
   "outputs": [
    {
     "name": "stderr",
     "output_type": "stream",
     "text": [
      "12649it [00:03, 3855.27it/s]\n"
     ]
    }
   ],
   "source": [
    "from difflib import ndiff\n",
    "\n",
    "\n",
    "initial_diffs = [list(ndiff(x.splitlines(), y.splitlines())) for x, y in tqdm(zip(buggy_codes, fixed_codes))]"
   ]
  },
  {
   "cell_type": "markdown",
   "metadata": {},
   "source": [
    "### Restrict to one-line difference"
   ]
  },
  {
   "cell_type": "code",
   "execution_count": 7,
   "metadata": {},
   "outputs": [
    {
     "name": "stderr",
     "output_type": "stream",
     "text": [
      "100%|██████████| 12649/12649 [00:00<00:00, 68665.20it/s]"
     ]
    },
    {
     "name": "stdout",
     "output_type": "stream",
     "text": [
      "309 code pairs have been removed\n",
      "Current # data points: 12340\n"
     ]
    },
    {
     "name": "stderr",
     "output_type": "stream",
     "text": [
      "\n"
     ]
    }
   ],
   "source": [
    "one_line_diffs = []\n",
    "for diff in tqdm(initial_diffs):\n",
    "    if sum([1 for x in diff if x.startswith('-')]) > 1 or sum([1 for x in diff if x.startswith('+')]) > 1:\n",
    "        continue\n",
    "    one_line_diffs.append(diff)\n",
    "\n",
    "print(len(initial_diffs)-len(one_line_diffs), 'code pairs have been removed')\n",
    "print('Current # data points:', len(one_line_diffs))"
   ]
  },
  {
   "cell_type": "markdown",
   "metadata": {},
   "source": [
    "### Restrict to modified lines (exclude added/deleted lines)"
   ]
  },
  {
   "cell_type": "code",
   "execution_count": 8,
   "metadata": {},
   "outputs": [
    {
     "name": "stderr",
     "output_type": "stream",
     "text": [
      "100%|██████████| 12340/12340 [00:00<00:00, 75732.06it/s]"
     ]
    },
    {
     "name": "stdout",
     "output_type": "stream",
     "text": [
      "6813 code pairs have been removed\n",
      "Current # data points: 5527\n"
     ]
    },
    {
     "name": "stderr",
     "output_type": "stream",
     "text": [
      "\n"
     ]
    }
   ],
   "source": [
    "diffs = []\n",
    "for diff in tqdm(one_line_diffs):\n",
    "    for i, x in enumerate(diff):\n",
    "        if x.startswith('+') and diff[i-1].startswith('-'):\n",
    "            diffs.append((diff[i-1][2:], x[2:]))\n",
    "\n",
    "print(len(one_line_diffs)-len(diffs), 'code pairs have been removed')\n",
    "print('Current # data points:', len(diffs))"
   ]
  },
  {
   "cell_type": "markdown",
   "metadata": {},
   "source": [
    "#### Shuffle and keep only 5 data points"
   ]
  },
  {
   "cell_type": "code",
   "execution_count": 9,
   "metadata": {},
   "outputs": [],
   "source": [
    "from random import seed, sample\n",
    "\n",
    "\n",
    "seed(30)\n",
    "shuf_diffs = sample(diffs, k=len(diffs))\n",
    "final_diffs = shuf_diffs[:5]\n",
    "\n",
    "buggy_data = [x[0] for x in final_diffs]\n",
    "fixed_data = [x[1] for x in final_diffs]\n",
    "\n",
    "\n",
    "# with open('buggy_data.txt', \"w\", encoding='utf-8') as file:\n",
    "#     for bug in buggy_data:\n",
    "#         file.write(bug+'\\n')\n",
    "# with open('fixed_data.txt', \"w\", encoding='utf-8') as file:\n",
    "#     for fix in fixed_data:\n",
    "#         file.write(fix+'\\n')\n",
    "# print('Dataset has been written to disk')"
   ]
  },
  {
   "cell_type": "markdown",
   "metadata": {},
   "source": [
    "# The Experiment"
   ]
  },
  {
   "cell_type": "code",
   "execution_count": 10,
   "metadata": {},
   "outputs": [],
   "source": [
    "# with open('buggy_data.txt', 'r', encoding='utf-8') as f:\n",
    "#     buggy_data = f.read().split(\"\\n\")\n",
    "# with open('fixed_data.txt', 'r', encoding='utf-8') as f:\n",
    "#     fixed_data = f.read().split(\"\\n\")\n",
    "# buggy_data = buggy_data[:-1]\n",
    "# fixed_data = fixed_data[:-1]\n",
    "\n",
    "buggy_codes = [list(x) for x in buggy_data]\n",
    "fixed_codes = [['<soc>']+list(x)+['<eoc>'] for x in fixed_data]"
   ]
  },
  {
   "cell_type": "code",
   "execution_count": 11,
   "metadata": {},
   "outputs": [
    {
     "name": "stdout",
     "output_type": "stream",
     "text": [
      "Before vectorisation:-\n",
      "dest = _dpMgr.planDeployment(vmProfile, plan, exclude);\n",
      "dest = _dpMgr.planDeployment(vmProfile, plan, exclude, null);\n",
      "====================\n",
      "After vectorisation:-\n",
      "['d', 'e', 's', 't', ' ', '=', ' ', '_', 'd', 'p', 'M', 'g', 'r', '.', 'p', 'l', 'a', 'n', 'D', 'e', 'p', 'l', 'o', 'y', 'm', 'e', 'n', 't', '(', 'v', 'm', 'P', 'r', 'o', 'f', 'i', 'l', 'e', ',', ' ', 'p', 'l', 'a', 'n', ',', ' ', 'e', 'x', 'c', 'l', 'u', 'd', 'e', ')', ';']\n",
      "['<soc>', 'd', 'e', 's', 't', ' ', '=', ' ', '_', 'd', 'p', 'M', 'g', 'r', '.', 'p', 'l', 'a', 'n', 'D', 'e', 'p', 'l', 'o', 'y', 'm', 'e', 'n', 't', '(', 'v', 'm', 'P', 'r', 'o', 'f', 'i', 'l', 'e', ',', ' ', 'p', 'l', 'a', 'n', ',', ' ', 'e', 'x', 'c', 'l', 'u', 'd', 'e', ',', ' ', 'n', 'u', 'l', 'l', ')', ';', '<eoc>']\n"
     ]
    }
   ],
   "source": [
    "print(\"Before vectorisation:-\")\n",
    "print(buggy_data[2])\n",
    "print(fixed_data[2])\n",
    "print(\"====================\")\n",
    "print(\"After vectorisation:-\")\n",
    "print(buggy_codes[2])\n",
    "print(fixed_codes[2])"
   ]
  },
  {
   "cell_type": "code",
   "execution_count": 12,
   "metadata": {},
   "outputs": [],
   "source": [
    "vocab = set([x for y in buggy_codes for x in y]+[x for y in fixed_codes for x in y])\n",
    "token_int_map = dict([(token, i+1) for i, token in enumerate(vocab)])\n",
    "vocab.add('<pad/unknown>')\n",
    "token_int_map['<pad/unknown>'] = 0\n",
    "int_token_map = dict((i, token) for token, i in token_int_map.items())"
   ]
  },
  {
   "cell_type": "code",
   "execution_count": 13,
   "metadata": {},
   "outputs": [
    {
     "name": "stdout",
     "output_type": "stream",
     "text": [
      "{1: 'w', 2: '<eoc>', 3: 's', 4: '3', 5: 'p', 6: 'J', 7: 'u', 8: '+', 9: 'g', 10: 'G', 11: '_', 12: 'L', 13: 'k', 14: 'f', 15: ';', 16: 'n', 17: 'S', 18: 'O', 19: 'E', 20: '(', 21: '6', 22: 't', 23: 'd', 24: 'x', 25: 'l', 26: 'y', 27: 'z', 28: '|', 29: 'v', 30: 'M', 31: 'm', 32: '{', 33: 'e', 34: ')', 35: '0', 36: ' ', 37: 'P', 38: 'a', 39: '.', 40: 'D', 41: '<soc>', 42: 'o', 43: '!', 44: 'r', 45: 'b', 46: '-', 47: 'c', 48: 'q', 49: ',', 50: '&', 51: '=', 52: 'i', 53: 'T', 54: 'h', 55: '1', 56: '\"', 0: '<pad/unknown>'}\n"
     ]
    }
   ],
   "source": [
    "print(int_token_map)"
   ]
  },
  {
   "cell_type": "code",
   "execution_count": 14,
   "metadata": {},
   "outputs": [],
   "source": [
    "vocab_size = len(vocab)\n",
    "max_buggy_len = max([len(txt) for txt in buggy_codes])\n",
    "max_fixed_len = max([len(txt) for txt in fixed_codes])\n",
    "num_dps = len(fixed_codes)"
   ]
  },
  {
   "cell_type": "code",
   "execution_count": 15,
   "metadata": {
    "scrolled": false
   },
   "outputs": [
    {
     "name": "stdout",
     "output_type": "stream",
     "text": [
      "Number of data points: 5\n",
      "Vocabulary size: 57\n",
      "Max length in buggy codes: 68\n",
      "Max length in fixed codes: 123\n"
     ]
    }
   ],
   "source": [
    "print('Number of data points:', num_dps)\n",
    "print('Vocabulary size:', vocab_size)\n",
    "print('Max length in buggy codes:', max_buggy_len)\n",
    "print('Max length in fixed codes:', max_fixed_len)"
   ]
  },
  {
   "cell_type": "code",
   "execution_count": 16,
   "metadata": {},
   "outputs": [],
   "source": [
    "import numpy as np\n",
    "\n",
    "buggy_inputs =  np.zeros((num_dps, max_buggy_len), dtype='int32')\n",
    "fixed_inputs =  np.zeros((num_dps, max_fixed_len), dtype='int32')\n",
    "fixed_outputs = np.zeros((num_dps, max_fixed_len, vocab_size), dtype='float32')\n",
    "\n",
    "for i, (buggy, fixed) in enumerate(zip(buggy_codes, fixed_codes)):\n",
    "    for t, token in enumerate(buggy):\n",
    "        buggy_inputs[i, t] = token_int_map[token]\n",
    "    for t, token in enumerate(fixed):\n",
    "        int_value = token_int_map[token]\n",
    "        fixed_inputs[i, t] = int_value\n",
    "        if t > 0:\n",
    "            fixed_outputs[i, t-1, int_value] = 1.\n",
    "    fixed_outputs[i, t, 0] = 1."
   ]
  },
  {
   "cell_type": "code",
   "execution_count": 17,
   "metadata": {},
   "outputs": [
    {
     "name": "stderr",
     "output_type": "stream",
     "text": [
      "Using TensorFlow backend.\n"
     ]
    }
   ],
   "source": [
    "from keras.layers import Input, Concatenate, Embedding, LSTM, Dense, dot, Activation, concatenate, Lambda\n",
    "from keras.models import Model\n",
    "from keras.backend import argmax, cast\n",
    "\n",
    "\n",
    "def build_discriminator(dimension, v_size, buggy_len, fixed_len):\n",
    "    buggy_input_layer = Input(shape=(buggy_len,))\n",
    "    fixed_input_layer = Input(shape=(fixed_len,))\n",
    "    concatted = Concatenate()([buggy_input_layer, fixed_input_layer])\n",
    "    embed_lay = Embedding(v_size, dimension, mask_zero=True)(concatted)\n",
    "    x = LSTM(dimension)(embed_lay)\n",
    "    out = Dense(1, activation='sigmoid')(x)\n",
    "    disc = Model([buggy_input_layer, fixed_input_layer], out)\n",
    "    disc.compile(loss='binary_crossentropy', optimizer='adam', metrics=['accuracy'], loss_weights=[0.5])\n",
    "    \n",
    "    return disc\n",
    "\n",
    "\n",
    "def build_generator(dimension, v_size, drop_prob, buggy_len, fixed_len):\n",
    "    # Encoder\n",
    "    buggy_input_layer = Input(shape=(buggy_len,))\n",
    "    enc_embed_lay = Embedding(v_size, dimension, mask_zero=True)(buggy_input_layer)\n",
    "    encoder_outputs, state_h, state_c = LSTM(dimension, return_sequences=True, return_state=True, dropout=drop_prob, recurrent_dropout=drop_prob)(enc_embed_lay)\n",
    "    # Decoder\n",
    "    fixed_input_layer = Input(shape=(fixed_len,))\n",
    "    dec_embed_lay = Embedding(v_size, dimension, mask_zero=True)(fixed_input_layer)\n",
    "    decoder_outputs = LSTM(dimension, return_sequences=True, dropout=drop_prob, recurrent_dropout=drop_prob)(dec_embed_lay, initial_state=[state_h, state_c])\n",
    "    # Attention\n",
    "    attention = dot([decoder_outputs, encoder_outputs], axes=[2, 2])\n",
    "    attention = Activation('softmax', name='attention')(attention)\n",
    "    context = dot([attention, encoder_outputs], axes=[2, 1])\n",
    "    decoder_combined_context = concatenate([context, decoder_outputs])\n",
    "    attention_context_output = Dense(dimension, activation=\"tanh\")(decoder_combined_context)\n",
    "    # Model output\n",
    "    model_output = Dense(v_size, activation=\"softmax\")(attention_context_output)\n",
    "    # Build model\n",
    "    gen = Model([buggy_input_layer, fixed_input_layer], model_output)\n",
    "    \n",
    "    return gen\n",
    "\n",
    "\n",
    "def build_gan(gen, disc, buggy_len, fixed_len):\n",
    "    disc.trainable = False\n",
    "    buggy_input_layer = Input(shape=(buggy_len,))\n",
    "    fixed_input_layer = Input(shape=(fixed_len,))\n",
    "    gen_out = gen([buggy_input_layer, fixed_input_layer])\n",
    "    argmax_layer = Lambda(lambda x: cast(argmax(x, axis=2), dtype='float32'))\n",
    "    disc_out = disc([buggy_input_layer, argmax_layer(gen_out)])\n",
    "    gan = Model([buggy_input_layer, fixed_input_layer], [disc_out, gen_out])\n",
    "    # compile model\n",
    "    gan.compile(loss=['binary_crossentropy', 'categorical_crossentropy'], optimizer='rmsprop', loss_weights=[1, 100])\n",
    "    \n",
    "    return gan"
   ]
  },
  {
   "cell_type": "code",
   "execution_count": 18,
   "metadata": {
    "scrolled": false
   },
   "outputs": [
    {
     "name": "stderr",
     "output_type": "stream",
     "text": [
      "WARNING: Logging before flag parsing goes to stderr.\n",
      "W0922 13:50:34.231435 139815686342400 deprecation_wrapper.py:119] From /home/aziz/anaconda3/envs/tf/lib/python3.7/site-packages/keras/backend/tensorflow_backend.py:74: The name tf.get_default_graph is deprecated. Please use tf.compat.v1.get_default_graph instead.\n",
      "\n",
      "W0922 13:50:34.241297 139815686342400 deprecation_wrapper.py:119] From /home/aziz/anaconda3/envs/tf/lib/python3.7/site-packages/keras/backend/tensorflow_backend.py:517: The name tf.placeholder is deprecated. Please use tf.compat.v1.placeholder instead.\n",
      "\n",
      "W0922 13:50:34.245510 139815686342400 deprecation_wrapper.py:119] From /home/aziz/anaconda3/envs/tf/lib/python3.7/site-packages/keras/backend/tensorflow_backend.py:4138: The name tf.random_uniform is deprecated. Please use tf.random.uniform instead.\n",
      "\n",
      "W0922 13:50:35.136203 139815686342400 deprecation.py:323] From /home/aziz/anaconda3/envs/tf/lib/python3.7/site-packages/keras/backend/tensorflow_backend.py:2974: add_dispatch_support.<locals>.wrapper (from tensorflow.python.ops.array_ops) is deprecated and will be removed in a future version.\n",
      "Instructions for updating:\n",
      "Use tf.where in 2.0, which has the same broadcast rule as np.where\n",
      "W0922 13:50:35.168838 139815686342400 deprecation_wrapper.py:119] From /home/aziz/anaconda3/envs/tf/lib/python3.7/site-packages/keras/optimizers.py:790: The name tf.train.Optimizer is deprecated. Please use tf.compat.v1.train.Optimizer instead.\n",
      "\n",
      "W0922 13:50:35.183601 139815686342400 deprecation_wrapper.py:119] From /home/aziz/anaconda3/envs/tf/lib/python3.7/site-packages/keras/backend/tensorflow_backend.py:3376: The name tf.log is deprecated. Please use tf.math.log instead.\n",
      "\n",
      "W0922 13:50:36.179842 139815686342400 deprecation_wrapper.py:119] From /home/aziz/anaconda3/envs/tf/lib/python3.7/site-packages/keras/backend/tensorflow_backend.py:133: The name tf.placeholder_with_default is deprecated. Please use tf.compat.v1.placeholder_with_default instead.\n",
      "\n",
      "W0922 13:50:36.185219 139815686342400 deprecation.py:506] From /home/aziz/anaconda3/envs/tf/lib/python3.7/site-packages/keras/backend/tensorflow_backend.py:3445: calling dropout (from tensorflow.python.ops.nn_ops) with keep_prob is deprecated and will be removed in a future version.\n",
      "Instructions for updating:\n",
      "Please use `rate` instead of `keep_prob`. Rate should be set to `rate = 1 - keep_prob`.\n"
     ]
    },
    {
     "name": "stdout",
     "output_type": "stream",
     "text": [
      "__________________________________________________________________________________________________\n",
      "Layer (type)                    Output Shape         Param #     Connected to                     \n",
      "==================================================================================================\n",
      "input_5 (InputLayer)            (None, 68)           0                                            \n",
      "__________________________________________________________________________________________________\n",
      "input_6 (InputLayer)            (None, 123)          0                                            \n",
      "__________________________________________________________________________________________________\n",
      "model_2 (Model)                 (None, 123, 57)      19058745    input_5[0][0]                    \n",
      "                                                                 input_6[0][0]                    \n",
      "__________________________________________________________________________________________________\n",
      "lambda_1 (Lambda)               (None, 123)          0           model_2[1][0]                    \n",
      "__________________________________________________________________________________________________\n",
      "model_1 (Model)                 (None, 1)            8452097     input_5[0][0]                    \n",
      "                                                                 lambda_1[0][0]                   \n",
      "==================================================================================================\n",
      "Total params: 27,510,842\n",
      "Trainable params: 19,058,745\n",
      "Non-trainable params: 8,452,097\n",
      "__________________________________________________________________________________________________\n"
     ]
    },
    {
     "data": {
      "image/png": "[encoded data removed]",
      "text/plain": [
       "<IPython.core.display.Image object>"
      ]
     },
     "execution_count": 18,
     "metadata": {},
     "output_type": "execute_result"
    }
   ],
   "source": [
    "%matplotlib inline\n",
    "from keras.utils.vis_utils import plot_model\n",
    "from IPython.display import Image\n",
    "\n",
    "\n",
    "latent_dim = 1024\n",
    "dropout = 0.2\n",
    "\n",
    "discriminator = build_discriminator(latent_dim, vocab_size, max_buggy_len, max_fixed_len)\n",
    "plot_model(discriminator, to_file='discriminator_apr.png', show_shapes=True, show_layer_names=True)\n",
    "# Image('discriminator_model_plot.png')\n",
    "\n",
    "generator = build_generator(latent_dim, vocab_size, dropout, max_buggy_len, max_fixed_len)\n",
    "plot_model(generator, to_file='generator_apr.png', show_shapes=True, show_layer_names=True)\n",
    "# Image('generator_model_plot.png')\n",
    "\n",
    "gan = build_gan(generator, discriminator, max_buggy_len, max_fixed_len)\n",
    "plot_model(gan, to_file='gan_model_apr.png', show_shapes=True, show_layer_names=True)\n",
    "gan.summary()\n",
    "Image('gan_model_apr.png')"
   ]
  },
  {
   "cell_type": "code",
   "execution_count": 19,
   "metadata": {},
   "outputs": [],
   "source": [
    "def generate_fixed_ints(gen, bugs, fixed_len, token_map, int_map):\n",
    "    gntd_ints = np.zeros(shape=(len(bugs), fixed_len))\n",
    "    gntd_ints[:, 0] = token_map[\"<soc>\"]\n",
    "    for buggy, generated in zip(bugs, gntd_ints):\n",
    "        buggy_input = buggy[np.newaxis]\n",
    "        gntd_in_out = generated[np.newaxis]\n",
    "        for i in range(1, fixed_len):\n",
    "            prediction = gen.predict([buggy_input, gntd_in_out]).argmax(axis=2)\n",
    "            if int_map[prediction[:, i][0]] == \"<eoc>\":\n",
    "                break\n",
    "            generated[i] = prediction[:, i]\n",
    "    \n",
    "    return gntd_ints"
   ]
  },
  {
   "cell_type": "code",
   "execution_count": 20,
   "metadata": {
    "scrolled": true
   },
   "outputs": [
    {
     "name": "stderr",
     "output_type": "stream",
     "text": [
      "  0%|          | 0/30 [00:00<?, ?it/s]/home/aziz/anaconda3/envs/tf/lib/python3.7/site-packages/keras/engine/training.py:490: UserWarning: Discrepancy between trainable weights and collected trainable weights, did you set `model.trainable` without calling `model.compile` after ?\n",
      "  'Discrepancy between trainable weights and collected trainable'\n"
     ]
    },
    {
     "name": "stdout",
     "output_type": "stream",
     "text": [
      "Epoch 1/1\n",
      "5/5 [==============================] - 3s 676ms/step - loss: 0.3486 - acc: 0.0000e+00\n"
     ]
    },
    {
     "name": "stderr",
     "output_type": "stream",
     "text": [
      "/home/aziz/anaconda3/envs/tf/lib/python3.7/site-packages/keras/engine/training.py:490: UserWarning: Discrepancy between trainable weights and collected trainable weights, did you set `model.trainable` without calling `model.compile` after ?\n",
      "  'Discrepancy between trainable weights and collected trainable'\n"
     ]
    },
    {
     "name": "stdout",
     "output_type": "stream",
     "text": [
      "Epoch 1/1\n",
      "5/5 [==============================] - 0s 51ms/step - loss: 0.3755 - acc: 0.0000e+00\n",
      "Epoch 1/1\n",
      "5/5 [==============================] - 2s 475ms/step - loss: 404.7260 - model_1_loss: 0.6356 - model_2_loss: 4.0409\n"
     ]
    },
    {
     "name": "stderr",
     "output_type": "stream",
     "text": [
      "\r",
      "  3%|▎         | 1/30 [00:58<28:10, 58.31s/it]"
     ]
    },
    {
     "name": "stdout",
     "output_type": "stream",
     "text": [
      "Epoch 1/1\n"
     ]
    },
    {
     "name": "stderr",
     "output_type": "stream",
     "text": [
      "/home/aziz/anaconda3/envs/tf/lib/python3.7/site-packages/keras/engine/training.py:490: UserWarning: Discrepancy between trainable weights and collected trainable weights, did you set `model.trainable` without calling `model.compile` after ?\n",
      "  'Discrepancy between trainable weights and collected trainable'\n"
     ]
    },
    {
     "name": "stdout",
     "output_type": "stream",
     "text": [
      "5/5 [==============================] - 0s 54ms/step - loss: 0.2302 - acc: 1.0000\n",
      "Epoch 1/1\n",
      "5/5 [==============================] - 0s 54ms/step - loss: 0.5647 - acc: 0.0000e+00\n",
      "Epoch 1/1\n",
      "5/5 [==============================] - 0s 71ms/step - loss: 360.4501 - model_1_loss: 0.8115 - model_2_loss: 3.5964\n"
     ]
    },
    {
     "name": "stderr",
     "output_type": "stream",
     "text": [
      "\r",
      "  7%|▋         | 2/30 [01:48<26:05, 55.90s/it]"
     ]
    },
    {
     "name": "stdout",
     "output_type": "stream",
     "text": [
      "Epoch 1/1\n",
      "5/5 [==============================] - 0s 54ms/step - loss: 0.1800 - acc: 1.0000\n",
      "Epoch 1/1\n",
      "5/5 [==============================] - 0s 53ms/step - loss: 0.2219 - acc: 1.0000\n",
      "Epoch 1/1\n",
      "5/5 [==============================] - 0s 71ms/step - loss: 1033.6814 - model_1_loss: 1.5021 - model_2_loss: 10.3218\n"
     ]
    },
    {
     "name": "stderr",
     "output_type": "stream",
     "text": [
      "\r",
      " 10%|█         | 3/30 [02:39<24:25, 54.28s/it]"
     ]
    },
    {
     "name": "stdout",
     "output_type": "stream",
     "text": [
      "Epoch 1/1\n",
      "5/5 [==============================] - 0s 55ms/step - loss: 0.1567 - acc: 1.0000\n",
      "Epoch 1/1\n",
      "5/5 [==============================] - 0s 54ms/step - loss: 0.4169 - acc: 0.0000e+00\n",
      "Epoch 1/1\n",
      "5/5 [==============================] - 0s 74ms/step - loss: 1036.6902 - model_1_loss: 0.9308 - model_2_loss: 10.3576\n"
     ]
    },
    {
     "name": "stderr",
     "output_type": "stream",
     "text": [
      "\r",
      " 13%|█▎        | 4/30 [03:29<23:00, 53.09s/it]"
     ]
    },
    {
     "name": "stdout",
     "output_type": "stream",
     "text": [
      "Epoch 1/1\n",
      "5/5 [==============================] - 0s 56ms/step - loss: 0.1228 - acc: 1.0000\n",
      "Epoch 1/1\n",
      "5/5 [==============================] - 0s 53ms/step - loss: 0.3811 - acc: 0.0000e+00\n",
      "Epoch 1/1\n",
      "5/5 [==============================] - 0s 72ms/step - loss: 857.0901 - model_1_loss: 0.8863 - model_2_loss: 8.5620\n"
     ]
    },
    {
     "name": "stderr",
     "output_type": "stream",
     "text": [
      "\r",
      " 17%|█▋        | 5/30 [04:19<21:46, 52.28s/it]"
     ]
    },
    {
     "name": "stdout",
     "output_type": "stream",
     "text": [
      "Epoch 1/1\n",
      "5/5 [==============================] - 0s 53ms/step - loss: 0.0906 - acc: 1.0000\n",
      "Epoch 1/1\n",
      "5/5 [==============================] - 0s 54ms/step - loss: 0.3577 - acc: 0.0000e+00\n",
      "Epoch 1/1\n",
      "5/5 [==============================] - 0s 71ms/step - loss: 789.3151 - model_1_loss: 1.1222 - model_2_loss: 7.8819\n"
     ]
    },
    {
     "name": "stderr",
     "output_type": "stream",
     "text": [
      "\r",
      " 20%|██        | 6/30 [05:10<20:39, 51.66s/it]"
     ]
    },
    {
     "name": "stdout",
     "output_type": "stream",
     "text": [
      "Epoch 1/1\n",
      "5/5 [==============================] - 0s 53ms/step - loss: 0.0612 - acc: 1.0000\n",
      "Epoch 1/1\n",
      "5/5 [==============================] - 0s 52ms/step - loss: 0.3799 - acc: 0.0000e+00\n",
      "Epoch 1/1\n",
      "5/5 [==============================] - 0s 70ms/step - loss: 695.7437 - model_1_loss: 1.2994 - model_2_loss: 6.9444\n"
     ]
    },
    {
     "name": "stderr",
     "output_type": "stream",
     "text": [
      "\r",
      " 23%|██▎       | 7/30 [06:00<19:38, 51.24s/it]"
     ]
    },
    {
     "name": "stdout",
     "output_type": "stream",
     "text": [
      "Epoch 1/1\n",
      "5/5 [==============================] - 0s 53ms/step - loss: 0.0378 - acc: 1.0000\n",
      "Epoch 1/1\n",
      "5/5 [==============================] - 0s 53ms/step - loss: 0.0496 - acc: 1.0000\n",
      "Epoch 1/1\n",
      "5/5 [==============================] - 0s 70ms/step - loss: 650.2051 - model_1_loss: 3.8556 - model_2_loss: 6.4635\n"
     ]
    },
    {
     "name": "stderr",
     "output_type": "stream",
     "text": [
      "\r",
      " 27%|██▋       | 8/30 [06:50<18:40, 50.91s/it]"
     ]
    },
    {
     "name": "stdout",
     "output_type": "stream",
     "text": [
      "Epoch 1/1\n",
      "5/5 [==============================] - 0s 54ms/step - loss: 0.0236 - acc: 1.0000\n",
      "Epoch 1/1\n",
      "5/5 [==============================] - 0s 53ms/step - loss: 2.3668 - acc: 0.0000e+00\n",
      "Epoch 1/1\n",
      "5/5 [==============================] - 0s 71ms/step - loss: 608.8936 - model_1_loss: 0.4759 - model_2_loss: 6.0842\n"
     ]
    },
    {
     "name": "stderr",
     "output_type": "stream",
     "text": [
      "\r",
      " 30%|███       | 9/30 [07:40<17:45, 50.73s/it]"
     ]
    },
    {
     "name": "stdout",
     "output_type": "stream",
     "text": [
      "Epoch 1/1\n",
      "5/5 [==============================] - 0s 53ms/step - loss: 0.0114 - acc: 1.0000\n",
      "Epoch 1/1\n",
      "5/5 [==============================] - 0s 51ms/step - loss: 0.0800 - acc: 1.0000\n",
      "Epoch 1/1\n",
      "5/5 [==============================] - 0s 74ms/step - loss: 593.4248 - model_1_loss: 1.7535 - model_2_loss: 5.9167\n"
     ]
    },
    {
     "name": "stderr",
     "output_type": "stream",
     "text": [
      "\r",
      " 33%|███▎      | 10/30 [08:30<16:51, 50.59s/it]"
     ]
    },
    {
     "name": "stdout",
     "output_type": "stream",
     "text": [
      "Epoch 1/1\n",
      "5/5 [==============================] - 0s 53ms/step - loss: 0.0104 - acc: 1.0000\n",
      "Epoch 1/1\n",
      "5/5 [==============================] - 0s 53ms/step - loss: 0.4692 - acc: 0.2000\n",
      "Epoch 1/1\n",
      "5/5 [==============================] - 0s 71ms/step - loss: 577.1407 - model_1_loss: 1.0104 - model_2_loss: 5.7613\n"
     ]
    },
    {
     "name": "stderr",
     "output_type": "stream",
     "text": [
      "\r",
      " 37%|███▋      | 11/30 [09:21<15:59, 50.52s/it]"
     ]
    },
    {
     "name": "stdout",
     "output_type": "stream",
     "text": [
      "Epoch 1/1\n",
      "5/5 [==============================] - 0s 56ms/step - loss: 0.0241 - acc: 1.0000\n",
      "Epoch 1/1\n",
      "5/5 [==============================] - 0s 55ms/step - loss: 0.1008 - acc: 1.0000\n",
      "Epoch 1/1\n",
      "5/5 [==============================] - 0s 70ms/step - loss: 567.6517 - model_1_loss: 1.7684 - model_2_loss: 5.6588\n"
     ]
    },
    {
     "name": "stderr",
     "output_type": "stream",
     "text": [
      "\r",
      " 40%|████      | 12/30 [10:11<15:09, 50.51s/it]"
     ]
    },
    {
     "name": "stdout",
     "output_type": "stream",
     "text": [
      "Epoch 1/1\n",
      "5/5 [==============================] - 0s 54ms/step - loss: 0.0681 - acc: 1.0000\n",
      "Epoch 1/1\n",
      "5/5 [==============================] - 0s 53ms/step - loss: 0.1685 - acc: 1.0000\n",
      "Epoch 1/1\n",
      "5/5 [==============================] - 0s 74ms/step - loss: 557.7672 - model_1_loss: 1.3537 - model_2_loss: 5.5641\n"
     ]
    },
    {
     "name": "stderr",
     "output_type": "stream",
     "text": [
      "\r",
      " 43%|████▎     | 13/30 [11:02<14:17, 50.47s/it]"
     ]
    },
    {
     "name": "stdout",
     "output_type": "stream",
     "text": [
      "Epoch 1/1\n",
      "5/5 [==============================] - 0s 53ms/step - loss: 0.0465 - acc: 1.0000\n",
      "Epoch 1/1\n",
      "5/5 [==============================] - 0s 54ms/step - loss: 0.0744 - acc: 1.0000\n",
      "Epoch 1/1\n",
      "5/5 [==============================] - 0s 73ms/step - loss: 551.7389 - model_1_loss: 2.1302 - model_2_loss: 5.4961\n"
     ]
    },
    {
     "name": "stderr",
     "output_type": "stream",
     "text": [
      "\r",
      " 47%|████▋     | 14/30 [11:52<13:27, 50.45s/it]"
     ]
    },
    {
     "name": "stdout",
     "output_type": "stream",
     "text": [
      "Epoch 1/1\n",
      "5/5 [==============================] - 0s 53ms/step - loss: 0.0596 - acc: 1.0000\n",
      "Epoch 1/1\n",
      "5/5 [==============================] - 0s 53ms/step - loss: 0.1091 - acc: 1.0000\n",
      "Epoch 1/1\n",
      "5/5 [==============================] - 0s 71ms/step - loss: 538.6233 - model_1_loss: 1.7922 - model_2_loss: 5.3683\n"
     ]
    },
    {
     "name": "stderr",
     "output_type": "stream",
     "text": [
      "\r",
      " 50%|█████     | 15/30 [12:42<12:35, 50.34s/it]"
     ]
    },
    {
     "name": "stdout",
     "output_type": "stream",
     "text": [
      "Epoch 1/1\n",
      "5/5 [==============================] - 0s 54ms/step - loss: 0.0619 - acc: 1.0000\n",
      "Epoch 1/1\n",
      "5/5 [==============================] - 0s 53ms/step - loss: 0.0327 - acc: 1.0000\n",
      "Epoch 1/1\n",
      "5/5 [==============================] - 0s 73ms/step - loss: 533.7571 - model_1_loss: 3.2267 - model_2_loss: 5.3053\n"
     ]
    },
    {
     "name": "stderr",
     "output_type": "stream",
     "text": [
      "\r",
      " 53%|█████▎    | 16/30 [13:33<11:44, 50.36s/it]"
     ]
    },
    {
     "name": "stdout",
     "output_type": "stream",
     "text": [
      "Epoch 1/1\n",
      "5/5 [==============================] - 0s 56ms/step - loss: 0.0506 - acc: 1.0000\n",
      "Epoch 1/1\n",
      "5/5 [==============================] - 0s 52ms/step - loss: 0.0466 - acc: 1.0000\n",
      "Epoch 1/1\n",
      "5/5 [==============================] - 0s 72ms/step - loss: 530.2085 - model_1_loss: 2.8679 - model_2_loss: 5.2734\n"
     ]
    },
    {
     "name": "stderr",
     "output_type": "stream",
     "text": [
      "\r",
      " 57%|█████▋    | 17/30 [14:24<10:57, 50.60s/it]"
     ]
    },
    {
     "name": "stdout",
     "output_type": "stream",
     "text": [
      "Epoch 1/1\n",
      "5/5 [==============================] - 0s 52ms/step - loss: 0.0468 - acc: 1.0000\n",
      "Epoch 1/1\n",
      "5/5 [==============================] - 0s 53ms/step - loss: 0.0040 - acc: 1.0000\n",
      "Epoch 1/1\n",
      "5/5 [==============================] - 0s 73ms/step - loss: 527.3343 - model_1_loss: 5.3089 - model_2_loss: 5.2203\n"
     ]
    },
    {
     "name": "stderr",
     "output_type": "stream",
     "text": [
      "\r",
      " 60%|██████    | 18/30 [15:14<10:05, 50.46s/it]"
     ]
    },
    {
     "name": "stdout",
     "output_type": "stream",
     "text": [
      "Epoch 1/1\n",
      "5/5 [==============================] - 0s 59ms/step - loss: 0.0605 - acc: 1.0000\n",
      "Epoch 1/1\n",
      "5/5 [==============================] - 0s 51ms/step - loss: 0.0197 - acc: 1.0000\n",
      "Epoch 1/1\n",
      "5/5 [==============================] - 0s 72ms/step - loss: 521.5259 - model_1_loss: 3.1186 - model_2_loss: 5.1841\n"
     ]
    },
    {
     "name": "stderr",
     "output_type": "stream",
     "text": [
      "\r",
      " 63%|██████▎   | 19/30 [16:04<09:15, 50.46s/it]"
     ]
    },
    {
     "name": "stdout",
     "output_type": "stream",
     "text": [
      "Epoch 1/1\n",
      "5/5 [==============================] - 0s 52ms/step - loss: 0.0203 - acc: 1.0000\n",
      "Epoch 1/1\n",
      "5/5 [==============================] - 0s 51ms/step - loss: 0.0059 - acc: 1.0000\n",
      "Epoch 1/1\n",
      "5/5 [==============================] - 0s 71ms/step - loss: 523.5502 - model_1_loss: 4.2807 - model_2_loss: 5.1927\n"
     ]
    },
    {
     "name": "stderr",
     "output_type": "stream",
     "text": [
      "\r",
      " 67%|██████▋   | 20/30 [16:55<08:24, 50.41s/it]"
     ]
    },
    {
     "name": "stdout",
     "output_type": "stream",
     "text": [
      "Epoch 1/1\n",
      "5/5 [==============================] - 0s 54ms/step - loss: 0.0125 - acc: 1.0000\n",
      "Epoch 1/1\n",
      "5/5 [==============================] - 0s 55ms/step - loss: 0.4556 - acc: 0.0000e+00\n",
      "Epoch 1/1\n",
      "5/5 [==============================] - 0s 72ms/step - loss: 520.9617 - model_1_loss: 0.6386 - model_2_loss: 5.2032\n"
     ]
    },
    {
     "name": "stderr",
     "output_type": "stream",
     "text": [
      "\r",
      " 70%|███████   | 21/30 [17:45<07:33, 50.38s/it]"
     ]
    },
    {
     "name": "stdout",
     "output_type": "stream",
     "text": [
      "Epoch 1/1\n",
      "5/5 [==============================] - 0s 55ms/step - loss: 0.0091 - acc: 1.0000\n",
      "Epoch 1/1\n",
      "5/5 [==============================] - 0s 53ms/step - loss: 0.0345 - acc: 1.0000\n",
      "Epoch 1/1\n",
      "5/5 [==============================] - 0s 72ms/step - loss: 526.8314 - model_1_loss: 2.7695 - model_2_loss: 5.2406\n"
     ]
    },
    {
     "name": "stderr",
     "output_type": "stream",
     "text": [
      "\r",
      " 73%|███████▎  | 22/30 [18:35<06:42, 50.36s/it]"
     ]
    },
    {
     "name": "stdout",
     "output_type": "stream",
     "text": [
      "Epoch 1/1\n",
      "5/5 [==============================] - 0s 55ms/step - loss: 0.0072 - acc: 1.0000\n",
      "Epoch 1/1\n",
      "5/5 [==============================] - 0s 52ms/step - loss: 0.0140 - acc: 1.0000\n",
      "Epoch 1/1\n",
      "5/5 [==============================] - 0s 71ms/step - loss: 524.8616 - model_1_loss: 3.6514 - model_2_loss: 5.2121\n"
     ]
    },
    {
     "name": "stderr",
     "output_type": "stream",
     "text": [
      "\r",
      " 77%|███████▋  | 23/30 [19:26<05:52, 50.38s/it]"
     ]
    },
    {
     "name": "stdout",
     "output_type": "stream",
     "text": [
      "Epoch 1/1\n",
      "5/5 [==============================] - 0s 53ms/step - loss: 0.0058 - acc: 1.0000\n",
      "Epoch 1/1\n",
      "5/5 [==============================] - 0s 54ms/step - loss: 0.0255 - acc: 1.0000\n",
      "Epoch 1/1\n",
      "5/5 [==============================] - 0s 73ms/step - loss: 528.6083 - model_1_loss: 3.1928 - model_2_loss: 5.2542\n"
     ]
    },
    {
     "name": "stderr",
     "output_type": "stream",
     "text": [
      "\r",
      " 80%|████████  | 24/30 [20:16<05:02, 50.40s/it]"
     ]
    },
    {
     "name": "stdout",
     "output_type": "stream",
     "text": [
      "Epoch 1/1\n",
      "5/5 [==============================] - 0s 54ms/step - loss: 0.0047 - acc: 1.0000\n",
      "Epoch 1/1\n",
      "5/5 [==============================] - 0s 53ms/step - loss: 0.0091 - acc: 1.0000\n",
      "Epoch 1/1\n",
      "5/5 [==============================] - 0s 72ms/step - loss: 528.8937 - model_1_loss: 4.3573 - model_2_loss: 5.2454\n"
     ]
    },
    {
     "name": "stderr",
     "output_type": "stream",
     "text": [
      "\r",
      " 83%|████████▎ | 25/30 [21:07<04:11, 50.40s/it]"
     ]
    },
    {
     "name": "stdout",
     "output_type": "stream",
     "text": [
      "Epoch 1/1\n",
      "5/5 [==============================] - 0s 53ms/step - loss: 0.0039 - acc: 1.0000\n",
      "Epoch 1/1\n",
      "5/5 [==============================] - 0s 52ms/step - loss: 0.0100 - acc: 1.0000\n",
      "Epoch 1/1\n",
      "5/5 [==============================] - 0s 73ms/step - loss: 522.2582 - model_1_loss: 4.3278 - model_2_loss: 5.1793\n"
     ]
    },
    {
     "name": "stderr",
     "output_type": "stream",
     "text": [
      "\r",
      " 87%|████████▋ | 26/30 [21:57<03:21, 50.34s/it]"
     ]
    },
    {
     "name": "stdout",
     "output_type": "stream",
     "text": [
      "Epoch 1/1\n",
      "5/5 [==============================] - 0s 56ms/step - loss: 0.0033 - acc: 1.0000\n",
      "Epoch 1/1\n",
      "5/5 [==============================] - 0s 53ms/step - loss: 0.0012 - acc: 1.0000\n",
      "Epoch 1/1\n",
      "5/5 [==============================] - 0s 73ms/step - loss: 525.5598 - model_1_loss: 6.7313 - model_2_loss: 5.1883\n"
     ]
    },
    {
     "name": "stderr",
     "output_type": "stream",
     "text": [
      "\r",
      " 90%|█████████ | 27/30 [22:47<02:31, 50.34s/it]"
     ]
    },
    {
     "name": "stdout",
     "output_type": "stream",
     "text": [
      "Epoch 1/1\n",
      "5/5 [==============================] - 0s 53ms/step - loss: 0.0029 - acc: 1.0000\n",
      "Epoch 1/1\n",
      "5/5 [==============================] - 0s 51ms/step - loss: 3.1247e-04 - acc: 1.0000\n",
      "Epoch 1/1\n",
      "5/5 [==============================] - 0s 70ms/step - loss: 531.0739 - model_1_loss: 7.6808 - model_2_loss: 5.2339\n"
     ]
    },
    {
     "name": "stderr",
     "output_type": "stream",
     "text": [
      "\r",
      " 93%|█████████▎| 28/30 [23:37<01:40, 50.30s/it]"
     ]
    },
    {
     "name": "stdout",
     "output_type": "stream",
     "text": [
      "Epoch 1/1\n",
      "5/5 [==============================] - 0s 54ms/step - loss: 0.0026 - acc: 1.0000\n",
      "Epoch 1/1\n",
      "5/5 [==============================] - 0s 54ms/step - loss: 1.0923e-04 - acc: 1.0000\n",
      "Epoch 1/1\n",
      "5/5 [==============================] - 0s 70ms/step - loss: 531.7266 - model_1_loss: 8.8434 - model_2_loss: 5.2288\n"
     ]
    },
    {
     "name": "stderr",
     "output_type": "stream",
     "text": [
      "\r",
      " 97%|█████████▋| 29/30 [24:28<00:50, 50.35s/it]"
     ]
    },
    {
     "name": "stdout",
     "output_type": "stream",
     "text": [
      "Epoch 1/1\n",
      "5/5 [==============================] - 0s 53ms/step - loss: 0.0024 - acc: 1.0000\n",
      "Epoch 1/1\n",
      "5/5 [==============================] - 0s 54ms/step - loss: 5.1028e-05 - acc: 1.0000\n",
      "Epoch 1/1\n",
      "5/5 [==============================] - 0s 71ms/step - loss: 531.2900 - model_1_loss: 9.4934 - model_2_loss: 5.2180\n"
     ]
    },
    {
     "name": "stderr",
     "output_type": "stream",
     "text": [
      "100%|██████████| 30/30 [25:18<00:00, 50.37s/it]\n"
     ]
    }
   ],
   "source": [
    "import datetime\n",
    "from tqdm import tqdm\n",
    "\n",
    "\n",
    "epochs = 30\n",
    "\n",
    "start_time = datetime.datetime.now().replace(microsecond=0)\n",
    "for e in tqdm(range(epochs)):\n",
    "#     print('Iteration', str(e)+'/'+str(epochs)+':-')\n",
    "    discriminator.fit([buggy_inputs, fixed_inputs], np.ones(num_dps))\n",
    "    generated_ints = generate_fixed_ints(generator, buggy_inputs, max_fixed_len, token_int_map, int_token_map)\n",
    "    discriminator.fit([buggy_inputs, generated_ints], np.zeros(num_dps))\n",
    "    gan.fit([buggy_inputs, fixed_inputs], [np.ones(num_dps), fixed_outputs])\n",
    "end_time = datetime.datetime.now().replace(microsecond=0)"
   ]
  },
  {
   "cell_type": "code",
   "execution_count": 21,
   "metadata": {},
   "outputs": [
    {
     "name": "stdout",
     "output_type": "stream",
     "text": [
      "Training took (h:mm:ss) 0:25:19\n"
     ]
    }
   ],
   "source": [
    "print(\"Training took (h:mm:ss)\", end_time-start_time)\n",
    "\n",
    "def decode_ints(int_matrix, int_map):\n",
    "    gntd_codes = []\n",
    "    for ints in int_matrix:\n",
    "        code = [int_map[x] for x in ints if x != 0]\n",
    "        gntd_codes.append(code)\n",
    "        \n",
    "    return gntd_codes"
   ]
  },
  {
   "cell_type": "code",
   "execution_count": 22,
   "metadata": {},
   "outputs": [
    {
     "name": "stdout",
     "output_type": "stream",
     "text": [
      "Buggy code: String toTest = \"woordenboek_nederlands-3.1.1-sm+tb+fx+fn.xpi\";\n",
      "Fixed code: String toTest = \"turkmen_spell_checker_dictionary-0.1.6-tb+fx+sm.xpi\";\n",
      "Genration:  itiiiiinsstttlllllllllllllllllllllllllllllllllllllllllllllllllllllllllllllllllllllllllllllllllllllllllllllllllllllllllllll\n",
      "=============\n",
      "Buggy code: || (this.collator != null && ! this.collator.equals(other.collator))\n",
      "Fixed code: || (this.collator != null && ! this.collator.equals(other.collator) || (this.collator == null && other.collator != null))\n",
      "Genration:  itiiiiinisttttllllllllllllllllllllllllllllllllllllllllllllllllllllllllllllllllllllllllllllllllllllllllllllllllllllllllllll\n",
      "=============\n",
      "Buggy code: dest = _dpMgr.planDeployment(vmProfile, plan, exclude);\n",
      "Fixed code: dest = _dpMgr.planDeployment(vmProfile, plan, exclude, null);\n",
      "Genration:  itiiiiinsstttlllllllllllllllllllllllllllllllllllllllllllllllllllllllllllllllllllllllllllllllllllllllllllllllllllllllllllll\n",
      "=============\n",
      "Buggy code: LOG.info(clazz + \" is not a valid POJO type\");\n",
      "Fixed code: LOG.info(clazz + \" is not a valid POJO type because not all fields are valid POJO fields.\");\n",
      "Genration:  itiiiinistttllllllllllllllllllllllllllllllllllllllllllllllllllllllllllllllllllllllllllllllllllllllllllllllllllllllllllllll\n",
      "=============\n",
      "Buggy code: if ((syncSites == null) || syncSites.isEmpty()) {\n",
      "Fixed code: if (syncSites.isEmpty()) {\n",
      "Genration:  itiiiiinsttttlllllllllllllllllllllllllllllllllllllllllllllllllllllllllllllllllllllllllllllllllllllllllllllllllllllllllllll\n",
      "=============\n"
     ]
    }
   ],
   "source": [
    "generated_ints = generate_fixed_ints(generator, buggy_inputs, max_fixed_len, token_int_map, int_token_map)\n",
    "generated_codes = decode_ints(generated_ints, int_token_map)\n",
    "for buggy, fixed, gnrtd in zip(buggy_codes, fixed_codes, generated_codes):\n",
    "    print('Buggy code:', ''.join(buggy))\n",
    "    print('Fixed code:', ''.join(fixed[1:-1]))\n",
    "    print('Genration: ', ''.join(gnrtd[1:]))\n",
    "    print('=============')"
   ]
  },
  {
   "cell_type": "code",
   "execution_count": null,
   "metadata": {},
   "outputs": [],
   "source": []
  }
 ],
 "metadata": {
  "kernelspec": {
   "display_name": "tf",
   "language": "python",
   "name": "tf"
  },
  "language_info": {
   "codemirror_mode": {
    "name": "ipython",
    "version": 3
   },
   "file_extension": ".py",
   "mimetype": "text/x-python",
   "name": "python",
   "nbconvert_exporter": "python",
   "pygments_lexer": "ipython3",
   "version": "3.7.4"
  }
 },
 "nbformat": 4,
 "nbformat_minor": 2
}

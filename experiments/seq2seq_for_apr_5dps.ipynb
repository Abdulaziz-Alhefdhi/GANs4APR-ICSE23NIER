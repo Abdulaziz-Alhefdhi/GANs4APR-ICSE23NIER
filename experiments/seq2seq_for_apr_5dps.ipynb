{
 "cells": [
  {
   "cell_type": "markdown",
   "metadata": {},
   "source": [
    "## Retrieve data"
   ]
  },
  {
   "cell_type": "code",
   "execution_count": 1,
   "metadata": {},
   "outputs": [
    {
     "name": "stderr",
     "output_type": "stream",
     "text": [
      "20828it [00:00, 66898.01it/s]\n",
      "100%|██████████| 41652/41652 [00:00<00:00, 3476224.73it/s]\n",
      "100%|██████████| 41652/41652 [00:00<00:00, 3425109.80it/s]\n",
      "100%|██████████| 20826/20826 [00:00<00:00, 55048.47it/s]\n",
      "100%|██████████| 20826/20826 [00:00<00:00, 58116.40it/s]"
     ]
    },
    {
     "name": "stdout",
     "output_type": "stream",
     "text": [
      "Number of processed files:-\n",
      "20826 buggy files + 20826 fixed files =  41652 files\n"
     ]
    },
    {
     "name": "stderr",
     "output_type": "stream",
     "text": [
      "\n"
     ]
    }
   ],
   "source": [
    "import os\n",
    "from collections import Counter\n",
    "from tqdm import tqdm\n",
    "\n",
    "\n",
    "data_dir = \"/media/aziz/Data/Aziz/data/gans_for_apr/\"\n",
    "\n",
    "# Collect paths to files\n",
    "file_paths = [root+'/'+name for root, dirs, files in tqdm(os.walk(data_dir)) for name in files]\n",
    "buggy_paths, fixed_paths = [], []\n",
    "buggy_paths = [f_path for f_path in tqdm(file_paths) if 'buggy' in f_path]\n",
    "fixed_paths = [f_path for f_path in tqdm(file_paths) if 'fixed' in f_path]\n",
    "\n",
    "# Collect file contents\n",
    "buggy_data = []\n",
    "for path in tqdm(buggy_paths):\n",
    "    with open(path, 'r', encoding='utf-8') as f:\n",
    "        buggy_data.append(f.read())\n",
    "fixed_data = []\n",
    "for path in tqdm(fixed_paths):\n",
    "    with open(path, 'r', encoding='utf-8') as f:\n",
    "        fixed_data.append(f.read())\n",
    "\n",
    "print('Number of processed files:-')\n",
    "print(len(buggy_data), 'buggy files +', len(fixed_data), 'fixed files = ', len(buggy_data)+len(fixed_data), 'files')"
   ]
  },
  {
   "cell_type": "markdown",
   "metadata": {},
   "source": [
    "## Clean data - Reduce noise"
   ]
  },
  {
   "cell_type": "markdown",
   "metadata": {},
   "source": [
    "### Remove comments"
   ]
  },
  {
   "cell_type": "code",
   "execution_count": 2,
   "metadata": {},
   "outputs": [
    {
     "name": "stderr",
     "output_type": "stream",
     "text": [
      "100%|██████████| 20826/20826 [00:00<00:00, 116941.44it/s]\n",
      "100%|██████████| 20826/20826 [00:00<00:00, 117088.94it/s]"
     ]
    },
    {
     "name": "stdout",
     "output_type": "stream",
     "text": [
      "Comments have been removed\n"
     ]
    },
    {
     "name": "stderr",
     "output_type": "stream",
     "text": [
      "\n"
     ]
    }
   ],
   "source": [
    "import re\n",
    "\n",
    "\n",
    "def remove_comments(code):\n",
    "    code = re.sub('(?s)/\\*.*?\\*/', '', code)\n",
    "    return re.sub('(//[^\\n]*)', '', code)\n",
    "\n",
    "\n",
    "buggy_no_comments = [remove_comments(x) for x in tqdm(buggy_data)]\n",
    "fixed_no_comments = [remove_comments(x) for x in tqdm(fixed_data)]\n",
    "print('Comments have been removed')"
   ]
  },
  {
   "cell_type": "markdown",
   "metadata": {},
   "source": [
    "### Remove unnecessary white spaces"
   ]
  },
  {
   "cell_type": "code",
   "execution_count": 3,
   "metadata": {},
   "outputs": [
    {
     "name": "stderr",
     "output_type": "stream",
     "text": [
      "100%|██████████| 20826/20826 [00:00<00:00, 30357.75it/s]\n",
      "100%|██████████| 20826/20826 [00:00<00:00, 30250.55it/s]"
     ]
    },
    {
     "name": "stdout",
     "output_type": "stream",
     "text": [
      "White spaces have been removed\n"
     ]
    },
    {
     "name": "stderr",
     "output_type": "stream",
     "text": [
      "\n"
     ]
    }
   ],
   "source": [
    "def remove_spaces(code):\n",
    "    '''This function removes excessive spaces and keeps necessary ones'''\n",
    "    code = code.splitlines()\n",
    "    result = []\n",
    "    for line in code:\n",
    "        line = line.split()\n",
    "        line = ' '.join(line)\n",
    "        if len(line) > 0:  # Remove empty lines\n",
    "            result.append(line)\n",
    "    \n",
    "    return '\\n'.join(result)\n",
    "\n",
    "\n",
    "buggy_no_spaces = [remove_spaces(x) for x in tqdm(buggy_no_comments)]\n",
    "fixed_no_spaces = [remove_spaces(x) for x in tqdm(fixed_no_comments)]\n",
    "print('White spaces have been removed')"
   ]
  },
  {
   "cell_type": "markdown",
   "metadata": {},
   "source": [
    "### Remove identical buggy and fixed codes"
   ]
  },
  {
   "cell_type": "code",
   "execution_count": 4,
   "metadata": {},
   "outputs": [
    {
     "name": "stdout",
     "output_type": "stream",
     "text": [
      "4514 code pairs have been removed\n",
      "Current # data points: 16312\n"
     ]
    }
   ],
   "source": [
    "buggy_texts, fixed_texts = [], []\n",
    "for buggy, fixed in zip(buggy_no_spaces, fixed_no_spaces):\n",
    "    if buggy != fixed:\n",
    "        buggy_texts.append(buggy)\n",
    "        fixed_texts.append(fixed)\n",
    "print(len(buggy_no_spaces)-len(buggy_texts), 'code pairs have been removed')\n",
    "print('Current # data points:', len(buggy_texts))"
   ]
  },
  {
   "cell_type": "markdown",
   "metadata": {},
   "source": [
    "### Remove duplicated pairs in the dataset"
   ]
  },
  {
   "cell_type": "code",
   "execution_count": 5,
   "metadata": {},
   "outputs": [
    {
     "name": "stdout",
     "output_type": "stream",
     "text": [
      "3663 code pairs have been removed\n",
      "Current # data points: 12649\n"
     ]
    }
   ],
   "source": [
    "text_pairs = [(x, y) for x, y in zip(buggy_texts, fixed_texts)]\n",
    "code_pairs = sorted(set(text_pairs))\n",
    "\n",
    "buggy_codes = [x[0] for x in code_pairs]\n",
    "fixed_codes = [x[1] for x in code_pairs]\n",
    "\n",
    "print(len(text_pairs)-len(code_pairs), 'code pairs have been removed')\n",
    "print('Current # data points:', len(buggy_codes))"
   ]
  },
  {
   "cell_type": "markdown",
   "metadata": {},
   "source": [
    "## Calculate Diffs"
   ]
  },
  {
   "cell_type": "code",
   "execution_count": 6,
   "metadata": {},
   "outputs": [
    {
     "name": "stderr",
     "output_type": "stream",
     "text": [
      "12649it [00:03, 3905.59it/s]\n"
     ]
    }
   ],
   "source": [
    "from difflib import ndiff\n",
    "\n",
    "\n",
    "initial_diffs = [list(ndiff(x.splitlines(), y.splitlines())) for x, y in tqdm(zip(buggy_codes, fixed_codes))]"
   ]
  },
  {
   "cell_type": "markdown",
   "metadata": {},
   "source": [
    "### Restrict to one-line difference"
   ]
  },
  {
   "cell_type": "code",
   "execution_count": 7,
   "metadata": {},
   "outputs": [
    {
     "name": "stderr",
     "output_type": "stream",
     "text": [
      "100%|██████████| 12649/12649 [00:00<00:00, 68385.77it/s]"
     ]
    },
    {
     "name": "stdout",
     "output_type": "stream",
     "text": [
      "309 code pairs have been removed\n",
      "Current # data points: 12340\n"
     ]
    },
    {
     "name": "stderr",
     "output_type": "stream",
     "text": [
      "\n"
     ]
    }
   ],
   "source": [
    "one_line_diffs = []\n",
    "for diff in tqdm(initial_diffs):\n",
    "    if sum([1 for x in diff if x.startswith('-')]) > 1 or sum([1 for x in diff if x.startswith('+')]) > 1:\n",
    "        continue\n",
    "    one_line_diffs.append(diff)\n",
    "\n",
    "print(len(initial_diffs)-len(one_line_diffs), 'code pairs have been removed')\n",
    "print('Current # data points:', len(one_line_diffs))"
   ]
  },
  {
   "cell_type": "markdown",
   "metadata": {},
   "source": [
    "### Restrict to modified lines (exclude added/deleted lines)"
   ]
  },
  {
   "cell_type": "code",
   "execution_count": 8,
   "metadata": {},
   "outputs": [
    {
     "name": "stderr",
     "output_type": "stream",
     "text": [
      "100%|██████████| 12340/12340 [00:00<00:00, 73904.96it/s]"
     ]
    },
    {
     "name": "stdout",
     "output_type": "stream",
     "text": [
      "6813 code pairs have been removed\n",
      "Current # data points: 5527\n"
     ]
    },
    {
     "name": "stderr",
     "output_type": "stream",
     "text": [
      "\n"
     ]
    }
   ],
   "source": [
    "diffs = []\n",
    "for diff in tqdm(one_line_diffs):\n",
    "    for i, x in enumerate(diff):\n",
    "        if x.startswith('+') and diff[i-1].startswith('-'):\n",
    "            diffs.append((diff[i-1][2:], x[2:]))\n",
    "\n",
    "print(len(one_line_diffs)-len(diffs), 'code pairs have been removed')\n",
    "print('Current # data points:', len(diffs))"
   ]
  },
  {
   "cell_type": "markdown",
   "metadata": {},
   "source": [
    "#### Shuffle and keep only 5 data points"
   ]
  },
  {
   "cell_type": "code",
   "execution_count": 9,
   "metadata": {},
   "outputs": [],
   "source": [
    "from random import seed, sample\n",
    "\n",
    "\n",
    "seed(30)\n",
    "shuf_diffs = sample(diffs, k=len(diffs))\n",
    "final_diffs = shuf_diffs[:5]\n",
    "\n",
    "buggy_data = [x[0] for x in final_diffs]\n",
    "fixed_data = [x[1] for x in final_diffs]\n",
    "\n",
    "\n",
    "# with open('buggy_data.txt', \"w\", encoding='utf-8') as file:\n",
    "#     for bug in buggy_data:\n",
    "#         file.write(bug+'\\n')\n",
    "# with open('fixed_data.txt', \"w\", encoding='utf-8') as file:\n",
    "#     for fix in fixed_data:\n",
    "#         file.write(fix+'\\n')\n",
    "# print('Dataset has been written to disk')"
   ]
  },
  {
   "cell_type": "markdown",
   "metadata": {},
   "source": [
    "# The Experiment"
   ]
  },
  {
   "cell_type": "code",
   "execution_count": 10,
   "metadata": {},
   "outputs": [],
   "source": [
    "# with open('buggy_data.txt', 'r', encoding='utf-8') as f:\n",
    "#     buggy_data = f.read().split(\"\\n\")\n",
    "# with open('fixed_data.txt', 'r', encoding='utf-8') as f:\n",
    "#     fixed_data = f.read().split(\"\\n\")\n",
    "# buggy_data = buggy_data[:-1]\n",
    "# fixed_data = fixed_data[:-1]\n",
    "\n",
    "buggy_codes = [list(x) for x in buggy_data]\n",
    "fixed_codes = [['<soc>']+list(x)+['<eoc>'] for x in fixed_data]"
   ]
  },
  {
   "cell_type": "code",
   "execution_count": 11,
   "metadata": {},
   "outputs": [
    {
     "name": "stdout",
     "output_type": "stream",
     "text": [
      "Before vectorisation:-\n",
      "dest = _dpMgr.planDeployment(vmProfile, plan, exclude);\n",
      "dest = _dpMgr.planDeployment(vmProfile, plan, exclude, null);\n",
      "====================\n",
      "After vectorisation:-\n",
      "['d', 'e', 's', 't', ' ', '=', ' ', '_', 'd', 'p', 'M', 'g', 'r', '.', 'p', 'l', 'a', 'n', 'D', 'e', 'p', 'l', 'o', 'y', 'm', 'e', 'n', 't', '(', 'v', 'm', 'P', 'r', 'o', 'f', 'i', 'l', 'e', ',', ' ', 'p', 'l', 'a', 'n', ',', ' ', 'e', 'x', 'c', 'l', 'u', 'd', 'e', ')', ';']\n",
      "['<soc>', 'd', 'e', 's', 't', ' ', '=', ' ', '_', 'd', 'p', 'M', 'g', 'r', '.', 'p', 'l', 'a', 'n', 'D', 'e', 'p', 'l', 'o', 'y', 'm', 'e', 'n', 't', '(', 'v', 'm', 'P', 'r', 'o', 'f', 'i', 'l', 'e', ',', ' ', 'p', 'l', 'a', 'n', ',', ' ', 'e', 'x', 'c', 'l', 'u', 'd', 'e', ',', ' ', 'n', 'u', 'l', 'l', ')', ';', '<eoc>']\n"
     ]
    }
   ],
   "source": [
    "print(\"Before vectorisation:-\")\n",
    "print(buggy_data[2])\n",
    "print(fixed_data[2])\n",
    "print(\"====================\")\n",
    "print(\"After vectorisation:-\")\n",
    "print(buggy_codes[2])\n",
    "print(fixed_codes[2])"
   ]
  },
  {
   "cell_type": "code",
   "execution_count": 12,
   "metadata": {},
   "outputs": [],
   "source": [
    "vocab = set([x for y in buggy_codes for x in y]+[x for y in fixed_codes for x in y])\n",
    "token_int_map = dict([(token, i+1) for i, token in enumerate(vocab)])\n",
    "vocab.add('<pad/unknown>')\n",
    "token_int_map['<pad/unknown>'] = 0\n",
    "int_token_map = dict((i, token) for token, i in token_int_map.items())"
   ]
  },
  {
   "cell_type": "code",
   "execution_count": 13,
   "metadata": {},
   "outputs": [
    {
     "name": "stdout",
     "output_type": "stream",
     "text": [
      "{1: '.', 2: 'l', 3: 'q', 4: 'h', 5: '!', 6: 'M', 7: ';', 8: '0', 9: 'o', 10: '<eoc>', 11: 'v', 12: 'E', 13: 'T', 14: 'p', 15: '3', 16: 'k', 17: 'd', 18: 'e', 19: 'G', 20: '=', 21: 'J', 22: 'D', 23: 'y', 24: 'O', 25: '(', 26: 'x', 27: 'r', 28: '<soc>', 29: 't', 30: 'L', 31: 'P', 32: ',', 33: 's', 34: 'i', 35: 'c', 36: '1', 37: '6', 38: ' ', 39: 'n', 40: '_', 41: 'S', 42: ')', 43: '&', 44: '+', 45: '|', 46: 'g', 47: 'm', 48: 'u', 49: 'w', 50: 'f', 51: '{', 52: 'z', 53: 'a', 54: '-', 55: '\"', 56: 'b', 0: '<pad/unknown>'}\n"
     ]
    }
   ],
   "source": [
    "print(int_token_map)"
   ]
  },
  {
   "cell_type": "code",
   "execution_count": 14,
   "metadata": {},
   "outputs": [],
   "source": [
    "vocab_size = len(vocab)\n",
    "max_buggy_len = max([len(txt) for txt in buggy_codes])\n",
    "max_fixed_len = max([len(txt) for txt in fixed_codes])\n",
    "num_dps = len(fixed_codes)"
   ]
  },
  {
   "cell_type": "code",
   "execution_count": 15,
   "metadata": {},
   "outputs": [
    {
     "name": "stdout",
     "output_type": "stream",
     "text": [
      "Number of data points: 5\n",
      "Vocabulary size: 57\n",
      "Max length in buggy codes: 68\n",
      "Max length in fixed codes: 123\n"
     ]
    }
   ],
   "source": [
    "print('Number of data points:', num_dps)\n",
    "print('Vocabulary size:', vocab_size)\n",
    "print('Max length in buggy codes:', max_buggy_len)\n",
    "print('Max length in fixed codes:', max_fixed_len)"
   ]
  },
  {
   "cell_type": "code",
   "execution_count": 16,
   "metadata": {},
   "outputs": [],
   "source": [
    "import numpy as np\n",
    "\n",
    "buggy_inputs =  np.zeros((num_dps, max_buggy_len), dtype='int32')\n",
    "fixed_inputs =  np.zeros((num_dps, max_fixed_len), dtype='int32')\n",
    "fixed_outputs = np.zeros((num_dps, max_fixed_len, vocab_size), dtype='float32')\n",
    "\n",
    "for i, (buggy, fixed) in enumerate(zip(buggy_codes, fixed_codes)):\n",
    "    for t, token in enumerate(buggy):\n",
    "        buggy_inputs[i, t] = token_int_map[token]\n",
    "    for t, token in enumerate(fixed):\n",
    "        int_value = token_int_map[token]\n",
    "        fixed_inputs[i, t] = int_value\n",
    "        if t > 0:\n",
    "            fixed_outputs[i, t-1, int_value] = 1.\n",
    "    fixed_outputs[i, t, 0] = 1."
   ]
  },
  {
   "cell_type": "code",
   "execution_count": 17,
   "metadata": {},
   "outputs": [
    {
     "name": "stderr",
     "output_type": "stream",
     "text": [
      "Using TensorFlow backend.\n"
     ]
    }
   ],
   "source": [
    "from keras.layers import Input, Embedding, LSTM, Dense, dot, Activation, concatenate\n",
    "from keras.models import Model\n",
    "\n",
    "\n",
    "def build_lstm_encoder_decoder(dimension, v_size, drop_prob, buggy_len, fixed_len):\n",
    "    # Encoder\n",
    "    buggy_input_layer = Input(shape=(buggy_len,))\n",
    "    enc_embed_lay = Embedding(v_size, dimension,  mask_zero=True)(buggy_input_layer)\n",
    "    encoder_outputs, state_h, state_c = LSTM(dimension, return_sequences=True, return_state=True, dropout=drop_prob, recurrent_dropout=drop_prob)(enc_embed_lay)\n",
    "    # Decoder\n",
    "    fixed_input_layer = Input(shape=(fixed_len,))\n",
    "    dec_embed_lay = Embedding(v_size, dimension, mask_zero=True)(fixed_input_layer)\n",
    "    decoder_outputs = LSTM(dimension, return_sequences=True, dropout=drop_prob, recurrent_dropout=drop_prob)(dec_embed_lay, initial_state=[state_h, state_c])\n",
    "    # Attention\n",
    "    attention = dot([decoder_outputs, encoder_outputs], axes=[2, 2])\n",
    "    attention = Activation('softmax', name='attention')(attention)\n",
    "    context = dot([attention, encoder_outputs], axes=[2, 1])\n",
    "    decoder_combined_context = concatenate([context, decoder_outputs])\n",
    "    attention_context_output = Dense(dimension, activation=\"tanh\")(decoder_combined_context)\n",
    "    # Model output\n",
    "    model_output = Dense(v_size, activation=\"softmax\")(attention_context_output)\n",
    "    # Build & compile model\n",
    "    enc_dec = Model([buggy_input_layer, fixed_input_layer], model_output)\n",
    "    enc_dec.compile(optimizer='rmsprop', loss='categorical_crossentropy')\n",
    "    \n",
    "    return enc_dec"
   ]
  },
  {
   "cell_type": "code",
   "execution_count": 18,
   "metadata": {
    "scrolled": false
   },
   "outputs": [
    {
     "name": "stderr",
     "output_type": "stream",
     "text": [
      "WARNING: Logging before flag parsing goes to stderr.\n",
      "W0922 22:55:44.894326 140034647680768 deprecation_wrapper.py:119] From /home/aziz/anaconda3/envs/tf/lib/python3.7/site-packages/keras/backend/tensorflow_backend.py:74: The name tf.get_default_graph is deprecated. Please use tf.compat.v1.get_default_graph instead.\n",
      "\n",
      "W0922 22:55:44.904211 140034647680768 deprecation_wrapper.py:119] From /home/aziz/anaconda3/envs/tf/lib/python3.7/site-packages/keras/backend/tensorflow_backend.py:517: The name tf.placeholder is deprecated. Please use tf.compat.v1.placeholder instead.\n",
      "\n",
      "W0922 22:55:44.906591 140034647680768 deprecation_wrapper.py:119] From /home/aziz/anaconda3/envs/tf/lib/python3.7/site-packages/keras/backend/tensorflow_backend.py:4138: The name tf.random_uniform is deprecated. Please use tf.random.uniform instead.\n",
      "\n",
      "W0922 22:55:45.746688 140034647680768 deprecation_wrapper.py:119] From /home/aziz/anaconda3/envs/tf/lib/python3.7/site-packages/keras/backend/tensorflow_backend.py:133: The name tf.placeholder_with_default is deprecated. Please use tf.compat.v1.placeholder_with_default instead.\n",
      "\n",
      "W0922 22:55:45.752651 140034647680768 deprecation.py:506] From /home/aziz/anaconda3/envs/tf/lib/python3.7/site-packages/keras/backend/tensorflow_backend.py:3445: calling dropout (from tensorflow.python.ops.nn_ops) with keep_prob is deprecated and will be removed in a future version.\n",
      "Instructions for updating:\n",
      "Please use `rate` instead of `keep_prob`. Rate should be set to `rate = 1 - keep_prob`.\n",
      "W0922 22:55:45.950121 140034647680768 deprecation.py:323] From /home/aziz/anaconda3/envs/tf/lib/python3.7/site-packages/keras/backend/tensorflow_backend.py:2974: add_dispatch_support.<locals>.wrapper (from tensorflow.python.ops.array_ops) is deprecated and will be removed in a future version.\n",
      "Instructions for updating:\n",
      "Use tf.where in 2.0, which has the same broadcast rule as np.where\n",
      "W0922 22:55:47.085856 140034647680768 deprecation_wrapper.py:119] From /home/aziz/anaconda3/envs/tf/lib/python3.7/site-packages/keras/optimizers.py:790: The name tf.train.Optimizer is deprecated. Please use tf.compat.v1.train.Optimizer instead.\n",
      "\n",
      "W0922 22:55:47.099925 140034647680768 deprecation_wrapper.py:119] From /home/aziz/anaconda3/envs/tf/lib/python3.7/site-packages/keras/backend/tensorflow_backend.py:3295: The name tf.log is deprecated. Please use tf.math.log instead.\n",
      "\n"
     ]
    },
    {
     "name": "stdout",
     "output_type": "stream",
     "text": [
      "__________________________________________________________________________________________________\n",
      "Layer (type)                    Output Shape         Param #     Connected to                     \n",
      "==================================================================================================\n",
      "input_1 (InputLayer)            (None, 68)           0                                            \n",
      "__________________________________________________________________________________________________\n",
      "input_2 (InputLayer)            (None, 123)          0                                            \n",
      "__________________________________________________________________________________________________\n",
      "embedding_1 (Embedding)         (None, 68, 1024)     58368       input_1[0][0]                    \n",
      "__________________________________________________________________________________________________\n",
      "embedding_2 (Embedding)         (None, 123, 1024)    58368       input_2[0][0]                    \n",
      "__________________________________________________________________________________________________\n",
      "lstm_1 (LSTM)                   [(None, 68, 1024), ( 8392704     embedding_1[0][0]                \n",
      "__________________________________________________________________________________________________\n",
      "lstm_2 (LSTM)                   (None, 123, 1024)    8392704     embedding_2[0][0]                \n",
      "                                                                 lstm_1[0][1]                     \n",
      "                                                                 lstm_1[0][2]                     \n",
      "__________________________________________________________________________________________________\n",
      "dot_1 (Dot)                     (None, 123, 68)      0           lstm_2[0][0]                     \n",
      "                                                                 lstm_1[0][0]                     \n",
      "__________________________________________________________________________________________________\n",
      "attention (Activation)          (None, 123, 68)      0           dot_1[0][0]                      \n",
      "__________________________________________________________________________________________________\n",
      "dot_2 (Dot)                     (None, 123, 1024)    0           attention[0][0]                  \n",
      "                                                                 lstm_1[0][0]                     \n",
      "__________________________________________________________________________________________________\n",
      "concatenate_1 (Concatenate)     (None, 123, 2048)    0           dot_2[0][0]                      \n",
      "                                                                 lstm_2[0][0]                     \n",
      "__________________________________________________________________________________________________\n",
      "dense_1 (Dense)                 (None, 123, 1024)    2098176     concatenate_1[0][0]              \n",
      "__________________________________________________________________________________________________\n",
      "dense_2 (Dense)                 (None, 123, 57)      58425       dense_1[0][0]                    \n",
      "==================================================================================================\n",
      "Total params: 19,058,745\n",
      "Trainable params: 19,058,745\n",
      "Non-trainable params: 0\n",
      "__________________________________________________________________________________________________\n"
     ]
    },
    {
     "data": {
      "image/png": "[encoded data removed]",
      "text/plain": [
       "<IPython.core.display.Image object>"
      ]
     },
     "execution_count": 18,
     "metadata": {},
     "output_type": "execute_result"
    }
   ],
   "source": [
    "%matplotlib inline\n",
    "from keras.utils.vis_utils import plot_model\n",
    "from IPython.display import Image\n",
    "\n",
    "\n",
    "latent_dim = 1024\n",
    "dropout = 0.2\n",
    "\n",
    "encoder_decoder = build_lstm_encoder_decoder(latent_dim, vocab_size, dropout, max_buggy_len, max_fixed_len)\n",
    "plot_model(encoder_decoder, to_file='lstm_encoder_decoder.png', show_shapes=True, show_layer_names=True)\n",
    "encoder_decoder.summary()\n",
    "Image('lstm_encoder_decoder.png')"
   ]
  },
  {
   "cell_type": "code",
   "execution_count": 19,
   "metadata": {
    "scrolled": true
   },
   "outputs": [
    {
     "name": "stdout",
     "output_type": "stream",
     "text": [
      "Epoch 1/150\n",
      "5/5 [==============================] - 4s 771ms/step - loss: 4.0425\n",
      "Epoch 2/150\n",
      "5/5 [==============================] - 0s 64ms/step - loss: 3.6598\n",
      "Epoch 3/150\n",
      "5/5 [==============================] - 0s 59ms/step - loss: 11.6185\n",
      "Epoch 4/150\n",
      "5/5 [==============================] - 0s 63ms/step - loss: 8.1743\n",
      "Epoch 5/150\n",
      "5/5 [==============================] - 0s 61ms/step - loss: 6.4095\n",
      "Epoch 6/150\n",
      "5/5 [==============================] - 0s 62ms/step - loss: 7.2004\n",
      "Epoch 7/150\n",
      "5/5 [==============================] - 0s 61ms/step - loss: 6.4927\n",
      "Epoch 8/150\n",
      "5/5 [==============================] - 0s 62ms/step - loss: 6.4325\n",
      "Epoch 9/150\n",
      "5/5 [==============================] - 0s 60ms/step - loss: 5.1476\n",
      "Epoch 10/150\n",
      "5/5 [==============================] - 0s 61ms/step - loss: 4.6803\n",
      "Epoch 11/150\n",
      "5/5 [==============================] - 0s 58ms/step - loss: 4.4592\n",
      "Epoch 12/150\n",
      "5/5 [==============================] - 0s 63ms/step - loss: 4.3003\n",
      "Epoch 13/150\n",
      "5/5 [==============================] - 0s 61ms/step - loss: 4.3485\n",
      "Epoch 14/150\n",
      "5/5 [==============================] - 0s 62ms/step - loss: 4.2109\n",
      "Epoch 15/150\n",
      "5/5 [==============================] - 0s 61ms/step - loss: 4.1394\n",
      "Epoch 16/150\n",
      "5/5 [==============================] - 0s 62ms/step - loss: 4.0880\n",
      "Epoch 17/150\n",
      "5/5 [==============================] - 0s 61ms/step - loss: 4.0578\n",
      "Epoch 18/150\n",
      "5/5 [==============================] - 0s 61ms/step - loss: 4.0558\n",
      "Epoch 19/150\n",
      "5/5 [==============================] - 0s 59ms/step - loss: 4.0678\n",
      "Epoch 20/150\n",
      "5/5 [==============================] - 0s 59ms/step - loss: 4.0769\n",
      "Epoch 21/150\n",
      "5/5 [==============================] - 0s 61ms/step - loss: 4.0878\n",
      "Epoch 22/150\n",
      "5/5 [==============================] - 0s 62ms/step - loss: 4.0876\n",
      "Epoch 23/150\n",
      "5/5 [==============================] - 0s 59ms/step - loss: 4.0869\n",
      "Epoch 24/150\n",
      "5/5 [==============================] - 0s 59ms/step - loss: 4.0763\n",
      "Epoch 25/150\n",
      "5/5 [==============================] - 0s 61ms/step - loss: 4.0924\n",
      "Epoch 26/150\n",
      "5/5 [==============================] - 0s 60ms/step - loss: 4.0947\n",
      "Epoch 27/150\n",
      "5/5 [==============================] - 0s 61ms/step - loss: 4.1218\n",
      "Epoch 28/150\n",
      "5/5 [==============================] - 0s 62ms/step - loss: 4.1009\n",
      "Epoch 29/150\n",
      "5/5 [==============================] - 0s 61ms/step - loss: 4.1093\n",
      "Epoch 30/150\n",
      "5/5 [==============================] - 0s 60ms/step - loss: 4.1543\n",
      "Epoch 31/150\n",
      "5/5 [==============================] - 0s 60ms/step - loss: 4.2266\n",
      "Epoch 32/150\n",
      "5/5 [==============================] - 0s 58ms/step - loss: 4.1715\n",
      "Epoch 33/150\n",
      "5/5 [==============================] - 0s 61ms/step - loss: 4.0905\n",
      "Epoch 34/150\n",
      "5/5 [==============================] - 0s 58ms/step - loss: 4.0667\n",
      "Epoch 35/150\n",
      "5/5 [==============================] - 0s 61ms/step - loss: 4.1118\n",
      "Epoch 36/150\n",
      "5/5 [==============================] - 0s 61ms/step - loss: 4.0969\n",
      "Epoch 37/150\n",
      "5/5 [==============================] - 0s 60ms/step - loss: 4.0996\n",
      "Epoch 38/150\n",
      "5/5 [==============================] - 0s 62ms/step - loss: 4.1254\n",
      "Epoch 39/150\n",
      "5/5 [==============================] - 0s 63ms/step - loss: 4.1170\n",
      "Epoch 40/150\n",
      "5/5 [==============================] - 0s 59ms/step - loss: 4.1286\n",
      "Epoch 41/150\n",
      "5/5 [==============================] - 0s 62ms/step - loss: 4.0656\n",
      "Epoch 42/150\n",
      "5/5 [==============================] - 0s 62ms/step - loss: 4.0315\n",
      "Epoch 43/150\n",
      "5/5 [==============================] - 0s 58ms/step - loss: 4.0245\n",
      "Epoch 44/150\n",
      "5/5 [==============================] - 0s 60ms/step - loss: 4.0326\n",
      "Epoch 45/150\n",
      "5/5 [==============================] - 0s 59ms/step - loss: 3.9963\n",
      "Epoch 46/150\n",
      "5/5 [==============================] - 0s 60ms/step - loss: 4.0478\n",
      "Epoch 47/150\n",
      "5/5 [==============================] - 0s 58ms/step - loss: 4.0340\n",
      "Epoch 48/150\n",
      "5/5 [==============================] - 0s 62ms/step - loss: 4.1426\n",
      "Epoch 49/150\n",
      "5/5 [==============================] - 0s 59ms/step - loss: 4.0923\n",
      "Epoch 50/150\n",
      "5/5 [==============================] - 0s 59ms/step - loss: 4.2448\n",
      "Epoch 51/150\n",
      "5/5 [==============================] - 0s 60ms/step - loss: 4.5086\n",
      "Epoch 52/150\n",
      "5/5 [==============================] - 0s 60ms/step - loss: 4.3144\n",
      "Epoch 53/150\n",
      "5/5 [==============================] - 0s 59ms/step - loss: 4.1827\n",
      "Epoch 54/150\n",
      "5/5 [==============================] - 0s 62ms/step - loss: 4.1626\n",
      "Epoch 55/150\n",
      "5/5 [==============================] - 0s 61ms/step - loss: 4.0881\n",
      "Epoch 56/150\n",
      "5/5 [==============================] - 0s 62ms/step - loss: 3.9707\n",
      "Epoch 57/150\n",
      "5/5 [==============================] - 0s 60ms/step - loss: 3.9128\n",
      "Epoch 58/150\n",
      "5/5 [==============================] - 0s 58ms/step - loss: 3.9348\n",
      "Epoch 59/150\n",
      "5/5 [==============================] - 0s 62ms/step - loss: 3.9092\n",
      "Epoch 60/150\n",
      "5/5 [==============================] - 0s 58ms/step - loss: 3.9425\n",
      "Epoch 61/150\n",
      "5/5 [==============================] - 0s 63ms/step - loss: 10.3983\n",
      "Epoch 62/150\n",
      "5/5 [==============================] - 0s 61ms/step - loss: 4.4958\n",
      "Epoch 63/150\n",
      "5/5 [==============================] - 0s 60ms/step - loss: 5.1145\n",
      "Epoch 64/150\n",
      "5/5 [==============================] - 0s 65ms/step - loss: 5.2095\n",
      "Epoch 65/150\n",
      "5/5 [==============================] - 0s 61ms/step - loss: 4.6582\n",
      "Epoch 66/150\n",
      "5/5 [==============================] - 0s 60ms/step - loss: 4.3188\n",
      "Epoch 67/150\n",
      "5/5 [==============================] - 0s 59ms/step - loss: 4.1224\n",
      "Epoch 68/150\n",
      "5/5 [==============================] - 0s 60ms/step - loss: 4.0916\n",
      "Epoch 69/150\n",
      "5/5 [==============================] - 0s 62ms/step - loss: 4.0251\n",
      "Epoch 70/150\n",
      "5/5 [==============================] - 0s 59ms/step - loss: 3.9189\n",
      "Epoch 71/150\n",
      "5/5 [==============================] - 0s 61ms/step - loss: 3.8713\n",
      "Epoch 72/150\n",
      "5/5 [==============================] - 0s 62ms/step - loss: 3.8897\n",
      "Epoch 73/150\n",
      "5/5 [==============================] - 0s 63ms/step - loss: 3.9182\n",
      "Epoch 74/150\n",
      "5/5 [==============================] - 0s 62ms/step - loss: 3.9659\n",
      "Epoch 75/150\n",
      "5/5 [==============================] - 0s 59ms/step - loss: 3.9615\n",
      "Epoch 76/150\n",
      "5/5 [==============================] - 0s 60ms/step - loss: 3.9955\n",
      "Epoch 77/150\n",
      "5/5 [==============================] - 0s 62ms/step - loss: 4.0901\n",
      "Epoch 78/150\n",
      "5/5 [==============================] - 0s 62ms/step - loss: 3.8711\n",
      "Epoch 79/150\n",
      "5/5 [==============================] - 0s 61ms/step - loss: 3.7882\n",
      "Epoch 80/150\n",
      "5/5 [==============================] - 0s 60ms/step - loss: 3.8590\n",
      "Epoch 81/150\n",
      "5/5 [==============================] - 0s 61ms/step - loss: 3.8727\n",
      "Epoch 82/150\n",
      "5/5 [==============================] - 0s 61ms/step - loss: 4.2184\n",
      "Epoch 83/150\n",
      "5/5 [==============================] - 0s 60ms/step - loss: 4.2858\n",
      "Epoch 84/150\n",
      "5/5 [==============================] - 0s 63ms/step - loss: 4.5446\n",
      "Epoch 85/150\n",
      "5/5 [==============================] - 0s 63ms/step - loss: 4.8035\n",
      "Epoch 86/150\n",
      "5/5 [==============================] - 0s 59ms/step - loss: 4.7024\n",
      "Epoch 87/150\n",
      "5/5 [==============================] - 0s 58ms/step - loss: 3.7480\n",
      "Epoch 88/150\n",
      "5/5 [==============================] - 0s 58ms/step - loss: 3.4605\n",
      "Epoch 89/150\n",
      "5/5 [==============================] - 0s 60ms/step - loss: 3.1650\n",
      "Epoch 90/150\n",
      "5/5 [==============================] - 0s 64ms/step - loss: 3.1254\n",
      "Epoch 91/150\n",
      "5/5 [==============================] - 0s 58ms/step - loss: 3.0504\n",
      "Epoch 92/150\n",
      "5/5 [==============================] - 0s 64ms/step - loss: 3.1504\n",
      "Epoch 93/150\n",
      "5/5 [==============================] - 0s 63ms/step - loss: 3.2880\n",
      "Epoch 94/150\n",
      "5/5 [==============================] - 0s 62ms/step - loss: 3.5027\n",
      "Epoch 95/150\n",
      "5/5 [==============================] - 0s 60ms/step - loss: 3.1976\n",
      "Epoch 96/150\n",
      "5/5 [==============================] - 0s 60ms/step - loss: 2.8103\n",
      "Epoch 97/150\n",
      "5/5 [==============================] - 0s 61ms/step - loss: 2.7600\n",
      "Epoch 98/150\n",
      "5/5 [==============================] - 0s 61ms/step - loss: 2.7439\n",
      "Epoch 99/150\n",
      "5/5 [==============================] - 0s 61ms/step - loss: 2.5829\n",
      "Epoch 100/150\n",
      "5/5 [==============================] - 0s 61ms/step - loss: 2.4414\n",
      "Epoch 101/150\n",
      "5/5 [==============================] - 0s 61ms/step - loss: 2.3273\n",
      "Epoch 102/150\n",
      "5/5 [==============================] - 0s 60ms/step - loss: 2.2423\n",
      "Epoch 103/150\n",
      "5/5 [==============================] - 0s 60ms/step - loss: 2.3041\n"
     ]
    },
    {
     "name": "stdout",
     "output_type": "stream",
     "text": [
      "Epoch 104/150\n",
      "5/5 [==============================] - 0s 61ms/step - loss: 2.6541\n",
      "Epoch 105/150\n",
      "5/5 [==============================] - 0s 59ms/step - loss: 2.7110\n",
      "Epoch 106/150\n",
      "5/5 [==============================] - 0s 61ms/step - loss: 2.4128\n",
      "Epoch 107/150\n",
      "5/5 [==============================] - 0s 62ms/step - loss: 2.1176\n",
      "Epoch 108/150\n",
      "5/5 [==============================] - 0s 59ms/step - loss: 1.9950\n",
      "Epoch 109/150\n",
      "5/5 [==============================] - 0s 62ms/step - loss: 1.9217\n",
      "Epoch 110/150\n",
      "5/5 [==============================] - 0s 61ms/step - loss: 1.9530\n",
      "Epoch 111/150\n",
      "5/5 [==============================] - 0s 59ms/step - loss: 1.9661\n",
      "Epoch 112/150\n",
      "5/5 [==============================] - 0s 61ms/step - loss: 2.2003\n",
      "Epoch 113/150\n",
      "5/5 [==============================] - 0s 62ms/step - loss: 2.5128\n",
      "Epoch 114/150\n",
      "5/5 [==============================] - 0s 62ms/step - loss: 2.3028\n",
      "Epoch 115/150\n",
      "5/5 [==============================] - 0s 62ms/step - loss: 1.7579\n",
      "Epoch 116/150\n",
      "5/5 [==============================] - 0s 63ms/step - loss: 1.5669\n",
      "Epoch 117/150\n",
      "5/5 [==============================] - 0s 59ms/step - loss: 1.5255\n",
      "Epoch 118/150\n",
      "5/5 [==============================] - 0s 60ms/step - loss: 1.5208\n",
      "Epoch 119/150\n",
      "5/5 [==============================] - 0s 61ms/step - loss: 1.4845\n",
      "Epoch 120/150\n",
      "5/5 [==============================] - 0s 61ms/step - loss: 1.4177\n",
      "Epoch 121/150\n",
      "5/5 [==============================] - 0s 60ms/step - loss: 1.3570\n",
      "Epoch 122/150\n",
      "5/5 [==============================] - 0s 61ms/step - loss: 1.3704\n",
      "Epoch 123/150\n",
      "5/5 [==============================] - 0s 64ms/step - loss: 1.2633\n",
      "Epoch 124/150\n",
      "5/5 [==============================] - 0s 61ms/step - loss: 1.1183\n",
      "Epoch 125/150\n",
      "5/5 [==============================] - 0s 58ms/step - loss: 0.8780\n",
      "Epoch 126/150\n",
      "5/5 [==============================] - 0s 61ms/step - loss: 0.8155\n",
      "Epoch 127/150\n",
      "5/5 [==============================] - 0s 62ms/step - loss: 0.9237\n",
      "Epoch 128/150\n",
      "5/5 [==============================] - 0s 61ms/step - loss: 0.7650\n",
      "Epoch 129/150\n",
      "5/5 [==============================] - 0s 61ms/step - loss: 0.6961\n",
      "Epoch 130/150\n",
      "5/5 [==============================] - 0s 62ms/step - loss: 0.5425\n",
      "Epoch 131/150\n",
      "5/5 [==============================] - 0s 58ms/step - loss: 0.5717\n",
      "Epoch 132/150\n",
      "5/5 [==============================] - 0s 58ms/step - loss: 0.5136\n",
      "Epoch 133/150\n",
      "5/5 [==============================] - 0s 60ms/step - loss: 0.5336\n",
      "Epoch 134/150\n",
      "5/5 [==============================] - 0s 60ms/step - loss: 0.2418\n",
      "Epoch 135/150\n",
      "5/5 [==============================] - 0s 62ms/step - loss: 0.1794\n",
      "Epoch 136/150\n",
      "5/5 [==============================] - 0s 61ms/step - loss: 0.1404\n",
      "Epoch 137/150\n",
      "5/5 [==============================] - 0s 59ms/step - loss: 0.1181\n",
      "Epoch 138/150\n",
      "5/5 [==============================] - 0s 61ms/step - loss: 0.0939\n",
      "Epoch 139/150\n",
      "5/5 [==============================] - 0s 62ms/step - loss: 0.0864\n",
      "Epoch 140/150\n",
      "5/5 [==============================] - 0s 61ms/step - loss: 0.0828\n",
      "Epoch 141/150\n",
      "5/5 [==============================] - 0s 59ms/step - loss: 0.0827\n",
      "Epoch 142/150\n",
      "5/5 [==============================] - 0s 60ms/step - loss: 0.0705\n",
      "Epoch 143/150\n",
      "5/5 [==============================] - 0s 61ms/step - loss: 0.0624\n",
      "Epoch 144/150\n",
      "5/5 [==============================] - 0s 59ms/step - loss: 0.0634\n",
      "Epoch 145/150\n",
      "5/5 [==============================] - 0s 58ms/step - loss: 0.0578\n",
      "Epoch 146/150\n",
      "5/5 [==============================] - 0s 61ms/step - loss: 0.0574\n",
      "Epoch 147/150\n",
      "5/5 [==============================] - 0s 60ms/step - loss: 0.0497\n",
      "Epoch 148/150\n",
      "5/5 [==============================] - 0s 60ms/step - loss: 0.0363\n",
      "Epoch 149/150\n",
      "5/5 [==============================] - 0s 61ms/step - loss: 0.0300\n",
      "Epoch 150/150\n",
      "5/5 [==============================] - 0s 63ms/step - loss: 0.0327\n"
     ]
    }
   ],
   "source": [
    "import datetime\n",
    "\n",
    "\n",
    "epochs = 150\n",
    "start_time = datetime.datetime.now().replace(microsecond=0)\n",
    "encoder_decoder.fit([buggy_inputs, fixed_inputs], fixed_outputs, epochs=epochs)\n",
    "end_time = datetime.datetime.now().replace(microsecond=0)"
   ]
  },
  {
   "cell_type": "code",
   "execution_count": 20,
   "metadata": {},
   "outputs": [
    {
     "name": "stdout",
     "output_type": "stream",
     "text": [
      "Training took (h:mm:ss) 0:00:51\n"
     ]
    }
   ],
   "source": [
    "print(\"Training took (h:mm:ss)\", end_time-start_time)\n",
    "\n",
    "\n",
    "def generate_fixed_ints(enc_dec, bugs, fixed_len, token_map, int_map):\n",
    "    gntd_ints = np.zeros(shape=(len(bugs), fixed_len))\n",
    "    gntd_ints[:, 0] = token_map[\"<soc>\"]\n",
    "    for buggy, generated in tqdm(zip(bugs, gntd_ints), total=len(bugs)):\n",
    "        buggy_input = buggy[np.newaxis]\n",
    "        gntd_in_out = generated[np.newaxis]\n",
    "        for i in range(1, fixed_len):\n",
    "            prediction = enc_dec.predict([buggy_input, gntd_in_out]).argmax(axis=2)\n",
    "            if int_map[prediction[:, i][0]] == \"<eoc>\":\n",
    "                break\n",
    "            generated[i] = prediction[:, i]\n",
    "    \n",
    "    return gntd_ints\n",
    "\n",
    "\n",
    "def decode_ints(int_matrix, int_map):\n",
    "    gntd_codes = []\n",
    "    for ints in int_matrix:\n",
    "        code = [int_map[x] for x in ints if x != 0]\n",
    "        gntd_codes.append(code)\n",
    "        \n",
    "    return gntd_codes"
   ]
  },
  {
   "cell_type": "code",
   "execution_count": 21,
   "metadata": {},
   "outputs": [
    {
     "name": "stderr",
     "output_type": "stream",
     "text": [
      "100%|██████████| 5/5 [00:31<00:00,  5.65s/it]"
     ]
    },
    {
     "name": "stdout",
     "output_type": "stream",
     "text": [
      "Buggy code: String toTest = \"woordenboek_nederlands-3.1.1-sm+tb+fx+fn.xpi\";\n",
      "Fixed code: String toTest = \"turkmen_spell_checker_dictionary-0.1.6-tb+fx+sm.xpi\";\n",
      "Genration:  String toTest = \"turkmen_spell_checker_dictionary-0.1.6-tb+fx+sm.xpi\";\n",
      "=============\n",
      "Buggy code: || (this.collator != null && ! this.collator.equals(other.collator))\n",
      "Fixed code: || (this.collator != null && ! this.collator.equals(other.collator) || (this.collator == null && other.collator != null))\n",
      "Genration:  || (this.collator != null && ! this.collator.equals(other.collator == null && other.collator != null && other.collator != \n",
      "=============\n",
      "Buggy code: dest = _dpMgr.planDeployment(vmProfile, plan, exclude);\n",
      "Fixed code: dest = _dpMgr.planDeployment(vmProfile, plan, exclude, null);\n",
      "Genration:  dest = _dpMgr.planDeployment(vmProfile, plan, exclude, null);\n",
      "=============\n",
      "Buggy code: LOG.info(clazz + \" is not a valid POJO type\");\n",
      "Fixed code: LOG.info(clazz + \" is not a valid POJO type because not all fields are valid POJO fields.\");\n",
      "Genration:  LOG.info(clazz + \" is not a valid POJO type because not all fields are valid POJO fields.\");\n",
      "=============\n",
      "Buggy code: if ((syncSites == null) || syncSites.isEmpty()) {\n",
      "Fixed code: if (syncSites.isEmpty()) {\n",
      "Genration:  if (syncSites.isEmpty()) {\n",
      "=============\n"
     ]
    },
    {
     "name": "stderr",
     "output_type": "stream",
     "text": [
      "\n"
     ]
    }
   ],
   "source": [
    "generated_ints = generate_fixed_ints(encoder_decoder, buggy_inputs, max_fixed_len, token_int_map, int_token_map)\n",
    "generated_codes = decode_ints(generated_ints, int_token_map)\n",
    "for buggy, fixed, gnrtd in zip(buggy_codes, fixed_codes, generated_codes):\n",
    "    print('Buggy code:', ''.join(buggy))\n",
    "    print('Fixed code:', ''.join(fixed[1:-1]))\n",
    "    print('Genration: ', ''.join(gnrtd[1:]))\n",
    "    print('=============')"
   ]
  },
  {
   "cell_type": "code",
   "execution_count": null,
   "metadata": {},
   "outputs": [],
   "source": []
  }
 ],
 "metadata": {
  "kernelspec": {
   "display_name": "tf",
   "language": "python",
   "name": "tf"
  },
  "language_info": {
   "codemirror_mode": {
    "name": "ipython",
    "version": 3
   },
   "file_extension": ".py",
   "mimetype": "text/x-python",
   "name": "python",
   "nbconvert_exporter": "python",
   "pygments_lexer": "ipython3",
   "version": "3.7.4"
  }
 },
 "nbformat": 4,
 "nbformat_minor": 2
}

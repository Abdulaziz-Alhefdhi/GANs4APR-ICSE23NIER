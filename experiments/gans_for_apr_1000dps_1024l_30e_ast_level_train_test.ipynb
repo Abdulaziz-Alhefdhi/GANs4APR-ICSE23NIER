{
 "cells": [
  {
   "cell_type": "markdown",
   "metadata": {},
   "source": [
    "## Retrieve data"
   ]
  },
  {
   "cell_type": "code",
   "execution_count": 1,
   "metadata": {},
   "outputs": [
    {
     "name": "stderr",
     "output_type": "stream",
     "text": [
      "4898it [00:00, 48978.53it/s]"
     ]
    },
    {
     "name": "stdout",
     "output_type": "stream",
     "text": [
      "Collecting file paths...\n"
     ]
    },
    {
     "name": "stderr",
     "output_type": "stream",
     "text": [
      "21757it [00:00, 60279.48it/s]\n",
      "100%|██████████| 43512/43512 [00:00<00:00, 3728498.73it/s]\n",
      "100%|██████████| 43512/43512 [00:00<00:00, 3704657.77it/s]\n",
      " 50%|████▉     | 10811/21756 [00:00<00:00, 53847.68it/s]"
     ]
    },
    {
     "name": "stdout",
     "output_type": "stream",
     "text": [
      "Collecting file contents...\n"
     ]
    },
    {
     "name": "stderr",
     "output_type": "stream",
     "text": [
      "100%|██████████| 21756/21756 [00:00<00:00, 54131.99it/s]\n",
      "100%|██████████| 21756/21756 [00:00<00:00, 55040.81it/s]"
     ]
    },
    {
     "name": "stdout",
     "output_type": "stream",
     "text": [
      "Number of processed files:-\n",
      "21756 buggy files + 21756 fixed files =  43512 files\n"
     ]
    },
    {
     "name": "stderr",
     "output_type": "stream",
     "text": [
      "\n"
     ]
    }
   ],
   "source": [
    "import os\n",
    "from collections import Counter\n",
    "from tqdm import tqdm\n",
    "\n",
    "\n",
    "data_dir = \"/media/aziz/Data/Aziz/data/gans_for_apr/training/\"\n",
    "\n",
    "print(\"Collecting file paths...\")\n",
    "file_paths = [root+'/'+name for root, dirs, files in tqdm(os.walk(data_dir)) for name in files]\n",
    "buggy_paths = [f_path for f_path in tqdm(file_paths) if 'buggy' in f_path]\n",
    "fixed_paths = [f_path for f_path in tqdm(file_paths) if 'fixed' in f_path]\n",
    "\n",
    "print(\"Collecting file contents...\")\n",
    "buggy_data = []\n",
    "for path in tqdm(buggy_paths):\n",
    "    with open(path, 'r', encoding='utf-8') as f:\n",
    "        buggy_data.append(f.read())\n",
    "fixed_data = []\n",
    "for path in tqdm(fixed_paths):\n",
    "    with open(path, 'r', encoding='utf-8') as f:\n",
    "        fixed_data.append(f.read())\n",
    "\n",
    "print('Number of processed files:-')\n",
    "print(len(buggy_data), 'buggy files +', len(fixed_data), 'fixed files = ', len(buggy_data)+len(fixed_data), 'files')"
   ]
  },
  {
   "cell_type": "markdown",
   "metadata": {},
   "source": [
    "## Clean data - Reduce noise"
   ]
  },
  {
   "cell_type": "markdown",
   "metadata": {},
   "source": [
    "### Remove comments"
   ]
  },
  {
   "cell_type": "code",
   "execution_count": 2,
   "metadata": {},
   "outputs": [
    {
     "name": "stderr",
     "output_type": "stream",
     "text": [
      "100%|██████████| 21756/21756 [00:00<00:00, 115267.20it/s]\n",
      "100%|██████████| 21756/21756 [00:00<00:00, 115610.53it/s]"
     ]
    },
    {
     "name": "stdout",
     "output_type": "stream",
     "text": [
      "Comments have been removed\n"
     ]
    },
    {
     "name": "stderr",
     "output_type": "stream",
     "text": [
      "\n"
     ]
    }
   ],
   "source": [
    "import re\n",
    "\n",
    "\n",
    "def remove_comments(code):\n",
    "    code = re.sub('(?s)/\\*.*?\\*/', '', code)\n",
    "    return re.sub('(//[^\\n]*)', '', code)\n",
    "\n",
    "\n",
    "buggy_no_comments = [remove_comments(x) for x in tqdm(buggy_data)]\n",
    "fixed_no_comments = [remove_comments(x) for x in tqdm(fixed_data)]\n",
    "print('Comments have been removed')"
   ]
  },
  {
   "cell_type": "markdown",
   "metadata": {},
   "source": [
    "### Remove unnecessary white spaces"
   ]
  },
  {
   "cell_type": "code",
   "execution_count": 3,
   "metadata": {},
   "outputs": [
    {
     "name": "stderr",
     "output_type": "stream",
     "text": [
      "100%|██████████| 21756/21756 [00:00<00:00, 29720.15it/s]\n",
      "100%|██████████| 21756/21756 [00:00<00:00, 30270.56it/s]"
     ]
    },
    {
     "name": "stdout",
     "output_type": "stream",
     "text": [
      "White spaces have been removed\n"
     ]
    },
    {
     "name": "stderr",
     "output_type": "stream",
     "text": [
      "\n"
     ]
    }
   ],
   "source": [
    "def remove_spaces(code):\n",
    "    '''This function removes excessive spaces and keeps necessary ones'''\n",
    "    code = code.splitlines()\n",
    "    result = []\n",
    "    for line in code:\n",
    "        line = line.split()\n",
    "        line = ' '.join(line)\n",
    "        if len(line) > 0:  # Remove empty lines\n",
    "            result.append(line)\n",
    "    \n",
    "    return '\\n'.join(result)\n",
    "\n",
    "\n",
    "buggy_no_spaces = [remove_spaces(x) for x in tqdm(buggy_no_comments)]\n",
    "fixed_no_spaces = [remove_spaces(x) for x in tqdm(fixed_no_comments)]\n",
    "print('White spaces have been removed')"
   ]
  },
  {
   "cell_type": "markdown",
   "metadata": {},
   "source": [
    "### Remove identical buggy and fixed codes"
   ]
  },
  {
   "cell_type": "code",
   "execution_count": 4,
   "metadata": {},
   "outputs": [
    {
     "name": "stdout",
     "output_type": "stream",
     "text": [
      "4726 code pairs have been removed\n",
      "Current # data points: 17030\n"
     ]
    }
   ],
   "source": [
    "buggy_texts, fixed_texts = [], []\n",
    "for buggy, fixed in zip(buggy_no_spaces, fixed_no_spaces):\n",
    "    if buggy != fixed:\n",
    "        buggy_texts.append(buggy)\n",
    "        fixed_texts.append(fixed)\n",
    "print(len(buggy_no_spaces)-len(buggy_texts), 'code pairs have been removed')\n",
    "print('Current # data points:', len(buggy_texts))"
   ]
  },
  {
   "cell_type": "markdown",
   "metadata": {},
   "source": [
    "### Remove duplicated pairs in the dataset"
   ]
  },
  {
   "cell_type": "code",
   "execution_count": 5,
   "metadata": {},
   "outputs": [
    {
     "name": "stdout",
     "output_type": "stream",
     "text": [
      "3857 code pairs have been removed\n",
      "Current # data points: 13173\n"
     ]
    }
   ],
   "source": [
    "text_pairs = [(x, y) for x, y in zip(buggy_texts, fixed_texts)]\n",
    "code_pairs = sorted(set(text_pairs))  # Sorted to ensure same order every run (not sure if 'set' works randomly)\n",
    "\n",
    "buggy_codes = [x[0] for x in code_pairs]\n",
    "fixed_codes = [x[1] for x in code_pairs]\n",
    "\n",
    "print(len(text_pairs)-len(code_pairs), 'code pairs have been removed')\n",
    "print('Current # data points:', len(buggy_codes))"
   ]
  },
  {
   "cell_type": "markdown",
   "metadata": {},
   "source": [
    "## Calculate Diffs"
   ]
  },
  {
   "cell_type": "code",
   "execution_count": 6,
   "metadata": {},
   "outputs": [
    {
     "name": "stderr",
     "output_type": "stream",
     "text": [
      "13173it [00:03, 3798.52it/s]\n"
     ]
    }
   ],
   "source": [
    "from difflib import ndiff\n",
    "\n",
    "\n",
    "initial_diffs = [list(ndiff(x.splitlines(), y.splitlines())) for x, y in tqdm(zip(buggy_codes, fixed_codes))]"
   ]
  },
  {
   "cell_type": "markdown",
   "metadata": {},
   "source": [
    "### Restrict to one-line difference"
   ]
  },
  {
   "cell_type": "code",
   "execution_count": 7,
   "metadata": {},
   "outputs": [
    {
     "name": "stderr",
     "output_type": "stream",
     "text": [
      "100%|██████████| 13173/13173 [00:00<00:00, 68397.84it/s]"
     ]
    },
    {
     "name": "stdout",
     "output_type": "stream",
     "text": [
      "322 code pairs have been removed\n",
      "Current # data points: 12851\n"
     ]
    },
    {
     "name": "stderr",
     "output_type": "stream",
     "text": [
      "\n"
     ]
    }
   ],
   "source": [
    "one_line_diffs = []\n",
    "for diff in tqdm(initial_diffs):\n",
    "    if sum([1 for x in diff if x.startswith('-')]) > 1 or sum([1 for x in diff if x.startswith('+')]) > 1:\n",
    "        continue\n",
    "    one_line_diffs.append(diff)\n",
    "\n",
    "print(len(initial_diffs)-len(one_line_diffs), 'code pairs have been removed')\n",
    "print('Current # data points:', len(one_line_diffs))"
   ]
  },
  {
   "cell_type": "markdown",
   "metadata": {},
   "source": [
    "### Restrict to modified lines (exclude added/deleted lines)"
   ]
  },
  {
   "cell_type": "code",
   "execution_count": 8,
   "metadata": {},
   "outputs": [
    {
     "name": "stderr",
     "output_type": "stream",
     "text": [
      "100%|██████████| 12851/12851 [00:00<00:00, 76759.75it/s]"
     ]
    },
    {
     "name": "stdout",
     "output_type": "stream",
     "text": [
      "7102 code pairs have been removed\n",
      "Current # data points: 5749\n"
     ]
    },
    {
     "name": "stderr",
     "output_type": "stream",
     "text": [
      "\n"
     ]
    }
   ],
   "source": [
    "diffs = []\n",
    "for diff in tqdm(one_line_diffs):\n",
    "    for i, x in enumerate(diff):\n",
    "        if x.startswith('+') and diff[i-1].startswith('-'):\n",
    "            diffs.append((diff[i-1][2:], x[2:]))\n",
    "\n",
    "print(len(one_line_diffs)-len(diffs), 'code pairs have been removed')\n",
    "print('Current # data points:', len(diffs))"
   ]
  },
  {
   "cell_type": "markdown",
   "metadata": {},
   "source": [
    "#### Shuffle and keep only 1000 data points"
   ]
  },
  {
   "cell_type": "code",
   "execution_count": 9,
   "metadata": {},
   "outputs": [],
   "source": [
    "from random import seed, sample\n",
    "\n",
    "\n",
    "seed(30)\n",
    "shuf_diffs = sample(diffs, k=len(diffs))\n",
    "final_diffs = shuf_diffs[:1000]\n",
    "train_diffs, test_diffs = final_diffs[:900], final_diffs[900:]\n",
    "\n",
    "train_buggy_lines = [x[0] for x in train_diffs]\n",
    "train_fixed_lines = [x[1] for x in train_diffs]\n",
    "\n",
    "test_buggy_lines = [x[0] for x in test_diffs]\n",
    "test_fixed_lines = [x[1] for x in test_diffs]"
   ]
  },
  {
   "cell_type": "markdown",
   "metadata": {},
   "source": [
    "# The Experiment"
   ]
  },
  {
   "cell_type": "code",
   "execution_count": 10,
   "metadata": {},
   "outputs": [
    {
     "name": "stdout",
     "output_type": "stream",
     "text": [
      "Before vectorisation:-\n",
      "return Class.forName(className);\n",
      "return JavaUtils.loadClass(className);\n",
      "====================\n",
      "After vectorisation:-\n",
      "['return', 'Class', '.', 'forName', '(', 'className', ')', ';']\n",
      "['<sol>', 'return', 'JavaUtils', '.', 'loadClass', '(', 'className', ')', ';', '<eol>']\n"
     ]
    }
   ],
   "source": [
    "import javalang\n",
    "\n",
    "\n",
    "def create_tokenised(code_lines, fixed=False):\n",
    "    code_streams = [javalang.tokenizer.tokenize(x, ignore_errors=True) for x in code_lines]\n",
    "    code_tokenised = []\n",
    "    for code in code_streams:\n",
    "        code_tokenised.append([x.value for x in code])\n",
    "    if fixed:\n",
    "        return [['<sol>']+x+['<eol>'] for x in code_tokenised]\n",
    "    else:\n",
    "        return code_tokenised\n",
    "    \n",
    "\n",
    "train_buggy_tokenised = create_tokenised(train_buggy_lines)\n",
    "train_fixed_tokenised = create_tokenised(train_fixed_lines, True)\n",
    "test_buggy_tokenised = create_tokenised(test_buggy_lines)\n",
    "test_fixed_tokenised = create_tokenised(test_fixed_lines, True)\n",
    "\n",
    "\n",
    "print(\"Before vectorisation:-\")\n",
    "print(train_buggy_lines[2])\n",
    "print(train_fixed_lines[2])\n",
    "print(\"====================\")\n",
    "print(\"After vectorisation:-\")\n",
    "print(train_buggy_tokenised[2])\n",
    "print(train_fixed_tokenised[2])"
   ]
  },
  {
   "cell_type": "code",
   "execution_count": 11,
   "metadata": {},
   "outputs": [],
   "source": [
    "vocab = set([x for y in train_buggy_tokenised for x in y]+[x for y in train_fixed_tokenised for x in y])\n",
    "token_int_map = dict([(token, i+1) for i, token in enumerate(vocab)])\n",
    "vocab.add('<pad/unknown>')\n",
    "token_int_map['<pad/unknown>'] = 0\n",
    "int_token_map = dict((i, token) for token, i in token_int_map.items())"
   ]
  },
  {
   "cell_type": "code",
   "execution_count": 12,
   "metadata": {},
   "outputs": [
    {
     "name": "stdout",
     "output_type": "stream",
     "text": [
      "{1: 'response', 2: 'metrics', 3: 'asCQL3Type', 4: 'assert', 5: 'BioshiftSecondTargetCreaturePermanent', 6: 'VmWorkMigrate', 7: '\"editing.altInsert.tostring.settings\"', 8: 'symToParse', 9: 'scheme', 10: 'toIntExact', 11: 'createTypeSignature', 12: 'updateIndexes', 13: '\"testIndexWriter\"', 14: 'RAMDirectory', 15: 'Nonnull', 16: 'bitmapFont', 17: 'poi', 18: 'getDistPrecision', 19: 'ExprNodeDesc', 20: 'clusterClient', 21: '\"BETWEEN\"', 22: 'ps', 23: 'DataCoding', 24: 'PigServer', 25: 'Session', 26: 'finalOffset', 27: 'msgHeader', 28: 'UUID', 29: 'readProperty', 30: 'isEmptyInput', 31: 'PATH_TO_DIR', 32: 'toWriter', 33: 'getFamilyCellMap', 34: 'editHelper', 35: '\"The connection to \"', 36: 'test', 37: 'request', 38: 'address', 39: 'tes94FilterRowCompatibility', 40: 'ZIP_FILE', 41: 'HiveParser', 42: 'stsProperties', 43: 'createSerializer', 44: 'MetaAdapterFactory', 45: 'keylength', 46: 'numberToText', 47: 'BUILTIN', 48: 'function', 49: 'indexName', 50: 'CLUSTER_ID', 51: '\"Ensure message re-readability in the exception handler\"', 52: '\"hive4159\"', 53: 'maskIfPassword', 54: 'CONCURRENT_HASHMAP', 55: '\"analyzer\"', 56: 'setDescription', 57: 'required', 58: 'getSelectedRow', 59: 'expected', 60: 'tsk', 61: 'isDisablingOrDisabledTable', 62: 'po', 63: 'myTestsListener', 64: 'DocGen', 65: 'float', 66: 'compareTo', 67: 'tempFileName', 68: 'testId', 69: 'StatusLine', 70: 'getReservedCapacity', 71: 'putAll', 72: 'color', 73: 'getStructFieldTypeInfo', 74: 'CompilerRunnerConstants', 75: '300', 76: 'queryString', 77: 'clusterType', 78: 'HiveConf', 79: '\"Log[\"', 80: 'addIgnored', 81: 'GeoUtils', 82: '\"Requires administration permission\"', 83: 'svnRevision', 84: '\"headers for prebuilt library \\'\"', 85: 'readSplitInfo', 86: 'TermsQuery', 87: 'searcher', 88: 'TezSessionState', 89: 'vmId', 90: 'addressList', 91: 'splitkey', 92: 'getIcon', 93: 'getDomainId', 94: 'getPathList', 95: 'metaData', 96: 'hasBothReferenceAndCurrentSource', 97: 'deploy', 98: '\"PCH\"', 99: 'curIndex', 100: 'mapToHiveType', 101: 'Exchange', 102: 'earthDiameter', 103: 'SKIP_NULLS', 104: 'defaults', 105: 'stop', 106: 'PageFactory', 107: 'sourcePath', 108: 'hostname', 109: 'principal', 110: '\"INSERT INTO `cloud`.`snapshot_store_ref` (store_id, snapshot_id, created, size, parent_snapshot_id, install_path, volume_id, update_count, ref_cnt, store_role, state) select sechost_id, id, created, size, prev_snap_id, path, volume_id, 0, 0, \\'Image\\', \\'Ready\\' from `cloud`.`snapshots` where status = \\'BackedUp\\' and sechost_id is not null and removed is null\"', 111: 'proxies', 112: 'dc', 113: 'hiveConfDir', 114: 'MockTokenizer', 115: 'ReplaceIfPresentFlag', 116: 'childrenLatch', 117: 'TestingClusterClient', 118: 'projects', 119: 'jobClass', 120: '0x9b92103b95ca8c0cL', 121: 'findById', 122: 'TEMPORARY', 123: 'docWriter', 124: 'jobId', 125: '\"<br/>Frame \\'\"', 126: 'Basic', 127: 'hivePrivObject', 128: 'l', 129: 'ramCopyOf', 130: '_resourceLimitMgr', 131: 'docValues', 132: 'getClassesGen', 133: 'Func', 134: 'DATABASE_NOT_EXISTS', 135: 'moduleVersionId', 136: 'searchRequest', 137: 'mPreviousKey', 138: 'set', 139: 'enableJobReconnect', 140: 'DEFAULT_SHARD_ASSIGNER', 141: 'UnresolvedUnionException', 142: 'GET', 143: 'privateNtwk', 144: '\"atom:file:target/out.atom\"', 145: 'toUpperCase', 146: 'partitionCache', 147: 'build', 148: 'op', 149: 'builder', 150: 'FunctionType', 151: 'EntityConditionList', 152: 'StopCommand', 153: 'provider', 154: 'thread', 155: 'groupBySchema', 156: 'inputFile', 157: 'email', 158: 'DataType', 159: 'escapePath', 160: 'getFragmentBytesSignature', 161: '\"clazz\"', 162: 'minTier', 163: '\"Disconnecting from \"', 164: 'getColumn', 165: '+=', 166: 'alias', 167: 'childProcessor', 168: '\" \"', 169: 'getAllCols', 170: 'getLocks', 171: 'HBaseConfiguration', 172: 'partitionFile', 173: 'getLocalPort', 174: 'TRANSFORM', 175: 'ClientMessage', 176: 'isTransactionalTable', 177: '\"-cnt\\\\\"\"', 178: 'plc', 179: 'outputSelectors', 180: 'config', 181: 'statement', 182: 'ss', 183: 'componentSpec', 184: 'dirName', 185: 'loadClass', 186: 'getSessionInfo', 187: 'newNtwkOffId', 188: 'getCapHeight', 189: 'attr', 190: 'NonSpillableDataBag', 191: 'snapshotStore', 192: 'nodeConds', 193: 'compressionKind', 194: 'ServiceList', 195: 'JsonMetadata', 196: 'Pair', 197: 'FilteredTraverser', 198: '\"Not in union \"', 199: 'Parameters', 200: 'halfReader', 201: '\", partitionName.indexOf(\\\\\"/\\\\\", \"', 202: 'SPILL_SAMPLE_FREQUENCY', 203: 'getProperty', 204: 'tableScan', 205: 'private', 206: 'schema', 207: 'mFileSystem', 208: 'sql', 209: 'out', 210: 'getHadoopShims', 211: 'cmd', 212: 'llapSplit', 213: 'reader', 214: 'OInitException', 215: 'FieldInfo', 216: 'USEMSLAB_KEY', 217: 'getUserNameFromPrincipal', 218: 'currAliasId', 219: 'setOwner', 220: 'tagCompressionContext', 221: 'connectIfNecessary', 222: '\" connector = new \"', 223: 'buffer', 224: 'sessionDelegate', 225: 'invoke', 226: 'defaultFetchRows', 227: 'pathFileSplitsMap', 228: 'DoNotRetryIOException', 229: 'term', 230: 'getRequired', 231: 'ao', 232: 'amNodeInfo', 233: 'seqVo', 234: 'isKeyTuple', 235: '\"headers\"', 236: 'getId', 237: 'walEdit', 238: '\"\\\\ncloseDocStore: \"', 239: 'Content', 240: 'f', 241: '0xd40d465dded40d0L', 242: 'buf', 243: 'postings', 244: '\"Custom measures management\"', 245: 'Sampler', 246: 'DelverOfSecretsEffect', 247: 'expunge', 248: 'CONF_ACID_KEY', 249: 'append', 250: 'selectOp', 251: 'make', 252: 'StructObjectInspector', 253: '\"histo\"', 254: '0x509450762bec97f8L', 255: '\"xoo\"', 256: '\"The affix file contains a rule with less than four elements\"', 257: 'enablelog', 258: 'DefaultEmitter', 259: 'receiver', 260: '\" has been closed.\"', 261: 'filter', 262: 'SpellChecker', 263: 'fgBlue', 264: 'writer', 265: '\"heartbeat\"', 266: 'r', 267: '\"();\\\\n\"', 268: 'setSource', 269: 'doc', 270: '\"^\"', 271: 'SHIFT_SIGNS', 272: 'companyId', 273: 'getDisplayVolume', 274: 'cctx', 275: 'instanceof', 276: 'AkismetUtil', 277: 'minLon', 278: '\"Cannot cast from \"', 279: 'fillDefaultStorageFormat', 280: 'username', 281: 'processorSupplier', 282: '\"value\"', 283: 'omitTF', 284: 'for', 285: 'aggregateScalarsFiles', 286: '==', 287: 'list', 288: 'Iterator', 289: 'registry', 290: 'randomUUID', 291: 'INTERNAL_SERVER_ERROR_500', 292: 'getContextForSingleFile', 293: 'ChannelBuffer', 294: 'txid', 295: 'getImplementationVersion', 296: 'configProps', 297: 'shortJavaType', 298: 'getHaServer', 299: 'peeked', 300: 'metric', 301: 'toArray', 302: 'getRelOptSchema', 303: 'getUsedCapacity', 304: '\"Scanning for projects...\"', 305: 'getKey', 306: 'apache', 307: 'getRegionNameAsString', 308: 'cs', 309: 'hiByte', 310: 'job', 311: 'vmName', 312: 'isConsistentWithinQuery', 313: 'bitsPerValue', 314: 'urlPath', 315: 'addedClazz', 316: 'uniquify', 317: 'post', 318: 'leaderGateway', 319: 'SQLAuthorizationUtils', 320: 'zkpClient', 321: 'reference', 322: 'checkpointsMatch', 323: 'tx', 324: 'MergeFileRecordProcessor', 325: 'getSchemaEvolution', 326: 'missingRequired', 327: 'Node', 328: 'currentThread', 329: '|', 330: 'MAP_FIXED_OVERHEAD', 331: 'resultSetConcurrency', 332: 'NetworkType', 333: 'defaultIfEmpty', 334: 'PigStats', 335: 'normalizeCharset', 336: 'stopRouteService', 337: '\" class=\\\\\"\"', 338: 'sqi', 339: '\"[\"', 340: 'MetaStoreThread', 341: '{', 342: 'curRoles', 343: '\"Field \"', 344: 'tableTypeList', 345: 'columnId', 346: 'writeBytes', 347: 'VARIABLE', 348: '\"byte streams for serialisation test are not equal\"', 349: 'admin', 350: 'asTFIDF', 351: 'loadFileWork', 352: 'ReverseDependencyOrderWalker', 353: 'Machine', 354: 'DEFAULT_HBASE_REGIONSERVER_LEASE_PERIOD', 355: 'getShortName', 356: 'text', 357: 'processImplicitActions', 358: 'toDOMSource', 359: 'SortSorter', 360: 'aclId', 361: 'getDbTime', 362: 'org', 363: 'targetSize', 364: 'actionGet', 365: 'Parser', 366: '\"registry entry called hello must be specified on: process[ref:hello]\"', 367: 'termsConsumer', 368: 'env', 369: 'ASTNode', 370: 'LOCAL', 371: 'Byte', 372: '\"Skiped retrieval of file: {} from: {}\"', 373: 'meta', 374: 'zkw', 375: 'stringValue', 376: 'getSpellAbility', 377: 'IOException', 378: 'additionalHeaders', 379: 'GithubUtil', 380: 'isInstance', 381: 'nzeros', 382: 'select', 383: 'm_queuedBuffers', 384: 'superComponents', 385: 'getVersionedBytes', 386: 'getTokenFileLocEnvName', 387: 'proc', 388: '180L', 389: '\"Use resolveVariable(XelContext,Object,Object) instead\"', 390: 'addField', 391: 'createUserAccount', 392: 'tupleEquals', 393: 'standardizeIp6Address', 394: 'LevensteinDistance', 395: '@', 396: 'keyFields2', 397: 'authenticator', 398: 'getRowType', 399: 'COMPOSITE_SHIFT_SIGN', 400: 'Throwable', 401: 'localGraph', 402: 'bytes', 403: 'lockId', 404: 'getPath', 405: 'LetterTokenizer', 406: '\"Shuffle Port must be betwee 1024 and 65535, or 0 for automatic selection\"', 407: 'sameKeyType', 408: '60000', 409: 'dagAMConf', 410: 'noColsMissingStats', 411: 'iw', 412: 'getProperties', 413: 'namespaceDelimIndex', 414: 'parentHint', 415: '\"tags\"', 416: '\"db/data\"', 417: 'i4', 418: 'daemonConf', 419: 'task', 420: 'USER_DEFINED_FUNCTION', 421: 'SMTestListener', 422: 'merged', 423: 'UserGroupInformation', 424: '\"Manage custom measures for a project. See also api/metrics.\"', 425: 'RatingsManager', 426: 'isEmpty', 427: 'DefaultParser', 428: 'getConnectorKey', 429: 'Sort', 430: 'setTaskPlan', 431: 'BioshiftSecondTargetPermanent', 432: '\"short message body\"', 433: 'mro', 434: 'HCatHadoopShims', 435: '6', 436: 'AnalyzerFacadeWithCache', 437: 'createCellScanner', 438: 'body', 439: 'mangle', 440: 'TYPE_SCROLL_INSENSITIVE', 441: 'getHostName', 442: 'nick', 443: 'toMessage', 444: 'extends', 445: '/', 446: 'newFindbugs', 447: 'COL_REGIONINFO_ARRAY', 448: 'Application', 449: 'CollectionUtils', 450: 'setCapacityUsed', 451: 'GeoRelationUtils', 452: 'Employee', 453: 'File', 454: 'type', 455: 'getSimilarityPercent', 456: '\"join3.q\"', 457: 'createFileLanguageExpression', 458: 'source', 459: 'purgeContent', 460: '\"Stopping Google PubSub consumer for {}/{}\"', 461: '\"hiveConfDir\"', 462: 'checkColumn', 463: 'createConsumer', 464: 'tagTable', 465: 'ts', 466: 'JobKey', 467: 'report', 468: '\"No bean could be found in the registry for: hello of type: org.apache.camel.Processor\"', 469: '500', 470: 'col', 471: 'RuntimeException', 472: 'getComponentNameArray', 473: 'Runnable', 474: 'YES_NO', 475: 'User', 476: 'replLogTask', 477: 'key', 478: '2', 479: 'unmodifiableCollection', 480: 'alterTblDesc', 481: 'isOwner', 482: 'flushedFiles', 483: 'quartzScheduler', 484: 'JDOMExternalizer', 485: '\"user.home\"', 486: 'h', 487: 'ResourceType', 488: 'fieldNode', 489: 'execute', 490: 'pos', 491: 'ArrangementTreeNode', 492: 'TimeUnit', 493: 'getExecutor', 494: 'VALUE_NULL', 495: 'withOutputType', 496: 'setPhysicalSize', 497: 'mac', 498: 'None', 499: 'getStorage', 500: 'outTypeInformation', 501: '_networksDao', 502: 'Schema', 503: 'c', 504: 'hashCode', 505: 'field', 506: 'createInstance', 507: 'Utilities', 508: 'getTarget', 509: 'wh', 510: 'remoteServerInformation', 511: 'tansformAndEmit', 512: 'CloneCaretActionHandler', 513: 'escape', 514: 'StandardTokenizer', 515: 'toTest', 516: 'jobGraph', 517: 'path', 518: 'mbMessageId', 519: '\"Projects management\"', 520: 'isMimeMessage', 521: 'sourceSerDe', 522: 'nextSampleIdx', 523: '\"TS\"', 524: 'getUserCodeClassloader', 525: 'correctOffset', 526: 'addComponentPermission', 527: 'readerType', 528: 'lastSeekScratch', 529: 'Decl', 530: 'tests', 531: 'XmlConverter', 532: 'SQLException', 533: '\"new.resolution\"', 534: 'maximum', 535: 'setProperty', 536: 'Configuration', 537: 'original', 538: 'readerToFile', 539: 'certificate', 540: 'getTable', 541: 'mKeySchema', 542: 'Enum', 543: 'listenerName', 544: 'deleteRegion', 545: 'JsonToken', 546: 'hsl', 547: 'rowProcessed', 548: 'getPublishedAs', 549: 'j', 550: 'getFutureExecutor', 551: 'PyTableCode', 552: 'getDatabaseName', 553: 'oldConf', 554: '=', 555: 'Path', 556: 'DelverOfSecretsAbility', 557: 'FormatFactory', 558: 'endpoint', 559: 'RATINGS_CONFIG_CLASS_FIELDNAME_STORAGE_SPACE', 560: 'answer', 561: 'SEARCH_STRING_ESCAPE', 562: 'stagingDir', 563: 'public', 564: 'indexOfKeyStr', 565: '\"/objs/\"', 566: 'success', 567: '\"', 568: 'GreenMailUtilities', 569: 'SurveillanceIntersection', 570: 'extract', 571: 'OrFilter', 572: 'setAcidTableScan', 573: 'attSize', 574: 'Store', 575: 'it', 576: 'destStr', 577: 'tezBucketJoinProcCtx', 578: 'compare', 579: 'anyRow', 580: 'toFileEntriesAndFolders', 581: 'getPort', 582: 'VOID_GROUP', 583: 'Operator', 584: 'getOutput', 585: 'serviceRegistry', 586: 'ServerName', 587: 'SLASH', 588: 'Reader', 589: 'Response', 590: 'when', 591: '\"The affix file contains a rule with less than five elements\"', 592: 'setSize', 593: 'VmWorkMigrateForScale', 594: '28', 595: '\"llll\"', 596: 'localLog', 597: 'aryEq', 598: 'resourceId', 599: 'vpc', 600: 'HFileScanner', 601: '\"\\' now has \"', 602: 'NumberFormatException', 603: 'defaultValue', 604: 'getDefaultValue', 605: 'setup', 606: 'jmxShutdownHook', 607: 'rootdir', 608: 'random', 609: 'FieldCache', 610: 'isCanceled', 611: 'context', 612: 'reloadClazzName', 613: 'getInputs', 614: 'Functions', 615: 'jsonObj', 616: 'pattern', 617: 'findTypeName', 618: 'metaScan', 619: '\"The parallelism must be at least one, or ExecutionConfig.PARALLELISM_DEFAULT (use system default).\"', 620: 'getSourcePortStart', 621: '\")\"', 622: 'METRICS_CONTEXT', 623: 'exchange', 624: 'DEFAULT_FETCH_MAX_ROWS', 625: 'subSpans', 626: 'eventHandler', 627: 'put', 628: 'break', 629: '12L', 630: 'getFilterPlan', 631: 'forTimestamp', 632: 'docIds', 633: 'configuration', 634: 's_logger', 635: '__test_dir', 636: 'getCompilationOpContext', 637: '\"hive client\"', 638: 'warn', 639: 'ok', 640: 'macAddress', 641: 'writeStringField', 642: 'ht', 643: 'getOnlySegmentReader', 644: 'withName', 645: 'writeType', 646: 'addTarget', 647: 'equals', 648: 'fanIndex', 649: 'getReader', 650: 'getPluginException', 651: '\"\\\\\"\"', 652: 'setProxyCredentialsIfEnabled', 653: 'existingServer', 654: 'cast', 655: 'dictType', 656: 'dateHistogram', 657: '_configDao', 658: 'cacheConf', 659: 'blocking', 660: 'processorType', 661: '\"service.pid=\"', 662: 'npex', 663: 'interfaceName', 664: 'IN', 665: 'ACCOUNT_TYPE_ADMIN', 666: '\"?\"', 667: 'Builder', 668: 'skipped', 669: 'InstantiationUtil', 670: 'MAX_PARALLELISM', 671: 'skipNulls', 672: 'longValue', 673: 'DefaultCacheManagerFactory', 674: 'NetworkStateListener', 675: 'AccessType', 676: 'loc', 677: '\"unexpected error\"', 678: 'error', 679: '100', 680: 'startedServing', 681: 'TypeInformation', 682: 'comp', 683: '\"dest3\"', 684: 'convertToServerId', 685: 'results', 686: 'top', 687: 'curChar', 688: 'from', 689: '\"btq, product of:\"', 690: 'ForbiddenException', 691: 'root', 692: 'names', 693: 'getSuccessors', 694: 'F', 695: 'transformationVisitors', 696: 'isAcid', 697: 'vrbCtx', 698: 'continue', 699: 'transformId', 700: 'HFile', 701: 'charset', 702: 'baseUri', 703: 'JacksonUtils', 704: 'clusterId', 705: 'colInfo', 706: 'evaluateIfConditionalExpr', 707: 'xml', 708: 'DropPartitionEvent', 709: 'SIGNATURE_PUBLIC_KEY_OR_CERT', 710: '\"twitter-find-component:\"', 711: 'schemaToMergedSchemaMap', 712: 'getOperator', 713: 'name', 714: 'stream', 715: 'isNear', 716: 'TOPIC_QUEUE_NAME', 717: 'getValue', 718: 'intVal', 719: 'fsMasterClient', 720: 'getHeader', 721: 'docSort', 722: 'setIfUnset', 723: 'maxTier', 724: 'KeyedOneInputStreamOperatorTestHarness', 725: \"'\\\\0'\", 726: 'params', 727: '\"custom-processor\"', 728: 'OIdentifiable', 729: 'getVar', 730: 'getCamelContext', 731: 'initialSize', 732: '\"Edge Security Profile for Tenant VDC\"', 733: '\"Requires system administration permission\"', 734: 'getWriterFactory', 735: 'addTaxonomies', 736: 'directoryOrig', 737: 'si', 738: 'getLinkedExternalProjectPath', 739: 'setVersion', 740: '\"org.apache.parquet.hadoop.ParquetInputFormat,org.apache.hadoop.hive.ql.io.parquet.MapredParquetInputFormat\"', 741: 'delegate', 742: 'currDAG', 743: 'iterator', 744: 'getOutputDirectory', 745: 'cl', 746: 'TupleFactory', 747: 'BeginningOfUpkeepTriggeredAbility', 748: 'resolveDistErr', 749: 'KernelServices', 750: 'resolvePropertyPlaceholders', 751: 'prefix', 752: 'OUT', 753: 'HiveAuthzPluginException', 754: 'Writer', 755: 'userAccount', 756: 'debug', 757: '\"creating private ip adress for vpc (\"', 758: 'getGraph', 759: 'Entry', 760: 'getContextClassLoader', 761: 'XPathCache', 762: 'rectWithin', 763: 'min', 764: 'SortField', 765: 'dbName', 766: 'AnalysisService', 767: 'FIELD', 768: 'getTmpFileName', 769: 'getType', 770: 'EucaCert', 771: 'executionConfig', 772: 'FileLocalizer', 773: 'ignore', 774: '\"Log(\"', 775: 'ANY_DISTRIBUTION', 776: 'rowObjectInspector', 777: 'createKernelServicesBuilder', 778: '_len2', 779: 'gateway', 780: 'db', 781: 'DartResolveUtil', 782: 'znode', 783: 'failure', 784: '\"Last Hearbeat\"', 785: 'innerClasses', 786: 'isMapMailMessage', 787: 'Max', 788: 'getNextDocData', 789: '\", partitionName.concat(\\\\\"/\\\\\").indexOf(\\\\\"/\\\\\", \"', 790: 'vlength', 791: 'UnknownRegionException', 792: 'mjCtx', 793: 'typeMapper', 794: 'ExceptionUtils', 795: '0x110396ec041L', 796: 'getRSConnectAvailable', 797: 'VALUE_NUMBER_INT', 798: 'HBaseRPCProtocolVersion', 799: 'aggregations', 800: 'changeMethod', 801: 'USEMSLAB_DEFAULT', 802: 'shift', 803: 'CLASS', 804: 'batch', 805: 'releaseExclusive', 806: '\"Close Code\"', 807: 'accessType', 808: '\"c1\"', 809: 'AddCountersSourceEffect', 810: 'HiveAuthenticationProvider', 811: 'taskId', 812: 'rs', 813: '\"if\"', 814: 'first', 815: 'isMetaTable', 816: 'readOsStats', 817: 'writePartitionKeys', 818: 'ScanQueryMatcher', 819: 'QUERY_OUTPUT', 820: 'oc', 821: '_len', 822: 'Min', 823: 'CvsRevisionNumber', 824: 'ZIP_FILE_BIN', 825: 'createWithParents', 826: 'SqlValidatorUtil', 827: 'closeCode', 828: 'Term', 829: 'canUseLlapIo', 830: 'outputStream', 831: 'assertNull', 832: 'LevenshteinDistance', 833: 'SAML2AuthManager', 834: 'ScoreMergeMode', 835: 'NodeProcessorCtx', 836: 'is', 837: '\"KERBEROS\"', 838: 'work', 839: '\"\"', 840: 'RandomSampler', 841: '\"LIKE\"', 842: 'DocData', 843: 'failures', 844: 'NetworkModel', 845: 'MockTokenFilter', 846: 'SqlFunctionCategory', 847: 'RebootCommand', 848: 'sb', 849: 'FunctionRegistry', 850: 'WhitespaceTokenizer', 851: 'indexReaderContextId', 852: 'services', 853: '\"fakefile\"', 854: 'loadTableWork', 855: 'getConnectors', 856: 'getDefaultType', 857: 'getLabelAttrs', 858: 'device', 859: 'blockIndex', 860: 'lastTryRetrievedCheckpoints', 861: 'commandLine', 862: 'PCENT', 863: 'CompletedCheckpoint', 864: 'RecreatableSystemVmEnabled', 865: 'groupName', 866: '\" \\\\\"intervals\\\\\": [ \\\\\"2012-01-01T00:00:00.000/2012-01-03T00:00:00.000\\\\\" ]\"', 867: 'wait', 868: 'getExpression', 869: 'loadTableDesc', 870: '\"Empty input: skip limit optimiztion\"', 871: 'getLastSpaceReference', 872: '\"Incrementer\"', 873: 'files', 874: 'AlluxioURI', 875: 'currentTimeMillis', 876: 'final', 877: 'withinInterface', 878: 'INDEX_TABLE_NAME', 879: 'Metadata', 880: '8192', 881: 'codec', 882: 'WHITESPACE', 883: 'toURI', 884: 'isSparkExecEngine', 885: '\"direct:b\"', 886: 'MemStoreLAB', 887: 'UnsafeUriCharactersEncoder', 888: 'isNullOrEmpty', 889: 'getJobID', 890: 'size', 891: 'getNamespaces', 892: 'cConfFile', 893: 'roleDesc', 894: 'PrimitiveTypeInfo', 895: 'toCompare', 896: 'withJsLibAdded', 897: 'docSpansOrderedNonOverlap', 898: 'toFirstUpper', 899: 'addTaxonomy', 900: 'yes', 901: 'numAllMemorySegments', 902: 'totalHits', 903: 'dbConn', 904: 'getHBaseAdmin', 905: 'includesSlaveContext', 906: 'WebElement', 907: 'i18n', 908: 'configurationAdmin', 909: '}', 910: 'newDefaultBag', 911: 'int', 912: 'ImportJob', 913: 'getValueLength', 914: 'log', 915: 'discardSubsumed', 916: 'TEST_UTIL', 917: '\"<=\"', 918: 'zooKeeper', 919: 'defaultVal', 920: 'SimpleWebException', 921: 'useJavaOperator', 922: '\"Skipped retrieval of file: {} from: {}\"', 923: 'functionsRootDir', 924: 'ctx', 925: 'sn', 926: 'SpringCamelContext', 927: 'parseSegmentName', 928: 'sampler', 929: 'getStateMachine', 930: 'm_currentWriteBuffer', 931: 'locateToken', 932: 'NewIssuesEmailTemplate', 933: '>', 934: 'throw', 935: 'GL10', 936: 'view_', 937: '\"org.apache.parquet.hadoop.ParquetInputFormat,org.apache.hadoop.hive.ql.io.parquet.MapredParquetInputFormat,org.apache.hive.storage.jdbc.JdbcInputFormat\"', 938: 'numBytes', 939: '\"Use full core processors to scan dir, size={}\"', 940: 'currentRegion', 941: 'Pooled', 942: 'session', 943: 'isAssignableFrom', 944: 'selector', 945: 'includeColumn', 946: 'getCreateTime', 947: 'LateralViewForwardOperator', 948: 'rj', 949: '\"Missing required field: qualifer value\"', 950: 'tupleClass', 951: 'hashMap', 952: 'configRoot', 953: 'listenerAddHandler', 954: '\"Left(1.0)\\\\nLeft(2.0)\\\\nLeft(2.0)\\\\nRight(2.0,2.0,2.0)\"', 955: 'ENGLISH_STOPSET', 956: 'inputs', 957: 'setRuntime', 958: 'ExecutionConfig', 959: 'header', 960: 'contains', 961: 'TEMP_DIR', 962: 'mrManager', 963: ';', 964: 'run', 965: 'right', 966: 'getFamilyMap', 967: 'TaskFactory', 968: 'TezWork', 969: 'createWriter', 970: 'txType', 971: 'seq', 972: 'getChildOperators', 973: '\"description\"', 974: 'Avg', 975: 'defaultBeelineConnect', 976: 'samples', 977: 'b', 978: 'domainSuffix', 979: 'sendTree', 980: 'Long', 981: 'message', 982: 'keyId', 983: 'doPhase1GetAggregationsFromSelect', 984: 'i', 985: 'newMetaException', 986: 'LOGGER', 987: 'serverNameFromMasterPOV', 988: 'indexTable', 989: 'LATEST_TIMESTAMP', 990: 'colStatsCache', 991: 'host', 992: 'toStringTree', 993: 'offset', 994: 'getTree', 995: 'HRegion', 996: 'input', 997: '\" Either supply one in the route definition or via the message header \\'%s\\'\"', 998: 'childOperators', 999: 'getClassLoader', 1000: '\"Use full core processors to scan dir\"', 1001: 'EditorActionUtil', 1002: 'datum', 1003: 'testHandle', 1004: 'checkArgGroups', 1005: 'no', 1006: 'getUnboxed', 1007: '\"btq\"', 1008: 'dbSession', 1009: 'OutputSelector', 1010: 'selectById', 1011: 'RoleOperation', 1012: 'memoryMode', 1013: 'tbl', 1014: 'isIncrementalDump', 1015: 'Serializable', 1016: 'numberCounters', 1017: 'FieldAdjustAction', 1018: 'MatchCode', 1019: 'sessionState', 1020: 'controller', 1021: '\"Failed to access storage pool\"', 1022: 'checkRetryable', 1023: 'getNamespace', 1024: 'fullSubmit', 1025: ']', 1026: 'compiled', 1027: 'mMax', 1028: 'row', 1029: 'split', 1030: 'filterExpr', 1031: 'init', 1032: 'sorter', 1033: 'pushFilters', 1034: 'TermStats', 1035: 'RestUtils', 1036: '\"]\"', 1037: 'progress', 1038: 'startRequest', 1039: 'targetPath', 1040: 'double', 1041: 'ciphers', 1042: 'setLocation', 1043: 'myRevisionNumber', 1044: 'expectedCode', 1045: 'forName', 1046: 'getRGB', 1047: '\"Tampa\"', 1048: 'collection', 1049: 'setContext', 1050: 'similarity', 1051: 'projector', 1052: 'STRING_TYPE_NAME', 1053: 'knownAppMasters', 1054: 'deserializationSchema', 1055: 'wrapChannel', 1056: 'rootTree', 1057: 'scanner', 1058: '\"Going to close region \"', 1059: 'Task', 1060: 'NAME', 1061: 'mediaDevice', 1062: 'localStartKey', 1063: 'ModuleComponentIdentifier', 1064: 'NO_MORE_DOCS', 1065: 'UnsupportedOperationException', 1066: 'CreateOptions', 1067: '0L', 1068: 'authManager', 1069: 'fieldNumber', 1070: 'getUserCodeClassLoader', 1071: 'setInternalState', 1072: '\"Shuffle Port must be between 1024 and 65535, or 0 for automatic selection\"', 1073: 'comparator1', 1074: 'capacityResponse', 1075: 'Type', 1076: 'monitor', 1077: 'ColOrCol', 1078: 'DefaultSearchContext', 1079: 'ConfigKey', 1080: 'isSampler', 1081: 'HiveStatement', 1082: 'userid', 1083: 'DDLWork', 1084: 'resourcesModifiedInProject', 1085: 'PosixParser', 1086: 'Network', 1087: 'inNamespace', 1088: '\"foo\"', 1089: 'BlobLibraryCacheManager', 1090: 'conv', 1091: '\"...\"', 1092: 'ExprNodeGenericFuncDesc', 1093: 'project', 1094: 'getTablePath', 1095: 'test94FilterRowCompatibility', 1096: 'createObjectTypeSignature', 1097: 'FULL_REPLICATION', 1098: 'currOp', 1099: '\"null\"', 1100: 'vertex', 1101: 'charsetName', 1102: 'setAggregationStrategyOnExchange', 1103: 'intercept', 1104: 'xpath', 1105: '1800L', 1106: 'setEnrichmentMessageProcessor', 1107: '\"direct:c\"', 1108: 'skewedColValueLocationMaps', 1109: 'confOverlay', 1110: 'getUnquotedCsvPreference', 1111: 'sourceDirectorySetFactory', 1112: 'getXPathExpression', 1113: 'newTuple', 1114: 'primary_storage', 1115: 'propertyName', 1116: 'binary', 1117: 'HiveAuthzSessionContext', 1118: 't', 1119: 'getCollectorTerms', 1120: 'hostAndPort', 1121: 'getFieldValue', 1122: 'initargs', 1123: 'newScheduledThreadPool', 1124: 'MONTH', 1125: '_vpcDrSeqNoDao', 1126: 'clientSessionFrameListener', 1127: 'newOperands', 1128: 'FileInputStreamCache', 1129: 'FlinkUserCodeClassLoaders', 1130: 'vectorizer', 1131: 'workJob', 1132: 'CHARSET_NAME', 1133: 'numBlocks', 1134: 'PointInSetIncludingScoreQuery', 1135: 'getFileSchema', 1136: '\"NPE\"', 1137: 'InOut', 1138: 'initElements', 1139: 'setReducer', 1140: 'processor', 1141: '\">\"', 1142: 'long', 1143: 'HRegionInterface', 1144: 'isRunning', 1145: 'setLanguage', 1146: 'desc', 1147: 'entry', 1148: '0', 1149: 'NoopPluginResolver', 1150: 'myChildren', 1151: 'metastoreClient', 1152: 'getJmsConfig', 1153: 'scoreMode', 1154: 'RuntimeUDFContext', 1155: '10', 1156: 'getExecuteInSequence', 1157: 'myContext', 1158: 'parseVersionedServerName', 1159: 'YOU', 1160: 'isIndexed', 1161: 'processTrailingImplicitActions', 1162: '_accountService', 1163: 'reloadLocationSpecified', 1164: 'getSubQueriesIterator', 1165: 'slurped', 1166: 'getScaledCount', 1167: 'getConfigParameter', 1168: 'RepositoryVersionEntity', 1169: 'deserializeObject', 1170: 'ASTTransformationCollectorCodeVisitor', 1171: 'destTaxWriter', 1172: 'getCvsRevisionNumber', 1173: 'ThreadFactoryExecutorService', 1174: 'DefaultMutableTreeNode', 1175: 'sendBodyAndHeader', 1176: 'tell', 1177: 'HFILE_ARCHIVE_DIRECTORY', 1178: 'ConfVars', 1179: 'getName', 1180: 'ExchangePattern', 1181: 'nbRows', 1182: 'T', 1183: 'getJobClass', 1184: '\"hausa_spelling_dictionary-0.2-tb+fx.xpi\"', 1185: 'lastName', 1186: 'initialScanComplete', 1187: 'getLog', 1188: 'fields', 1189: 'isColorSet', 1190: 'getCurrent', 1191: 'setProxyCredentials', 1192: '\"pig.logfile\"', 1193: 'getTargetName', 1194: 'AtomixClusterMember', 1195: 'getHBaseIntegrationTestingUtility', 1196: 'copyServerNames', 1197: 'COMMAND_LINE_PARSER_LESSER_THAN_ZERO_NUMBER', 1198: 'nd', 1199: 'Source', 1200: 'bundleName', 1201: 'distErrPct', 1202: 'assertEquals', 1203: 'UTIL', 1204: 'serverName', 1205: 'ctp', 1206: 'appendToResponse', 1207: 'omitNorms', 1208: 'getTemporaryResourcePath', 1209: 'myRoot', 1210: 'syncDLObjects', 1211: 'isSchemaOn', 1212: 'chunk', 1213: 'toField', 1214: 'queryTmpdir', 1215: 'parseRequest', 1216: 'EdgeManagerPluginDescriptor', 1217: 'AvroTupleWrapper', 1218: 'deterministic', 1219: 'outTypeSerializer', 1220: 'eq', 1221: 'getRequestURI', 1222: 'prepareIndex', 1223: 'ConfigConstants', 1224: 'executor', 1225: 'createTable', 1226: 'wrapException', 1227: 'queryIdentifier', 1228: 'getProjectId', 1229: 'PrinterMode', 1230: '++', 1231: 'Modifiers', 1232: 'unit', 1233: 'replaceAll', 1234: 'minSplits', 1235: 'editPage', 1236: 'JAXRXException', 1237: '\"{\"', 1238: 'openFromFS', 1239: 'command', 1240: 'docValuesType', 1241: 'Instance', 1242: 'requestParser', 1243: 'getLong', 1244: 'join', 1245: '8', 1246: 'd2wContext', 1247: 'SpellCheckerMock', 1248: 'termsCollector', 1249: 'HiveFileFormatUtils', 1250: 'evaluateChildren', 1251: '\");\\\\n\"', 1252: 'getTypeConverter', 1253: 'CommonConfigurationKeysPublic', 1254: '.', 1255: 'rp', 1256: '\"date\"', 1257: '\"writeObject\"', 1258: '\"Data consumed, increasing window by {} for {}\"', 1259: 'createRegionName', 1260: 'arg', 1261: 'getSchema', 1262: 'CheckpointProperties', 1263: 'NumericDocValuesSorter', 1264: 'asList', 1265: 'MockUserSession', 1266: 'CopyableValue', 1267: '\"Cannot cast to bytearray\"', 1268: 'getFullName', 1269: 'TruthValue', 1270: 'vertexGroupInfo', 1271: 'ROOT', 1272: 'getDefaultTimeout', 1273: 'MESSAGE', 1274: 'getLiveDocs', 1275: 'HLogFactory', 1276: 'TypeInfoFactory', 1277: 'bagFactory', 1278: 'EMPTY_LIST', 1279: 'familyMap', 1280: 'Class', 1281: 'null', 1282: 'getClaimParsers', 1283: '\"jetbrains.mps.baseLanguage.findUsages.OverridingFields_Finder\"', 1284: 'COLUMN_TYPE_CCOMBO', 1285: 'PKG', 1286: 'volume', 1287: 'ConnRoutePNames', 1288: 'hasLastScan', 1289: 'part', 1290: 'StringUtils', 1291: 'createObserveFieldOptions', 1292: 'assumeFalse', 1293: 'origin', 1294: 'param', 1295: 'editingContext', 1296: '>=', 1297: '\"tick\"', 1298: 'MetricsUtils', 1299: 'returnType', 1300: '\"log:b?level=OFF\"', 1301: 'initialize', 1302: 'getBoolean', 1303: 'interval', 1304: 'setIn', 1305: 'numCols', 1306: 'checkType', 1307: 'mySourceElement', 1308: 'detectDeadlock', 1309: 'subsystemXml', 1310: 'versionID', 1311: 'LONG', 1312: 'HConnectionManager', 1313: 'snapshotTO', 1314: 'resolvers', 1315: 'purge', 1316: 'trace', 1317: 'getPayloadLength', 1318: 'location', 1319: 'sessHandle', 1320: 'connectScalars', 1321: 'sourceInputFormat', 1322: '\"X-Continuuity-Class-Name\"', 1323: '\" columns.\"', 1324: 'LruBlockCache', 1325: 'reset', 1326: 'getCurrentToken', 1327: 'ReferenceOrderedDatum', 1328: 'SerializationUtilities', 1329: 'getDefaultTimeoutAsFiniteDuration', 1330: 'Format', 1331: 'getMaxThreadStates', 1332: 'getOrdTermsEnum', 1333: 'LogUtils', 1334: 'primaryPool', 1335: 'storeTermVector', 1336: '\"tez\"', 1337: 'Toolkit', 1338: 'start', 1339: '\"K: \"', 1340: 'DTM', 1341: 'ResettableValue', 1342: 'getClusterId', 1343: 'fixSignature', 1344: 'getRelationshipById', 1345: 'user', 1346: 'LinkedHashMap', 1347: 'ObjectHelper', 1348: 'graphDb', 1349: 'procCtx', 1350: 'LogicalSchema', 1351: 'setAcidOperationalProperties', 1352: 'resultSetType', 1353: 'TagCompressionContext', 1354: 'entity', 1355: 'IOConverter', 1356: 'this', 1357: 'BytesRef', 1358: 'writerQLen', 1359: 'IllegalArgumentException', 1360: 'currentPartitionSize', 1361: 'getUserId', 1362: 'MAX_SLOTS_UNKNOWN', 1363: 'readString', 1364: 'setLbLocationMap', 1365: '\"sum\"', 1366: 'dropTable', 1367: 'miles', 1368: '\"woordenboek_nederlands-3.1.1-sm+tb+fx+fn.xpi\"', 1369: 'SqlFilterForPushdown', 1370: 'getSystemClipboard', 1371: 'serverSessionFrameListener', 1372: 'docData', 1373: 'findProjectByProjectAccountId', 1374: 'substring', 1375: 'twitter4jConsumer', 1376: 'MetaException', 1377: 'getManagementName', 1378: '\"/pigtest/conf/hadoop-site.xml\"', 1379: 'producerServicePool', 1380: 'other', 1381: 'myTokenType', 1382: 'getBroadcastDestinationName', 1383: 'merge', 1384: 'pageSize', 1385: 'lastTerm', 1386: 'DefaultReferenceDescription', 1387: '\"INSERT INTO `cloud`.`snapshot_store_ref` (store_id, snapshot_id, created, size, parent_snapshot_id, install_path, state) select sechost_id, id, created, size, prev_snap_id, path, \\'Ready\\' from `cloud`.`snapshots` where status = \\'BackedUp\\' and sechost_id is not null and removed is null\"', 1388: 'repositoryVersionDaoProvider', 1389: 'ResolveOrder', 1390: 'State', 1391: 'intValue', 1392: 'archivedHfileDir', 1393: 'jc', 1394: 'FS_DEFAULT_NAME_KEY', 1395: 'getDestinationName', 1396: '17', 1397: 'STANDARD_SAVEPOINT', 1398: '1000', 1399: 'DEFAULT', 1400: 'ConfigurationUtil', 1401: 'setCmd', 1402: 'OStorageLocalAbstract', 1403: 'getHost', 1404: 'EMPTY_BYTES', 1405: 'nextBoolean', 1406: '\"Failed to put element into unordered stream element queue because it \"', 1407: 'tasks', 1408: 'co', 1409: 'union', 1410: '\"=\"', 1411: 'codecStr', 1412: 'getLocale', 1413: 'getResourceRef', 1414: 'getStartRow', 1415: 'HiveMetaStore', 1416: 'HBaseTestingUtility', 1417: 'finishConnect', 1418: 'pruneExpr', 1419: '\"jetty:\"', 1420: 'Pattern', 1421: 'networkDomain', 1422: '\"WhiteboardRequestAnnotationHistoryReply\"', 1423: 'diskProtocol', 1424: 'EMAIL', 1425: '\"ssm_operation_queries\"', 1426: 'auth', 1427: 'IndexFileNames', 1428: 'now', 1429: 'CmsResource', 1430: 'outputDir', 1431: 'conn', 1432: 'getEnvironment', 1433: 'notSupportedOnClient', 1434: 'addressMap', 1435: 'className', 1436: '\"#getLookUp\"', 1437: 'subjectCallBack', 1438: 'driver_', 1439: 'statusLine', 1440: 'getChild', 1441: '\"127.0.0.1\"', 1442: 'Constants', 1443: 'currTopOp', 1444: 'getProtocol', 1445: 'return', 1446: 'setCellScanner', 1447: 'waitForFinish', 1448: 'itemsetUpdate', 1449: '\"Last Heartbeat\"', 1450: '3', 1451: 'fieldName', 1452: 'MISSING', 1453: 'm_rowGroups', 1454: '<eol>', 1455: 'getNewFileText', 1456: 'BooleanPointer', 1457: 'Executor', 1458: 'true', 1459: 'hconf', 1460: 'a', 1461: 'Locale', 1462: 'createChildProcessor', 1463: 'notification', 1464: 'refName', 1465: 'SuggestWordFrequencyComparator', 1466: 'isRoutingType', 1467: 'newClassName', 1468: 'v', 1469: '_Employee', 1470: '\"Unknown error. Please check logs.\"', 1471: 'containsTokenOfType', 1472: 'localInstanceFromObjectWithD2WContext', 1473: 'OpenCms', 1474: 'evaluate', 1475: 'Whitebox', 1476: 'CellComparator', 1477: '\"%s FAILED %s\"', 1478: '\" headers: \"', 1479: 'getLocationData', 1480: '\"find_all_operations\"', 1481: 'caret', 1482: 'Date', 1483: 'CHILD_FIRST', 1484: 'setContents', 1485: 'getPhysicalSize', 1486: 'GatewayRetriever', 1487: 'getParameters', 1488: 'tableProperties', 1489: 'userNameFromPrincipal', 1490: 'myUi', 1491: '\"field\"', 1492: 'ecl', 1493: 'dynamicFunction', 1494: 'DomainRouter', 1495: '<sol>', 1496: '\"<foo>bar</foo>\"', 1497: 'entrySet', 1498: 'getTotalTermFreq', 1499: 'mockContext', 1500: 'destroyVm', 1501: 'PrincipalType', 1502: 'mustRefreshDynamicVersion', 1503: 'stateDesc', 1504: 'render', 1505: 'getScan', 1506: 'StringHelper', 1507: 'separator', 1508: 'dto', 1509: 'getBlocksRemaining', 1510: 'OutputStreamWriter', 1511: 'Comparator', 1512: 'ClosureCleaner', 1513: 'k', 1514: 'fileLanguageExpression', 1515: 'rst', 1516: 'SECONDS', 1517: 'maxSize', 1518: 'topNDocs', 1519: 'addRow', 1520: '\"Could not retrieve the leader gateway\"', 1521: 'useMultipleSchemas', 1522: 'myHunks', 1523: 'applyAllDeletes', 1524: 'SegmentInfo', 1525: 'retrievedCheckpoints', 1526: 'shutdownVM', 1527: 'timestampWritable', 1528: 'hasRefreshToken', 1529: 'TupleTypeInfo', 1530: 'KryoException', 1531: 'numTotalHits', 1532: 'numFiles', 1533: 'newRetryingHMSHandler', 1534: 'Deprecated', 1535: 'getHFileReader', 1536: 'Alphabet', 1537: 'hash', 1538: 'paths', 1539: 'getRule', 1540: 'componentBinaries', 1541: 'getOutputDirectoryBase', 1542: 'HttpStatus', 1543: 'timeZone', 1544: 'listener', 1545: 'isDetached', 1546: 'getCols', 1547: 'TestHelper', 1548: 'containsKey', 1549: 'types', 1550: 'Account', 1551: 'HiveSessionImpl', 1552: 'getText', 1553: 'DateHistogramInterval', 1554: 'o1', 1555: 'Dtm', 1556: 'HEADER_CLASS_NAME', 1557: 'rqst', 1558: 'getSimilarity', 1559: 'Vpc', 1560: '\"log:a?level=OFF\"', 1561: 'emailId', 1562: 'findByVersion', 1563: 'mRequiredColumns', 1564: 'channel', 1565: 'getEmail', 1566: 'ModClusterService', 1567: 'TopGroups', 1568: 'comparator', 1569: 'startPosition', 1570: 'purgeByCacheKey', 1571: 'logProvider', 1572: 'ByteBuffer', 1573: 'getSerDeClass', 1574: 'TwitterHelper', 1575: 'getBytes', 1576: 'SPLIT_LOGDIR_NAME', 1577: 'setSubsystemXml', 1578: 'getNodeName', 1579: 'TwitterConsumer', 1580: 'getCache', 1581: 'pruneNode', 1582: 'ref', 1583: 'getMaxNumberOfTargets', 1584: 'IMPL', 1585: 'FIELD_END', 1586: 'initIndex', 1587: 'DocTermOrds', 1588: 'machineId', 1589: 'reordereNodeConds', 1590: 'TaskAttemptContext', 1591: 'TestInfo', 1592: 'DigitalSignatureConstants', 1593: 'Optional', 1594: 'orc', 1595: 'HivePreparedStatement', 1596: 'rescaleJobFuture', 1597: 'StringSelection', 1598: 'writeLog', 1599: 'arguments', 1600: 'Id', 1601: 'fileInputStreamCache', 1602: 'opProcCtx', 1603: 'fs', 1604: '5', 1605: 'methodSignature', 1606: 'mapArray', 1607: '\"Failed to put element into ordered stream element queue because it \"', 1608: 'mergedGroups', 1609: 'IOHelper', 1610: 'filterClasses', 1611: 'get', 1612: 'BindingContext', 1613: 'baseURI', 1614: 'current', 1615: '\"default\"', 1616: 'routeService', 1617: '\"checkPaths: filesystem error in check phase\"', 1618: 'varargs', 1619: 'tempResult', 1620: 'spl', 1621: 'isOffline', 1622: '\" - False Positive\"', 1623: 'pipelineContext', 1624: 'AtomicBoolean', 1625: 'persistencePath', 1626: '\" closed.\"', 1627: 'newCidr', 1628: 'fileList', 1629: 'LighterASTNode', 1630: 'componentPackage', 1631: 'CmsContainerElementBean', 1632: 'multipleValuesPerDocument', 1633: 'Integer', 1634: 'myOriginalModels', 1635: 'getFormat', 1636: 'showApp', 1637: 'precision', 1638: 'copyBytes', 1639: 'msg', 1640: '0x254b015f7d0f9f20L', 1641: 'excludeSpans', 1642: 'data', 1643: 'expression', 1644: 'num_parameters', 1645: 'getOriginForMediaDevice', 1646: 'consistentIndexes', 1647: '\"/\"', 1648: 'DocIdSetIterator', 1649: 'firstName', 1650: '_location', 1651: 'toLong', 1652: 'document', 1653: 'HBASE_REGIONSERVER_LEASE_PERIOD_KEY', 1654: 'setSubject', 1655: 'tableName', 1656: 'Version', 1657: 'newProject', 1658: 'ODatabaseRecordThreadLocal', 1659: 'CsvPreference', 1660: 'GradleLauncher', 1661: '\"compact(\"', 1662: 'namespaces', 1663: 'resolvedModuleVersion', 1664: 'exceptions', 1665: 'unescapeIdentifier', 1666: 'setTotalOrderPartitionFile', 1667: 'evolution', 1668: 'fromQuery', 1669: 'partSpec', 1670: 'close', 1671: 'getAllResources', 1672: 'myAnchor', 1673: 'getComponentNames', 1674: 'getMessage', 1675: 'webServer', 1676: 'startRow', 1677: '\"src\"', 1678: '\"Error create role : \"', 1679: '&&', 1680: 'DBBPool', 1681: 'EucaSnapSize', 1682: 'fname', 1683: 'properties', 1684: '<=', 1685: '\"score\"', 1686: 'HLog', 1687: '(', 1688: 'port', 1689: 'getTableName', 1690: 'currentOperationId', 1691: ':', 1692: 'getAccountId', 1693: 'aliasToWork', 1694: 'BinarySignatures', 1695: 'equalToReference', 1696: 'jsonParam', 1697: 'constructServiceName', 1698: 'frame', 1699: 'invokable', 1700: 'UserVm', 1701: 'LoginUser', 1702: 'maxLat', 1703: 'rindex', 1704: '\"ndv1\"', 1705: 'isDisabledTable', 1706: 'createProducer', 1707: 'EucaEffectiveUserId', 1708: 'getFieldSchema', 1709: 'QuartzHelper', 1710: 'o2', 1711: 'delete', 1712: 'UserRole', 1713: 'thenReturn', 1714: 'capacityBytesOnTiers', 1715: 'ShardSearchRequest', 1716: 'getPosition', 1717: 'inputName', 1718: 'singletonList', 1719: 'json', 1720: '\"application\"', 1721: 'getInternalName', 1722: 'networkId', 1723: 'EventPropertiesMap', 1724: 'Config', 1725: 'setWriteTypeInternal', 1726: '\"creating private ip address for vpc (\"', 1727: '<', 1728: 'getBoolVar', 1729: 'IN_MEMORY', 1730: 'unionResolver', 1731: 'isSourceLocal', 1732: 'quoteReplacement', 1733: 'groupSort', 1734: 'taskName', 1735: 'CustomDiskOfferingMaxSize', 1736: 'StageMetrics', 1737: 'pigContext', 1738: 'cpu', 1739: 'SubGraph', 1740: 'encodeHttpURI', 1741: 'newIndexWriterConfig', 1742: 'ShimLoader', 1743: 'NodeUtil', 1744: '[', 1745: 'ObjectCacheFactory', 1746: 'Files', 1747: 'reviewId', 1748: 'mustRefreshChangingModule', 1749: 'fieldType', 1750: 'isCaptured', 1751: 'template', 1752: 'setConfOverlay', 1753: \"'.'\", 1754: 'PxeServerResourceBase', 1755: 'parent', 1756: '\"Stopping Google PubSub consumer\"', 1757: '\"Couldn\\'t connect to: \"', 1758: 'ClassSize', 1759: '\", _len2 = \"', 1760: 'wrapProcessor', 1761: 'RENAME', 1762: 'count', 1763: 'replLogWork', 1764: 'Set', 1765: 'myResult', 1766: 'deadServers', 1767: 'isDynamic', 1768: 'AbstractSerDe', 1769: 'MetaStoreEventListener', 1770: 'TokenStream', 1771: 'connSuccessful', 1772: '\"src/foo.xoo\"', 1773: 'VMware', 1774: 'deepCopy', 1775: 'parse', 1776: 'getPackage', 1777: 'allFiles', 1778: 'BaseMessages', 1779: 'OrdinalMap', 1780: 'os', 1781: 'of', 1782: 'getOrdinal', 1783: 'getBindingContext', 1784: 'CollectUtil', 1785: '\">=\"', 1786: 'maxThreads', 1787: 'lockRow', 1788: 'META_TABLE_NAME', 1789: 'SNode', 1790: 'savepoint', 1791: 'ioEngineName', 1792: '\" \\\\\"intervals\\\\\": [ \\\\\"2012-01-01T00:00:00.000-08:00/2012-01-03T00:00:00.000-08:00\\\\\" ]\"', 1793: 'createRecoveredEditsWriter', 1794: 'while', 1795: 'class', 1796: 'recoverableConnectIfNecessary', 1797: 'm_queryManager', 1798: 'jobDetail', 1799: '\": \"', 1800: 'SolrCLI', 1801: 'vOutContext', 1802: '0xceab519525ea4f22L', 1803: 'setParameter', 1804: 'myFilters', 1805: 'isTezExecEngine', 1806: 'getTaskInfo', 1807: 'unassign', 1808: 'isKeyCompound', 1809: 'tableType', 1810: '\"unexpected error: \"', 1811: 'MaxVolumeSize', 1812: 'getHCatFieldSchema', 1813: 'encodeRedirectURL', 1814: 'FetchType', 1815: 'getTempDir', 1816: '\"descr\"', 1817: 'left', 1818: 'getInstance', 1819: 'IntegrationTestBigLinkedList', 1820: 'minDocCount', 1821: 'PrimitiveCategory', 1822: 'readBuffer', 1823: 'URIUtil', 1824: '\"~\"', 1825: 'prunerExpr', 1826: 'DIRECT', 1827: 'amLocation', 1828: '\"Ill-formed command line: \"', 1829: '\"flink-bot-\"', 1830: '\"sLoginUser\"', 1831: 'copy', 1832: 'runtimeContext', 1833: 'insertionPoint', 1834: 'plan', 1835: 'ratingsSpaceName', 1836: 'regionInfo', 1837: 'jobExecHelper', 1838: '\" -r, -dryrun CmdLineParser.ValueExpected.NOT_ACCEPTED\"', 1839: 'getFrom', 1840: '\"Empty input: skip limit optimization\"', 1841: 'Matcher', 1842: 'getBinaries', 1843: 'ModeFactory', 1844: 'getBucketSplitMapForPath', 1845: 'isAcidTable', 1846: 'AtomType', 1847: 'clearRegionPlan', 1848: 'crtTblDesc', 1849: 'rproc', 1850: 'getRegionServer', 1851: '\"join2.q\"', 1852: 'call', 1853: 'isOptimisable', 1854: 'DEFAULT_PROXY', 1855: \"' '\", 1856: '\",value=\"', 1857: 'getNameAsString', 1858: 'createTypeReference', 1859: 'NetUtils', 1860: 'pctx', 1861: '\"name\"', 1862: '\"IS NULL\"', 1863: 'Stack', 1864: 'condition', 1865: 'VersionManagerImpl', 1866: 'currentBlockUpto', 1867: 'section', 1868: '\"atom:file:', 1869: 'LineFileDocs', 1870: 'create', 1871: 'grid', 1872: 'hrefDocumentInfo', 1873: 'claimsManager', 1874: 'shouldEvictOnClose', 1875: 'byte', 1876: 'RELOADED_CLAZZ_PREFIX_NAME', 1877: 'childExpressions', 1878: 'Direction', 1879: 'NO_PRIORITY', 1880: '0x254b015f7d15de42L', 1881: 'addAll', 1882: 'jconf', 1883: 'HIVE_ACID_TABLE_SCAN', 1884: 'readFully', 1885: 'masterMachineId', 1886: 'commonCat', 1887: 'roleName', 1888: '\"input19.q\"', 1889: 'Nod', 1890: 'hbaseMaster', 1891: 'EOFException', 1892: '31', 1893: '\"IS NOT NULL\"', 1894: 'addr', 1895: 'HiveQueryResultSet', 1896: 'indexOf', 1897: 'AkkaUtils', 1898: 'Collections', 1899: 'equalsIgnoreCase', 1900: 'getProjectScopedName', 1901: 'maxLon', 1902: 'deleteIfNotReady', 1903: 'specType', 1904: 'getWriterFactoryNoCache', 1905: 'setNumLabel', 1906: 'getRepositoryVersion', 1907: 'creator', 1908: 'addCommandLineOptions', 1909: 'regionPlans', 1910: 'inputTypes', 1911: 'end', 1912: 'Utils', 1913: 'XenServer', 1914: 'AcidUtils', 1915: 'newNetworkDomain', 1916: '\"<line 1, column 62> mismatched input \\';\\' expecting RIGHT_PAREN\"', 1917: 'showShinyPublishUi', 1918: '1L', 1919: '\"- \"', 1920: '\"tmpdb\"', 1921: 'Exception', 1922: 'dest3', 1923: 'why', 1924: 'setAutoFlush', 1925: 'method', 1926: '\"nodes\"', 1927: 'NUMERIC_GROUP', 1928: 'Index', 1929: 'tables', 1930: 'SPropertyOperations', 1931: 'languageSourceSet', 1932: 'kv', 1933: 'SelectMode', 1934: 'getService', 1935: 'peek', 1936: 'getConf', 1937: 'long2Mac', 1938: 'isVertexGroup', 1939: 'eoObjects', 1940: 'else', 1941: 'NULL_VIRTUAL_FILE', 1942: '\"Error create role\"', 1943: 'BuilderFactory', 1944: '\"twitter-search-twitter-find-component:\"', 1945: 'rpcTimeout', 1946: 'TachyonURI', 1947: 'docs', 1948: 'convertAttributeGetSetDeclFlags', 1949: 'AvroRuntimeException', 1950: 'getNumLabel', 1951: '\"boolean(\"', 1952: '\" to bytearray\"', 1953: 'transformAndEmit', 1954: 'dependency', 1955: '\"Couldn\\'t connect to \"', 1956: 'getAddress', 1957: '\" header: \"', 1958: 'toSource', 1959: 'amount', 1960: 'recoveredEdits', 1961: 'pre', 1962: '\":\"', 1963: 'sourceClass', 1964: 'read', 1965: 'model', 1966: 'getSystemId', 1967: 'setFullyReadColumns', 1968: 'getMaxLevelForPrecision', 1969: 'createSequenceBasedMacAddress', 1970: 'sink', 1971: 'InputStream', 1972: 'SUM', 1973: 'assertThat', 1974: 'camelContextName', 1975: 'si1', 1976: '\"Should not be needed\"', 1977: 'closeOutagesForUnmanagedServices', 1978: 'HConstants', 1979: 'instantiateCacheManager', 1980: 'settings', 1981: 'getUnescapedName', 1982: 'getSchemaFromInnerPlans', 1983: 'sendRedirect', 1984: 'addPaths', 1985: 'EndpointHelper', 1986: 'MessageProcessorDefinitionParser', 1987: 'getRawPath', 1988: 'DO_NOT_DISPLAY_DESCRIPTION', 1989: 'false', 1990: 'protected', 1991: '63', 1992: 'AddressHelper', 1993: 'session_', 1994: 'installInController', 1995: 'columns', 1996: 'ClassLoader', 1997: 'm', 1998: 'FORCED_REBALANCED', 1999: 'getLocalTestMode', 2000: '\"<\"', 2001: 'newInstance', 2002: 'List', 2003: 'EucaSignature', 2004: 'indexOptions', 2005: 'sync', 2006: 'DefaultInputFile', 2007: 'plcEnabled', 2008: 'dashed', 2009: 'newPackageName', 2010: 'createProcessor', 2011: 'vmDao', 2012: 'newConf', 2013: 'ReplStateLogWork', 2014: 'getAllInstancesOrdered', 2015: '\" doesn\\'t exist in \"', 2016: '\"uses\"', 2017: 'includedColumns', 2018: 'INSTANCE', 2019: 'loadTable', 2020: 'getCommonCategory', 2021: 'fileSchema', 2022: 'elem', 2023: 'concreteIndices', 2024: 'clusterState', 2025: 'getLhs', 2026: '\"FALSE-POSITIVE\"', 2027: 'AS', 2028: 'getServerFromAddress', 2029: 'useTempFile', 2030: 'BLOCK_BITS', 2031: 'ErrorMsg', 2032: 'LogicalFieldSchema', 2033: 'catch', 2034: 'resId', 2035: 'MAX_VALUE', 2036: 'orig', 2037: 'analyzeExpr', 2038: 'sourceContext', 2039: 'StorageHAMigrationEnabled', 2040: 'mapType', 2041: 'Project', 2042: 'RoleDDLDesc', 2043: 'Meta', 2044: 'remove', 2045: 'ElementClassFilter', 2046: 'isPendingCloseOrClosing', 2047: 'getTerms', 2048: 'replaceXmlValue', 2049: 'useField', 2050: 'NodeState', 2051: 'getMetricId', 2052: 'cvp', 2053: 'transactionalListeners', 2054: 'bytesPerDim', 2055: 'rodQueue', 2056: 'lightTree', 2057: 'TRUE', 2058: 'getDescription', 2059: 'add', 2060: 'tgtToNodeExprMap', 2061: 'capacity', 2062: 'origTable', 2063: 'usePortsFromConf', 2064: 'dwpt', 2065: 'toList', 2066: 'Sequence', 2067: 'lp', 2068: 'splits', 2069: 'normType', 2070: 'StoredContent', 2071: '\"= ~NULL\"', 2072: '\"work.dir\"', 2073: 'getServices', 2074: 'setTimeToLive', 2075: 'insertSeq', 2076: 'HBaseAdmin', 2077: 'HiveLockObject', 2078: '\"FtpConsumer\\'s client is being explicitly disconnected\"', 2079: 'ch', 2080: 'ToolRunner', 2081: 'ParameterDeclarationList', 2082: 'BinaryDocValues', 2083: 'networkOwner', 2084: 'editor', 2085: 'nodeOutputs', 2086: 'sub', 2087: 'SloppyMath', 2088: 'getEndpoint', 2089: 'moveFailed', 2090: '\"whitespace\"', 2091: '\"build/classes/hadoop-site.xml\"', 2092: 'resizeHorizontally', 2093: 'getSize', 2094: 'RenderingIcons', 2095: 'toFileEntriesFileShortcutsAndFolders', 2096: '\"number of dynamic paritions should be the same as the size of DP mapping\"', 2097: 'getCause', 2098: 'rit', 2099: 'compilerSettings', 2100: 'getExpressionPlans', 2101: 'annotations', 2102: 'args', 2103: 'stringTypeInfo', 2104: 'aft', 2105: '\"Submitting job {}.\"', 2106: 'passedPrefix', 2107: 'encodedRegionName', 2108: 'TEST_FAMILY', 2109: 'IDFValueSource', 2110: 'randomId', 2111: 'newFSDirectory', 2112: 'DataOutputStream', 2113: 'CacheManagerFactory', 2114: 'tmpname', 2115: 'tenantName', 2116: 'tempFileNameExpression', 2117: 'selectDesc', 2118: 'isNative', 2119: 'buildIndexTable', 2120: 'getLeaderGateway', 2121: 'launcher', 2122: 'ordValue', 2123: 'Sum', 2124: 'length', 2125: 'description', 2126: 'userName', 2127: 'computeNumberOfPages', 2128: '\"link=Méssagé Boards Tést Pagé\"', 2129: 'HStoreFile', 2130: 'HiveLock', 2131: 'readPropertyObject', 2132: 'MIndex', 2133: 'getHashedReference', 2134: 'ALPHA_DEFAULT', 2135: 'assertTokenStreamContents', 2136: '\"number of dynamic partitions should be the same as the size of DP mapping\"', 2137: 'CODE_NAMED_ARGUMENTS_DESCR', 2138: '^', 2139: 'recalculateResourceCount', 2140: 'check', 2141: 'patch', 2142: 'new', 2143: 'prepareStatement', 2144: 'storagePoolHasEnoughIops', 2145: 'NO_ACID', 2146: 'consumer', 2147: 'startClient', 2148: '\"b b <b>a</b> b <b>a</b> b\"', 2149: '\"Buffer underflow\"', 2150: 'ZooKeeperProtos', 2151: 'ar', 2152: 'targetType', 2153: '\"(\\'s1:bool, s2:int, s3:long, s4:float, s5:string, s6:bytes\\', \\'[s1, s2]; [s3, s4]\\')\"', 2154: 'Bitmap', 2155: 'self', 2156: 'tab', 2157: 'process', 2158: 'InterruptedIOException', 2159: '\"Left(1.0)\\\\nRight(2.0,2.0,2.0)\"', 2160: '\"test name\"', 2161: 'MESSAGES', 2162: 'after', 2163: 'util', 2164: '10000', 2165: 'VirtualFileSystemEntry', 2166: 'docSpansOrdered', 2167: 'entityConditionListFactory', 2168: 'rve', 2169: '\"interface\"', 2170: 'fromIterable', 2171: 'getDeadServers', 2172: 'e', 2173: 'comparators1', 2174: 'wrapper', 2175: 'sourceEmitter', 2176: 'minLat', 2177: 'GL_TRIANGLES', 2178: 'valueIn', 2179: 'TRANSACTION', 2180: 'columnName', 2181: 'MetaScanner', 2182: 'pluginRegistry', 2183: 'SessionUtils', 2184: 'actual', 2185: 'RODRecordList', 2186: 'OException', 2187: 'setIsReduce', 2188: 'classesGen', 2189: 'tblDesc', 2190: 'ex', 2191: 'outJSONObject', 2192: '\"term=\"', 2193: 'Service', 2194: 'Object', 2195: 'Operation', 2196: 'getIndexName', 2197: '\"No more bytes left.\"', 2198: 'String', 2199: 'toByteArrays', 2200: 'DocumentMapperParser', 2201: 'getNumberOfKeyGroups', 2202: 'VirtualMachine', 2203: 'elems', 2204: 'validateNtwkOffForNtwkInVpc', 2205: 'tokenizer', 2206: 'map', 2207: 'createStatement', 2208: '\"up to \"', 2209: 'exitVal', 2210: 'DEFAULT_DATABASE_NAME', 2211: '\" to their owners\\' hand\"', 2212: 'varname', 2213: 'VmWorkMigrateWithStorage', 2214: 'trim', 2215: 'serdeName', 2216: '\" ignoring exception: \"', 2217: 'conf', 2218: 'Tuple0', 2219: 'getColumnLabel', 2220: 'jobKey', 2221: 'docStoreSegment', 2222: 'URI', 2223: 'angle', 2224: 'startServer', 2225: '\"Binaries\"', 2226: '\"statistics\"', 2227: 'DB_NAME', 2228: 'hiveConf', 2229: 'indexDir', 2230: 'to', 2231: '\"\\' contains the interaction feature.\"', 2232: 'isCorrectPrompt', 2233: 'open', 2234: 'addArgument', 2235: 'moduleId', 2236: '\"(\"', 2237: 'graph', 2238: 'getReferenceNodeMethod', 2239: '_usageEventDao', 2240: 'm_columnGroups', 2241: 'printf', 2242: 'element', 2243: 'isNormalServer', 2244: 'routeContext', 2245: 'isWindows', 2246: 'Tuple2', 2247: '\"unlock\"', 2248: 'newHMSHandler', 2249: 'annots', 2250: 'tableHandle', 2251: 'Util', 2252: '\"TOK_FUNCTIONDI\"', 2253: 'findMaxByVersion', 2254: 'IndexReader', 2255: '\"ssm_queries\"', 2256: 'timeToLive', 2257: 'hasPassword', 2258: '<<', 2259: 'caller', 2260: 'isSourceNat', 2261: 'output', 2262: '\"groupby2.q\"', 2263: 'CompressionKind', 2264: 'fileType', 2265: 'toLowerCase', 2266: 'inType', 2267: 'citrixResourceBase', 2268: 'fi', 2269: '\", \"', 2270: 'REPLACE', 2271: 'getRoot', 2272: 'getSessionSpecifiedClassLoader', 2273: 'ciKey', 2274: 'filteredSuperItems', 2275: 'outputs', 2276: 'initReader', 2277: 'VcsLogPanel', 2278: 'ColumnInfo', 2279: 'tuple', 2280: 'fieldSchema', 2281: 'SOURCE', 2282: 'slowR', 2283: 'XWikiConstants', 2284: 'password', 2285: 'getMode', 2286: 'directory', 2287: 'startOffset', 2288: 'COLUMN_FAMILY', 2289: 'LoadFileDesc', 2290: 'OFFHEAP_TIERED', 2291: 'executeTask', 2292: '\"(\\'s1:int, s2:int, s3:long, s4:float, s5:string, s6:bytes\\', \\'[s1, s2]; [s3, s4]\\')\"', 2293: 'nCopies', 2294: 'I_CmsConstants', 2295: 'SemanticException', 2296: 'Thread', 2297: '\" files to flush to segment \"', 2298: '\"Close Code / Received [\"', 2299: 'component', 2300: 'haServer', 2301: '\"Manage project existence.\"', 2302: 'SEGMENT', 2303: 'ageMillis', 2304: 'getOptimisationStrategy', 2305: 'jobType', 2306: '\"\\\\r\"', 2307: '\":', 2308: 'application', 2309: 'server', 2310: 'position', 2311: 'vm', 2312: 'println', 2313: 'markedForDisposal', 2314: 'getMsg', 2315: 'DEVELOPMENT', 2316: '\"!\"', 2317: 'MockAnalyzer', 2318: 'toString', 2319: 'callable', 2320: '\"desc\"', 2321: 'CreateFileOptions', 2322: 'setLines', 2323: 'object', 2324: 'configurationDirectory', 2325: ')', 2326: 'TokenSets', 2327: 'getTypeFactory', 2328: 'getLevelForDistance', 2329: 'cache', 2330: 'listConfigurations', 2331: 'stypeInfo', 2332: 'DocumentsWriterPerThread', 2333: 'executeFinder', 2334: 'values', 2335: 'HiveException', 2336: 'EdgeManagerDescriptor', 2337: 'destroyedVm', 2338: 'HRegionInfo', 2339: 'startSPDYServer', 2340: 'target', 2341: 'emptyMeta', 2342: 'vectorDesc', 2343: '\"}\"', 2344: 'cells', 2345: 'userVm', 2346: 'XWIKI_SPACE', 2347: 'LuceneIndexService', 2348: 'ROLE', 2349: '\"className\"', 2350: 'getDataTestDir', 2351: 'segmentName', 2352: 'CollectionRecord', 2353: 'cidrALong', 2354: 'cidrBLong', 2355: 'AGGREGATION_STRATEGY', 2356: 'sourcePluginId', 2357: 'MockDirectoryWrapper', 2358: 'vContext', 2359: '\"<>\"', 2360: 'JetTypeMapperMode', 2361: '24', 2362: 'partspec_val', 2363: 'SinkContextUtil', 2364: 'registerListener', 2365: '\"if true, firewall rule for source/end public port is automatically created; if false - firewall rule has to be created explicitely. Has value true by default\"', 2366: 'ExprNodeConverter', 2367: 'NullFieldException', 2368: 'EMPTY', 2369: 'columnAccessInfo', 2370: 'isNumeric', 2371: 'keyEqual', 2372: 'CONFIG_BASE', 2373: 'queryId', 2374: 'module', 2375: 'NoMoreDataException', 2376: 'prevSet', 2377: 'val', 2378: 'tableTypeMapping', 2379: 'fileKey', 2380: 'container', 2381: 'toStringBinary', 2382: 'clearLibraryCache', 2383: '\"(\\'[s1, s2]; [s3, s4]\\')\"', 2384: 'TAGS', 2385: 'result', 2386: '\"if true, firewall rule for source/end pubic port is automatically created; if false - firewall rule has to be created explicitely. Has value true by default\"', 2387: 'mo', 2388: 'jobConf', 2389: 'stack', 2390: 'tagData', 2391: 'writerThreads', 2392: 'Graph', 2393: 'o', 2394: 'createFile', 2395: 'mandatoryConvertTo', 2396: 'candidate', 2397: 'validateMapWorkOperator', 2398: 'logger', 2399: 'getIndexingChain', 2400: 'getEmptyPigStats', 2401: 'COMPONENT_KEY', 2402: 'dir', 2403: 'triggerJob', 2404: 'getAMNodeInfo', 2405: 'that', 2406: 'evictableSize', 2407: 'getCharsetName', 2408: '\" numDocs=\"', 2409: 'setCurrentSessionState', 2410: 'CartesianTierPlotter', 2411: 'getDataKey', 2412: '\"%s:%s \\\\t totalTF = %,d \\\\t doc freq = %,d \\\\n\"', 2413: 'PayloadScoreQuery', 2414: 'newContext', 2415: '\"revokeFromLocalWorkers(hostname:\"', 2416: 'ENABLED', 2417: 'clean', 2418: 'ExternalTaskPojo', 2419: 'setIsReduceMergePartial', 2420: '\")[\"', 2421: '\"The parallelism must be greater than zero.\"', 2422: 'getRegionName', 2423: 'OErrorMessages', 2424: 'getParams', 2425: 'inputTuple', 2426: 'SessionState', 2427: 'n', 2428: 'service', 2429: 'inViewWrapper', 2430: 'defaultCodecSupportsDocValues', 2431: '0x110396eaaa4L', 2432: 'numDocsInStore', 2433: 'SERVERNAME_PATTERN', 2434: 'DOCS_INDEX_NAME', 2435: 'newSingleThreadScheduledExecutor', 2436: 'getKubernetes', 2437: 'Directory', 2438: 'state', 2439: 'outputPath', 2440: '\"VALIDATE\"', 2441: 'HashMap', 2442: 'LeaderRetrievalException', 2443: 'getUnderlying', 2444: 'K', 2445: 'repositoryId', 2446: '\"L\"', 2447: 'getUri', 2448: 'headerMessage', 2449: 'transformMetrics', 2450: 'TotalOrderPartitioner', 2451: 'Assert', 2452: 'Cell', 2453: 'unwind', 2454: 'getFile', 2455: 'sort', 2456: 'ManagedReferenceLifecycleMethodInterceptor', 2457: 'methods', 2458: 'node', 2459: '\"/jobs/:%s/vertices/:%s/subtasks/:%s/attempts/:%s/accumulators\"', 2460: 'lifecycle', 2461: '\"heartbeatTxnRange\"', 2462: 'locationData', 2463: 'ApiDBUtils', 2464: 'getContext', 2465: 'getPrimitiveCommonCategory', 2466: 'similarityLabel', 2467: 'LATEST', 2468: 'getApplicationContext', 2469: 'TaskAttemptContextImpl', 2470: 'CounterType', 2471: 'attachStorePlan', 2472: 'ProjectVersionPage', 2473: 'getFromEndpoint', 2474: 'VALUE', 2475: 'decl', 2476: 'startsWith', 2477: 'NetworkDBBPool', 2478: 'VirtualFile', 2479: 'evictionPercentage', 2480: 'blockSize', 2481: 'queryBuilder', 2482: 'closeReader', 2483: 'getLength', 2484: 'CREATE_ROLE', 2485: 'docStarts', 2486: 'infoStream', 2487: 'getRequest', 2488: 'idText', 2489: 'finishTerm', 2490: 'endPosition', 2491: 'getDefaultTablePath', 2492: 'dirs', 2493: 'getEncodedName', 2494: 'xmlConverter', 2495: 'setCurrent', 2496: 'ServerNotRunningYetException', 2497: 'resolveVariable', 2498: '\" as a part of vpn cleanup\"', 2499: 'gradleLauncherFactory', 2500: 'TEST_TABLE', 2501: 'isInsertOnlyTable', 2502: 'getHiveHistory', 2503: '\"groupby1.q\"', 2504: 'regionServerReport', 2505: 'HTTP', 2506: 'endpointNormalized', 2507: 'm_cells', 2508: 'bmp', 2509: 'synchronized', 2510: 'getZclass', 2511: 'SortedSetDocValues', 2512: 'isOptimizable', 2513: 'docIDUpto', 2514: 'getDataTestDirOnTestFS', 2515: '\"writeReplace\"', 2516: '\"executors\"', 2517: 'badRequest', 2518: 'value', 2519: 'expr', 2520: 'isMetaRegion', 2521: 'getServiceRegistry', 2522: '\"input1.q\"', 2523: 'DOCS_TYPE', 2524: 'tezOp', 2525: 'compareText', 2526: 'LlapAwareSplit', 2527: 'isRootRegion', 2528: 'ReverseDependencyOrderWalkerWOSeenChk', 2529: 'HPath', 2530: 'convertSkewedValueListToSimpleList', 2531: 'needsScores', 2532: 'fileName', 2533: 'createFileLangugeExpression', 2534: 'scope', 2535: 'fetchEmployees', 2536: '\"work\"', 2537: 'isDeterministic', 2538: 'ParseUtils', 2539: 'HtmlUtil', 2540: 'getAlias', 2541: 'mySettings', 2542: 'avgFileSize', 2543: '\"test\"', 2544: 'descriptor', 2545: 'startPerformanceTest', 2546: 'lookupDocs', 2547: 'requestCompaction', 2548: 'format', 2549: 'Map', 2550: 'rootElements', 2551: 'hive_metastoreConstants', 2552: 'generateJDOFilterFragment', 2553: 'ignoreBadFiles', 2554: 'analyzeFileWithCache', 2555: ',', 2556: 'TestNodeRegistry', 2557: 'fromBs', 2558: 'MessageClass', 2559: 'expectedVersion', 2560: 'm_queuedWrites', 2561: 'horizontalResizeAnimation', 2562: 'mapping', 2563: 'ResultSet', 2564: 'getTableDesc', 2565: 'encode', 2566: 'ast', 2567: 'jsonOutput', 2568: 'workDir', 2569: 'indices', 2570: 'valString', 2571: 'write', 2572: '!', 2573: '\"Auth\"', 2574: 'MultiSortedSetDocValues', 2575: 'resolve', 2576: 'TFIDFSimilarity', 2577: '\"b b <b>a</b> b <b>a</b> b \"', 2578: 'returnVal', 2579: 'initCause', 2580: 'segmentInfo', 2581: 'plugin', 2582: 'lockWaitTimeout', 2583: 'checkNotNull', 2584: '\"-tez-resource\"', 2585: 'docOffset', 2586: 'FSDirectory', 2587: 'detailLevel', 2588: '\"(\\'s2:int, s3:long, s4:float, s5:string, s6:bytes\\', \\'[s1, s2]; [s3, s4]\\')\"', 2589: 'componentGroup', 2590: 'LRUDictionary', 2591: '37', 2592: 'setIndexOnLRInSplit', 2593: '\"(\\'[s7, s2]; [s3, s4]\\')\"', 2594: 'getNamingScheme', 2595: 'totTF', 2596: 'newCallbacks', 2597: 'mapper', 2598: 'valueOf', 2599: 'publishList', 2600: 'withRoots', 2601: 'super', 2602: 'neoStore', 2603: 'DEFAULT_CHARSET', 2604: 'shotMesh', 2605: 'getCms', 2606: 'EmptyProgressIndicator', 2607: 'SIMPLE', 2608: 'HypervisorType', 2609: 'getNumberOfDocuments', 2610: 'TEST_VERSION_CURRENT', 2611: 'accessToGithubWithModalProgress', 2612: 'getMainComponent', 2613: 'reporter', 2614: '\"UpdateDialog.ColumnInfo.Comparator\"', 2615: 'MailMessage', 2616: 'fn', 2617: 'outputItemsets', 2618: 'hsf', 2619: 'HIVE_OPTIMIZE_TEZ', 2620: 'getValueAt', 2621: 'item', 2622: 'locks', 2623: 'libCache', 2624: 'makeCast', 2625: '\"ClientPath\"', 2626: '0x8d4c2c6d177f60d7L', 2627: 'errors', 2628: '||', 2629: 'getBuildDir', 2630: 'DummyPartition', 2631: 'typeParameters', 2632: 'newCol', 2633: 'ServerNotRunningException', 2634: 'populateMapRedPlan5', 2635: 'PigStatsUtil', 2636: 'jira', 2637: 'Boolean', 2638: 'newIOContext', 2639: '\"checkPaths: filesystem error in check phase. \"', 2640: 'NINES', 2641: 'ansi', 2642: '\"Initialized address: \"', 2643: 'NavigatablePsiElement', 2644: '\"INIT Initialized address: \"', 2645: 'clearWorkMap', 2646: 'visitor', 2647: 'schColl', 2648: '\" target \"', 2649: 'sourceHashHolder', 2650: '\"Error during parsing\"', 2651: 'info', 2652: '\"implements\"', 2653: 'PluginID', 2654: 'convertTo', 2655: '\"/jobs/:%s/vertices/:%s/subtasks/:%s/attempts/%s/accumulators\"', 2656: 'getAsString', 2657: 'pid', 2658: '&', 2659: 'd', 2660: 'remaining', 2661: 'getDirectory', 2662: 'hConfFile', 2663: 'md', 2664: 'TestStartRequest', 2665: 'CopyPasteManagerEx', 2666: 'enum', 2667: 'SpanTermQuery', 2668: 'getCompactionReader', 2669: '\"direct:start\"', 2670: 'SLinkOperations', 2671: 'SlaveContext', 2672: 'srcTaxDir', 2673: 'lifecycleMethod', 2674: 'tfn', 2675: 'setDocumentURI', 2676: 'GrOperationSignImpl', 2677: 'option', 2678: 'nextMac', 2679: 'inputPaths', 2680: '\"Method not supported\"', 2681: 'observeFieldID', 2682: 'segmentSize', 2683: 'dbClient', 2684: 'childWalker', 2685: 'plotImg', 2686: 'withRoot', 2687: 'getString', 2688: 'PARTITION_DATE_FORMAT', 2689: 'getResolver', 2690: 'ipAddress', 2691: 'hasKeystore', 2692: '\" -r, -dryrun\"', 2693: 'stripCompletionException', 2694: 'getLocation', 2695: '\"join1.q\"', 2696: 'registerBeanDefinitionParser', 2697: 'EdgeProperty', 2698: 's', 2699: 'NSArray', 2700: 'Bytes', 2701: 'ServiceInstance', 2702: 'System', 2703: 'qualifier', 2704: 'getPrimaryCaret', 2705: 'cacheManager', 2706: 'NamedArgumentDescriptor', 2707: 'storagePoolHasEnoughSpace', 2708: 'cfg', 2709: 'Hive', 2710: 'HADOOP_TOKEN_FILE_LOCATION', 2711: 'shardTopGroups', 2712: 'parentDb', 2713: 'EOBJECT_LOOKUP_CACHE_KEY', 2714: 'CommitFailedException', 2715: 'master', 2716: 'isRuntime', 2717: 'getTemporaryPath', 2718: 'syncOrDefer', 2719: 'nowInMillis', 2720: 'SQLFeatureNotSupportedException', 2721: 'mapperParser', 2722: 'ord', 2723: 'PROJECT_KEY', 2724: '2.0', 2725: 'classAsmType', 2726: 'file', 2727: 'bindingContext', 2728: 'setHtmlDescription', 2729: 'Accumulator', 2730: 'Label', 2731: 'getQuartzContextName', 2732: 'SUB_PROJECT_KEY', 2733: 'decrementResourceCount', 2734: 'replace', 2735: 'indexReader', 2736: 'SerDe', 2737: 'equalTo', 2738: 'props', 2739: 'operator', 2740: 'outputObjInspector', 2741: 'hasNext', 2742: 'asCamelClusterMember', 2743: 'getBinariesContainer', 2744: 'content', 2745: 'CLASS1', 2746: 'ndStack', 2747: 'MetaStoreUtils', 2748: 'copyFiles', 2749: 'shape', 2750: 'RepositoryModelUtil', 2751: 'JavaUtils', 2752: 'smallfloat', 2753: 'protocol', 2754: 'Arrays', 2755: 'C_PROPERTY_TITLE', 2756: 'TableName', 2757: '\"/file\"', 2758: 'tierPrefix', 2759: '\"{} FAILED {}\"', 2760: 'toConfiguration', 2761: 'tabIdName', 2762: 'Math', 2763: 'flink', 2764: 'WIKI_SPACE', 2765: 'storageFormat', 2766: 'closeMessage', 2767: '\"Missing required field: qualifier value\"', 2768: '\"direct:a\"', 2769: 'tableTree', 2770: 'backingStore', 2771: 'requestVolumes', 2772: 'scanRoot', 2773: '\"AA:AA:BB:BB:CC:CC\"', 2774: 'parseSchemaFromFS', 2775: 'getTypeInfo', 2776: 'id', 2777: '\"localhost\"', 2778: 'ThrowableComputable', 2779: 'Processor', 2780: 'toObject', 2781: 'obtain', 2782: 'searchConditions', 2783: 'MACIdentifier', 2784: 'unquotedCsvPreference', 2785: '\"\\\\\\\\.\"', 2786: 'DocumentsWriter', 2787: '\"can\\'t test on Windows\"', 2788: 'getHypervisorType', 2789: 'lbCtx', 2790: 'query', 2791: 'ACL', 2792: '\"%\"', 2793: 'metricDao', 2794: 'useLlapIo', 2795: 'HashSet', 2796: 'P1P1', 2797: 'statusdir', 2798: '\"RequestAnnotationHistoryReply\"', 2799: 'mRPAREN', 2800: 'findProjectByProjectAccountIdIncludingRemoved', 2801: 'PlanWalker', 2802: 'OperateEntry', 2803: 'docValueType', 2804: 'TransactionalMetaStoreEventListener', 2805: 'serializeExpression', 2806: 'getScanner', 2807: 'ICalWorker', 2808: 'StandardFormatSettings', 2809: 'isTraceEnabled', 2810: 'BinarySpec', 2811: '\"applicationId\"', 2812: 'vpnFwRule', 2813: 'setObject', 2814: 'CloudRuntimeException', 2815: 'DemuxOperator', 2816: 'submitHam', 2817: '\";\"', 2818: 'Short', 2819: 'snapshotSizeSearch', 2820: 'accept', 2821: 'CommitEditor', 2822: 'table', 2823: 'getComments', 2824: 'getField', 2825: 'uri', 2826: 'getExplain', 2827: 'EntersBattlefieldAbility', 2828: 'servicesA', 2829: 'dataContext', 2830: 'Tokenizer', 2831: 'dist', 2832: 'functionType', 2833: 'spyTargetFs', 2834: 'classEnvRule', 2835: 'getKeeper', 2836: '\",field=\"', 2837: 'ActorGateway', 2838: 'getReferenceLink', 2839: 'storageMgr', 2840: 'speed', 2841: 'tempFile', 2842: 'isDfsDir', 2843: 'TargetController', 2844: 'prompt', 2845: 'ProjectRes', 2846: 'buildMessage', 2847: 'isFullAcidScan', 2848: 'storePayloads', 2849: 'forNodes', 2850: 'getClass', 2851: 'Future', 2852: '\"Submitting job {} (detached: {}).\"', 2853: 'CONCUR_READ_ONLY', 2854: 'SearchContext', 2855: 'objectInStoreMgr', 2856: '\"::1\"', 2857: '\"Review #\"', 2858: 'Strings', 2859: 'profile', 2860: '\"(service.pid=\"', 2861: 'identity', 2862: 'Symbol', 2863: 'aggName', 2864: 'WebDriverWait', 2865: 'schemafile', 2866: 'Assisted', 2867: 'selectOrFailById', 2868: 'deleteConnection', 2869: '\", nzeros = \"', 2870: 'FAMILYNAME', 2871: 'boolean', 2872: 'getCompleteName', 2873: 'onDropPartition', 2874: '\"METHOD\"', 2875: 'makeSessionId', 2876: 'testNames', 2877: '\" looks stale\"', 2878: 'max', 2879: 'QueryParserUtils', 2880: 'serdeConstants', 2881: 'HttpHost', 2882: 'LOG', 2883: '\"/a\"', 2884: 'checkForErrors', 2885: 'headers', 2886: 'isInitialized', 2887: 'lambda', 2888: 'getCollection', 2889: 'getColType', 2890: 'ERD2WUtilities', 2891: 'getSocketAddresses', 2892: 'setText', 2893: 'getConfiguration', 2894: 'jobName', 2895: 'ColumnProjectionUtils', 2896: 'ramSize', 2897: 'getHaseIntegrationTestingUtility', 2898: 'pastSync', 2899: 'getBuffer', 2900: 'OConfigurationException', 2901: 'in', 2902: 'compareSP', 2903: 'cloneOrRemoveCaret', 2904: 'customMeasure', 2905: 'getMinimumSize', 2906: 'mapList', 2907: '?', 2908: 'assertTrue', 2909: 'prettyPrintedRegionName', 2910: 'usesHcatalog', 2911: 'NullVirtualFile', 2912: 'stats', 2913: 'YES', 2914: '\"\\'\"', 2915: 'CustomDiskOfferingMinSize', 2916: 'OsStats', 2917: '\" to double: \"', 2918: 'RelNode', 2919: 'rexBuilder', 2920: 'TimeoutException', 2921: 'isTemplate', 2922: 'fraction', 2923: 'leaderRetriever', 2924: '-', 2925: 'Table', 2926: 'RuleField', 2927: 'title', 2928: 'PROPERTY_TOKEN_MAXIMUM_ID_BITS', 2929: 'getValueOffset', 2930: '+', 2931: 'HiveProject', 2932: 'registerMuleBeanDefinitionParser', 2933: '\",docIDUpto=\"', 2934: 'FileSystem', 2935: 'toFile', 2936: 'stage', 2937: 'getFileSystem', 2938: 'FindUtils', 2939: 'UseExternalDnsServers', 2940: 'clazz', 2941: 'newRule', 2942: 'maxDistanceKM', 2943: '_TestUtil', 2944: 'vpcId', 2945: 'HTable', 2946: 'enrichmentProcessor', 2947: 'p', 2948: 'newSegmentName', 2949: 'IndexWriter', 2950: 'MBMessage', 2951: 'cleanLoginUser', 2952: 'tree', 2953: 'startServices', 2954: 'kind', 2955: '\"entry.getKey()\"', 2956: 'getDriver', 2957: 'openTargets', 2958: 'EARTH_RADIUS_KM', 2959: 'client', 2960: '1', 2961: 'sflw', 2962: 'newAttributeFactory', 2963: 'annotCollector', 2964: 'myRevision', 2965: 'getDefaultToolkit', 2966: 'endIpv6', 2967: 'addUnique', 2968: 'JSONObject', 2969: 'classLoader', 2970: 'UndertowService', 2971: 'DESCRIPTION', 2972: '\"hbase.regionserver.lease.period\"', 2973: 'SrndQuery', 2974: 'equalsIgnoreMvccVersion', 2975: 'index', 2976: 'getCoreCacheKey', 2977: 'connectorKey', 2978: 'setPartitionFile', 2979: 'matchEndpoint', 2980: '\"Setting env: \"', 2981: 'array', 2982: 'isWarDeployed', 2983: '\"compact\"', 2984: 'addFamilyMapToWALEdit', 2985: '\"objs\"', 2986: 'setObjectFileDir', 2987: '\" looks stale, new server:\"', 2988: 'LlapUtil', 2989: 'completedUrl', 2990: '\"heartbeatTxnRange(\"', 2991: 'percentage', 2992: 'getScratchColumnTypeMap', 2993: '\"splitlog\"', 2994: 'DEFAULT_VALUE', 2995: 'mySendTree', 2996: 'isForceStop', 2997: 'MethodDef', 2998: 'ExecType', 2999: 'streams', 3000: 'getOperatorName', 3001: 'handleOrderBy', 3002: 'parser', 3003: 'buildTable', 3004: 'getOldMapJoin', 3005: 'prefs_', 3006: 'vmMo', 3007: 'getFieldNotNull', 3008: 'SimpleFSDirectory', 3009: 'SIMPLE_ON_TOP', 3010: '\"Failed seekBefore \"', 3011: '...', 3012: 'TestUtil', 3013: '\".\"', 3014: '\"\\\\\", but \\\\\"\"', 3015: 'nextToken', 3016: 'setReference', 3017: 'getHttpUri', 3018: '\"_c1\"', 3019: 'toBytesSource', 3020: 'UnionAdjustAction', 3021: 'getCaretModel', 3022: 'unsupportedStoreFuncs', 3023: 'AjaxObserveField', 3024: 'USER', 3025: 'EMPTY_START_ROW', 3026: 'initJMX', 3027: 'camelContext', 3028: 'createResponse', 3029: 'toPath', 3030: 'throws', 3031: 'INTERNAL_ERROR_PREFIX', 3032: 'GeneralDataCoding', 3033: 'HttpConfigurable', 3034: 'getExternalProjectPath', 3035: 'EdgePath', 3036: 'cols', 3037: 'if', 3038: 'compIdx', 3039: 'originLat', 3040: 'orderExpressions', 3041: 'getEndpointUri', 3042: 'CellUtil', 3043: 'reloadFunctions', 3044: 'statsObj', 3045: '20', 3046: 'getMainFrame', 3047: 'ClientResponse', 3048: '\"Could not retrieve the leader gateway.\"', 3049: 'fr', 3050: 'ret', 3051: '\"Consumed {} on {}\"', 3052: '\"Loaded filter classes :\"', 3053: '\"IndexReaderReopen\"', 3054: 'currentBlockIndex', 3055: 'static', 3056: 'GenericData', 3057: 'setName', 3058: 'void', 3059: 'shutdown', 3060: 'connectionFactory', 3061: '%', 3062: 'keyEvent', 3063: 'has', 3064: 'readSlaveContext', 3065: 'mrwork', 3066: '!=', 3067: 'useExtDns', 3068: 'account', 3069: 'column', 3070: 'func_code', 3071: 'getScannerCallable', 3072: 'CardUtil', 3073: 'fromURI', 3074: 'TOK_FUNCTIONDI', 3075: 'MetricDto', 3076: 'MalformedURLException', 3077: 'deleteConnectionInfo', 3078: 'HADOOPFS', 3079: 'TEST_MAC', 3080: 'pool', 3081: 'addAbility', 3082: 'createNotAuthorizedResponse', 3083: '\"revokeFromLocalWorkers\"', 3084: '::', 3085: 'HTML', 3086: '\"Edge Security Profile for Tenant VDC \"', 3087: 'getOrCreateCollectionWrapper', 3088: 'HIVE_EXECUTION_ENGINE', 3089: '\"_len = \"', 3090: 'getServerManager', 3091: 'seg', 3092: '*', 3093: 'getADEManager', 3094: 'NODE', 0: '<pad/unknown>'}\n"
     ]
    }
   ],
   "source": [
    "print(int_token_map)"
   ]
  },
  {
   "cell_type": "code",
   "execution_count": 13,
   "metadata": {},
   "outputs": [],
   "source": [
    "vocab_size = len(vocab)\n",
    "max_buggy_len = max([len(txt) for txt in train_buggy_tokenised])\n",
    "max_fixed_len = max([len(txt) for txt in train_fixed_tokenised])\n",
    "num_dps = len(train_fixed_tokenised)\n",
    "num_test_dps = len(test_fixed_tokenised)\n",
    "\n",
    "# test_buggy_codes = [x for x in test_buggy_codes if len(x) <= max_buggy_len]\n",
    "# test_fixed_codes = [x for x in test_fixed_codes if len(x) <= max_fixed_len]"
   ]
  },
  {
   "cell_type": "code",
   "execution_count": 14,
   "metadata": {
    "scrolled": false
   },
   "outputs": [
    {
     "name": "stdout",
     "output_type": "stream",
     "text": [
      "Number of data points: 900\n",
      "Vocabulary size: 3095\n",
      "Max length in buggy codes: 72\n",
      "Max length in fixed codes: 56\n"
     ]
    }
   ],
   "source": [
    "print('Number of data points:', num_dps)\n",
    "print('Vocabulary size:', vocab_size)\n",
    "print('Max length in buggy codes:', max_buggy_len)\n",
    "print('Max length in fixed codes:', max_fixed_len)"
   ]
  },
  {
   "cell_type": "code",
   "execution_count": 15,
   "metadata": {},
   "outputs": [],
   "source": [
    "import numpy as np\n",
    "\n",
    "buggy_inputs =  np.zeros((num_dps, max_buggy_len), dtype='int32')\n",
    "fixed_inputs =  np.zeros((num_dps, max_fixed_len), dtype='int32')\n",
    "fixed_outputs = np.zeros((num_dps, max_fixed_len, vocab_size), dtype='float32')\n",
    "\n",
    "for i, (buggy, fixed) in enumerate(zip(train_buggy_tokenised, train_fixed_tokenised)):\n",
    "    for t, token in enumerate(buggy):\n",
    "        buggy_inputs[i, t] = token_int_map[token]\n",
    "    for t, token in enumerate(fixed):\n",
    "        int_value = token_int_map[token]\n",
    "        fixed_inputs[i, t] = int_value\n",
    "        if t > 0:\n",
    "            fixed_outputs[i, t-1, int_value] = 1.\n",
    "    fixed_outputs[i, t, 0] = 1.\n",
    "\n",
    "\n",
    "test_buggy_inputs =  np.zeros((num_test_dps, max_buggy_len), dtype='int32')\n",
    "test_fixed_inputs =  np.zeros((num_test_dps, max_fixed_len), dtype='int32')\n",
    "\n",
    "for i, (buggy, fixed) in enumerate(zip(test_buggy_tokenised, test_fixed_tokenised)):\n",
    "    for t, token in enumerate(buggy):\n",
    "        if token not in list(token_int_map.keys()):\n",
    "            test_buggy_inputs[i, t] = token_int_map['<pad/unknown>']\n",
    "        else:\n",
    "            test_buggy_inputs[i, t] = token_int_map[token]\n",
    "    for t, token in enumerate(fixed):\n",
    "        if token not in list(token_int_map.keys()):\n",
    "            test_fixed_inputs[i, t] = token_int_map['<pad/unknown>']\n",
    "        else:\n",
    "            test_fixed_inputs[i, t] = token_int_map[token]"
   ]
  },
  {
   "cell_type": "code",
   "execution_count": 16,
   "metadata": {},
   "outputs": [
    {
     "name": "stderr",
     "output_type": "stream",
     "text": [
      "Using TensorFlow backend.\n"
     ]
    }
   ],
   "source": [
    "from keras.layers import Input, Concatenate, Embedding, LSTM, Dense, dot, Activation, concatenate, Lambda\n",
    "from keras.models import Model\n",
    "from keras.backend import argmax, cast\n",
    "\n",
    "\n",
    "def build_discriminator(dimension, v_size, buggy_len, fixed_len):\n",
    "    buggy_input_layer = Input(shape=(buggy_len,))\n",
    "    fixed_input_layer = Input(shape=(fixed_len,))\n",
    "    concatted = Concatenate()([buggy_input_layer, fixed_input_layer])\n",
    "    embed_lay = Embedding(v_size, dimension, mask_zero=True)(concatted)\n",
    "    x = LSTM(dimension)(embed_lay)\n",
    "    out = Dense(1, activation='sigmoid')(x)\n",
    "    disc = Model([buggy_input_layer, fixed_input_layer], out)\n",
    "    disc.compile(loss='binary_crossentropy', optimizer='adam', metrics=['accuracy'], loss_weights=[0.5])\n",
    "    \n",
    "    return disc\n",
    "\n",
    "\n",
    "def build_generator(dimension, v_size, drop_prob, buggy_len, fixed_len):\n",
    "    # Encoder\n",
    "    buggy_input_layer = Input(shape=(buggy_len,))\n",
    "    enc_embed_lay = Embedding(v_size, dimension, mask_zero=True)(buggy_input_layer)\n",
    "    encoder_outputs, state_h, state_c = LSTM(dimension, return_sequences=True, return_state=True, dropout=drop_prob, recurrent_dropout=drop_prob)(enc_embed_lay)\n",
    "    # Decoder\n",
    "    fixed_input_layer = Input(shape=(fixed_len,))\n",
    "    dec_embed_lay = Embedding(v_size, dimension, mask_zero=True)(fixed_input_layer)\n",
    "    decoder_outputs = LSTM(dimension, return_sequences=True, dropout=drop_prob, recurrent_dropout=drop_prob)(dec_embed_lay, initial_state=[state_h, state_c])\n",
    "    # Attention\n",
    "    attention = dot([decoder_outputs, encoder_outputs], axes=[2, 2])\n",
    "    attention = Activation('softmax', name='attention')(attention)\n",
    "    context = dot([attention, encoder_outputs], axes=[2, 1])\n",
    "    decoder_combined_context = concatenate([context, decoder_outputs])\n",
    "    attention_context_output = Dense(dimension, activation=\"tanh\")(decoder_combined_context)\n",
    "    # Model output\n",
    "    model_output = Dense(v_size, activation=\"softmax\")(attention_context_output)\n",
    "    # Build model\n",
    "    gen = Model([buggy_input_layer, fixed_input_layer], model_output)\n",
    "    \n",
    "    return gen\n",
    "\n",
    "\n",
    "def build_gan(gen, disc, buggy_len, fixed_len):\n",
    "    disc.trainable = False\n",
    "    buggy_input_layer = Input(shape=(buggy_len,))\n",
    "    fixed_input_layer = Input(shape=(fixed_len,))\n",
    "    gen_out = gen([buggy_input_layer, fixed_input_layer])\n",
    "    argmax_layer = Lambda(lambda x: cast(argmax(x, axis=2), dtype='float32'))\n",
    "    disc_out = disc([buggy_input_layer, argmax_layer(gen_out)])\n",
    "    gan = Model([buggy_input_layer, fixed_input_layer], [disc_out, gen_out])\n",
    "    # compile model\n",
    "    gan.compile(loss=['binary_crossentropy', 'categorical_crossentropy'], optimizer='rmsprop', loss_weights=[1, 100])\n",
    "    \n",
    "    return gan"
   ]
  },
  {
   "cell_type": "code",
   "execution_count": 17,
   "metadata": {
    "scrolled": false
   },
   "outputs": [
    {
     "name": "stderr",
     "output_type": "stream",
     "text": [
      "WARNING: Logging before flag parsing goes to stderr.\n",
      "W1014 12:40:28.445461 140413948507904 deprecation_wrapper.py:119] From /home/aziz/anaconda3/envs/tf/lib/python3.7/site-packages/keras/backend/tensorflow_backend.py:74: The name tf.get_default_graph is deprecated. Please use tf.compat.v1.get_default_graph instead.\n",
      "\n",
      "W1014 12:40:28.455940 140413948507904 deprecation_wrapper.py:119] From /home/aziz/anaconda3/envs/tf/lib/python3.7/site-packages/keras/backend/tensorflow_backend.py:517: The name tf.placeholder is deprecated. Please use tf.compat.v1.placeholder instead.\n",
      "\n",
      "W1014 12:40:28.460013 140413948507904 deprecation_wrapper.py:119] From /home/aziz/anaconda3/envs/tf/lib/python3.7/site-packages/keras/backend/tensorflow_backend.py:4138: The name tf.random_uniform is deprecated. Please use tf.random.uniform instead.\n",
      "\n",
      "W1014 12:40:29.373647 140413948507904 deprecation.py:323] From /home/aziz/anaconda3/envs/tf/lib/python3.7/site-packages/keras/backend/tensorflow_backend.py:2974: add_dispatch_support.<locals>.wrapper (from tensorflow.python.ops.array_ops) is deprecated and will be removed in a future version.\n",
      "Instructions for updating:\n",
      "Use tf.where in 2.0, which has the same broadcast rule as np.where\n",
      "W1014 12:40:29.406673 140413948507904 deprecation_wrapper.py:119] From /home/aziz/anaconda3/envs/tf/lib/python3.7/site-packages/keras/optimizers.py:790: The name tf.train.Optimizer is deprecated. Please use tf.compat.v1.train.Optimizer instead.\n",
      "\n",
      "W1014 12:40:29.508443 140413948507904 deprecation_wrapper.py:119] From /home/aziz/anaconda3/envs/tf/lib/python3.7/site-packages/keras/backend/tensorflow_backend.py:3376: The name tf.log is deprecated. Please use tf.math.log instead.\n",
      "\n",
      "W1014 12:40:30.416914 140413948507904 deprecation_wrapper.py:119] From /home/aziz/anaconda3/envs/tf/lib/python3.7/site-packages/keras/backend/tensorflow_backend.py:133: The name tf.placeholder_with_default is deprecated. Please use tf.compat.v1.placeholder_with_default instead.\n",
      "\n",
      "W1014 12:40:30.424669 140413948507904 deprecation.py:506] From /home/aziz/anaconda3/envs/tf/lib/python3.7/site-packages/keras/backend/tensorflow_backend.py:3445: calling dropout (from tensorflow.python.ops.nn_ops) with keep_prob is deprecated and will be removed in a future version.\n",
      "Instructions for updating:\n",
      "Please use `rate` instead of `keep_prob`. Rate should be set to `rate = 1 - keep_prob`.\n"
     ]
    },
    {
     "name": "stdout",
     "output_type": "stream",
     "text": [
      "__________________________________________________________________________________________________\n",
      "Layer (type)                    Output Shape         Param #     Connected to                     \n",
      "==================================================================================================\n",
      "input_5 (InputLayer)            (None, 72)           0                                            \n",
      "__________________________________________________________________________________________________\n",
      "input_6 (InputLayer)            (None, 56)           0                                            \n",
      "__________________________________________________________________________________________________\n",
      "model_2 (Model)                 (None, 56, 3095)     28394519    input_5[0][0]                    \n",
      "                                                                 input_6[0][0]                    \n",
      "__________________________________________________________________________________________________\n",
      "lambda_1 (Lambda)               (None, 56)           0           model_2[1][0]                    \n",
      "__________________________________________________________________________________________________\n",
      "model_1 (Model)                 (None, 1)            11563009    input_5[0][0]                    \n",
      "                                                                 lambda_1[0][0]                   \n",
      "==================================================================================================\n",
      "Total params: 39,957,528\n",
      "Trainable params: 28,394,519\n",
      "Non-trainable params: 11,563,009\n",
      "__________________________________________________________________________________________________\n"
     ]
    },
    {
     "data": {
      "image/png": "[encoded data removed]",
      "text/plain": [
       "<IPython.core.display.Image object>"
      ]
     },
     "execution_count": 17,
     "metadata": {},
     "output_type": "execute_result"
    }
   ],
   "source": [
    "%matplotlib inline\n",
    "from keras.utils.vis_utils import plot_model\n",
    "from IPython.display import Image\n",
    "\n",
    "\n",
    "latent_dim = 1024\n",
    "dropout = 0.2\n",
    "\n",
    "discriminator = build_discriminator(latent_dim, vocab_size, max_buggy_len, max_fixed_len)\n",
    "plot_model(discriminator, to_file='discriminator_apr.png', show_shapes=True, show_layer_names=True)\n",
    "# Image('discriminator_model_plot.png')\n",
    "\n",
    "generator = build_generator(latent_dim, vocab_size, dropout, max_buggy_len, max_fixed_len)\n",
    "plot_model(generator, to_file='generator_apr.png', show_shapes=True, show_layer_names=True)\n",
    "# Image('generator_model_plot.png')\n",
    "\n",
    "gan = build_gan(generator, discriminator, max_buggy_len, max_fixed_len)\n",
    "plot_model(gan, to_file='gan_model_apr.png', show_shapes=True, show_layer_names=True)\n",
    "gan.summary()\n",
    "Image('gan_model_apr.png')"
   ]
  },
  {
   "cell_type": "code",
   "execution_count": 18,
   "metadata": {},
   "outputs": [],
   "source": [
    "def generate_fixed_ints(gen, bugs, fixed_len, token_map, int_map):\n",
    "    gntd_ints = np.zeros(shape=(len(bugs), fixed_len))\n",
    "    gntd_ints[:, 0] = token_map[\"<sol>\"]\n",
    "    for buggy, generated in tqdm(zip(bugs, gntd_ints), total=len(bugs)):\n",
    "        buggy_input = buggy[np.newaxis]\n",
    "        gntd_in_out = generated[np.newaxis]\n",
    "        for i in range(1, fixed_len):\n",
    "            prediction = gen.predict([buggy_input, gntd_in_out]).argmax(axis=2)\n",
    "            if int_map[prediction[:, i][0]] == \"<eol>\":\n",
    "                break\n",
    "            generated[i] = prediction[:, i]\n",
    "    \n",
    "    return gntd_ints\n",
    "\n",
    "\n",
    "def decode_ints(int_matrix, int_map):\n",
    "    gntd_codes = []\n",
    "    for ints in int_matrix:\n",
    "        code = [int_map[x] for x in ints if x != 0]\n",
    "        gntd_codes.append(code)\n",
    "        \n",
    "    return gntd_codes"
   ]
  },
  {
   "cell_type": "code",
   "execution_count": null,
   "metadata": {
    "scrolled": true
   },
   "outputs": [
    {
     "name": "stdout",
     "output_type": "stream",
     "text": [
      "Iteration 1/30:-\n"
     ]
    },
    {
     "name": "stderr",
     "output_type": "stream",
     "text": [
      "/home/aziz/anaconda3/envs/tf/lib/python3.7/site-packages/keras/engine/training.py:490: UserWarning: Discrepancy between trainable weights and collected trainable weights, did you set `model.trainable` without calling `model.compile` after ?\n",
      "  'Discrepancy between trainable weights and collected trainable'\n"
     ]
    },
    {
     "name": "stdout",
     "output_type": "stream",
     "text": [
      "Epoch 1/1\n",
      "900/900 [==============================] - 9s 10ms/step - loss: 0.0238 - acc: 0.9889\n"
     ]
    },
    {
     "name": "stderr",
     "output_type": "stream",
     "text": [
      " 38%|███▊      | 340/900 [18:00<29:30,  3.16s/it]"
     ]
    }
   ],
   "source": [
    "import datetime\n",
    "from tqdm import tqdm\n",
    "\n",
    "\n",
    "epochs = 30\n",
    "\n",
    "start_time = datetime.datetime.now().replace(microsecond=0)\n",
    "for e in range(epochs):\n",
    "    print('Iteration', str(e+1)+'/'+str(epochs)+':-')\n",
    "    discriminator.fit([buggy_inputs, fixed_inputs], np.ones(num_dps))\n",
    "    generated_ints = generate_fixed_ints(generator, buggy_inputs, max_fixed_len, token_int_map, int_token_map)\n",
    "    discriminator.fit([buggy_inputs, generated_ints], np.zeros(num_dps))\n",
    "    gan.fit([buggy_inputs, fixed_inputs], [np.ones(num_dps), fixed_outputs])\n",
    "    generated_ints = generate_fixed_ints(generator, test_buggy_inputs, max_fixed_len, token_int_map, int_token_map)\n",
    "    generated_codes = decode_ints(generated_ints, int_token_map)\n",
    "    for buggy, fixed, gnrtd in zip(test_buggy_codes, test_fixed_codes, generated_codes):\n",
    "        print('Buggy code:', ' '.join(buggy))\n",
    "        print('---')\n",
    "        print('Fixed code:', ' '.join(fixed[1:-1]))\n",
    "        print('Genration: ', ' '.join(gnrtd[1:]))\n",
    "        print('=============')\n",
    "        print('=============')\n",
    "end_time = datetime.datetime.now().replace(microsecond=0)"
   ]
  },
  {
   "cell_type": "code",
   "execution_count": null,
   "metadata": {},
   "outputs": [],
   "source": [
    "print(\"Training took (h:mm:ss)\", end_time-start_time)"
   ]
  },
  {
   "cell_type": "code",
   "execution_count": null,
   "metadata": {
    "scrolled": false
   },
   "outputs": [],
   "source": [
    "generated_ints = generate_fixed_ints(generator, test_buggy_inputs, max_fixed_len, token_int_map, int_token_map)\n",
    "generated_codes = decode_ints(generated_ints, int_token_map)\n",
    "for buggy, fixed, gnrtd in zip(test_buggy_codes, test_fixed_codes, generated_codes):\n",
    "    print('Buggy code:', ' '.join(buggy))\n",
    "    print('---')\n",
    "    print('Fixed code:', ' '.join(fixed[1:-1]))\n",
    "    print('Genration: ', ' '.join(gnrtd[1:]))\n",
    "    print('=============')\n",
    "    print('=============')"
   ]
  },
  {
   "cell_type": "code",
   "execution_count": null,
   "metadata": {},
   "outputs": [],
   "source": []
  }
 ],
 "metadata": {
  "kernelspec": {
   "display_name": "tf",
   "language": "python",
   "name": "tf"
  },
  "language_info": {
   "codemirror_mode": {
    "name": "ipython",
    "version": 3
   },
   "file_extension": ".py",
   "mimetype": "text/x-python",
   "name": "python",
   "nbconvert_exporter": "python",
   "pygments_lexer": "ipython3",
   "version": "3.7.4"
  }
 },
 "nbformat": 4,
 "nbformat_minor": 2
}

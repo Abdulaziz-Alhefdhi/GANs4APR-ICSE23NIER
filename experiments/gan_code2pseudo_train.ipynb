{
 "cells": [
  {
   "cell_type": "markdown",
   "metadata": {},
   "source": [
    "## Imports and Hyper-parameter/variable declaration"
   ]
  },
  {
   "cell_type": "code",
   "execution_count": 1,
   "metadata": {
    "scrolled": true
   },
   "outputs": [
    {
     "name": "stderr",
     "output_type": "stream",
     "text": [
      "Using TensorFlow backend.\n"
     ]
    }
   ],
   "source": [
    "%matplotlib inline\n",
    "from utils import retrieve_texts, DataObject, data_shapes, token_integer_mapping, prepare_model_data, shape_info\n",
    "from keras.models import Model\n",
    "from keras.layers import Input, LSTM, Dense, Embedding, Activation, dot, Concatenate, concatenate, Lambda\n",
    "from keras.utils.vis_utils import plot_model\n",
    "from IPython.display import Image\n",
    "from keras.backend import argmax\n",
    "from keras.callbacks import ModelCheckpoint\n",
    "import datetime\n",
    "\n",
    "\n",
    "batch_size = 32                # Batch size for training.\n",
    "epochs = 23                    # Number of epochs to train for.\n",
    "latent_dim = 3072              # Latent dimensionality of the encoding space.\n",
    "do_prob = 0.2                # Dropout probability\n",
    "num_samples = 5001             # Number of samples to train on.\n",
    "data_dir = 'data/train/'       # Path to the data txt files on disk.\n",
    "model_cp_dir = 'checkpoints/'  # Path to model checkpoints\n",
    "# Maximum length for inputs and outputs (in terms of characters, not tokens)\n",
    "max_input_length = 1000000     # Number of largest acceptibale input length\n",
    "max_target_length = 1800       # Number of largest acceptibale target length"
   ]
  },
  {
   "cell_type": "markdown",
   "metadata": {},
   "source": [
    "## Data processing"
   ]
  },
  {
   "cell_type": "code",
   "execution_count": 2,
   "metadata": {},
   "outputs": [],
   "source": [
    "# Get data\n",
    "input_texts, target_texts, input_lists, target_lists, input_tokens, target_tokens = retrieve_texts(data_dir, num_samples, max_input_length, max_target_length)\n",
    "do = DataObject(input_texts, target_texts, input_lists, target_lists, input_tokens, target_tokens)\n",
    "# Data shapes\n",
    "num_encoder_tokens, num_decoder_tokens, max_encoder_seq_length, max_decoder_seq_length, n_input_samples = data_shapes(do)\n",
    "# Converting tokens to integers (Neural Networks accept only integers as inputs), and\n",
    "# reverse-lookup token index to decode sequences back to something readable.\n",
    "input_token_index, target_token_index, reverse_input_token_index, reverse_target_token_index = token_integer_mapping(do.input_tokens, do.target_tokens)\n",
    "# Preprare data for model training\n",
    "encoder_input_data, decoder_input_data, decoder_target_data = prepare_model_data(do.input_lists, do.target_lists, input_token_index, target_token_index, n_input_samples, max_encoder_seq_length, max_decoder_seq_length, num_decoder_tokens)"
   ]
  },
  {
   "cell_type": "code",
   "execution_count": 3,
   "metadata": {
    "scrolled": true
   },
   "outputs": [
    {
     "name": "stdout",
     "output_type": "stream",
     "text": [
      "Training info:-\n",
      "Number of samples: 5000\n",
      "Number of unique input tokens: 4339\n",
      "Number of unique output tokens: 4159\n",
      "Max sequence length for inputs: 527\n",
      "Max sequence length for outputs: 231\n",
      "Batch size: 32\n",
      "Embedding dimensionality: 3072\n",
      "Number of training iterations: 23\n"
     ]
    }
   ],
   "source": [
    "# Print info\n",
    "print(\"Training info:-\")\n",
    "shape_info(n_input_samples, num_encoder_tokens, num_decoder_tokens, max_encoder_seq_length, max_decoder_seq_length)\n",
    "print(\"Batch size:\", batch_size)\n",
    "print(\"Embedding dimensionality:\", latent_dim)\n",
    "print(\"Number of training iterations:\", epochs)"
   ]
  },
  {
   "cell_type": "markdown",
   "metadata": {},
   "source": [
    "## Building the model"
   ]
  },
  {
   "cell_type": "code",
   "execution_count": 4,
   "metadata": {},
   "outputs": [],
   "source": [
    "def build_discriminator(latent_dim, v_size_code, v_size_pseudo, input_shape, target_shape):\n",
    "    code_inputs = Input(shape=(input_shape,))\n",
    "    pseudo_inputs = Input(shape=(target_shape,))\n",
    "    code_x = Embedding(v_size_code, latent_dim, mask_zero=True)(code_inputs)\n",
    "    pseudo_x = Embedding(v_size_pseudo, latent_dim, mask_zero=True)(pseudo_inputs)\n",
    "    concatted = Concatenate(axis=1)([code_x, pseudo_x])\n",
    "    # x = LSTM(latent_dim, dropout=drop_prob, recurrent_dropout=drop_prob)(concatted)\n",
    "    x = LSTM(latent_dim)(concatted)\n",
    "    out = Dense(1, activation='sigmoid')(x)\n",
    "    disc = Model([code_inputs, pseudo_inputs], out)\n",
    "    disc.compile(loss='binary_crossentropy', optimizer='adam', metrics=['accuracy'], loss_weights=[0.5])\n",
    "    \n",
    "    return disc\n",
    "\n",
    "\n",
    "def build_generator(latent_dim, num_encoder_tokens, num_decoder_tokens, drop_prob, input_shape, target_shape):\n",
    "    # Encoder\n",
    "    encoder_inputs = Input(shape=(input_shape,))\n",
    "    en_x = Embedding(num_encoder_tokens, latent_dim, mask_zero=True)(encoder_inputs)\n",
    "    encoder_outputs, state_h, state_c = LSTM(latent_dim, return_sequences=True, return_state=True, dropout=drop_prob, recurrent_dropout=drop_prob)(en_x)\n",
    "    # Decoder\n",
    "    decoder_inputs = Input(shape=(target_shape,))\n",
    "    de_x = Embedding(num_decoder_tokens, latent_dim, mask_zero=True)(decoder_inputs)\n",
    "    decoder_outputs = LSTM(latent_dim, return_sequences=True, dropout=drop_prob, recurrent_dropout=drop_prob)(de_x, initial_state=[state_h, state_c])\n",
    "    # Attention\n",
    "    attention = dot([decoder_outputs, encoder_outputs], axes=[2, 2])\n",
    "    attention = Activation('softmax', name='attention')(attention)\n",
    "    context = dot([attention, encoder_outputs], axes=[2, 1])\n",
    "    decoder_combined_context = concatenate([context, decoder_outputs])\n",
    "    attention_context_output = Dense(latent_dim, activation=\"tanh\")(decoder_combined_context)\n",
    "    # Model output\n",
    "    model_output = Dense(num_decoder_tokens, activation=\"softmax\")(attention_context_output)\n",
    "    # Build and compile model\n",
    "    gen = Model([encoder_inputs, decoder_inputs], model_output)\n",
    "    # gen.compile(optimizer='rmsprop', loss='categorical_crossentropy')\n",
    "\n",
    "    return gen\n",
    "\n",
    "\n",
    "def build_gan(g_model, d_model, input_shape, target_shape):\n",
    "    d_model.trainable = False\n",
    "    encoder_inputs = Input(shape=(input_shape,))\n",
    "    decoder_inputs = Input(shape=(target_shape,))\n",
    "    gen_out = g_model([encoder_inputs, decoder_inputs])\n",
    "    dis_out = d_model([encoder_inputs, Lambda(lambda x: argmax(x, axis=2))(gen_out)])\n",
    "    gan = Model([encoder_inputs, decoder_inputs], [dis_out, gen_out])\n",
    "    # compile model\n",
    "    # opt = Adam(lr=0.0002, beta_1=0.5)\n",
    "    gan.compile(loss=['binary_crossentropy', 'categorical_crossentropy'], optimizer='rmsprop', loss_weights=[1,100])\n",
    "    \n",
    "    return gan"
   ]
  },
  {
   "cell_type": "code",
   "execution_count": 5,
   "metadata": {
    "scrolled": false
   },
   "outputs": [
    {
     "name": "stderr",
     "output_type": "stream",
     "text": [
      "WARNING: Logging before flag parsing goes to stderr.\n",
      "W0906 15:19:13.141629 140569207600896 deprecation_wrapper.py:119] From /home/aziz/anaconda3/envs/tf/lib/python3.7/site-packages/keras/backend/tensorflow_backend.py:74: The name tf.get_default_graph is deprecated. Please use tf.compat.v1.get_default_graph instead.\n",
      "\n",
      "W0906 15:19:13.155325 140569207600896 deprecation_wrapper.py:119] From /home/aziz/anaconda3/envs/tf/lib/python3.7/site-packages/keras/backend/tensorflow_backend.py:517: The name tf.placeholder is deprecated. Please use tf.compat.v1.placeholder instead.\n",
      "\n",
      "W0906 15:19:13.158977 140569207600896 deprecation_wrapper.py:119] From /home/aziz/anaconda3/envs/tf/lib/python3.7/site-packages/keras/backend/tensorflow_backend.py:4138: The name tf.random_uniform is deprecated. Please use tf.random.uniform instead.\n",
      "\n",
      "W0906 15:19:25.401426 140569207600896 deprecation.py:323] From /home/aziz/anaconda3/envs/tf/lib/python3.7/site-packages/keras/backend/tensorflow_backend.py:2974: add_dispatch_support.<locals>.wrapper (from tensorflow.python.ops.array_ops) is deprecated and will be removed in a future version.\n",
      "Instructions for updating:\n",
      "Use tf.where in 2.0, which has the same broadcast rule as np.where\n",
      "W0906 15:19:25.432599 140569207600896 deprecation_wrapper.py:119] From /home/aziz/anaconda3/envs/tf/lib/python3.7/site-packages/keras/optimizers.py:790: The name tf.train.Optimizer is deprecated. Please use tf.compat.v1.train.Optimizer instead.\n",
      "\n",
      "W0906 15:19:25.446527 140569207600896 deprecation_wrapper.py:119] From /home/aziz/anaconda3/envs/tf/lib/python3.7/site-packages/keras/backend/tensorflow_backend.py:3376: The name tf.log is deprecated. Please use tf.math.log instead.\n",
      "\n",
      "W0906 15:19:37.576173 140569207600896 deprecation_wrapper.py:119] From /home/aziz/anaconda3/envs/tf/lib/python3.7/site-packages/keras/backend/tensorflow_backend.py:133: The name tf.placeholder_with_default is deprecated. Please use tf.compat.v1.placeholder_with_default instead.\n",
      "\n",
      "W0906 15:19:37.581400 140569207600896 deprecation.py:506] From /home/aziz/anaconda3/envs/tf/lib/python3.7/site-packages/keras/backend/tensorflow_backend.py:3445: calling dropout (from tensorflow.python.ops.nn_ops) with keep_prob is deprecated and will be removed in a future version.\n",
      "Instructions for updating:\n",
      "Please use `rate` instead of `keep_prob`. Rate should be set to `rate = 1 - keep_prob`.\n"
     ]
    },
    {
     "name": "stdout",
     "output_type": "stream",
     "text": [
      "__________________________________________________________________________________________________\n",
      "Layer (type)                    Output Shape         Param #     Connected to                     \n",
      "==================================================================================================\n",
      "input_5 (InputLayer)            (None, 527)          0                                            \n",
      "__________________________________________________________________________________________________\n",
      "input_6 (InputLayer)            (None, 231)          0                                            \n",
      "__________________________________________________________________________________________________\n",
      "model_2 (Model)                 (None, 231, 4159)    208783423   input_5[0][0]                    \n",
      "                                                                 input_6[0][0]                    \n",
      "__________________________________________________________________________________________________\n",
      "lambda_1 (Lambda)               (None, 231)          0           model_2[1][0]                    \n",
      "__________________________________________________________________________________________________\n",
      "model_1 (Model)                 (None, 1)            101618689   input_5[0][0]                    \n",
      "                                                                 lambda_1[0][0]                   \n",
      "==================================================================================================\n",
      "Total params: 310,402,112\n",
      "Trainable params: 208,783,423\n",
      "Non-trainable params: 101,618,689\n",
      "__________________________________________________________________________________________________\n"
     ]
    },
    {
     "data": {
      "image/png": "[encoded data removed]",
      "text/plain": [
       "<IPython.core.display.Image object>"
      ]
     },
     "execution_count": 5,
     "metadata": {},
     "output_type": "execute_result"
    }
   ],
   "source": [
    "discriminator = build_discriminator(latent_dim, num_encoder_tokens, num_decoder_tokens, encoder_input_data.shape[1], decoder_input_data.shape[1])\n",
    "generator = build_generator(latent_dim, num_encoder_tokens, num_decoder_tokens, do_prob, encoder_input_data.shape[1], decoder_input_data.shape[1])\n",
    "gan_model = build_gan(generator, discriminator, encoder_input_data.shape[1], decoder_input_data.shape[1])\n",
    "\n",
    "plot_model(discriminator, to_file='discriminator_model_plot.png', show_shapes=True, show_layer_names=True)\n",
    "plot_model(generator, to_file='generator_model_plot.png', show_shapes=True, show_layer_names=True)\n",
    "plot_model(gan_model, to_file='gan_model_plot.png', show_shapes=True, show_layer_names=True)\n",
    "\n",
    "# discriminator.summary()\n",
    "# generator.summary()\n",
    "gan_model.summary()\n",
    "\n",
    "# Image('discriminator_model_plot.png')\n",
    "# Image('generator_model_plot.png')\n",
    "Image('gan_model_plot.png')"
   ]
  },
  {
   "cell_type": "markdown",
   "metadata": {},
   "source": [
    "## Training"
   ]
  },
  {
   "cell_type": "code",
   "execution_count": 7,
   "metadata": {
    "scrolled": false
   },
   "outputs": [
    {
     "name": "stdout",
     "output_type": "stream",
     "text": [
      "Training started at: 2020-08-19 19:48:43\n",
      "================\n"
     ]
    },
    {
     "name": "stderr",
     "output_type": "stream",
     "text": [
      "W0819 19:48:44.968508 140699036632832 deprecation_wrapper.py:119] From /home/aziz/anaconda3/envs/tf/lib/python3.7/site-packages/keras/backend/tensorflow_backend.py:986: The name tf.assign_add is deprecated. Please use tf.compat.v1.assign_add instead.\n",
      "\n"
     ]
    },
    {
     "name": "stdout",
     "output_type": "stream",
     "text": [
      "Epoch 1/23\n",
      "5000/5000 [==============================] - 792s 158ms/step - loss: 6.4716\n",
      "\n",
      "Epoch 00001: saving model to checkpoints/c2p_att_plain_lat3072_b32_iter01.hdf5\n"
     ]
    },
    {
     "name": "stderr",
     "output_type": "stream",
     "text": [
      "/home/aziz/anaconda3/envs/tf/lib/python3.7/site-packages/keras/engine/network.py:877: UserWarning: Layer lstm_2 was passed non-serializable keyword arguments: {'initial_state': [<tf.Tensor 'lstm_1/while/Exit_2:0' shape=(?, 3072) dtype=float32>, <tf.Tensor 'lstm_1/while/Exit_3:0' shape=(?, 3072) dtype=float32>]}. They will not be included in the serialized model (and thus will be missing at deserialization time).\n",
      "  '. They will not be included '\n"
     ]
    },
    {
     "name": "stdout",
     "output_type": "stream",
     "text": [
      "Epoch 2/23\n",
      "5000/5000 [==============================] - 769s 154ms/step - loss: 2.6421\n",
      "\n",
      "Epoch 00002: saving model to checkpoints/c2p_att_plain_lat3072_b32_iter02.hdf5\n",
      "Epoch 3/23\n",
      "5000/5000 [==============================] - 770s 154ms/step - loss: 2.0028\n",
      "\n",
      "Epoch 00003: saving model to checkpoints/c2p_att_plain_lat3072_b32_iter03.hdf5\n",
      "Epoch 4/23\n",
      "5000/5000 [==============================] - 770s 154ms/step - loss: 1.5582\n",
      "\n",
      "Epoch 00004: saving model to checkpoints/c2p_att_plain_lat3072_b32_iter04.hdf5\n",
      "Epoch 5/23\n",
      "5000/5000 [==============================] - 770s 154ms/step - loss: 1.1754\n",
      "\n",
      "Epoch 00005: saving model to checkpoints/c2p_att_plain_lat3072_b32_iter05.hdf5\n",
      "Epoch 6/23\n",
      "5000/5000 [==============================] - 770s 154ms/step - loss: 0.8744\n",
      "\n",
      "Epoch 00006: saving model to checkpoints/c2p_att_plain_lat3072_b32_iter06.hdf5\n",
      "Epoch 7/23\n",
      "5000/5000 [==============================] - 770s 154ms/step - loss: 0.6578\n",
      "\n",
      "Epoch 00007: saving model to checkpoints/c2p_att_plain_lat3072_b32_iter07.hdf5\n",
      "Epoch 8/23\n",
      "5000/5000 [==============================] - 770s 154ms/step - loss: 0.5131\n",
      "\n",
      "Epoch 00008: saving model to checkpoints/c2p_att_plain_lat3072_b32_iter08.hdf5\n",
      "Epoch 9/23\n",
      "5000/5000 [==============================] - 771s 154ms/step - loss: 0.4029\n",
      "\n",
      "Epoch 00009: saving model to checkpoints/c2p_att_plain_lat3072_b32_iter09.hdf5\n",
      "Epoch 10/23\n",
      "5000/5000 [==============================] - 771s 154ms/step - loss: 0.3289\n",
      "\n",
      "Epoch 00010: saving model to checkpoints/c2p_att_plain_lat3072_b32_iter10.hdf5\n",
      "Epoch 11/23\n",
      "5000/5000 [==============================] - 771s 154ms/step - loss: 0.2641\n",
      "\n",
      "Epoch 00011: saving model to checkpoints/c2p_att_plain_lat3072_b32_iter11.hdf5\n",
      "Epoch 12/23\n",
      "5000/5000 [==============================] - 771s 154ms/step - loss: 0.2190\n",
      "\n",
      "Epoch 00012: saving model to checkpoints/c2p_att_plain_lat3072_b32_iter12.hdf5\n",
      "Epoch 13/23\n",
      "5000/5000 [==============================] - 770s 154ms/step - loss: 0.1847\n",
      "\n",
      "Epoch 00013: saving model to checkpoints/c2p_att_plain_lat3072_b32_iter13.hdf5\n",
      "Epoch 14/23\n",
      "5000/5000 [==============================] - 770s 154ms/step - loss: 0.1557\n",
      "\n",
      "Epoch 00014: saving model to checkpoints/c2p_att_plain_lat3072_b32_iter14.hdf5\n",
      "Epoch 15/23\n",
      "5000/5000 [==============================] - 770s 154ms/step - loss: 0.1408\n",
      "\n",
      "Epoch 00015: saving model to checkpoints/c2p_att_plain_lat3072_b32_iter15.hdf5\n",
      "Epoch 16/23\n",
      "5000/5000 [==============================] - 770s 154ms/step - loss: 0.1180\n",
      "\n",
      "Epoch 00016: saving model to checkpoints/c2p_att_plain_lat3072_b32_iter16.hdf5\n",
      "Epoch 17/23\n",
      "5000/5000 [==============================] - 771s 154ms/step - loss: 0.1095\n",
      "\n",
      "Epoch 00017: saving model to checkpoints/c2p_att_plain_lat3072_b32_iter17.hdf5\n",
      "Epoch 18/23\n",
      "5000/5000 [==============================] - 770s 154ms/step - loss: 0.1039\n",
      "\n",
      "Epoch 00018: saving model to checkpoints/c2p_att_plain_lat3072_b32_iter18.hdf5\n",
      "Epoch 19/23\n",
      "5000/5000 [==============================] - 770s 154ms/step - loss: 0.0951\n",
      "\n",
      "Epoch 00019: saving model to checkpoints/c2p_att_plain_lat3072_b32_iter19.hdf5\n",
      "Epoch 20/23\n",
      "5000/5000 [==============================] - 770s 154ms/step - loss: 0.0917\n",
      "\n",
      "Epoch 00020: saving model to checkpoints/c2p_att_plain_lat3072_b32_iter20.hdf5\n",
      "Epoch 21/23\n",
      "5000/5000 [==============================] - 771s 154ms/step - loss: 0.0868\n",
      "\n",
      "Epoch 00021: saving model to checkpoints/c2p_att_plain_lat3072_b32_iter21.hdf5\n",
      "Epoch 22/23\n",
      "5000/5000 [==============================] - 770s 154ms/step - loss: 0.0843\n",
      "\n",
      "Epoch 00022: saving model to checkpoints/c2p_att_plain_lat3072_b32_iter22.hdf5\n",
      "Epoch 23/23\n",
      "5000/5000 [==============================] - 770s 154ms/step - loss: 0.0839\n",
      "\n",
      "Epoch 00023: saving model to checkpoints/c2p_att_plain_lat3072_b32_iter23.hdf5\n",
      "================\n",
      "Training completed at: 2020-08-20 00:44:49\n",
      "Training took (h:m:s) 4:56:06\n"
     ]
    }
   ],
   "source": [
    "model_name = \"c2p_att_plain_lat\"+str(latent_dim)+\"_b\"+str(batch_size)+\"_iter\"\n",
    "checkpointer = ModelCheckpoint(filepath=model_cp_dir+model_name+'{epoch:02d}.hdf5', verbose=1)\n",
    "start_time = datetime.datetime.now().replace(microsecond=0)\n",
    "print(\"Training started at:\", start_time)\n",
    "print(\"================\")\n",
    "generator.fit([encoder_input_data, decoder_input_data], decoder_target_data, batch_size=batch_size, epochs=epochs, callbacks=[checkpointer])\n",
    "print(\"================\")\n",
    "end_time = datetime.datetime.now().replace(microsecond=0)\n",
    "print(\"Training completed at:\", end_time)\n",
    "print(\"Training took (h:m:s)\", end_time-start_time)"
   ]
  },
  {
   "cell_type": "code",
   "execution_count": null,
   "metadata": {},
   "outputs": [],
   "source": [
    "# def build_discriminator(latent_dim, v_size_code, v_size_pseudo, input_shape, target_shape):\n",
    "#     code_inputs = Input(shape=(input_shape,))\n",
    "#     pseudo_inputs = Input(shape=(target_shape,))\n",
    "#     code_x = Embedding(v_size_code, latent_dim, mask_zero=True)(code_inputs)\n",
    "#     pseudo_x = Embedding(v_size_pseudo, latent_dim, mask_zero=True)(pseudo_inputs)\n",
    "#     concatted = Concatenate(axis=1)([code_x, pseudo_x])\n",
    "#     # x = LSTM(latent_dim, dropout=drop_prob, recurrent_dropout=drop_prob)(concatted)\n",
    "#     x = LSTM(latent_dim)(concatted)\n",
    "#     out = Dense(1, activation='sigmoid')(x)\n",
    "#     disc = Model([code_inputs, pseudo_inputs], out)\n",
    "#     disc.compile(loss='binary_crossentropy', optimizer='adam', metrics=['accuracy'], loss_weights=[0.5])\n",
    "    \n",
    "#     return disc\n",
    "\n",
    "\n",
    "# def build_generator(latent_dim, num_encoder_tokens, num_decoder_tokens, drop_prob, input_shape, target_shape):\n",
    "#     # Encoder\n",
    "#     encoder_inputs = Input(shape=(input_shape,))\n",
    "#     en_x = Embedding(num_encoder_tokens, latent_dim, mask_zero=True)(encoder_inputs)\n",
    "#     encoder_outputs, state_h, state_c = LSTM(latent_dim, return_sequences=True, return_state=True, dropout=drop_prob, recurrent_dropout=drop_prob)(en_x)\n",
    "#     # Decoder\n",
    "#     decoder_inputs = Input(shape=(target_shape,))\n",
    "#     de_x = Embedding(num_decoder_tokens, latent_dim, mask_zero=True)(decoder_inputs)\n",
    "#     decoder_outputs = LSTM(latent_dim, return_sequences=True, dropout=drop_prob, recurrent_dropout=drop_prob)(de_x, initial_state=[state_h, state_c])\n",
    "#     # Attention\n",
    "#     attention = dot([decoder_outputs, encoder_outputs], axes=[2, 2])\n",
    "#     attention = Activation('softmax', name='attention')(attention)\n",
    "#     context = dot([attention, encoder_outputs], axes=[2, 1])\n",
    "#     decoder_combined_context = concatenate([context, decoder_outputs])\n",
    "#     attention_context_output = Dense(latent_dim, activation=\"tanh\")(decoder_combined_context)\n",
    "#     # Model output\n",
    "#     model_output = Dense(num_decoder_tokens, activation=\"softmax\")(attention_context_output)\n",
    "#     # Build and compile model\n",
    "#     gen = Model([encoder_inputs, decoder_inputs], model_output)\n",
    "#     # gen.compile(optimizer='rmsprop', loss='categorical_crossentropy')\n",
    "\n",
    "#     return gen\n",
    "\n",
    "\n",
    "# def build_gan(g_model, d_model, input_shape, target_shape):\n",
    "#     d_model.trainable = False\n",
    "#     encoder_inputs = Input(shape=(input_shape,))\n",
    "#     decoder_inputs = Input(shape=(target_shape,))\n",
    "#     gen_out = g_model([encoder_inputs, decoder_inputs])\n",
    "#     dis_out = d_model([encoder_inputs, argmax(gen_out, axis=2)])\n",
    "#     gan = Model([encoder_inputs, decoder_inputs], [dis_out, gen_out])\n",
    "#     # compile model\n",
    "#     # opt = Adam(lr=0.0002, beta_1=0.5)\n",
    "#     gan.compile(loss=['binary_crossentropy', 'categorical_crossentropy'], optimizer='rmsprop', loss_weights=[1,100])\n",
    "    \n",
    "#     return gan"
   ]
  }
 ],
 "metadata": {
  "kernelspec": {
   "display_name": "tf",
   "language": "python",
   "name": "tf"
  },
  "language_info": {
   "codemirror_mode": {
    "name": "ipython",
    "version": 3
   },
   "file_extension": ".py",
   "mimetype": "text/x-python",
   "name": "python",
   "nbconvert_exporter": "python",
   "pygments_lexer": "ipython3",
   "version": "3.7.4"
  }
 },
 "nbformat": 4,
 "nbformat_minor": 4
}

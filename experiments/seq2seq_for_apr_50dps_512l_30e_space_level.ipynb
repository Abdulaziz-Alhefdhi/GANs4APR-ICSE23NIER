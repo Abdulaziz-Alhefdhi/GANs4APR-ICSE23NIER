{
 "cells": [
  {
   "cell_type": "markdown",
   "metadata": {},
   "source": [
    "## Retrieve data"
   ]
  },
  {
   "cell_type": "code",
   "execution_count": 1,
   "metadata": {},
   "outputs": [
    {
     "name": "stderr",
     "output_type": "stream",
     "text": [
      "20828it [00:00, 64236.14it/s]\n",
      "100%|██████████| 41652/41652 [00:00<00:00, 3504114.85it/s]\n",
      "100%|██████████| 41652/41652 [00:00<00:00, 3379197.86it/s]\n",
      "100%|██████████| 20826/20826 [00:00<00:00, 57118.72it/s]\n",
      "100%|██████████| 20826/20826 [00:00<00:00, 55556.52it/s]"
     ]
    },
    {
     "name": "stdout",
     "output_type": "stream",
     "text": [
      "Number of processed files:-\n",
      "20826 buggy files + 20826 fixed files =  41652 files\n"
     ]
    },
    {
     "name": "stderr",
     "output_type": "stream",
     "text": [
      "\n"
     ]
    }
   ],
   "source": [
    "import os\n",
    "from collections import Counter\n",
    "from tqdm import tqdm\n",
    "\n",
    "\n",
    "data_dir = \"/media/aziz/Data/Aziz/data/gans_for_apr/\"\n",
    "\n",
    "# Collect paths to files\n",
    "file_paths = [root+'/'+name for root, dirs, files in tqdm(os.walk(data_dir)) for name in files]\n",
    "buggy_paths, fixed_paths = [], []\n",
    "buggy_paths = [f_path for f_path in tqdm(file_paths) if 'buggy' in f_path]\n",
    "fixed_paths = [f_path for f_path in tqdm(file_paths) if 'fixed' in f_path]\n",
    "\n",
    "# Collect file contents\n",
    "buggy_data = []\n",
    "for path in tqdm(buggy_paths):\n",
    "    with open(path, 'r', encoding='utf-8') as f:\n",
    "        buggy_data.append(f.read())\n",
    "fixed_data = []\n",
    "for path in tqdm(fixed_paths):\n",
    "    with open(path, 'r', encoding='utf-8') as f:\n",
    "        fixed_data.append(f.read())\n",
    "\n",
    "print('Number of processed files:-')\n",
    "print(len(buggy_data), 'buggy files +', len(fixed_data), 'fixed files = ', len(buggy_data)+len(fixed_data), 'files')"
   ]
  },
  {
   "cell_type": "markdown",
   "metadata": {},
   "source": [
    "## Clean data - Reduce noise"
   ]
  },
  {
   "cell_type": "markdown",
   "metadata": {},
   "source": [
    "### Remove comments"
   ]
  },
  {
   "cell_type": "code",
   "execution_count": 2,
   "metadata": {},
   "outputs": [
    {
     "name": "stderr",
     "output_type": "stream",
     "text": [
      "100%|██████████| 20826/20826 [00:00<00:00, 115508.86it/s]\n",
      "100%|██████████| 20826/20826 [00:00<00:00, 115365.77it/s]"
     ]
    },
    {
     "name": "stdout",
     "output_type": "stream",
     "text": [
      "Comments have been removed\n"
     ]
    },
    {
     "name": "stderr",
     "output_type": "stream",
     "text": [
      "\n"
     ]
    }
   ],
   "source": [
    "import re\n",
    "\n",
    "\n",
    "def remove_comments(code):\n",
    "    code = re.sub('(?s)/\\*.*?\\*/', '', code)\n",
    "    return re.sub('(//[^\\n]*)', '', code)\n",
    "\n",
    "\n",
    "buggy_no_comments = [remove_comments(x) for x in tqdm(buggy_data)]\n",
    "fixed_no_comments = [remove_comments(x) for x in tqdm(fixed_data)]\n",
    "print('Comments have been removed')"
   ]
  },
  {
   "cell_type": "markdown",
   "metadata": {},
   "source": [
    "### Remove unnecessary white spaces"
   ]
  },
  {
   "cell_type": "code",
   "execution_count": 3,
   "metadata": {},
   "outputs": [
    {
     "name": "stderr",
     "output_type": "stream",
     "text": [
      "100%|██████████| 20826/20826 [00:00<00:00, 30645.15it/s]\n",
      "100%|██████████| 20826/20826 [00:00<00:00, 30649.20it/s]"
     ]
    },
    {
     "name": "stdout",
     "output_type": "stream",
     "text": [
      "White spaces have been removed\n"
     ]
    },
    {
     "name": "stderr",
     "output_type": "stream",
     "text": [
      "\n"
     ]
    }
   ],
   "source": [
    "def remove_spaces(code):\n",
    "    '''This function removes excessive spaces and keeps necessary ones'''\n",
    "    code = code.splitlines()\n",
    "    result = []\n",
    "    for line in code:\n",
    "        line = line.split()\n",
    "        line = ' '.join(line)\n",
    "        if len(line) > 0:  # Remove empty lines\n",
    "            result.append(line)\n",
    "    \n",
    "    return '\\n'.join(result)\n",
    "\n",
    "\n",
    "buggy_no_spaces = [remove_spaces(x) for x in tqdm(buggy_no_comments)]\n",
    "fixed_no_spaces = [remove_spaces(x) for x in tqdm(fixed_no_comments)]\n",
    "print('White spaces have been removed')"
   ]
  },
  {
   "cell_type": "markdown",
   "metadata": {},
   "source": [
    "### Remove identical buggy and fixed codes"
   ]
  },
  {
   "cell_type": "code",
   "execution_count": 4,
   "metadata": {},
   "outputs": [
    {
     "name": "stdout",
     "output_type": "stream",
     "text": [
      "4514 code pairs have been removed\n",
      "Current # data points: 16312\n"
     ]
    }
   ],
   "source": [
    "buggy_texts, fixed_texts = [], []\n",
    "for buggy, fixed in zip(buggy_no_spaces, fixed_no_spaces):\n",
    "    if buggy != fixed:\n",
    "        buggy_texts.append(buggy)\n",
    "        fixed_texts.append(fixed)\n",
    "print(len(buggy_no_spaces)-len(buggy_texts), 'code pairs have been removed')\n",
    "print('Current # data points:', len(buggy_texts))"
   ]
  },
  {
   "cell_type": "markdown",
   "metadata": {},
   "source": [
    "### Remove duplicated pairs in the dataset"
   ]
  },
  {
   "cell_type": "code",
   "execution_count": 5,
   "metadata": {},
   "outputs": [
    {
     "name": "stdout",
     "output_type": "stream",
     "text": [
      "3663 code pairs have been removed\n",
      "Current # data points: 12649\n"
     ]
    }
   ],
   "source": [
    "text_pairs = [(x, y) for x, y in zip(buggy_texts, fixed_texts)]\n",
    "code_pairs = sorted(set(text_pairs))\n",
    "\n",
    "buggy_codes = [x[0] for x in code_pairs]\n",
    "fixed_codes = [x[1] for x in code_pairs]\n",
    "\n",
    "print(len(text_pairs)-len(code_pairs), 'code pairs have been removed')\n",
    "print('Current # data points:', len(buggy_codes))"
   ]
  },
  {
   "cell_type": "markdown",
   "metadata": {},
   "source": [
    "## Calculate Diffs"
   ]
  },
  {
   "cell_type": "code",
   "execution_count": 6,
   "metadata": {},
   "outputs": [
    {
     "name": "stderr",
     "output_type": "stream",
     "text": [
      "12649it [00:03, 3882.66it/s]\n"
     ]
    }
   ],
   "source": [
    "from difflib import ndiff\n",
    "\n",
    "\n",
    "initial_diffs = [list(ndiff(x.splitlines(), y.splitlines())) for x, y in tqdm(zip(buggy_codes, fixed_codes))]"
   ]
  },
  {
   "cell_type": "markdown",
   "metadata": {},
   "source": [
    "### Restrict to one-line difference"
   ]
  },
  {
   "cell_type": "code",
   "execution_count": 7,
   "metadata": {},
   "outputs": [
    {
     "name": "stderr",
     "output_type": "stream",
     "text": [
      "100%|██████████| 12649/12649 [00:00<00:00, 68397.41it/s]"
     ]
    },
    {
     "name": "stdout",
     "output_type": "stream",
     "text": [
      "309 code pairs have been removed\n",
      "Current # data points: 12340\n"
     ]
    },
    {
     "name": "stderr",
     "output_type": "stream",
     "text": [
      "\n"
     ]
    }
   ],
   "source": [
    "one_line_diffs = []\n",
    "for diff in tqdm(initial_diffs):\n",
    "    if sum([1 for x in diff if x.startswith('-')]) > 1 or sum([1 for x in diff if x.startswith('+')]) > 1:\n",
    "        continue\n",
    "    one_line_diffs.append(diff)\n",
    "\n",
    "print(len(initial_diffs)-len(one_line_diffs), 'code pairs have been removed')\n",
    "print('Current # data points:', len(one_line_diffs))"
   ]
  },
  {
   "cell_type": "markdown",
   "metadata": {},
   "source": [
    "### Restrict to modified lines (exclude added/deleted lines)"
   ]
  },
  {
   "cell_type": "code",
   "execution_count": 8,
   "metadata": {},
   "outputs": [
    {
     "name": "stderr",
     "output_type": "stream",
     "text": [
      "100%|██████████| 12340/12340 [00:00<00:00, 75822.81it/s]"
     ]
    },
    {
     "name": "stdout",
     "output_type": "stream",
     "text": [
      "6813 code pairs have been removed\n",
      "Current # data points: 5527\n"
     ]
    },
    {
     "name": "stderr",
     "output_type": "stream",
     "text": [
      "\n"
     ]
    }
   ],
   "source": [
    "diffs = []\n",
    "for diff in tqdm(one_line_diffs):\n",
    "    for i, x in enumerate(diff):\n",
    "        if x.startswith('+') and diff[i-1].startswith('-'):\n",
    "            diffs.append((diff[i-1][2:], x[2:]))\n",
    "\n",
    "print(len(one_line_diffs)-len(diffs), 'code pairs have been removed')\n",
    "print('Current # data points:', len(diffs))"
   ]
  },
  {
   "cell_type": "markdown",
   "metadata": {},
   "source": [
    "#### Shuffle and keep only 50 data points"
   ]
  },
  {
   "cell_type": "code",
   "execution_count": 9,
   "metadata": {},
   "outputs": [],
   "source": [
    "from random import seed, sample\n",
    "\n",
    "\n",
    "seed(30)\n",
    "shuf_diffs = sample(diffs, k=len(diffs))\n",
    "final_diffs = shuf_diffs[:50]\n",
    "\n",
    "buggy_data = [x[0] for x in final_diffs]\n",
    "fixed_data = [x[1] for x in final_diffs]\n",
    "\n",
    "\n",
    "# with open('buggy_data.txt', \"w\", encoding='utf-8') as file:\n",
    "#     for bug in buggy_data:\n",
    "#         file.write(bug+'\\n')\n",
    "# with open('fixed_data.txt', \"w\", encoding='utf-8') as file:\n",
    "#     for fix in fixed_data:\n",
    "#         file.write(fix+'\\n')\n",
    "# print('Dataset has been written to disk')"
   ]
  },
  {
   "cell_type": "markdown",
   "metadata": {},
   "source": [
    "# The Experiment"
   ]
  },
  {
   "cell_type": "code",
   "execution_count": 10,
   "metadata": {},
   "outputs": [],
   "source": [
    "# with open('buggy_data.txt', 'r', encoding='utf-8') as f:\n",
    "#     buggy_data = f.read().split(\"\\n\")\n",
    "# with open('fixed_data.txt', 'r', encoding='utf-8') as f:\n",
    "#     fixed_data = f.read().split(\"\\n\")\n",
    "# buggy_data = buggy_data[:-1]\n",
    "# fixed_data = fixed_data[:-1]\n",
    "\n",
    "buggy_codes = [x.split() for x in buggy_data]\n",
    "fixed_codes = [['<soc>']+x.split()+['<eoc>'] for x in fixed_data]"
   ]
  },
  {
   "cell_type": "code",
   "execution_count": 11,
   "metadata": {},
   "outputs": [
    {
     "name": "stdout",
     "output_type": "stream",
     "text": [
      "Before vectorisation:-\n",
      "dest = _dpMgr.planDeployment(vmProfile, plan, exclude);\n",
      "dest = _dpMgr.planDeployment(vmProfile, plan, exclude, null);\n",
      "====================\n",
      "After vectorisation:-\n",
      "['dest', '=', '_dpMgr.planDeployment(vmProfile,', 'plan,', 'exclude);']\n",
      "['<soc>', 'dest', '=', '_dpMgr.planDeployment(vmProfile,', 'plan,', 'exclude,', 'null);', '<eoc>']\n"
     ]
    }
   ],
   "source": [
    "print(\"Before vectorisation:-\")\n",
    "print(buggy_data[2])\n",
    "print(fixed_data[2])\n",
    "print(\"====================\")\n",
    "print(\"After vectorisation:-\")\n",
    "print(buggy_codes[2])\n",
    "print(fixed_codes[2])"
   ]
  },
  {
   "cell_type": "code",
   "execution_count": 12,
   "metadata": {},
   "outputs": [],
   "source": [
    "vocab = set([x for y in buggy_codes for x in y]+[x for y in fixed_codes for x in y])\n",
    "token_int_map = dict([(token, i+1) for i, token in enumerate(vocab)])\n",
    "vocab.add('<pad/unknown>')\n",
    "token_int_map['<pad/unknown>'] = 0\n",
    "int_token_map = dict((i, token) for token, i in token_int_map.items())"
   ]
  },
  {
   "cell_type": "code",
   "execution_count": 13,
   "metadata": {},
   "outputs": [
    {
     "name": "stdout",
     "output_type": "stream",
     "text": [
      "{1: 'target.getTargets().size()', 2: '\"/hbasedb\";', 3: 'readHaServer(', 4: '<eoc>', 5: 'set);', 6: 'List', 7: 'null,', 8: 'localizeTempFilesFromConf(getHiveJarDirectory(conf),', 9: 'this.caller.callWithRetries(smallScanCallable);', 10: 'builder', 11: 'xsltContent;', 12: '1', 13: 'libCache', 14: '\"turkmen_spell_checker_dictionary-0.1.6-tb+fx+sm.xpi\";', 15: 'currentFileName);', 16: 'BlobLibraryCacheManager(cache,', 17: '-1){', 18: 'binCond.getLhs().getFieldSchema().isEqual(binCond.getRhs().getFieldSchema())){', 19: 'cmd.setVersion(JuniperSrxResource.class.getPackage().getImplementationVersion());', 20: 'db_dir', 21: 'FlinkUserCodeClassLoaders.ResolveOrder.CHILD_FIRST);', 22: 'dataTypeTableName,', 23: 'this.partitionCache,', 24: 'this.regionNameStr', 25: ':', 26: 'name.substring(0,', 27: '(selenium.isElementPresent(\"', 28: 'interupted\",', 29: '(set', 30: 'sleep', 31: 'HashMap<String,', 32: 'Bytes.toStringBinary(this.regionName);', 33: '(currOp.getChildOperators()', 34: '\"test\");', 35: '\"/jobs/:%s/vertices/:%s/subtasks/:%s/attempts/:%s/accumulators\",', 36: 'plan,', 37: '+', 38: '*', 39: 'getStorageFileName()', 40: ').isCloudLocal(', 41: 'lr', 42: 'domains', 43: 'StreamSource(new', 44: '\".\"', 45: 'POJO', 46: 'CharArraySet)', 47: 'null);', 48: 'this.caller.callWithRetries(smallScanCallable,', 49: 'page.reset(', 50: 'ConfigMapUpgradeConfiguration(getConfig())', 51: 'new', 52: '==', 53: '0.5f', 54: 'for(LocalResource', 55: 'float', 56: '\"', 57: 'name\",', 58: 'conf.getDumpFilePrefix(),', 59: '\"UTF-8\");', 60: 'isMerged(mergeInfo));', 61: 'exclude);', 62: 'exclude,', 63: 'getConfig(),', 64: 'conf))', 65: 'Future<Path>>(),', 66: 'LOG.info(clazz', 67: 'this.collator.equals(other.collator))', 68: '{', 69: 'if(result', 70: '\"false\");', 71: 'this.xsltContent', 72: 'syncSites.isEmpty())', 73: 'conf.set(\"hive.metastore.local\",', 74: '(mro.isSampler()', 75: ');', 76: 'binCond.getRhs().getFieldSchema())){', 77: '1,', 78: '(this.collator', 79: 'RUN_TIME_SEC', 80: ').attemptUpgrade(', 81: 'Accumulator<?,', 82: 'SegmentInfos(codecs);', 83: 'valid', 84: 'name', 85: 'TezCompilerUtil.isIntermediateReducer(tezOp.getSortOperator()))', 86: 'ExecutionConfig(),', 87: 'Bytes.toString(this.regionName);', 88: '_dpMgr.planDeployment(vmProfile,', 89: 'ChainingStrategy.ALWAYS;', 90: 'mergeInfo));', 91: '3,', 92: '||', 93: '(mro.isSampler())', 94: 'other.collator', 95: ')', 96: '(namespaceDelimIndex', 97: 'interrupted\",', 98: '0.5f*_TestUtil.getRandomMultiplier();', 99: 'RuntimeUDFContext', 100: '!component.getComponentId(', 101: 'scannerTimeout);', 102: 'myUsedLanguages.addAll(l.getDependenciesManager().getAllExtendedLanguages());', 103: 'shjSch.equals(mjSch));', 104: 'if', 105: 'List<String>', 106: '&&', 107: 'name.substring(1);', 108: 'not', 109: 'null;', 110: 'this.hiveConf,', 111: 'throw', 112: '0', 113: '(', 114: 'MetaException(ex.getMessage());', 115: 'getTestDir()', 116: 'instanceof', 117: 'RuntimeUDFContext(\"test', 118: 'values', 119: 'Utilities.generatePath(baseDir,', 120: 'this.noColsMissingStats);', 121: 'this);', 122: 'ioContext', 123: 'l.getDependenciesManager().collectAllExtendedLanguages(myUsedLanguages);', 124: 'is', 125: 'encoding', 126: 'conf.setBoolVar(ConfVars.METASTORE_MODE,', 127: ').isPartitioned(', 128: 'null))', 129: 'ExprNodeConstantDesc(\"0\"));', 130: 'type', 131: '1).toLowerCase(Locale.ENGLISH)', 132: 'MetaStoreUtils.newMetaException(ex);', 133: 'null)', 134: '1).toLowerCase()', 135: '\"/jobs/:%s/vertices/:%s/subtasks/:%s/attempts/%s/accumulators\",', 136: 'registerTimer(nextTriggerTime,', 137: 'plan.getSuccessors(mro)', 138: '}', 139: 'String', 140: 'this.colStatsCache,', 141: 'infos', 142: 'else', 143: 'set)', 144: 'execFetchFirst(\"select', 145: 'ChainingStrategy.FORCE_ALWAYS;', 146: 'dest', 147: 'lp.validate(pigServer.getPigContext(),', 148: 'LOG.info(\"Cleaner', 149: 'null', 150: 'xslt', 151: 'are', 152: 'ExprNodeConstantDesc(\"0L\"));', 153: 'ctx', 154: '>=', 155: '<soc>', 156: 'gbKeys.add(new', 157: 'myDefaultConceptNames.containsKey(fqName))', 158: 'static', 159: 'Assert.assertEquals(true,', 160: 'toTest', 161: '.getInstance(columnNames);', 162: 'result', 163: 'private', 164: 'deploymentManager.newDeploymentPlan().withRollback();', 165: 'return', 166: 'Schema.Parser().parse(Util.openFromFS(schemafile))', 167: 'a', 168: 'cmd.setVersion(\"\");', 169: '(syncSites.isEmpty())', 170: '?>>());', 171: 'filePath', 172: 'Util.parseSchemaFromFS(schemafile)', 173: 'this.collator.equals(other.collator)', 174: 'if(!LogicalFieldSchema.isEqualUnlessUnknown(binCond.getLhs().getFieldSchema(),', 175: 'RANDOM_MULTIPLIER;', 176: 'localizeTempFiles(conf))', 177: 'copy(Version.LUCENE_30,', 178: 'all', 179: '\"woordenboek_nederlands-3.1.1-sm+tb+fx+fn.xpi\";', 180: 'bitmapFont.getSpaceWidth();', 181: 'Arrays.asList(mBeanServer.getDomains());', 182: 'machineId', 183: '\"utf-8\";', 184: '\"c4\",', 185: '.getInstance(columnNames,Lists.newArrayList(Splitter.on(\\'\\\\0\\').split(tbl.getProperty(\"columns.comments\"))));', 186: 'deploymentManager.newDeploymentPlan();', 187: '0){', 188: '(result', 189: 'e);', 190: 'chainingStrategy', 191: '!segmentIsOriginal', 192: '<', 193: 'IOContext.get(conf);', 194: 'dataTypeTableName.toLowerCase()', 195: 'if(!', 196: 'because', 197: 'component.getComponentId(', 198: 'target.getNumberOfTargets()', 199: 'FlinkUserCodeClassLoaders.ResolveOrder.CHILD_FIRST,', 200: '((syncSites', 201: 'target.getMaxNumberOfTargets()', 202: 'from', 203: 'SegmentInfos', 204: 'DeploymentPlanBuilder', 205: 'copy((CharArraySet)', 206: 'namespaceDelimIndex', 207: '?', 208: '((currOp.getChildOperators()', 209: '(int)bitmapFont.getSpaceWidth();', 210: 'fields', 211: 'false);', 212: 'HCatUtil.makePathASafeFileName(getTestDir()', 213: 'thread', 214: '(numToMerge', 215: 'UNBOUND_PAGE_ID', 216: '\"test\",', 217: '!=', 218: 'IOContextMap.get(conf);', 219: 'type\");', 220: 'getClass().getClassLoader(),', 221: 'HttpUtils.getSetEncoding(mt,', 222: 'ByteArrayInputStream(xsltContent.getBytes()));', 223: 'fields.\");', 224: 'wait', 225: 'staticOptions', 226: '(selenium.isElementPresent(\"FCKeditor1___Frame\"))', 227: 'pos,', 228: '!', 229: 'StoreUpgrader(', 230: 'tezOp.getSortOperator().isIntermediateReducer())', 231: 'isMerged(infos,', 232: 'SegmentInfos();', 233: 'headers,', 234: 'String[0]);', 235: 'Assert.assertTrue(shjSch', 236: 'getTimerService().registerTimer(nextTriggerTime,', 237: 'getConfig()', 238: '(currOp.getChildOperators().isEmpty()))', 239: '=', 240: '\"/hbasedb\");', 241: 'machineId,', 0: '<pad/unknown>'}\n"
     ]
    }
   ],
   "source": [
    "print(int_token_map)"
   ]
  },
  {
   "cell_type": "code",
   "execution_count": 14,
   "metadata": {},
   "outputs": [],
   "source": [
    "vocab_size = len(vocab)\n",
    "max_buggy_len = max([len(txt) for txt in buggy_codes])\n",
    "max_fixed_len = max([len(txt) for txt in fixed_codes])\n",
    "num_dps = len(fixed_codes)"
   ]
  },
  {
   "cell_type": "code",
   "execution_count": 15,
   "metadata": {},
   "outputs": [
    {
     "name": "stdout",
     "output_type": "stream",
     "text": [
      "Number of data points: 50\n",
      "Vocabulary size: 242\n",
      "Max length in buggy codes: 15\n",
      "Max length in fixed codes: 20\n"
     ]
    }
   ],
   "source": [
    "print('Number of data points:', num_dps)\n",
    "print('Vocabulary size:', vocab_size)\n",
    "print('Max length in buggy codes:', max_buggy_len)\n",
    "print('Max length in fixed codes:', max_fixed_len)"
   ]
  },
  {
   "cell_type": "code",
   "execution_count": 16,
   "metadata": {},
   "outputs": [],
   "source": [
    "import numpy as np\n",
    "\n",
    "buggy_inputs =  np.zeros((num_dps, max_buggy_len), dtype='int32')\n",
    "fixed_inputs =  np.zeros((num_dps, max_fixed_len), dtype='int32')\n",
    "fixed_outputs = np.zeros((num_dps, max_fixed_len, vocab_size), dtype='float32')\n",
    "\n",
    "for i, (buggy, fixed) in enumerate(zip(buggy_codes, fixed_codes)):\n",
    "    for t, token in enumerate(buggy):\n",
    "        buggy_inputs[i, t] = token_int_map[token]\n",
    "    for t, token in enumerate(fixed):\n",
    "        int_value = token_int_map[token]\n",
    "        fixed_inputs[i, t] = int_value\n",
    "        if t > 0:\n",
    "            fixed_outputs[i, t-1, int_value] = 1.\n",
    "    fixed_outputs[i, t, 0] = 1."
   ]
  },
  {
   "cell_type": "code",
   "execution_count": 17,
   "metadata": {},
   "outputs": [
    {
     "name": "stderr",
     "output_type": "stream",
     "text": [
      "Using TensorFlow backend.\n"
     ]
    }
   ],
   "source": [
    "from keras.layers import Input, Embedding, LSTM, Dense, dot, Activation, concatenate\n",
    "from keras.models import Model\n",
    "\n",
    "\n",
    "def build_lstm_encoder_decoder(dimension, v_size, drop_prob, buggy_len, fixed_len):\n",
    "    # Encoder\n",
    "    buggy_input_layer = Input(shape=(buggy_len,))\n",
    "    enc_embed_lay = Embedding(v_size, dimension,  mask_zero=True)(buggy_input_layer)\n",
    "    encoder_outputs, state_h, state_c = LSTM(dimension, return_sequences=True, return_state=True, dropout=drop_prob, recurrent_dropout=drop_prob)(enc_embed_lay)\n",
    "    # Decoder\n",
    "    fixed_input_layer = Input(shape=(fixed_len,))\n",
    "    dec_embed_lay = Embedding(v_size, dimension, mask_zero=True)(fixed_input_layer)\n",
    "    decoder_outputs = LSTM(dimension, return_sequences=True, dropout=drop_prob, recurrent_dropout=drop_prob)(dec_embed_lay, initial_state=[state_h, state_c])\n",
    "    # Attention\n",
    "    attention = dot([decoder_outputs, encoder_outputs], axes=[2, 2])\n",
    "    attention = Activation('softmax', name='attention')(attention)\n",
    "    context = dot([attention, encoder_outputs], axes=[2, 1])\n",
    "    decoder_combined_context = concatenate([context, decoder_outputs])\n",
    "    attention_context_output = Dense(dimension, activation=\"tanh\")(decoder_combined_context)\n",
    "    # Model output\n",
    "    model_output = Dense(v_size, activation=\"softmax\")(attention_context_output)\n",
    "    # Build & compile model\n",
    "    enc_dec = Model([buggy_input_layer, fixed_input_layer], model_output)\n",
    "    enc_dec.compile(optimizer='rmsprop', loss='categorical_crossentropy')\n",
    "    \n",
    "    return enc_dec"
   ]
  },
  {
   "cell_type": "code",
   "execution_count": 18,
   "metadata": {
    "scrolled": false
   },
   "outputs": [
    {
     "name": "stderr",
     "output_type": "stream",
     "text": [
      "WARNING: Logging before flag parsing goes to stderr.\n",
      "W0923 11:28:28.101974 140395052021504 deprecation_wrapper.py:119] From /home/aziz/anaconda3/envs/tf/lib/python3.7/site-packages/keras/backend/tensorflow_backend.py:74: The name tf.get_default_graph is deprecated. Please use tf.compat.v1.get_default_graph instead.\n",
      "\n",
      "W0923 11:28:28.111773 140395052021504 deprecation_wrapper.py:119] From /home/aziz/anaconda3/envs/tf/lib/python3.7/site-packages/keras/backend/tensorflow_backend.py:517: The name tf.placeholder is deprecated. Please use tf.compat.v1.placeholder instead.\n",
      "\n",
      "W0923 11:28:28.114180 140395052021504 deprecation_wrapper.py:119] From /home/aziz/anaconda3/envs/tf/lib/python3.7/site-packages/keras/backend/tensorflow_backend.py:4138: The name tf.random_uniform is deprecated. Please use tf.random.uniform instead.\n",
      "\n",
      "W0923 11:28:28.348569 140395052021504 deprecation_wrapper.py:119] From /home/aziz/anaconda3/envs/tf/lib/python3.7/site-packages/keras/backend/tensorflow_backend.py:133: The name tf.placeholder_with_default is deprecated. Please use tf.compat.v1.placeholder_with_default instead.\n",
      "\n",
      "W0923 11:28:28.354405 140395052021504 deprecation.py:506] From /home/aziz/anaconda3/envs/tf/lib/python3.7/site-packages/keras/backend/tensorflow_backend.py:3445: calling dropout (from tensorflow.python.ops.nn_ops) with keep_prob is deprecated and will be removed in a future version.\n",
      "Instructions for updating:\n",
      "Please use `rate` instead of `keep_prob`. Rate should be set to `rate = 1 - keep_prob`.\n",
      "W0923 11:28:28.548689 140395052021504 deprecation.py:323] From /home/aziz/anaconda3/envs/tf/lib/python3.7/site-packages/keras/backend/tensorflow_backend.py:2974: add_dispatch_support.<locals>.wrapper (from tensorflow.python.ops.array_ops) is deprecated and will be removed in a future version.\n",
      "Instructions for updating:\n",
      "Use tf.where in 2.0, which has the same broadcast rule as np.where\n",
      "W0923 11:28:29.100908 140395052021504 deprecation_wrapper.py:119] From /home/aziz/anaconda3/envs/tf/lib/python3.7/site-packages/keras/optimizers.py:790: The name tf.train.Optimizer is deprecated. Please use tf.compat.v1.train.Optimizer instead.\n",
      "\n",
      "W0923 11:28:29.115334 140395052021504 deprecation_wrapper.py:119] From /home/aziz/anaconda3/envs/tf/lib/python3.7/site-packages/keras/backend/tensorflow_backend.py:3295: The name tf.log is deprecated. Please use tf.math.log instead.\n",
      "\n"
     ]
    },
    {
     "name": "stdout",
     "output_type": "stream",
     "text": [
      "__________________________________________________________________________________________________\n",
      "Layer (type)                    Output Shape         Param #     Connected to                     \n",
      "==================================================================================================\n",
      "input_1 (InputLayer)            (None, 15)           0                                            \n",
      "__________________________________________________________________________________________________\n",
      "input_2 (InputLayer)            (None, 20)           0                                            \n",
      "__________________________________________________________________________________________________\n",
      "embedding_1 (Embedding)         (None, 15, 512)      123904      input_1[0][0]                    \n",
      "__________________________________________________________________________________________________\n",
      "embedding_2 (Embedding)         (None, 20, 512)      123904      input_2[0][0]                    \n",
      "__________________________________________________________________________________________________\n",
      "lstm_1 (LSTM)                   [(None, 15, 512), (N 2099200     embedding_1[0][0]                \n",
      "__________________________________________________________________________________________________\n",
      "lstm_2 (LSTM)                   (None, 20, 512)      2099200     embedding_2[0][0]                \n",
      "                                                                 lstm_1[0][1]                     \n",
      "                                                                 lstm_1[0][2]                     \n",
      "__________________________________________________________________________________________________\n",
      "dot_1 (Dot)                     (None, 20, 15)       0           lstm_2[0][0]                     \n",
      "                                                                 lstm_1[0][0]                     \n",
      "__________________________________________________________________________________________________\n",
      "attention (Activation)          (None, 20, 15)       0           dot_1[0][0]                      \n",
      "__________________________________________________________________________________________________\n",
      "dot_2 (Dot)                     (None, 20, 512)      0           attention[0][0]                  \n",
      "                                                                 lstm_1[0][0]                     \n",
      "__________________________________________________________________________________________________\n",
      "concatenate_1 (Concatenate)     (None, 20, 1024)     0           dot_2[0][0]                      \n",
      "                                                                 lstm_2[0][0]                     \n",
      "__________________________________________________________________________________________________\n",
      "dense_1 (Dense)                 (None, 20, 512)      524800      concatenate_1[0][0]              \n",
      "__________________________________________________________________________________________________\n",
      "dense_2 (Dense)                 (None, 20, 242)      124146      dense_1[0][0]                    \n",
      "==================================================================================================\n",
      "Total params: 5,095,154\n",
      "Trainable params: 5,095,154\n",
      "Non-trainable params: 0\n",
      "__________________________________________________________________________________________________\n"
     ]
    },
    {
     "data": {
      "image/png": "[encoded data removed]",
      "text/plain": [
       "<IPython.core.display.Image object>"
      ]
     },
     "execution_count": 18,
     "metadata": {},
     "output_type": "execute_result"
    }
   ],
   "source": [
    "%matplotlib inline\n",
    "from keras.utils.vis_utils import plot_model\n",
    "from IPython.display import Image\n",
    "\n",
    "\n",
    "latent_dim = 512\n",
    "dropout = 0.2\n",
    "\n",
    "encoder_decoder = build_lstm_encoder_decoder(latent_dim, vocab_size, dropout, max_buggy_len, max_fixed_len)\n",
    "plot_model(encoder_decoder, to_file='lstm_encoder_decoder.png', show_shapes=True, show_layer_names=True)\n",
    "encoder_decoder.summary()\n",
    "Image('lstm_encoder_decoder.png')"
   ]
  },
  {
   "cell_type": "code",
   "execution_count": 19,
   "metadata": {
    "scrolled": true
   },
   "outputs": [
    {
     "name": "stdout",
     "output_type": "stream",
     "text": [
      "Epoch 1/30\n",
      "50/50 [==============================] - 3s 58ms/step - loss: 5.4495\n",
      "Epoch 2/30\n",
      "50/50 [==============================] - 0s 2ms/step - loss: 5.7395\n",
      "Epoch 3/30\n",
      "50/50 [==============================] - 0s 3ms/step - loss: 4.8353\n",
      "Epoch 4/30\n",
      "50/50 [==============================] - 0s 2ms/step - loss: 4.3224\n",
      "Epoch 5/30\n",
      "50/50 [==============================] - 0s 2ms/step - loss: 4.0915\n",
      "Epoch 6/30\n",
      "50/50 [==============================] - 0s 2ms/step - loss: 3.8801\n",
      "Epoch 7/30\n",
      "50/50 [==============================] - 0s 3ms/step - loss: 3.7482\n",
      "Epoch 8/30\n",
      "50/50 [==============================] - 0s 2ms/step - loss: 3.6488\n",
      "Epoch 9/30\n",
      "50/50 [==============================] - 0s 3ms/step - loss: 3.4196\n",
      "Epoch 10/30\n",
      "50/50 [==============================] - 0s 2ms/step - loss: 3.3021\n",
      "Epoch 11/30\n",
      "50/50 [==============================] - 0s 2ms/step - loss: 3.1627\n",
      "Epoch 12/30\n",
      "50/50 [==============================] - 0s 3ms/step - loss: 3.0937\n",
      "Epoch 13/30\n",
      "50/50 [==============================] - 0s 2ms/step - loss: 2.9781\n",
      "Epoch 14/30\n",
      "50/50 [==============================] - 0s 2ms/step - loss: 2.8152\n",
      "Epoch 15/30\n",
      "50/50 [==============================] - 0s 3ms/step - loss: 2.7454\n",
      "Epoch 16/30\n",
      "50/50 [==============================] - 0s 2ms/step - loss: 2.5811\n",
      "Epoch 17/30\n",
      "50/50 [==============================] - 0s 2ms/step - loss: 2.4204\n",
      "Epoch 18/30\n",
      "50/50 [==============================] - 0s 2ms/step - loss: 2.1955\n",
      "Epoch 19/30\n",
      "50/50 [==============================] - 0s 2ms/step - loss: 2.0988\n",
      "Epoch 20/30\n",
      "50/50 [==============================] - 0s 2ms/step - loss: 1.9876\n",
      "Epoch 21/30\n",
      "50/50 [==============================] - 0s 2ms/step - loss: 2.0473\n",
      "Epoch 22/30\n",
      "50/50 [==============================] - 0s 2ms/step - loss: 1.8471\n",
      "Epoch 23/30\n",
      "50/50 [==============================] - 0s 2ms/step - loss: 1.6617\n",
      "Epoch 24/30\n",
      "50/50 [==============================] - 0s 2ms/step - loss: 1.5552\n",
      "Epoch 25/30\n",
      "50/50 [==============================] - 0s 2ms/step - loss: 1.5011\n",
      "Epoch 26/30\n",
      "50/50 [==============================] - 0s 3ms/step - loss: 1.4134\n",
      "Epoch 27/30\n",
      "50/50 [==============================] - 0s 2ms/step - loss: 1.3535\n",
      "Epoch 28/30\n",
      "50/50 [==============================] - 0s 2ms/step - loss: 1.2338\n",
      "Epoch 29/30\n",
      "50/50 [==============================] - 0s 2ms/step - loss: 1.1944\n",
      "Epoch 30/30\n",
      "50/50 [==============================] - 0s 3ms/step - loss: 1.1152\n"
     ]
    }
   ],
   "source": [
    "import datetime\n",
    "\n",
    "\n",
    "epochs = 30\n",
    "start_time = datetime.datetime.now().replace(microsecond=0)\n",
    "encoder_decoder.fit([buggy_inputs, fixed_inputs], fixed_outputs, epochs=epochs)\n",
    "end_time = datetime.datetime.now().replace(microsecond=0)"
   ]
  },
  {
   "cell_type": "code",
   "execution_count": 20,
   "metadata": {},
   "outputs": [
    {
     "name": "stdout",
     "output_type": "stream",
     "text": [
      "Training took (h:mm:ss) 0:00:08\n"
     ]
    }
   ],
   "source": [
    "print(\"Training took (h:mm:ss)\", end_time-start_time)\n",
    "\n",
    "\n",
    "def generate_fixed_ints(enc_dec, bugs, fixed_len, token_map, int_map):\n",
    "    gntd_ints = np.zeros(shape=(len(bugs), fixed_len))\n",
    "    gntd_ints[:, 0] = token_map[\"<soc>\"]\n",
    "    for buggy, generated in zip(bugs, gntd_ints):\n",
    "        buggy_input = buggy[np.newaxis]\n",
    "        gntd_in_out = generated[np.newaxis]\n",
    "        for i in range(1, fixed_len):\n",
    "            prediction = enc_dec.predict([buggy_input, gntd_in_out]).argmax(axis=2)\n",
    "            if int_map[prediction[:, i][0]] == \"<eoc>\":\n",
    "                break\n",
    "            generated[i] = prediction[:, i]\n",
    "    \n",
    "    return gntd_ints\n",
    "\n",
    "\n",
    "def decode_ints(int_matrix, int_map):\n",
    "    gntd_codes = []\n",
    "    for ints in int_matrix:\n",
    "        code = [int_map[x] for x in ints if x != 0]\n",
    "        gntd_codes.append(code)\n",
    "        \n",
    "    return gntd_codes"
   ]
  },
  {
   "cell_type": "code",
   "execution_count": 21,
   "metadata": {
    "scrolled": false
   },
   "outputs": [
    {
     "name": "stdout",
     "output_type": "stream",
     "text": [
      "Buggy code: String toTest = \"woordenboek_nederlands-3.1.1-sm+tb+fx+fn.xpi\";\n",
      "---\n",
      "Fixed code: String toTest = \"turkmen_spell_checker_dictionary-0.1.6-tb+fx+sm.xpi\";\n",
      "Genration:  String String = HttpUtils.getSetEncoding(mt, headers, \"UTF-8\");\n",
      "=============\n",
      "=============\n",
      "Buggy code: || (this.collator != null && ! this.collator.equals(other.collator))\n",
      "---\n",
      "Fixed code: || (this.collator != null && ! this.collator.equals(other.collator) || (this.collator == null && other.collator != null))\n",
      "Genration:  || || || || || || || || || || || && == == null))\n",
      "=============\n",
      "=============\n",
      "Buggy code: dest = _dpMgr.planDeployment(vmProfile, plan, exclude);\n",
      "---\n",
      "Fixed code: dest = _dpMgr.planDeployment(vmProfile, plan, exclude, null);\n",
      "Genration:  dest = _dpMgr.planDeployment(vmProfile, plan, null);\n",
      "=============\n",
      "=============\n",
      "Buggy code: LOG.info(clazz + \" is not a valid POJO type\");\n",
      "---\n",
      "Fixed code: LOG.info(clazz + \" is not a valid POJO type because not all fields are valid POJO fields.\");\n",
      "Genration:  LOG.info(clazz LOG.info(clazz \" not not not not not not not not POJO POJO POJO POJO POJO POJO POJO POJO\n",
      "=============\n",
      "=============\n",
      "Buggy code: if ((syncSites == null) || syncSites.isEmpty()) {\n",
      "---\n",
      "Fixed code: if (syncSites.isEmpty()) {\n",
      "Genration:  if (namespaceDelimIndex < || || || || || myDefaultConceptNames.containsKey(fqName))\n",
      "=============\n",
      "=============\n",
      "Buggy code: page.reset( null, 0 );\n",
      "---\n",
      "Fixed code: page.reset( null, UNBOUND_PAGE_ID );\n",
      "Genration:  page.reset( null, UNBOUND_PAGE_ID );\n",
      "=============\n",
      "=============\n",
      "Buggy code: this.regionNameStr = Bytes.toString(this.regionName);\n",
      "---\n",
      "Fixed code: this.regionNameStr = Bytes.toStringBinary(this.regionName);\n",
      "Genration:  ioContext = IOContextMap.get(conf);\n",
      "=============\n",
      "=============\n",
      "Buggy code: if(result != null) {\n",
      "---\n",
      "Fixed code: if (result != null || myDefaultConceptNames.containsKey(fqName)) {\n",
      "Genration:  if != || || || || myDefaultConceptNames.containsKey(fqName)) {\n",
      "=============\n",
      "=============\n",
      "Buggy code: gbKeys.add(new ExprNodeConstantDesc(\"0\"));\n",
      "---\n",
      "Fixed code: gbKeys.add(new ExprNodeConstantDesc(\"0L\"));\n",
      "Genration:  gbKeys.add(new binCond.getRhs().getFieldSchema())){\n",
      "=============\n",
      "=============\n",
      "Buggy code: name = name.substring(0, 1).toLowerCase() + name.substring(1);\n",
      "---\n",
      "Fixed code: name = name.substring(0, 1).toLowerCase(Locale.ENGLISH) + name.substring(1);\n",
      "Genration:  name = = + + name.substring(1);\n",
      "=============\n",
      "=============\n",
      "Buggy code: return bitmapFont.getSpaceWidth();\n",
      "---\n",
      "Fixed code: return (int)bitmapFont.getSpaceWidth();\n",
      "Genration:  return (int)bitmapFont.getSpaceWidth();\n",
      "=============\n",
      "=============\n",
      "Buggy code: result = readHaServer( machineId );\n",
      "---\n",
      "Fixed code: result = readHaServer( machineId, wait );\n",
      "Genration:  result = readHaServer( machineId, );\n",
      "=============\n",
      "=============\n",
      "Buggy code: String filePath = Utilities.generatePath(baseDir, pos, currentFileName);\n",
      "---\n",
      "Fixed code: String filePath = Utilities.generatePath(baseDir, conf.getDumpFilePrefix(), pos, currentFileName);\n",
      "Genration:  String String = Utilities.generatePath(baseDir, Utilities.generatePath(baseDir, pos, currentFileName);\n",
      "=============\n",
      "=============\n",
      "Buggy code: return target.getNumberOfTargets() != target.getMaxNumberOfTargets() ? staticOptions : null;\n",
      "---\n",
      "Fixed code: return target.getTargets().size() >= target.getNumberOfTargets() ? staticOptions : null;\n",
      "Genration:  return target.getTargets().size() >= target.getNumberOfTargets() staticOptions staticOptions null;\n",
      "=============\n",
      "=============\n",
      "Buggy code: .getInstance(columnNames);\n",
      "---\n",
      "Fixed code: .getInstance(columnNames,Lists.newArrayList(Splitter.on('\\0').split(tbl.getProperty(\"columns.comments\"))));\n",
      "Genration:  getTimerService().registerTimer(nextTriggerTime, this);\n",
      "=============\n",
      "=============\n",
      "Buggy code: && TezCompilerUtil.isIntermediateReducer(tezOp.getSortOperator())) {\n",
      "---\n",
      "Fixed code: && tezOp.getSortOperator().isIntermediateReducer()) {\n",
      "Genration:  if && && == == || myDefaultConceptNames.containsKey(fqName)) {\n",
      "=============\n",
      "=============\n",
      "Buggy code: execFetchFirst(\"select * from \" + dataTypeTableName, \"c4\", false);\n",
      "---\n",
      "Fixed code: execFetchFirst(\"select * from \" + dataTypeTableName, dataTypeTableName.toLowerCase() + \".\" + \"c4\", false);\n",
      "Genration:  execFetchFirst(\"select * from \" + + + \".\" \"c4\",\n",
      "=============\n",
      "=============\n",
      "Buggy code: this.hiveConf, this.partitionCache, this.noColsMissingStats);\n",
      "---\n",
      "Fixed code: this.hiveConf, this.partitionCache, this.colStatsCache, this.noColsMissingStats);\n",
      "Genration:  this.hiveConf, this.partitionCache, this.colStatsCache, this.noColsMissingStats);\n",
      "=============\n",
      "=============\n",
      "Buggy code: for(LocalResource lr : localizeTempFiles(conf)) {\n",
      "---\n",
      "Fixed code: for(LocalResource lr : localizeTempFilesFromConf(getHiveJarDirectory(conf), conf)) {\n",
      "Genration:  for(LocalResource lr : conf)) conf))\n",
      "=============\n",
      "=============\n",
      "Buggy code: if (mro.isSampler()) {\n",
      "---\n",
      "Fixed code: if (mro.isSampler() && plan.getSuccessors(mro) != null) {\n",
      "Genration:  if == == || || myDefaultConceptNames.containsKey(fqName)) {\n",
      "=============\n",
      "=============\n",
      "Buggy code: (numToMerge != 1 || !segmentIsOriginal || isMerged(mergeInfo));\n",
      "---\n",
      "Fixed code: (numToMerge != 1 || !segmentIsOriginal || isMerged(infos, mergeInfo));\n",
      "Genration:  (numToMerge 1 || || || isMerged(infos, || mergeInfo));\n",
      "=============\n",
      "=============\n",
      "Buggy code: String encoding = \"utf-8\";\n",
      "---\n",
      "Fixed code: String encoding = HttpUtils.getSetEncoding(mt, headers, \"UTF-8\");\n",
      "Genration:  String encoding = HttpUtils.getSetEncoding(mt, \"UTF-8\");\n",
      "=============\n",
      "=============\n",
      "Buggy code: libCache = new BlobLibraryCacheManager(cache, FlinkUserCodeClassLoaders.ResolveOrder.CHILD_FIRST);\n",
      "---\n",
      "Fixed code: libCache = new BlobLibraryCacheManager(cache, FlinkUserCodeClassLoaders.ResolveOrder.CHILD_FIRST, new String[0]);\n",
      "Genration:  SegmentInfos infos = SegmentInfos(codecs);\n",
      "=============\n",
      "=============\n",
      "Buggy code: if (namespaceDelimIndex == 0 || namespaceDelimIndex == -1){\n",
      "---\n",
      "Fixed code: if (namespaceDelimIndex < 0){\n",
      "Genration:  if (namespaceDelimIndex < 0){\n",
      "=============\n",
      "=============\n",
      "Buggy code: new StoreUpgrader( getConfig() ).attemptUpgrade( getStorageFileName() );\n",
      "---\n",
      "Fixed code: new StoreUpgrader( getConfig(), new ConfigMapUpgradeConfiguration(getConfig()) ).attemptUpgrade( getStorageFileName() );\n",
      "Genration:  StoreUpgrader( StoreUpgrader( getConfig(), getConfig(), ConfigMapUpgradeConfiguration(getConfig()) getStorageFileName() );\n",
      "=============\n",
      "=============\n",
      "Buggy code: \"/jobs/:%s/vertices/:%s/subtasks/:%s/attempts/%s/accumulators\",\n",
      "---\n",
      "Fixed code: \"/jobs/:%s/vertices/:%s/subtasks/:%s/attempts/:%s/accumulators\",\n",
      "Genration:  l.getDependenciesManager().collectAllExtendedLanguages(myUsedLanguages);\n",
      "=============\n",
      "=============\n",
      "Buggy code: Assert.assertEquals(true, shjSch.equals(mjSch));\n",
      "---\n",
      "Fixed code: Assert.assertTrue(shjSch == null);\n",
      "Genration:  Assert.assertTrue(shjSch == null);\n",
      "=============\n",
      "=============\n",
      "Buggy code: if (selenium.isElementPresent(\"\n",
      "---\n",
      "Fixed code: if (selenium.isElementPresent(\"FCKeditor1___Frame\")) {\n",
      "Genration:  if == == {\n",
      "=============\n",
      "=============\n",
      "Buggy code: } else if ( component.getComponentId( ).isCloudLocal( ) ) {\n",
      "---\n",
      "Fixed code: } else if ( !component.getComponentId( ).isPartitioned( ) && component.getComponentId( ).isCloudLocal( ) ) {\n",
      "Genration:  } } else ( ( !component.getComponentId( ).isPartitioned( ) ) ) ) ) ) ) ) ) {\n",
      "=============\n",
      "=============\n",
      "Buggy code: ? new Schema.Parser().parse(Util.openFromFS(schemafile))\n",
      "---\n",
      "Fixed code: ? Util.parseSchemaFromFS(schemafile)\n",
      "Genration:  return Util.parseSchemaFromFS(schemafile)\n",
      "=============\n",
      "=============\n",
      "Buggy code: SegmentInfos infos = new SegmentInfos();\n",
      "---\n",
      "Fixed code: SegmentInfos infos = new SegmentInfos(codecs);\n",
      "Genration:  SegmentInfos infos = SegmentInfos(codecs);\n",
      "=============\n",
      "=============\n",
      "Buggy code: DeploymentPlanBuilder builder = deploymentManager.newDeploymentPlan();\n",
      "---\n",
      "Fixed code: DeploymentPlanBuilder builder = deploymentManager.newDeploymentPlan().withRollback();\n",
      "Genration:  DeploymentPlanBuilder builder = deploymentManager.newDeploymentPlan().withRollback();\n",
      "=============\n",
      "=============\n",
      "Buggy code: xslt = new StreamSource(new ByteArrayInputStream(xsltContent.getBytes()));\n",
      "---\n",
      "Fixed code: this.xsltContent = xsltContent;\n",
      "Genration:  this.xsltContent = xsltContent;\n",
      "=============\n",
      "=============\n",
      "Buggy code: String db_dir = getTestDir() + \"/hbasedb\";\n",
      "---\n",
      "Fixed code: String db_dir = HCatUtil.makePathASafeFileName(getTestDir() + \"/hbasedb\");\n",
      "Genration:  String String = HCatUtil.makePathASafeFileName(getTestDir() + \"/hbasedb\");\n",
      "=============\n",
      "=============\n",
      "Buggy code: if(! binCond.getLhs().getFieldSchema().isEqual(binCond.getRhs().getFieldSchema())){\n",
      "---\n",
      "Fixed code: if(!LogicalFieldSchema.isEqualUnlessUnknown(binCond.getLhs().getFieldSchema(), binCond.getRhs().getFieldSchema())){\n",
      "Genration:  if(!LogicalFieldSchema.isEqualUnlessUnknown(binCond.getLhs().getFieldSchema(), binCond.getRhs().getFieldSchema())){\n",
      "=============\n",
      "=============\n",
      "Buggy code: if (currOp.getChildOperators() == null) {\n",
      "---\n",
      "Fixed code: if ((currOp.getChildOperators() == null) || (currOp.getChildOperators().isEmpty())) {\n",
      "Genration:  if ((currOp.getChildOperators() == || || || || myDefaultConceptNames.containsKey(fqName)) {\n",
      "=============\n",
      "=============\n",
      "Buggy code: chainingStrategy = ChainingStrategy.ALWAYS;\n",
      "---\n",
      "Fixed code: chainingStrategy = ChainingStrategy.FORCE_ALWAYS;\n",
      "Genration:  chainingStrategy = IOContextMap.get(conf);\n",
      "=============\n",
      "=============\n",
      "Buggy code: List domains = Arrays.asList(mBeanServer.getDomains());\n",
      "---\n",
      "Fixed code: List<String> domains = Arrays.asList(mBeanServer.getDomains());\n",
      "Genration:  this.xsltContent = IOContextMap.get(conf);\n",
      "=============\n",
      "=============\n",
      "Buggy code: registerTimer(nextTriggerTime, this);\n",
      "---\n",
      "Fixed code: getTimerService().registerTimer(nextTriggerTime, this);\n",
      "Genration:  getTimerService().registerTimer(nextTriggerTime, this);\n",
      "=============\n",
      "=============\n",
      "Buggy code: private static float RUN_TIME_SEC = 0.5f*_TestUtil.getRandomMultiplier();\n",
      "---\n",
      "Fixed code: private static float RUN_TIME_SEC = 0.5f * RANDOM_MULTIPLIER;\n",
      "Genration:  private static float RUN_TIME_SEC = 0.5f * RANDOM_MULTIPLIER;\n",
      "=============\n",
      "=============\n",
      "Buggy code: throw new MetaException(ex.getMessage());\n",
      "---\n",
      "Fixed code: throw MetaStoreUtils.newMetaException(ex);\n",
      "Genration:  if == == null);\n",
      "=============\n",
      "=============\n",
      "Buggy code: conf.set(\"hive.metastore.local\", \"false\");\n",
      "---\n",
      "Fixed code: conf.setBoolVar(ConfVars.METASTORE_MODE, false);\n",
      "Genration:  lp.validate(pigServer.getPigContext(), false);\n",
      "=============\n",
      "=============\n",
      "Buggy code: values = this.caller.callWithRetries(smallScanCallable);\n",
      "---\n",
      "Fixed code: values = this.caller.callWithRetries(smallScanCallable, scannerTimeout);\n",
      "Genration:  ioContext = IOContextMap.get(conf);\n",
      "=============\n",
      "=============\n",
      "Buggy code: myUsedLanguages.addAll(l.getDependenciesManager().getAllExtendedLanguages());\n",
      "---\n",
      "Fixed code: l.getDependenciesManager().collectAllExtendedLanguages(myUsedLanguages);\n",
      "Genration:  l.getDependenciesManager().collectAllExtendedLanguages(myUsedLanguages);\n",
      "=============\n",
      "=============\n",
      "Buggy code: return (set instanceof CharArraySet) ? copy((CharArraySet) set) : copy(Version.LUCENE_30, set);\n",
      "---\n",
      "Fixed code: return copy(Version.LUCENE_30, set);\n",
      "Genration:  return copy(Version.LUCENE_30, set);\n",
      "=============\n",
      "=============\n",
      "Buggy code: LOG.info(\"Cleaner thread sleep interupted\", e);\n",
      "---\n",
      "Fixed code: LOG.info(\"Cleaner thread sleep interrupted\", e);\n",
      "Genration:  LOG.info(\"Cleaner thread sleep interrupted\", e);\n",
      "=============\n",
      "=============\n",
      "Buggy code: cmd.setVersion(\"\");\n",
      "---\n",
      "Fixed code: cmd.setVersion(JuniperSrxResource.class.getPackage().getImplementationVersion());\n",
      "Genration:  getTimerService().registerTimer(nextTriggerTime, this);\n",
      "=============\n",
      "=============\n",
      "Buggy code: RuntimeUDFContext ctx = new RuntimeUDFContext(\"test name\", 3, 1, getClass().getClassLoader(), new ExecutionConfig(), new HashMap<String, Accumulator<?, ?>>());\n",
      "---\n",
      "Fixed code: RuntimeUDFContext ctx = new RuntimeUDFContext(\"test name\", 3, 1, getClass().getClassLoader(), new ExecutionConfig(), new HashMap<String, Future<Path>>(), new HashMap<String, Accumulator<?, ?>>());\n",
      "Genration:  RuntimeUDFContext ctx = RuntimeUDFContext(\"test name\", name\", 3, 1, 1, ExecutionConfig(), HashMap<String, HashMap<String, HashMap<String, HashMap<String, HashMap<String, ?>>());\n",
      "=============\n",
      "=============\n",
      "Buggy code: lp.validate(pigServer.getPigContext(), \"test\");\n",
      "---\n",
      "Fixed code: lp.validate(pigServer.getPigContext(), \"test\", false);\n",
      "Genration:  lp.validate(pigServer.getPigContext(), \"test\", false);\n",
      "=============\n",
      "=============\n",
      "Buggy code: ioContext = IOContext.get(conf);\n",
      "---\n",
      "Fixed code: ioContext = IOContextMap.get(conf);\n",
      "Genration:  ioContext = IOContextMap.get(conf);\n",
      "=============\n",
      "=============\n"
     ]
    }
   ],
   "source": [
    "generated_ints = generate_fixed_ints(encoder_decoder, buggy_inputs, max_fixed_len, token_int_map, int_token_map)\n",
    "generated_codes = decode_ints(generated_ints, int_token_map)\n",
    "for buggy, fixed, gnrtd in zip(buggy_codes, fixed_codes, generated_codes):\n",
    "    print('Buggy code:', ' '.join(buggy))\n",
    "    print('---')\n",
    "    print('Fixed code:', ' '.join(fixed[1:-1]))\n",
    "    print('Genration: ', ' '.join(gnrtd[1:]))\n",
    "    print('=============')\n",
    "    print('=============')"
   ]
  },
  {
   "cell_type": "code",
   "execution_count": null,
   "metadata": {},
   "outputs": [],
   "source": []
  }
 ],
 "metadata": {
  "kernelspec": {
   "display_name": "tf",
   "language": "python",
   "name": "tf"
  },
  "language_info": {
   "codemirror_mode": {
    "name": "ipython",
    "version": 3
   },
   "file_extension": ".py",
   "mimetype": "text/x-python",
   "name": "python",
   "nbconvert_exporter": "python",
   "pygments_lexer": "ipython3",
   "version": "3.7.4"
  }
 },
 "nbformat": 4,
 "nbformat_minor": 2
}
